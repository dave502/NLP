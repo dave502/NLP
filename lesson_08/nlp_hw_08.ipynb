{
  "nbformat": 4,
  "nbformat_minor": 0,
  "metadata": {
    "colab": {
      "provenance": [],
      "authorship_tag": "ABX9TyMkcZgSM4apw0j0SCX4FsTw",
      "include_colab_link": true
    },
    "kernelspec": {
      "name": "python3",
      "display_name": "Python 3"
    },
    "language_info": {
      "name": "python"
    },
    "gpuClass": "standard"
  },
  "cells": [
    {
      "cell_type": "markdown",
      "metadata": {
        "id": "view-in-github",
        "colab_type": "text"
      },
      "source": [
        "<a href=\"https://colab.research.google.com/github/dave502/NLP/blob/main/lesson_08/nlp_hw_08.ipynb\" target=\"_parent\"><img src=\"https://colab.research.google.com/assets/colab-badge.svg\" alt=\"Open In Colab\"/></a>"
      ]
    },
    {
      "cell_type": "code",
      "source": [
        "%%capture\n",
        "!pip install stop_words pymorphy2"
      ],
      "metadata": {
        "id": "s7jP0ZQcuM97"
      },
      "execution_count": 1,
      "outputs": []
    },
    {
      "cell_type": "code",
      "execution_count": 2,
      "metadata": {
        "id": "mAEBkAEospKP"
      },
      "outputs": [],
      "source": [
        "import pandas as pd\n",
        "from stop_words import get_stop_words\n",
        "from pymorphy2 import MorphAnalyzer\n",
        "import re\n",
        "import numpy as np\n",
        "import keras\n",
        "from keras.models import Sequential, Model\n",
        "from keras.layers import Input, Embedding, Dense, Activation, Dropout, Conv1D, GlobalMaxPool1D, SimpleRNN, LSTM, GRU, Bidirectional, Masking, MaxPooling1D\n",
        "from keras.preprocessing.text import Tokenizer\n",
        "from keras_preprocessing.sequence import pad_sequences\n",
        "from keras.callbacks import TensorBoard, EarlyStopping\n",
        "from sklearn.metrics import confusion_matrix, ConfusionMatrixDisplay, f1_score\n",
        "from collections import defaultdict"
      ]
    },
    {
      "cell_type": "code",
      "source": [
        "pd.set_option('max_colwidth', 148)"
      ],
      "metadata": {
        "id": "Sd2abuzkyhnZ"
      },
      "execution_count": 4,
      "outputs": []
    },
    {
      "cell_type": "markdown",
      "source": [
        "####Загрузка данных"
      ],
      "metadata": {
        "id": "cNBwTpGXuU6G"
      }
    },
    {
      "cell_type": "code",
      "source": [
        "!wget -qO- https://www.dropbox.com/s/jha6yicxf80coll/data.tar.gz?dl=1 | tar -xvz"
      ],
      "metadata": {
        "colab": {
          "base_uri": "https://localhost:8080/"
        },
        "id": "bQYgf2VxtjUM",
        "outputId": "a33058fa-588f-4983-8530-f758c7c2e81d"
      },
      "execution_count": 5,
      "outputs": [
        {
          "output_type": "stream",
          "name": "stdout",
          "text": [
            "data/\n",
            "data/test.csv\n",
            "data/train.csv\n",
            "data/val.csv\n"
          ]
        }
      ]
    },
    {
      "cell_type": "code",
      "source": [
        "df_train = pd.read_csv('data/train.csv')\n",
        "df_val = pd.read_csv('data/val.csv')\n",
        "df_test = pd.read_csv('data/test.csv')"
      ],
      "metadata": {
        "id": "298eWQf_w63r"
      },
      "execution_count": 6,
      "outputs": []
    },
    {
      "cell_type": "code",
      "source": [
        "df_train.head()"
      ],
      "metadata": {
        "colab": {
          "base_uri": "https://localhost:8080/",
          "height": 206
        },
        "id": "iaSlJanwyMMC",
        "outputId": "931f37ce-6d0f-4d5e-b248-2a3d6cf2b6e0"
      },
      "execution_count": 7,
      "outputs": [
        {
          "output_type": "execute_result",
          "data": {
            "text/plain": [
              "   id  \\\n",
              "0   0   \n",
              "1   1   \n",
              "2   2   \n",
              "3   3   \n",
              "4   4   \n",
              "\n",
              "                                                                                                                   text  \\\n",
              "0                                                 @alisachachka не уезжаааааааай. :(❤ я тоже не хочу, чтобы ты уезжала.   \n",
              "1  RT @GalyginVadim: Ребята и девчата!\\nВсе в кино!!! \"Вот Это Любовь!\"\\nСегодня! Завтра!  И потом!)))))\\n#вотэтолюбовь   \n",
              "2                                                               RT @ARTEM_KLYUSHIN: Кто ненавидит пробки ретвит((((( RT   \n",
              "3                                                         RT @epupybobv: Хочется котлету по-киевски. Запретный плод. :)   \n",
              "4                                             @KarineKurganova @Yess__Boss босапопа есбоса не боится мороза и .......))   \n",
              "\n",
              "   class  \n",
              "0      0  \n",
              "1      1  \n",
              "2      0  \n",
              "3      1  \n",
              "4      1  "
            ],
            "text/html": [
              "\n",
              "  <div id=\"df-70c2b220-e0dd-4fd8-b7e3-5705e7cb3f49\">\n",
              "    <div class=\"colab-df-container\">\n",
              "      <div>\n",
              "<style scoped>\n",
              "    .dataframe tbody tr th:only-of-type {\n",
              "        vertical-align: middle;\n",
              "    }\n",
              "\n",
              "    .dataframe tbody tr th {\n",
              "        vertical-align: top;\n",
              "    }\n",
              "\n",
              "    .dataframe thead th {\n",
              "        text-align: right;\n",
              "    }\n",
              "</style>\n",
              "<table border=\"1\" class=\"dataframe\">\n",
              "  <thead>\n",
              "    <tr style=\"text-align: right;\">\n",
              "      <th></th>\n",
              "      <th>id</th>\n",
              "      <th>text</th>\n",
              "      <th>class</th>\n",
              "    </tr>\n",
              "  </thead>\n",
              "  <tbody>\n",
              "    <tr>\n",
              "      <th>0</th>\n",
              "      <td>0</td>\n",
              "      <td>@alisachachka не уезжаааааааай. :(❤ я тоже не хочу, чтобы ты уезжала.</td>\n",
              "      <td>0</td>\n",
              "    </tr>\n",
              "    <tr>\n",
              "      <th>1</th>\n",
              "      <td>1</td>\n",
              "      <td>RT @GalyginVadim: Ребята и девчата!\\nВсе в кино!!! \"Вот Это Любовь!\"\\nСегодня! Завтра!  И потом!)))))\\n#вотэтолюбовь</td>\n",
              "      <td>1</td>\n",
              "    </tr>\n",
              "    <tr>\n",
              "      <th>2</th>\n",
              "      <td>2</td>\n",
              "      <td>RT @ARTEM_KLYUSHIN: Кто ненавидит пробки ретвит((((( RT</td>\n",
              "      <td>0</td>\n",
              "    </tr>\n",
              "    <tr>\n",
              "      <th>3</th>\n",
              "      <td>3</td>\n",
              "      <td>RT @epupybobv: Хочется котлету по-киевски. Запретный плод. :)</td>\n",
              "      <td>1</td>\n",
              "    </tr>\n",
              "    <tr>\n",
              "      <th>4</th>\n",
              "      <td>4</td>\n",
              "      <td>@KarineKurganova @Yess__Boss босапопа есбоса не боится мороза и .......))</td>\n",
              "      <td>1</td>\n",
              "    </tr>\n",
              "  </tbody>\n",
              "</table>\n",
              "</div>\n",
              "      <button class=\"colab-df-convert\" onclick=\"convertToInteractive('df-70c2b220-e0dd-4fd8-b7e3-5705e7cb3f49')\"\n",
              "              title=\"Convert this dataframe to an interactive table.\"\n",
              "              style=\"display:none;\">\n",
              "        \n",
              "  <svg xmlns=\"http://www.w3.org/2000/svg\" height=\"24px\"viewBox=\"0 0 24 24\"\n",
              "       width=\"24px\">\n",
              "    <path d=\"M0 0h24v24H0V0z\" fill=\"none\"/>\n",
              "    <path d=\"M18.56 5.44l.94 2.06.94-2.06 2.06-.94-2.06-.94-.94-2.06-.94 2.06-2.06.94zm-11 1L8.5 8.5l.94-2.06 2.06-.94-2.06-.94L8.5 2.5l-.94 2.06-2.06.94zm10 10l.94 2.06.94-2.06 2.06-.94-2.06-.94-.94-2.06-.94 2.06-2.06.94z\"/><path d=\"M17.41 7.96l-1.37-1.37c-.4-.4-.92-.59-1.43-.59-.52 0-1.04.2-1.43.59L10.3 9.45l-7.72 7.72c-.78.78-.78 2.05 0 2.83L4 21.41c.39.39.9.59 1.41.59.51 0 1.02-.2 1.41-.59l7.78-7.78 2.81-2.81c.8-.78.8-2.07 0-2.86zM5.41 20L4 18.59l7.72-7.72 1.47 1.35L5.41 20z\"/>\n",
              "  </svg>\n",
              "      </button>\n",
              "      \n",
              "  <style>\n",
              "    .colab-df-container {\n",
              "      display:flex;\n",
              "      flex-wrap:wrap;\n",
              "      gap: 12px;\n",
              "    }\n",
              "\n",
              "    .colab-df-convert {\n",
              "      background-color: #E8F0FE;\n",
              "      border: none;\n",
              "      border-radius: 50%;\n",
              "      cursor: pointer;\n",
              "      display: none;\n",
              "      fill: #1967D2;\n",
              "      height: 32px;\n",
              "      padding: 0 0 0 0;\n",
              "      width: 32px;\n",
              "    }\n",
              "\n",
              "    .colab-df-convert:hover {\n",
              "      background-color: #E2EBFA;\n",
              "      box-shadow: 0px 1px 2px rgba(60, 64, 67, 0.3), 0px 1px 3px 1px rgba(60, 64, 67, 0.15);\n",
              "      fill: #174EA6;\n",
              "    }\n",
              "\n",
              "    [theme=dark] .colab-df-convert {\n",
              "      background-color: #3B4455;\n",
              "      fill: #D2E3FC;\n",
              "    }\n",
              "\n",
              "    [theme=dark] .colab-df-convert:hover {\n",
              "      background-color: #434B5C;\n",
              "      box-shadow: 0px 1px 3px 1px rgba(0, 0, 0, 0.15);\n",
              "      filter: drop-shadow(0px 1px 2px rgba(0, 0, 0, 0.3));\n",
              "      fill: #FFFFFF;\n",
              "    }\n",
              "  </style>\n",
              "\n",
              "      <script>\n",
              "        const buttonEl =\n",
              "          document.querySelector('#df-70c2b220-e0dd-4fd8-b7e3-5705e7cb3f49 button.colab-df-convert');\n",
              "        buttonEl.style.display =\n",
              "          google.colab.kernel.accessAllowed ? 'block' : 'none';\n",
              "\n",
              "        async function convertToInteractive(key) {\n",
              "          const element = document.querySelector('#df-70c2b220-e0dd-4fd8-b7e3-5705e7cb3f49');\n",
              "          const dataTable =\n",
              "            await google.colab.kernel.invokeFunction('convertToInteractive',\n",
              "                                                     [key], {});\n",
              "          if (!dataTable) return;\n",
              "\n",
              "          const docLinkHtml = 'Like what you see? Visit the ' +\n",
              "            '<a target=\"_blank\" href=https://colab.research.google.com/notebooks/data_table.ipynb>data table notebook</a>'\n",
              "            + ' to learn more about interactive tables.';\n",
              "          element.innerHTML = '';\n",
              "          dataTable['output_type'] = 'display_data';\n",
              "          await google.colab.output.renderOutput(dataTable, element);\n",
              "          const docLink = document.createElement('div');\n",
              "          docLink.innerHTML = docLinkHtml;\n",
              "          element.appendChild(docLink);\n",
              "        }\n",
              "      </script>\n",
              "    </div>\n",
              "  </div>\n",
              "  "
            ]
          },
          "metadata": {},
          "execution_count": 7
        }
      ]
    },
    {
      "cell_type": "code",
      "source": [
        "morpher = MorphAnalyzer()\n",
        "stopwords = set(get_stop_words(\"ru\")) - {'не', 'нет', 'хорошо'}\n",
        "\n",
        "def preprocess_text(text: pd.Series)->pd.Series:\n",
        "  \"\"\"\n",
        "  функция обработки текста для pandas.Series\n",
        "  \"\"\"  \n",
        "  # регулярное выражение для очистки текста\n",
        "  url_pattern = \"(http|ftp|https):\\/\\/([\\w_-]+(?:(?:\\.[\\w_-]+)+))([\\w.,@?^=%&:\\/~+#-]*[\\w@?^=%&\\/~+#-])\"\n",
        "  #punct_pattern = f\"[{punct+'«—»'}]\"\n",
        "  smile_pattern = \"(:D|D:)\"\n",
        "  usernames_pattern = \"(@[\\w]*|RT @[\\w]*)\"\n",
        "  onlywords_pattern = \"[^\\w\\b]|[^A-Za-zА-ЯЁа-яё]\"\n",
        "  pattern = f\"{smile_pattern}|{url_pattern}|{usernames_pattern}|{onlywords_pattern}\"\n",
        "\n",
        "  # удаление лишних символов в соответствии с регулярными выражениями \n",
        "  new_text = text.replace(pattern, ' ', regex=True)\n",
        "  \n",
        "  # совмещение отрицаний 'не'/'нет' со следующим словом\n",
        "  new_text = new_text.replace(r'((?<=[\\s]не)|(?<=^Не))\\s(?=[\\w])', '')\n",
        "\n",
        "  # лемматизация, удаление стоп-слов и запись результата в новую колонку\n",
        "  new_text = new_text.apply(lambda x: [morpher.normal_forms(token)[0].strip().lower() for token in str(x).split()\\\n",
        "                                            if (token not in stopwords) and (len(token) > 2)])\n",
        "  return new_text"
      ],
      "metadata": {
        "id": "NzKmOF22yWsA"
      },
      "execution_count": 8,
      "outputs": []
    },
    {
      "cell_type": "markdown",
      "source": [
        "Предварительная обработка текста и преобразование в массив"
      ],
      "metadata": {
        "id": "bQrt0jAaqgL7"
      }
    },
    {
      "cell_type": "code",
      "source": [
        "corpus_train = preprocess_text(df_train['text']).values\n",
        "corpus_valid = preprocess_text(df_val['text']).values\n",
        "corpus_test = preprocess_text(df_test['text']).values"
      ],
      "metadata": {
        "id": "yAJyA7kGzbw1"
      },
      "execution_count": 9,
      "outputs": []
    },
    {
      "cell_type": "code",
      "source": [
        "corpus_train[:5]"
      ],
      "metadata": {
        "colab": {
          "base_uri": "https://localhost:8080/"
        },
        "id": "vK7Cz2itrIL3",
        "outputId": "1aa4e945-b050-48ab-e2f6-6abd63100c20"
      },
      "execution_count": 11,
      "outputs": [
        {
          "output_type": "execute_result",
          "data": {
            "text/plain": [
              "array([list(['уезжаааааааать', 'хотеть', 'уезжать']),\n",
              "       list(['ребята', 'девчата', 'всё', 'кино', 'вот', 'это', 'любовь', 'сегодня', 'завтра', 'вотэтолюбовь']),\n",
              "       list(['кто', 'ненавидеть', 'пробка', 'ретвит']),\n",
              "       list(['хотеться', 'котлета', 'киевск', 'запретный', 'плод']),\n",
              "       list(['босапоп', 'есбосой', 'бояться', 'мороз'])], dtype=object)"
            ]
          },
          "metadata": {},
          "execution_count": 11
        }
      ]
    },
    {
      "cell_type": "markdown",
      "source": [
        "Инициализация токенайзера"
      ],
      "metadata": {
        "id": "5waez5-Mqm4S"
      }
    },
    {
      "cell_type": "code",
      "source": [
        "tokenizer = Tokenizer()\n",
        "tokenizer.fit_on_texts(corpus_train)"
      ],
      "metadata": {
        "id": "HeFgy3Az1pCh"
      },
      "execution_count": 12,
      "outputs": []
    },
    {
      "cell_type": "markdown",
      "source": [
        "Токенизация документов"
      ],
      "metadata": {
        "id": "l7K5rFTMsh8T"
      }
    },
    {
      "cell_type": "code",
      "source": [
        "sequences_train = tokenizer.texts_to_sequences(corpus_train)\n",
        "sequences_valid = tokenizer.texts_to_sequences(corpus_valid)\n",
        "sequences_test = tokenizer.texts_to_sequences(corpus_test)"
      ],
      "metadata": {
        "id": "YwzqNL5S5QBH"
      },
      "execution_count": 13,
      "outputs": []
    },
    {
      "cell_type": "code",
      "source": [
        "sequences_train[:5]"
      ],
      "metadata": {
        "colab": {
          "base_uri": "https://localhost:8080/"
        },
        "id": "dUXyQNhXsfd0",
        "outputId": "46c4a8cb-6eea-4df4-b8eb-66121e6b909c"
      },
      "execution_count": 14,
      "outputs": [
        {
          "output_type": "execute_result",
          "data": {
            "text/plain": [
              "[[38077, 1, 553],\n",
              " [198, 6062, 37, 432, 38, 36, 153, 46, 7, 26405],\n",
              " [100, 161, 626, 548],\n",
              " [47, 4733, 26406, 20854, 10265],\n",
              " [38078, 38079, 144, 346]]"
            ]
          },
          "metadata": {},
          "execution_count": 14
        }
      ]
    },
    {
      "cell_type": "code",
      "source": [
        "# размер словаря\n",
        "word_count = len(tokenizer.index_word) + 1\n",
        "# максимальное число токенов в документах\n",
        "training_len = max([len(text) for text in corpus_train])"
      ],
      "metadata": {
        "id": "VwKlTaxl5acI"
      },
      "execution_count": 16,
      "outputs": []
    },
    {
      "cell_type": "markdown",
      "source": [
        "Выравнивание длины документов"
      ],
      "metadata": {
        "id": "5-IVzhcytBQa"
      }
    },
    {
      "cell_type": "code",
      "source": [
        "X_train = pad_sequences(sequences_train, training_len)\n",
        "X_valid = pad_sequences(sequences_valid, training_len)"
      ],
      "metadata": {
        "id": "gKveKJC56CuH"
      },
      "execution_count": 17,
      "outputs": []
    },
    {
      "cell_type": "code",
      "source": [
        "X_train[:5]"
      ],
      "metadata": {
        "colab": {
          "base_uri": "https://localhost:8080/"
        },
        "id": "St5GuKW3s3uy",
        "outputId": "6b82a60a-2bc6-409c-94b4-72a044b808df"
      },
      "execution_count": 18,
      "outputs": [
        {
          "output_type": "execute_result",
          "data": {
            "text/plain": [
              "array([[    0,     0,     0,     0,     0,     0,     0,     0,     0,\n",
              "            0,     0,     0,     0,     0,     0,     0,     0,     0,\n",
              "            0,     0,     0,     0, 38077,     1,   553],\n",
              "       [    0,     0,     0,     0,     0,     0,     0,     0,     0,\n",
              "            0,     0,     0,     0,     0,     0,   198,  6062,    37,\n",
              "          432,    38,    36,   153,    46,     7, 26405],\n",
              "       [    0,     0,     0,     0,     0,     0,     0,     0,     0,\n",
              "            0,     0,     0,     0,     0,     0,     0,     0,     0,\n",
              "            0,     0,     0,   100,   161,   626,   548],\n",
              "       [    0,     0,     0,     0,     0,     0,     0,     0,     0,\n",
              "            0,     0,     0,     0,     0,     0,     0,     0,     0,\n",
              "            0,     0,    47,  4733, 26406, 20854, 10265],\n",
              "       [    0,     0,     0,     0,     0,     0,     0,     0,     0,\n",
              "            0,     0,     0,     0,     0,     0,     0,     0,     0,\n",
              "            0,     0,     0, 38078, 38079,   144,   346]], dtype=int32)"
            ]
          },
          "metadata": {},
          "execution_count": 18
        }
      ]
    },
    {
      "cell_type": "markdown",
      "source": [
        "Создание выборок классов"
      ],
      "metadata": {
        "id": "FE7X_EcJtL9b"
      }
    },
    {
      "cell_type": "code",
      "source": [
        "y_train = df_train['class'].values\n",
        "y_valid = df_val['class'].values"
      ],
      "metadata": {
        "id": "2HNYOIRr60Ss"
      },
      "execution_count": 13,
      "outputs": []
    },
    {
      "cell_type": "markdown",
      "source": [
        "Инициализация параметров обучения"
      ],
      "metadata": {
        "id": "nj_zBHUjtTez"
      }
    },
    {
      "cell_type": "code",
      "source": [
        "early_stopping=EarlyStopping(monitor='val_loss', patience=3) \n",
        "BATCH_SIZE = 64\n",
        "EPOCHS = 10\n",
        "results = defaultdict(list)"
      ],
      "metadata": {
        "id": "3erdFtYF9vuT"
      },
      "execution_count": 29,
      "outputs": []
    },
    {
      "cell_type": "markdown",
      "source": [
        "####Обучение сеток"
      ],
      "metadata": {
        "id": "r5GI9vw9taB4"
      }
    },
    {
      "cell_type": "markdown",
      "source": [
        "---\n",
        "**RNN**\n",
        "\n",
        "EMBEDDING -> RNN(64) -> DENSE(64, relu) -> DROPOUT(.2) -> DENSE(1, σ)\n",
        "\n",
        "---"
      ],
      "metadata": {
        "id": "a8kCp00pBEQb"
      }
    },
    {
      "cell_type": "code",
      "source": [
        "model_rnn = Sequential()\n",
        "model_rnn.add(Embedding(input_dim=word_count, input_length=training_len, output_dim=30, mask_zero=True))\n",
        "model_rnn.add(SimpleRNN(64))\n",
        "model_rnn.add(Dense(64, activation='relu'))\n",
        "model_rnn.add(Dropout(0.2))\n",
        "model_rnn.add(Dense(1, activation='sigmoid'))\n",
        "model_rnn.compile(optimizer='adam', loss='binary_crossentropy', metrics=['accuracy'])"
      ],
      "metadata": {
        "id": "3oCax0bm65qb"
      },
      "execution_count": 27,
      "outputs": []
    },
    {
      "cell_type": "code",
      "source": [
        "%%time\n",
        "history_rnn = model_rnn.fit(X_train, y_train, batch_size=BATCH_SIZE, epochs=EPOCHS, verbose=1, validation_split=0.1, callbacks=[early_stopping])"
      ],
      "metadata": {
        "colab": {
          "base_uri": "https://localhost:8080/"
        },
        "id": "uOdV4dVa920m",
        "outputId": "1fc10522-b47d-4cb0-db49-eeb0ecab6c3c"
      },
      "execution_count": 28,
      "outputs": [
        {
          "output_type": "stream",
          "name": "stdout",
          "text": [
            "Epoch 1/10\n",
            "2552/2552 [==============================] - 126s 49ms/step - loss: 0.5698 - accuracy: 0.6995 - val_loss: 0.5383 - val_accuracy: 0.7246\n",
            "Epoch 2/10\n",
            "2552/2552 [==============================] - 122s 48ms/step - loss: 0.4335 - accuracy: 0.7967 - val_loss: 0.5632 - val_accuracy: 0.7243\n",
            "Epoch 3/10\n",
            "2552/2552 [==============================] - 113s 44ms/step - loss: 0.2965 - accuracy: 0.8663 - val_loss: 0.6526 - val_accuracy: 0.7045\n",
            "Epoch 4/10\n",
            "2552/2552 [==============================] - 105s 41ms/step - loss: 0.2156 - accuracy: 0.9042 - val_loss: 0.7678 - val_accuracy: 0.7004\n",
            "CPU times: user 10min 51s, sys: 1min 19s, total: 12min 10s\n",
            "Wall time: 7min 45s\n"
          ]
        }
      ]
    },
    {
      "cell_type": "code",
      "source": [
        "score = model_rnn.evaluate(X_valid, y_valid, batch_size=512, verbose=1)\n",
        "results['model'].append('RNN')\n",
        "results['score'].append(score[0])\n",
        "results['accuracy'].append(score[1])"
      ],
      "metadata": {
        "colab": {
          "base_uri": "https://localhost:8080/"
        },
        "id": "MjPyIcvd__A4",
        "outputId": "5e3ed7d9-46d5-44ac-91ca-8ec69ee14a93"
      },
      "execution_count": 30,
      "outputs": [
        {
          "output_type": "stream",
          "name": "stdout",
          "text": [
            "45/45 [==============================] - 0s 6ms/step - loss: 0.7794 - accuracy: 0.6967\n"
          ]
        }
      ]
    },
    {
      "cell_type": "markdown",
      "source": [
        "---\n",
        "**LSTM**\n",
        "\n",
        "EMBEDDING -> LSTM(64) -> DENSE(64, relu) -> DROPOUT(.2) -> DENSE(1, σ)\n",
        "\n",
        "---"
      ],
      "metadata": {
        "id": "iXZc-atWEhth"
      }
    },
    {
      "cell_type": "code",
      "source": [
        "model_lstm = Sequential()\n",
        "model_lstm.add(Embedding(input_dim=word_count, input_length=training_len, output_dim=30, mask_zero=True))\n",
        "model_lstm.add(LSTM(64, recurrent_dropout=0.2))\n",
        "model_lstm.add(Dense(64, activation='relu'))\n",
        "model_lstm.add(Dropout(0.2))\n",
        "model_lstm.add(Dense(1, activation='sigmoid'))\n",
        "model_lstm.compile(optimizer='adam', loss='binary_crossentropy', metrics=['accuracy'])"
      ],
      "metadata": {
        "colab": {
          "base_uri": "https://localhost:8080/"
        },
        "id": "QD2Y-Vq3EFUJ",
        "outputId": "11f5c651-5bc4-414a-e2a1-5ad709f5a759"
      },
      "execution_count": 32,
      "outputs": [
        {
          "output_type": "stream",
          "name": "stderr",
          "text": [
            "WARNING:tensorflow:Layer lstm_1 will not use cuDNN kernels since it doesn't meet the criteria. It will use a generic GPU kernel as fallback when running on GPU.\n"
          ]
        }
      ]
    },
    {
      "cell_type": "code",
      "source": [
        "%%time\n",
        "history_lstm = model_lstm.fit(X_train, y_train, batch_size=BATCH_SIZE, epochs=EPOCHS, verbose=1, validation_split=0.1, callbacks=[early_stopping])"
      ],
      "metadata": {
        "colab": {
          "base_uri": "https://localhost:8080/"
        },
        "id": "3KhKi1x9EvV-",
        "outputId": "ea13e2d4-099c-47e5-e359-14cd28e0438b"
      },
      "execution_count": 34,
      "outputs": [
        {
          "output_type": "stream",
          "name": "stdout",
          "text": [
            "Epoch 1/10\n",
            "2552/2552 [==============================] - 310s 122ms/step - loss: 0.5643 - accuracy: 0.7065 - val_loss: 0.5391 - val_accuracy: 0.7245\n",
            "Epoch 2/10\n",
            "2552/2552 [==============================] - 318s 125ms/step - loss: 0.4536 - accuracy: 0.7871 - val_loss: 0.5496 - val_accuracy: 0.7230\n",
            "Epoch 3/10\n",
            "2552/2552 [==============================] - 340s 133ms/step - loss: 0.3674 - accuracy: 0.8315 - val_loss: 0.5877 - val_accuracy: 0.7185\n",
            "Epoch 4/10\n",
            "2552/2552 [==============================] - 294s 115ms/step - loss: 0.3077 - accuracy: 0.8589 - val_loss: 0.6694 - val_accuracy: 0.7118\n",
            "CPU times: user 29min 22s, sys: 3min 11s, total: 32min 33s\n",
            "Wall time: 21min 3s\n"
          ]
        }
      ]
    },
    {
      "cell_type": "code",
      "source": [
        "score = model_lstm.evaluate(X_valid, y_valid, batch_size=512, verbose=1)\n",
        "results['model'].append('LSTM')\n",
        "results['score'].append(score[0])\n",
        "results['accuracy'].append(score[1])"
      ],
      "metadata": {
        "colab": {
          "base_uri": "https://localhost:8080/"
        },
        "id": "QGYjdnsQExiP",
        "outputId": "ac3515dd-3b08-47f1-e032-cbd266d18cbc"
      },
      "execution_count": 36,
      "outputs": [
        {
          "output_type": "stream",
          "name": "stdout",
          "text": [
            "45/45 [==============================] - 1s 14ms/step - loss: 0.6735 - accuracy: 0.7124\n"
          ]
        }
      ]
    },
    {
      "cell_type": "markdown",
      "source": [
        "---\n",
        "**GRU**\n",
        "\n",
        "EMBEDDING -> GRU(64) -> DENSE(64, relu) -> DROPOUT(.2) -> DENSE(1, σ)\n",
        "\n",
        "---"
      ],
      "metadata": {
        "id": "pHBVKkL2FQPo"
      }
    },
    {
      "cell_type": "code",
      "source": [
        "model_gru = Sequential()\n",
        "model_gru.add(Embedding(input_dim=word_count, input_length=training_len, output_dim=30, mask_zero=True))\n",
        "model_gru.add(GRU(64, recurrent_dropout=0.2))\n",
        "model_gru.add(Dense(64, activation='relu'))\n",
        "model_gru.add(Dropout(0.2))\n",
        "model_gru.add(Dense(1, activation='sigmoid'))\n",
        "model_gru.compile(optimizer='adam', loss='binary_crossentropy', metrics=['accuracy'])"
      ],
      "metadata": {
        "colab": {
          "base_uri": "https://localhost:8080/"
        },
        "id": "w5JkqzJJFWXX",
        "outputId": "9bf2635b-21e9-42aa-e834-5a4d20eb2f8d"
      },
      "execution_count": 40,
      "outputs": [
        {
          "output_type": "stream",
          "name": "stderr",
          "text": [
            "WARNING:tensorflow:Layer gru will not use cuDNN kernels since it doesn't meet the criteria. It will use a generic GPU kernel as fallback when running on GPU.\n"
          ]
        }
      ]
    },
    {
      "cell_type": "code",
      "source": [
        "%%time\n",
        "history_gru = model_gru.fit(X_train, y_train, batch_size=BATCH_SIZE, epochs=EPOCHS, verbose=1, validation_split=0.1, callbacks=[early_stopping])"
      ],
      "metadata": {
        "colab": {
          "base_uri": "https://localhost:8080/"
        },
        "id": "YL-D6mduFdI0",
        "outputId": "791a0390-9b88-4b2e-f53a-0d73a5509602"
      },
      "execution_count": 41,
      "outputs": [
        {
          "output_type": "stream",
          "name": "stdout",
          "text": [
            "Epoch 1/10\n",
            "2552/2552 [==============================] - 261s 101ms/step - loss: 0.5664 - accuracy: 0.7019 - val_loss: 0.5391 - val_accuracy: 0.7231\n",
            "Epoch 2/10\n",
            "2552/2552 [==============================] - 252s 99ms/step - loss: 0.4540 - accuracy: 0.7843 - val_loss: 0.5524 - val_accuracy: 0.7245\n",
            "Epoch 3/10\n",
            "2552/2552 [==============================] - 249s 98ms/step - loss: 0.3663 - accuracy: 0.8306 - val_loss: 0.6052 - val_accuracy: 0.7172\n",
            "Epoch 4/10\n",
            "2552/2552 [==============================] - 254s 100ms/step - loss: 0.3047 - accuracy: 0.8597 - val_loss: 0.6799 - val_accuracy: 0.7158\n",
            "CPU times: user 24min 57s, sys: 2min 42s, total: 27min 40s\n",
            "Wall time: 16min 56s\n"
          ]
        }
      ]
    },
    {
      "cell_type": "code",
      "source": [
        "score = model_gru.evaluate(X_valid, y_valid, batch_size=512, verbose=1)\n",
        "results['model'].append('GRU')\n",
        "results['score'].append(score[0])\n",
        "results['accuracy'].append(score[1])"
      ],
      "metadata": {
        "colab": {
          "base_uri": "https://localhost:8080/"
        },
        "id": "Fq3gEVVqFpwf",
        "outputId": "179fc5ef-efe5-4368-d370-1b9e5156acc5"
      },
      "execution_count": 42,
      "outputs": [
        {
          "output_type": "stream",
          "name": "stdout",
          "text": [
            "45/45 [==============================] - 1s 14ms/step - loss: 0.6959 - accuracy: 0.7142\n"
          ]
        }
      ]
    },
    {
      "cell_type": "markdown",
      "source": [
        "---\n",
        "**CNN**\n",
        "\n",
        "EMBEDDING -> CONV1D(64) -> RELU -> MAXPOOL -> DENSE(64, relu) -> DROPOUT(.2) -> DENSE(1, σ)\n",
        "\n",
        "---"
      ],
      "metadata": {
        "id": "I7VpklCIFzfW"
      }
    },
    {
      "cell_type": "code",
      "source": [
        "model_cnn = Sequential()\n",
        "model_cnn.add(Embedding(input_dim=word_count, input_length=training_len, output_dim=30, mask_zero=True))\n",
        "model_cnn.add(Conv1D(64, 3))\n",
        "model_cnn.add(Activation('relu'))\n",
        "model_cnn.add(GlobalMaxPool1D())\n",
        "model_cnn.add(Dense(64, activation='relu'))\n",
        "model_cnn.add(Dropout(0.2))\n",
        "model_cnn.add(Dense(1, activation='sigmoid'))\n",
        "model_cnn.compile(optimizer='adam', loss='binary_crossentropy', metrics=['accuracy'])"
      ],
      "metadata": {
        "id": "5AsVgnbuF9ty"
      },
      "execution_count": 44,
      "outputs": []
    },
    {
      "cell_type": "code",
      "source": [
        "%%time\n",
        "history_cnn = model_cnn.fit(X_train, y_train, batch_size=BATCH_SIZE, epochs=EPOCHS, verbose=1, validation_split=0.1, callbacks=[early_stopping])"
      ],
      "metadata": {
        "colab": {
          "base_uri": "https://localhost:8080/"
        },
        "id": "wxpvBP9dIDLt",
        "outputId": "0f926bdf-c911-4fb5-eb71-46a9c0b2f822"
      },
      "execution_count": 45,
      "outputs": [
        {
          "output_type": "stream",
          "name": "stdout",
          "text": [
            "Epoch 1/10\n",
            "2552/2552 [==============================] - 21s 6ms/step - loss: 0.5698 - accuracy: 0.6974 - val_loss: 0.5373 - val_accuracy: 0.7255\n",
            "Epoch 2/10\n",
            "2552/2552 [==============================] - 14s 6ms/step - loss: 0.4310 - accuracy: 0.8022 - val_loss: 0.5538 - val_accuracy: 0.7209\n",
            "Epoch 3/10\n",
            "2552/2552 [==============================] - 14s 5ms/step - loss: 0.2781 - accuracy: 0.8824 - val_loss: 0.6724 - val_accuracy: 0.7089\n",
            "Epoch 4/10\n",
            "2552/2552 [==============================] - 14s 5ms/step - loss: 0.1795 - accuracy: 0.9255 - val_loss: 0.8693 - val_accuracy: 0.7058\n",
            "CPU times: user 1min 9s, sys: 6.54 s, total: 1min 16s\n",
            "Wall time: 1min 3s\n"
          ]
        }
      ]
    },
    {
      "cell_type": "code",
      "source": [
        "score = model_cnn.evaluate(X_valid, y_valid, batch_size=512, verbose=1)\n",
        "results['model'].append('CNN')\n",
        "results['score'].append(score[0])\n",
        "results['accuracy'].append(score[1])"
      ],
      "metadata": {
        "colab": {
          "base_uri": "https://localhost:8080/"
        },
        "id": "npDh-4vlIXQp",
        "outputId": "faf95c84-f9e9-45bb-c040-67b7f5f719e2"
      },
      "execution_count": 46,
      "outputs": [
        {
          "output_type": "stream",
          "name": "stdout",
          "text": [
            "45/45 [==============================] - 0s 3ms/step - loss: 0.8973 - accuracy: 0.7004\n"
          ]
        }
      ]
    },
    {
      "cell_type": "markdown",
      "source": [
        "---\n",
        "**CNN RNN**\n",
        "\n",
        "EMBEDDING -> CONV1D(64) -> RELU -> MAXPOOL -> RNN(64) -> DENSE(64, relu) -> DROPOUT(.2) -> DENSE(1, σ)\n",
        "\n",
        "---"
      ],
      "metadata": {
        "id": "1pdkJSfOMkku"
      }
    },
    {
      "cell_type": "code",
      "source": [
        "model_cnn_rnn = Sequential()\n",
        "model_cnn_rnn.add(Embedding(input_dim=word_count, input_length=training_len, output_dim=30, mask_zero=True))\n",
        "model_cnn_rnn.add(Conv1D(64, 3))\n",
        "model_cnn_rnn.add(Activation('relu'))\n",
        "model_cnn_rnn.add(MaxPooling1D(pool_size=2))\n",
        "model_cnn_rnn.add(SimpleRNN(64))\n",
        "model_cnn_rnn.add(Dense(64, activation='relu'))\n",
        "model_cnn_rnn.add(Dropout(0.2))\n",
        "model_cnn_rnn.add(Dense(1, activation='sigmoid'))\n",
        "model_cnn_rnn.compile(optimizer='adam', loss='binary_crossentropy', metrics=['accuracy'])"
      ],
      "metadata": {
        "id": "q0e4Y2xLMkI8"
      },
      "execution_count": 51,
      "outputs": []
    },
    {
      "cell_type": "code",
      "source": [
        "%%time\n",
        "history_cnn_rnn = model_cnn_rnn.fit(X_train, y_train, batch_size=BATCH_SIZE, epochs=EPOCHS, verbose=1, validation_split=0.1, callbacks=[early_stopping])"
      ],
      "metadata": {
        "colab": {
          "base_uri": "https://localhost:8080/"
        },
        "id": "d5I_ih5vKgtd",
        "outputId": "c292b294-f0bc-4d3e-f183-5348686e057d"
      },
      "execution_count": 52,
      "outputs": [
        {
          "output_type": "stream",
          "name": "stdout",
          "text": [
            "Epoch 1/10\n",
            "2552/2552 [==============================] - 41s 16ms/step - loss: 0.6002 - accuracy: 0.6680 - val_loss: 0.5716 - val_accuracy: 0.6960\n",
            "Epoch 2/10\n",
            "2552/2552 [==============================] - 40s 16ms/step - loss: 0.4691 - accuracy: 0.7748 - val_loss: 0.5885 - val_accuracy: 0.6960\n",
            "Epoch 3/10\n",
            "2552/2552 [==============================] - 41s 16ms/step - loss: 0.3219 - accuracy: 0.8521 - val_loss: 0.6730 - val_accuracy: 0.6847\n",
            "Epoch 4/10\n",
            "2552/2552 [==============================] - 41s 16ms/step - loss: 0.2296 - accuracy: 0.8952 - val_loss: 0.8668 - val_accuracy: 0.6802\n",
            "CPU times: user 3min 41s, sys: 24.1 s, total: 4min 5s\n",
            "Wall time: 2min 42s\n"
          ]
        }
      ]
    },
    {
      "cell_type": "code",
      "source": [
        "score = model_cnn_rnn.evaluate(X_valid, y_valid, batch_size=512, verbose=1)\n",
        "results['model'].append('CNN_RNN')\n",
        "results['score'].append(score[0])\n",
        "results['accuracy'].append(score[1])"
      ],
      "metadata": {
        "colab": {
          "base_uri": "https://localhost:8080/"
        },
        "id": "sJybRSKxNZfF",
        "outputId": "a6a63534-ff21-4b87-a701-43f3bef7d699"
      },
      "execution_count": 54,
      "outputs": [
        {
          "output_type": "stream",
          "name": "stdout",
          "text": [
            "45/45 [==============================] - 0s 4ms/step - loss: 0.9029 - accuracy: 0.6683\n"
          ]
        }
      ]
    },
    {
      "cell_type": "markdown",
      "source": [
        "---\n",
        "**RNN CNN**\n",
        "\n",
        "EMBEDDING ->  RNN(64, +sequences) -> CONV1D(64) -> RELU -> MAXPOOL ->DENSE(64, relu) -> DROPOUT(.2) -> DENSE(1, σ)\n",
        "\n",
        "---"
      ],
      "metadata": {
        "id": "Cf51r2FuN1XB"
      }
    },
    {
      "cell_type": "code",
      "source": [
        "model_rnn_cnn = Sequential()\n",
        "model_rnn_cnn.add(Embedding(input_dim=word_count, input_length=training_len, output_dim=30, mask_zero=True))\n",
        "model_rnn_cnn.add(SimpleRNN(64, return_sequences=True))\n",
        "model_rnn_cnn.add(Conv1D(64, 3))\n",
        "model_rnn_cnn.add(Activation('relu'))\n",
        "model_rnn_cnn.add(GlobalMaxPool1D())\n",
        "model_rnn_cnn.add(Dense(64, activation='relu'))\n",
        "model_rnn_cnn.add(Dropout(0.2))\n",
        "model_rnn_cnn.add(Dense(1, activation='sigmoid'))\n",
        "model_rnn_cnn.compile(optimizer='adam', loss='binary_crossentropy', metrics=['accuracy'])"
      ],
      "metadata": {
        "id": "ngUVsjs_N575"
      },
      "execution_count": 57,
      "outputs": []
    },
    {
      "cell_type": "code",
      "source": [
        "%%time\n",
        "history_rnn_cnn = model_rnn_cnn.fit(X_train, y_train, batch_size=BATCH_SIZE, epochs=EPOCHS, verbose=1, validation_split=0.1, callbacks=[early_stopping])"
      ],
      "metadata": {
        "colab": {
          "base_uri": "https://localhost:8080/"
        },
        "id": "75nA3-GPOJUJ",
        "outputId": "2ecd281a-4273-4218-b9ab-f43303e09e00"
      },
      "execution_count": 58,
      "outputs": [
        {
          "output_type": "stream",
          "name": "stdout",
          "text": [
            "Epoch 1/10\n",
            "2552/2552 [==============================] - 115s 44ms/step - loss: 0.5715 - accuracy: 0.6982 - val_loss: 0.5373 - val_accuracy: 0.7254\n",
            "Epoch 2/10\n",
            "2552/2552 [==============================] - 117s 46ms/step - loss: 0.4455 - accuracy: 0.7917 - val_loss: 0.5493 - val_accuracy: 0.7229\n",
            "Epoch 3/10\n",
            "2552/2552 [==============================] - 114s 45ms/step - loss: 0.3172 - accuracy: 0.8600 - val_loss: 0.6514 - val_accuracy: 0.7146\n",
            "Epoch 4/10\n",
            "2552/2552 [==============================] - 112s 44ms/step - loss: 0.2260 - accuracy: 0.9010 - val_loss: 0.7747 - val_accuracy: 0.7087\n",
            "CPU times: user 11min 4s, sys: 1min 24s, total: 12min 28s\n",
            "Wall time: 7min 37s\n"
          ]
        }
      ]
    },
    {
      "cell_type": "code",
      "source": [
        "score = model_rnn_cnn.evaluate(X_valid, y_valid, batch_size=512, verbose=1)\n",
        "results['model'].append('RNN_CNN')\n",
        "results['score'].append(score[0])\n",
        "results['accuracy'].append(score[1])"
      ],
      "metadata": {
        "colab": {
          "base_uri": "https://localhost:8080/"
        },
        "id": "_mIxHlUvOR6x",
        "outputId": "aab83001-974c-4334-b824-010a88dc058a"
      },
      "execution_count": 63,
      "outputs": [
        {
          "output_type": "stream",
          "name": "stdout",
          "text": [
            "45/45 [==============================] - 0s 7ms/step - loss: 0.8019 - accuracy: 0.7042\n"
          ]
        }
      ]
    },
    {
      "cell_type": "code",
      "source": [
        "results['time'] = ['7min 45s', '21min 3s', '16min 56s', '1min 3s', '2min 42s', '7min 37s']"
      ],
      "metadata": {
        "id": "KE3vFnx5blIq"
      },
      "execution_count": 64,
      "outputs": []
    },
    {
      "cell_type": "markdown",
      "source": [
        "---\n",
        "**BIDIRRECTIONAL RNN**\n",
        "\n",
        "EMBEDDING ->  BIDIRRECTIONAL RNN(64) -> DENSE(64, relu) -> DROPOUT(.2) -> DENSE(1, σ)\n",
        "\n",
        "---"
      ],
      "metadata": {
        "id": "fxolNZW0t2K8"
      }
    },
    {
      "cell_type": "code",
      "source": [
        "model_rnn2 = Sequential()\n",
        "model_rnn2.add(Embedding(input_dim=word_count, input_length=training_len, output_dim=30, mask_zero=True))\n",
        "model_rnn2.add(Bidirectional(SimpleRNN(64)))\n",
        "model_rnn2.add(Dense(64, activation='relu'))\n",
        "model_rnn2.add(Dropout(0.2))\n",
        "model_rnn2.add(Dense(1, activation='sigmoid'))\n",
        "model_rnn2.compile(optimizer='adam', loss='binary_crossentropy', metrics=['accuracy'])"
      ],
      "metadata": {
        "id": "JQ7ZFoCRcwF1"
      },
      "execution_count": 69,
      "outputs": []
    },
    {
      "cell_type": "code",
      "source": [
        "%%time\n",
        "history_rnn2 = model_rnn2.fit(X_train, y_train, batch_size=BATCH_SIZE, epochs=EPOCHS, verbose=1, validation_split=0.1, callbacks=[early_stopping])"
      ],
      "metadata": {
        "colab": {
          "base_uri": "https://localhost:8080/"
        },
        "id": "UvHsFzSpeyDo",
        "outputId": "4355f00d-b1f3-45c8-f31e-3acba3a1e5c8"
      },
      "execution_count": 70,
      "outputs": [
        {
          "output_type": "stream",
          "name": "stdout",
          "text": [
            "Epoch 1/10\n",
            "2552/2552 [==============================] - 220s 86ms/step - loss: 0.5672 - accuracy: 0.7018 - val_loss: 0.5384 - val_accuracy: 0.7227\n",
            "Epoch 2/10\n",
            "2552/2552 [==============================] - 205s 80ms/step - loss: 0.4227 - accuracy: 0.8055 - val_loss: 0.5653 - val_accuracy: 0.7227\n",
            "Epoch 3/10\n",
            "2552/2552 [==============================] - 200s 78ms/step - loss: 0.2669 - accuracy: 0.8850 - val_loss: 0.6903 - val_accuracy: 0.7056\n",
            "Epoch 4/10\n",
            "2552/2552 [==============================] - 200s 79ms/step - loss: 0.1793 - accuracy: 0.9230 - val_loss: 0.8712 - val_accuracy: 0.6933\n",
            "CPU times: user 20min 15s, sys: 2min 34s, total: 22min 50s\n",
            "Wall time: 13min 46s\n"
          ]
        }
      ]
    },
    {
      "cell_type": "code",
      "source": [
        "score = model_rnn2.evaluate(X_valid, y_valid, batch_size=512, verbose=1)\n",
        "results['model'].append('BidirRNN')\n",
        "results['score'].append(score[0])\n",
        "results['accuracy'].append(score[1])\n",
        "results['time'].append('13min 46s')"
      ],
      "metadata": {
        "colab": {
          "base_uri": "https://localhost:8080/"
        },
        "id": "ZGtT4VJlmoVG",
        "outputId": "4643d446-462f-457b-980e-4f37d000492b"
      },
      "execution_count": 85,
      "outputs": [
        {
          "output_type": "stream",
          "name": "stdout",
          "text": [
            "45/45 [==============================] - 0s 10ms/step - loss: 0.8764 - accuracy: 0.6859\n"
          ]
        }
      ]
    },
    {
      "cell_type": "markdown",
      "source": [
        "####Вывод результатов"
      ],
      "metadata": {
        "id": "DkRVfsMyuFiH"
      }
    },
    {
      "cell_type": "code",
      "source": [
        "df_results = pd.DataFrame(results)\n",
        "df_results.set_index('model', inplace=True)\n",
        "df_results"
      ],
      "metadata": {
        "colab": {
          "base_uri": "https://localhost:8080/",
          "height": 300
        },
        "id": "Yz0FeLXMm1ww",
        "outputId": "d1312b22-1257-46a0-f52f-ca46caf340d2"
      },
      "execution_count": 94,
      "outputs": [
        {
          "output_type": "execute_result",
          "data": {
            "text/plain": [
              "             score  accuracy       time\n",
              "model                                  \n",
              "RNN       0.779363  0.696733   7min 45s\n",
              "LSTM      0.673540  0.712384   21min 3s\n",
              "GRU       0.695941  0.714235  16min 56s\n",
              "CNN       0.897344  0.700392    1min 3s\n",
              "CNN_RNN   0.902855  0.668298   2min 42s\n",
              "RNN_CNN   0.801917  0.704184   7min 37s\n",
              "BidirRNN  0.876449  0.685888  13min 46s"
            ],
            "text/html": [
              "\n",
              "  <div id=\"df-9fcfbbcb-6fbc-4e17-b9a9-f70e72fb14f3\">\n",
              "    <div class=\"colab-df-container\">\n",
              "      <div>\n",
              "<style scoped>\n",
              "    .dataframe tbody tr th:only-of-type {\n",
              "        vertical-align: middle;\n",
              "    }\n",
              "\n",
              "    .dataframe tbody tr th {\n",
              "        vertical-align: top;\n",
              "    }\n",
              "\n",
              "    .dataframe thead th {\n",
              "        text-align: right;\n",
              "    }\n",
              "</style>\n",
              "<table border=\"1\" class=\"dataframe\">\n",
              "  <thead>\n",
              "    <tr style=\"text-align: right;\">\n",
              "      <th></th>\n",
              "      <th>score</th>\n",
              "      <th>accuracy</th>\n",
              "      <th>time</th>\n",
              "    </tr>\n",
              "    <tr>\n",
              "      <th>model</th>\n",
              "      <th></th>\n",
              "      <th></th>\n",
              "      <th></th>\n",
              "    </tr>\n",
              "  </thead>\n",
              "  <tbody>\n",
              "    <tr>\n",
              "      <th>RNN</th>\n",
              "      <td>0.779363</td>\n",
              "      <td>0.696733</td>\n",
              "      <td>7min 45s</td>\n",
              "    </tr>\n",
              "    <tr>\n",
              "      <th>LSTM</th>\n",
              "      <td>0.673540</td>\n",
              "      <td>0.712384</td>\n",
              "      <td>21min 3s</td>\n",
              "    </tr>\n",
              "    <tr>\n",
              "      <th>GRU</th>\n",
              "      <td>0.695941</td>\n",
              "      <td>0.714235</td>\n",
              "      <td>16min 56s</td>\n",
              "    </tr>\n",
              "    <tr>\n",
              "      <th>CNN</th>\n",
              "      <td>0.897344</td>\n",
              "      <td>0.700392</td>\n",
              "      <td>1min 3s</td>\n",
              "    </tr>\n",
              "    <tr>\n",
              "      <th>CNN_RNN</th>\n",
              "      <td>0.902855</td>\n",
              "      <td>0.668298</td>\n",
              "      <td>2min 42s</td>\n",
              "    </tr>\n",
              "    <tr>\n",
              "      <th>RNN_CNN</th>\n",
              "      <td>0.801917</td>\n",
              "      <td>0.704184</td>\n",
              "      <td>7min 37s</td>\n",
              "    </tr>\n",
              "    <tr>\n",
              "      <th>BidirRNN</th>\n",
              "      <td>0.876449</td>\n",
              "      <td>0.685888</td>\n",
              "      <td>13min 46s</td>\n",
              "    </tr>\n",
              "  </tbody>\n",
              "</table>\n",
              "</div>\n",
              "      <button class=\"colab-df-convert\" onclick=\"convertToInteractive('df-9fcfbbcb-6fbc-4e17-b9a9-f70e72fb14f3')\"\n",
              "              title=\"Convert this dataframe to an interactive table.\"\n",
              "              style=\"display:none;\">\n",
              "        \n",
              "  <svg xmlns=\"http://www.w3.org/2000/svg\" height=\"24px\"viewBox=\"0 0 24 24\"\n",
              "       width=\"24px\">\n",
              "    <path d=\"M0 0h24v24H0V0z\" fill=\"none\"/>\n",
              "    <path d=\"M18.56 5.44l.94 2.06.94-2.06 2.06-.94-2.06-.94-.94-2.06-.94 2.06-2.06.94zm-11 1L8.5 8.5l.94-2.06 2.06-.94-2.06-.94L8.5 2.5l-.94 2.06-2.06.94zm10 10l.94 2.06.94-2.06 2.06-.94-2.06-.94-.94-2.06-.94 2.06-2.06.94z\"/><path d=\"M17.41 7.96l-1.37-1.37c-.4-.4-.92-.59-1.43-.59-.52 0-1.04.2-1.43.59L10.3 9.45l-7.72 7.72c-.78.78-.78 2.05 0 2.83L4 21.41c.39.39.9.59 1.41.59.51 0 1.02-.2 1.41-.59l7.78-7.78 2.81-2.81c.8-.78.8-2.07 0-2.86zM5.41 20L4 18.59l7.72-7.72 1.47 1.35L5.41 20z\"/>\n",
              "  </svg>\n",
              "      </button>\n",
              "      \n",
              "  <style>\n",
              "    .colab-df-container {\n",
              "      display:flex;\n",
              "      flex-wrap:wrap;\n",
              "      gap: 12px;\n",
              "    }\n",
              "\n",
              "    .colab-df-convert {\n",
              "      background-color: #E8F0FE;\n",
              "      border: none;\n",
              "      border-radius: 50%;\n",
              "      cursor: pointer;\n",
              "      display: none;\n",
              "      fill: #1967D2;\n",
              "      height: 32px;\n",
              "      padding: 0 0 0 0;\n",
              "      width: 32px;\n",
              "    }\n",
              "\n",
              "    .colab-df-convert:hover {\n",
              "      background-color: #E2EBFA;\n",
              "      box-shadow: 0px 1px 2px rgba(60, 64, 67, 0.3), 0px 1px 3px 1px rgba(60, 64, 67, 0.15);\n",
              "      fill: #174EA6;\n",
              "    }\n",
              "\n",
              "    [theme=dark] .colab-df-convert {\n",
              "      background-color: #3B4455;\n",
              "      fill: #D2E3FC;\n",
              "    }\n",
              "\n",
              "    [theme=dark] .colab-df-convert:hover {\n",
              "      background-color: #434B5C;\n",
              "      box-shadow: 0px 1px 3px 1px rgba(0, 0, 0, 0.15);\n",
              "      filter: drop-shadow(0px 1px 2px rgba(0, 0, 0, 0.3));\n",
              "      fill: #FFFFFF;\n",
              "    }\n",
              "  </style>\n",
              "\n",
              "      <script>\n",
              "        const buttonEl =\n",
              "          document.querySelector('#df-9fcfbbcb-6fbc-4e17-b9a9-f70e72fb14f3 button.colab-df-convert');\n",
              "        buttonEl.style.display =\n",
              "          google.colab.kernel.accessAllowed ? 'block' : 'none';\n",
              "\n",
              "        async function convertToInteractive(key) {\n",
              "          const element = document.querySelector('#df-9fcfbbcb-6fbc-4e17-b9a9-f70e72fb14f3');\n",
              "          const dataTable =\n",
              "            await google.colab.kernel.invokeFunction('convertToInteractive',\n",
              "                                                     [key], {});\n",
              "          if (!dataTable) return;\n",
              "\n",
              "          const docLinkHtml = 'Like what you see? Visit the ' +\n",
              "            '<a target=\"_blank\" href=https://colab.research.google.com/notebooks/data_table.ipynb>data table notebook</a>'\n",
              "            + ' to learn more about interactive tables.';\n",
              "          element.innerHTML = '';\n",
              "          dataTable['output_type'] = 'display_data';\n",
              "          await google.colab.output.renderOutput(dataTable, element);\n",
              "          const docLink = document.createElement('div');\n",
              "          docLink.innerHTML = docLinkHtml;\n",
              "          element.appendChild(docLink);\n",
              "        }\n",
              "      </script>\n",
              "    </div>\n",
              "  </div>\n",
              "  "
            ]
          },
          "metadata": {},
          "execution_count": 94
        }
      ]
    },
    {
      "cell_type": "markdown",
      "source": [
        "Результаты по метрике accuracy и времени"
      ],
      "metadata": {
        "id": "O5rQgZJvxkPd"
      }
    },
    {
      "cell_type": "code",
      "source": [
        "df_results['time'] = df_results['time'].str.replace('min ','.').str.replace('s', '').astype(float)\n",
        "ax = df_results.plot.scatter('time', 'accuracy', figsize=(10,5))\n",
        "for idx, row in df_results.iterrows():\n",
        "    ax.annotate(idx, (row['time']+0.2, row['accuracy']))"
      ],
      "metadata": {
        "colab": {
          "base_uri": "https://localhost:8080/",
          "height": 334
        },
        "id": "KKo73PqpyQ5o",
        "outputId": "c326a336-d1ec-4fa5-a49b-40084c6a34e5"
      },
      "execution_count": 63,
      "outputs": [
        {
          "output_type": "display_data",
          "data": {
            "text/plain": [
              "<Figure size 720x360 with 1 Axes>"
            ],
            "image/png": "[encoded data removed]"
          },
          "metadata": {
            "needs_background": "light"
          }
        }
      ]
    },
    {
      "cell_type": "markdown",
      "source": [
        "Лучшие результаты по метрике accurcy показала модель с GRU слоем, в результате превзойдя LSTM по метрике и по времени, хоть и незначительно. <br> Простая RNN немного уступает по качеству LSTM и GRU, но сильно выигрывает по времени. Так как в твитах короткие документы, то сильного отставания у RNN нет. <br>Свёрточная модель CNN показала лучшие результаты по времени среди всех моделей и по качеству находится на уровне рекуррентных сеток. <br>Двунаправленная RNN показала плохие результаты, вероятно из-за коротках документов преимущества у неё нет. <br>Комбинация CNN-RNN показала худшие результаты, опять же, скорее всего из-за коротких документов в RNN попадает недостаточно информации. <br>А вот RNN-CNN показала неплохие рузультаты, в CNN попадали из RNN контекстно-зависимые токены, что позволило немного улучшить метрику по сравнению с обычной CNN.\n",
        "Вывод для данного корпуса: если нужна максимальная скорость обработки, лучше воспользоваться CNN, если важно качество работы сетки - тогда GRU/"
      ],
      "metadata": {
        "id": "96PqjoVougZr"
      }
    },
    {
      "cell_type": "markdown",
      "source": [
        "PS. Ещё один шанс для CNN-RNN. Уберём пулинг и проверим результат"
      ],
      "metadata": {
        "id": "wjJzy2Rz5du7"
      }
    },
    {
      "cell_type": "code",
      "source": [
        "model_cnn_rnn = Sequential()\n",
        "model_cnn_rnn.add(Embedding(input_dim=word_count, input_length=training_len, output_dim=30, mask_zero=True))\n",
        "model_cnn_rnn.add(Conv1D(64, 3, activation='relu', padding='same'))\n",
        "model_cnn_rnn.add(SimpleRNN(64))\n",
        "model_cnn_rnn.add(Dense(64, activation='relu'))\n",
        "model_cnn_rnn.add(Dropout(0.2))\n",
        "model_cnn_rnn.add(Dense(1, activation='sigmoid'))\n",
        "model_cnn_rnn.compile(optimizer='adam', loss='binary_crossentropy', metrics=['accuracy'])"
      ],
      "metadata": {
        "id": "9kYP7Yctj3Bu"
      },
      "execution_count": 79,
      "outputs": []
    },
    {
      "cell_type": "code",
      "source": [
        "%%time\n",
        "history_cnn_rnn = model_cnn_rnn.fit(X_train, y_train, batch_size=BATCH_SIZE, epochs=EPOCHS, verbose=1, validation_split=0.1, callbacks=[early_stopping])"
      ],
      "metadata": {
        "colab": {
          "base_uri": "https://localhost:8080/"
        },
        "id": "FPUxqxl9ksBI",
        "outputId": "b25ccd94-30fd-4f12-ef61-aa834fb8e8a0"
      },
      "execution_count": 80,
      "outputs": [
        {
          "output_type": "stream",
          "name": "stdout",
          "text": [
            "Epoch 1/10\n",
            "2552/2552 [==============================] - 76s 30ms/step - loss: 0.5735 - accuracy: 0.6920 - val_loss: 0.5392 - val_accuracy: 0.7263\n",
            "Epoch 2/10\n",
            "2552/2552 [==============================] - 73s 29ms/step - loss: 0.4322 - accuracy: 0.7997 - val_loss: 0.5548 - val_accuracy: 0.7146\n",
            "Epoch 3/10\n",
            "2552/2552 [==============================] - 72s 28ms/step - loss: 0.2873 - accuracy: 0.8752 - val_loss: 0.6673 - val_accuracy: 0.7047\n",
            "Epoch 4/10\n",
            "2552/2552 [==============================] - 70s 27ms/step - loss: 0.1919 - accuracy: 0.9184 - val_loss: 0.7806 - val_accuracy: 0.6963\n",
            "CPU times: user 6min 51s, sys: 49.9 s, total: 7min 41s\n",
            "Wall time: 4min 51s\n"
          ]
        }
      ]
    },
    {
      "cell_type": "code",
      "source": [
        "score = model_cnn_rnn.evaluate(X_valid, y_valid, batch_size=512, verbose=1)\n",
        "print('Test score:', score[0])\n",
        "print('Test accuracy:', score[1])"
      ],
      "metadata": {
        "colab": {
          "base_uri": "https://localhost:8080/"
        },
        "id": "A7TpsO5Tkt3L",
        "outputId": "e36c52c7-6c86-4dfe-a6e5-5a643045bfc3"
      },
      "execution_count": 82,
      "outputs": [
        {
          "output_type": "stream",
          "name": "stdout",
          "text": [
            "45/45 [==============================] - 0s 6ms/step - loss: 0.7891 - accuracy: 0.6897\n",
            "Test score: 0.7890775799751282\n",
            "Test accuracy: 0.6897236108779907\n"
          ]
        }
      ]
    },
    {
      "cell_type": "markdown",
      "source": [
        "Результаты сетки без пулинга стали лучше, но всё равно не лучше простой CNN"
      ],
      "metadata": {
        "id": "PuW5jdqW5sGF"
      }
    }
  ]
}