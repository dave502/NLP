{
  "cells": [
    {
      "cell_type": "markdown",
      "metadata": {
        "id": "view-in-github",
        "colab_type": "text"
      },
      "source": [
        "<a href=\"https://colab.research.google.com/github/dave502/NLP/blob/main/lesson_16/nlp_hw_16.ipynb\" target=\"_parent\"><img src=\"https://colab.research.google.com/assets/colab-badge.svg\" alt=\"Open In Colab\"/></a>"
      ]
    },
    {
      "cell_type": "code",
      "execution_count": 1,
      "metadata": {
        "id": "9aeMxgNKhtD9"
      },
      "outputs": [],
      "source": [
        "%%capture\n",
        "!wget https://www.dropbox.com/s/35dolceuq09w6ur/tokenization_small100.py"
      ]
    },
    {
      "cell_type": "code",
      "execution_count": 2,
      "metadata": {
        "id": "_V1LIv17KLKs"
      },
      "outputs": [],
      "source": [
        "%%capture\n",
        "!pip install transformers[sentencepiece]\n",
        "!pip install python-telegram-bot\n",
        "!pip install dropbox\n",
        "!pip install emoji-country-flag\n",
        "!pip install pymorphy2\n",
        "!pip install stop_words\n",
        "!pip install annoy\n",
        "!pip install -U sentence-transformers"
      ]
    },
    {
      "cell_type": "code",
      "execution_count": null,
      "metadata": {
        "id": "gx0rAZ2XVzck"
      },
      "outputs": [],
      "source": [
        "!wget https://www.dropbox.com/s/whu54kbx2zpboza/dropbox"
      ]
    },
    {
      "cell_type": "code",
      "execution_count": 4,
      "metadata": {
        "id": "tZITBPDG5uem"
      },
      "outputs": [],
      "source": [
        "import torch\n",
        "from transformers import AutoTokenizer, AutoModelForCausalLM, M2M100ForConditionalGeneration #AutoModelWithLMHead\n",
        "from tokenization_small100 import SMALL100Tokenizer\n",
        "from sentence_transformers import SentenceTransformer\n",
        "import re\n",
        "import pandas as pd\n",
        "from tqdm.notebook import tqdm\n",
        "import dropbox\n",
        "from pathlib import Path\n",
        "from telegram import Update\n",
        "from telegram.ext import Updater, CommandHandler, MessageHandler, Filters, CallbackContext\n",
        "import threading\n",
        "import flag\n",
        "from sklearn.feature_extraction.text import CountVectorizer, TfidfVectorizer\n",
        "from sklearn.linear_model import LogisticRegression\n",
        "from pymorphy2 import MorphAnalyzer\n",
        "from stop_words import get_stop_words\n",
        "import string\n",
        "import annoy\n",
        "from gensim.models import Word2Vec, FastText\n",
        "import numpy as np"
      ]
    },
    {
      "cell_type": "code",
      "source": [
        "import warnings\n",
        "warnings.filterwarnings('ignore')"
      ],
      "metadata": {
        "id": "X8n0_NeFTGKI"
      },
      "execution_count": 5,
      "outputs": []
    },
    {
      "cell_type": "code",
      "execution_count": 6,
      "metadata": {
        "id": "cQYd4aPPdTFE"
      },
      "outputs": [],
      "source": [
        "device = torch.device(\"cuda\") if torch.cuda.is_available() else torch.device(\"cpu\")"
      ]
    },
    {
      "cell_type": "code",
      "execution_count": 7,
      "metadata": {
        "id": "pKQX93nUMMQ9"
      },
      "outputs": [],
      "source": [
        "osm_file_path = 'kaliningrad-latest.osm'\n",
        "csv_file_path = Path('kaliningrad_nodes.csv')\n",
        "dropbox_file_path = '/kaliningrad_nodes.csv'\n",
        "dropbox_file_link = 'https://www.dropbox.com/s/92w8iu94gk0f5py/kaliningrad_nodes.csv'"
      ]
    },
    {
      "cell_type": "code",
      "execution_count": 10,
      "metadata": {
        "id": "UXQJrXseXR_C",
        "cellView": "form"
      },
      "outputs": [],
      "source": [
        "#@title #####функции загрузки и парсинга osm файла\n",
        "def upload_dropbox_file(local_file_path, dropbox_file_path):\n",
        "  with open('/content/dropbox', 'r') as token:\n",
        "    dropbox_access_token = token.read()\n",
        "  dropbox_client = dropbox.Dropbox(dropbox_access_token)\n",
        "  dropbox_client.files_upload(open(local_file_path, \"rb\").read(), dropbox_file_path, mode=dropbox.files.WriteMode(\"overwrite\"))\n",
        "  print(\"[UPLOADED] {}\".format(local_file_path))\n",
        "\n",
        "def download_dropbox_file(local_file_path, dropbox_file_path):\n",
        "  with open('/content/dropbox', 'r') as token:\n",
        "    dropbox_access_token = token.read()\n",
        "  dropbox_client = dropbox.Dropbox(dropbox_access_token)\n",
        "  try:\n",
        "    with open(local_file_path, 'wb') as f:\n",
        "      metadata, result = dropbox_client.files_download(path=dropbox_file_path)\n",
        "      f.write(result.content)\n",
        "      print(\"[DOWNLOADED] {}\".format(local_file_path))\n",
        "      return True\n",
        "  except Exception as e:\n",
        "      print('Error downloading file from Dropbox: ' + str(e))\n",
        "      return False\n",
        "\n",
        "def osm_parsing_light(osm_file_path: str) -> pd.DataFrame:\n",
        "  nodes = pd.DataFrame()\n",
        "  node_data = dict()\n",
        "  with open(osm_file_path) as osm_data:\n",
        "    for line in tqdm(osm_data):\n",
        "      if re.findall(r'(?<=\\<node id).*?(?=\\/>)', line): # узел без тэгов (<node.../>)\n",
        "        continue\n",
        "      elif re.findall(r'(?<=\\<node id).*?(?=>)', line): # начался узел с тегами, запоминаем id и координаты (<node id=... ><tag ... /></node>)\n",
        "        node_attr = re.findall('(id=\"(.*?)\"\\s)|(lat=\"(.*?)\"\\s)|(lon=\"(.*?)\")', line)\n",
        "        node_data.update({'id': node_attr[0][1], 'lat': node_attr[1][3], 'lon': node_attr[2][5],})\n",
        "      elif re.findall(r'(?<=\\<tag).*?(?=\\/>)', line): # вложенные в узел теги (<tag k=\"...\" v=\"...\"/>), запоминаем другие данные \n",
        "        node_tag = re.findall('(k=\"(.*?)\")|(v=\"(.*?)\")', line) # \n",
        "        node_data.update({node_tag[0][1]: node_tag[1][3]})\n",
        "      elif line.strip()== '</node>': # конец узла (</node>)- запись данных и очистка словаря с данными \n",
        "        if node_data and node_data.get('name'):\n",
        "          nodes = nodes.append(node_data, ignore_index=True)\n",
        "        node_data = dict()\n",
        "  return nodes     "
      ]
    },
    {
      "cell_type": "markdown",
      "metadata": {
        "id": "0-YoBsXBgf3O"
      },
      "source": [
        "##Загрузка данных по географическим объектам"
      ]
    },
    {
      "cell_type": "code",
      "execution_count": 15,
      "metadata": {
        "colab": {
          "base_uri": "https://localhost:8080/"
        },
        "id": "5Uv_36stUPxx",
        "outputId": "addd768a-601a-416d-98ca-7da423e2153f"
      },
      "outputs": [
        {
          "output_type": "stream",
          "name": "stdout",
          "text": [
            "[DOWNLOADED] kaliningrad_nodes.csv\n"
          ]
        }
      ],
      "source": [
        "if not csv_file_path.is_file():\n",
        "  csv_downloaded = download_dropbox_file(csv_file_path, dropbox_file_path)"
      ]
    },
    {
      "cell_type": "code",
      "source": [
        "if not csv_downloaded:\n",
        "  kalingrad_objects_df = osm_parsing_light(osm_file_path)\n",
        "  kalingrad_objects_df.to_csv(csv_file_path)\n",
        "  upload_dropbox_file(csv_file_path, dropbox_file_path)"
      ],
      "metadata": {
        "id": "ENGkn8RN7KAQ"
      },
      "execution_count": 16,
      "outputs": []
    },
    {
      "cell_type": "code",
      "execution_count": 17,
      "metadata": {
        "id": "cKPgpmOKYa3p"
      },
      "outputs": [],
      "source": [
        "kalingrad_objects_df = pd.read_csv(csv_file_path)"
      ]
    },
    {
      "cell_type": "code",
      "source": [],
      "metadata": {
        "id": "Num3lY3sACIv"
      },
      "execution_count": 17,
      "outputs": []
    },
    {
      "cell_type": "code",
      "execution_count": 18,
      "metadata": {
        "colab": {
          "base_uri": "https://localhost:8080/",
          "height": 363
        },
        "id": "LG2DK81s6Zmh",
        "outputId": "723f21ef-32aa-448d-b8a7-7abd475d8845"
      },
      "outputs": [
        {
          "output_type": "execute_result",
          "data": {
            "text/plain": [
              "            id                                               name        lat  \\\n",
              "34    71786135                          Gołdap (PL) - Гусев (RUS)  54.341237   \n",
              "110  471830229                                         Высота Эфа  55.221176   \n",
              "114  471928293                                      Иммануил Кант  54.706492   \n",
              "120  480811577                                    Pension Ehrlich  55.011921   \n",
              "141  518447378                                           Черепаха  54.723725   \n",
              "180  550413143                      Гостевой дом &quot;Анна&quot;  54.721635   \n",
              "197  601372005                     След от снаряда на ферме моста  54.706364   \n",
              "200  601374809                                    Борющиеся зубры  54.720445   \n",
              "201  601374994  Памятный знак в виде верстового столба к 750-л...  54.718523   \n",
              "243  679289752                               Бабушка хомлин Марта  54.721984   \n",
              "\n",
              "           lon  \n",
              "34   22.297915  \n",
              "110  20.906375  \n",
              "114  20.512887  \n",
              "120  21.243174  \n",
              "141  20.490009  \n",
              "180  20.419569  \n",
              "197  20.489163  \n",
              "200  20.497014  \n",
              "201  20.493949  \n",
              "243  20.523246  "
            ],
            "text/html": [
              "\n",
              "  <div id=\"df-518af91a-d49d-455e-9033-98617b9d90c1\">\n",
              "    <div class=\"colab-df-container\">\n",
              "      <div>\n",
              "<style scoped>\n",
              "    .dataframe tbody tr th:only-of-type {\n",
              "        vertical-align: middle;\n",
              "    }\n",
              "\n",
              "    .dataframe tbody tr th {\n",
              "        vertical-align: top;\n",
              "    }\n",
              "\n",
              "    .dataframe thead th {\n",
              "        text-align: right;\n",
              "    }\n",
              "</style>\n",
              "<table border=\"1\" class=\"dataframe\">\n",
              "  <thead>\n",
              "    <tr style=\"text-align: right;\">\n",
              "      <th></th>\n",
              "      <th>id</th>\n",
              "      <th>name</th>\n",
              "      <th>lat</th>\n",
              "      <th>lon</th>\n",
              "    </tr>\n",
              "  </thead>\n",
              "  <tbody>\n",
              "    <tr>\n",
              "      <th>34</th>\n",
              "      <td>71786135</td>\n",
              "      <td>Gołdap (PL) - Гусев (RUS)</td>\n",
              "      <td>54.341237</td>\n",
              "      <td>22.297915</td>\n",
              "    </tr>\n",
              "    <tr>\n",
              "      <th>110</th>\n",
              "      <td>471830229</td>\n",
              "      <td>Высота Эфа</td>\n",
              "      <td>55.221176</td>\n",
              "      <td>20.906375</td>\n",
              "    </tr>\n",
              "    <tr>\n",
              "      <th>114</th>\n",
              "      <td>471928293</td>\n",
              "      <td>Иммануил Кант</td>\n",
              "      <td>54.706492</td>\n",
              "      <td>20.512887</td>\n",
              "    </tr>\n",
              "    <tr>\n",
              "      <th>120</th>\n",
              "      <td>480811577</td>\n",
              "      <td>Pension Ehrlich</td>\n",
              "      <td>55.011921</td>\n",
              "      <td>21.243174</td>\n",
              "    </tr>\n",
              "    <tr>\n",
              "      <th>141</th>\n",
              "      <td>518447378</td>\n",
              "      <td>Черепаха</td>\n",
              "      <td>54.723725</td>\n",
              "      <td>20.490009</td>\n",
              "    </tr>\n",
              "    <tr>\n",
              "      <th>180</th>\n",
              "      <td>550413143</td>\n",
              "      <td>Гостевой дом &amp;quot;Анна&amp;quot;</td>\n",
              "      <td>54.721635</td>\n",
              "      <td>20.419569</td>\n",
              "    </tr>\n",
              "    <tr>\n",
              "      <th>197</th>\n",
              "      <td>601372005</td>\n",
              "      <td>След от снаряда на ферме моста</td>\n",
              "      <td>54.706364</td>\n",
              "      <td>20.489163</td>\n",
              "    </tr>\n",
              "    <tr>\n",
              "      <th>200</th>\n",
              "      <td>601374809</td>\n",
              "      <td>Борющиеся зубры</td>\n",
              "      <td>54.720445</td>\n",
              "      <td>20.497014</td>\n",
              "    </tr>\n",
              "    <tr>\n",
              "      <th>201</th>\n",
              "      <td>601374994</td>\n",
              "      <td>Памятный знак в виде верстового столба к 750-л...</td>\n",
              "      <td>54.718523</td>\n",
              "      <td>20.493949</td>\n",
              "    </tr>\n",
              "    <tr>\n",
              "      <th>243</th>\n",
              "      <td>679289752</td>\n",
              "      <td>Бабушка хомлин Марта</td>\n",
              "      <td>54.721984</td>\n",
              "      <td>20.523246</td>\n",
              "    </tr>\n",
              "  </tbody>\n",
              "</table>\n",
              "</div>\n",
              "      <button class=\"colab-df-convert\" onclick=\"convertToInteractive('df-518af91a-d49d-455e-9033-98617b9d90c1')\"\n",
              "              title=\"Convert this dataframe to an interactive table.\"\n",
              "              style=\"display:none;\">\n",
              "        \n",
              "  <svg xmlns=\"http://www.w3.org/2000/svg\" height=\"24px\"viewBox=\"0 0 24 24\"\n",
              "       width=\"24px\">\n",
              "    <path d=\"M0 0h24v24H0V0z\" fill=\"none\"/>\n",
              "    <path d=\"M18.56 5.44l.94 2.06.94-2.06 2.06-.94-2.06-.94-.94-2.06-.94 2.06-2.06.94zm-11 1L8.5 8.5l.94-2.06 2.06-.94-2.06-.94L8.5 2.5l-.94 2.06-2.06.94zm10 10l.94 2.06.94-2.06 2.06-.94-2.06-.94-.94-2.06-.94 2.06-2.06.94z\"/><path d=\"M17.41 7.96l-1.37-1.37c-.4-.4-.92-.59-1.43-.59-.52 0-1.04.2-1.43.59L10.3 9.45l-7.72 7.72c-.78.78-.78 2.05 0 2.83L4 21.41c.39.39.9.59 1.41.59.51 0 1.02-.2 1.41-.59l7.78-7.78 2.81-2.81c.8-.78.8-2.07 0-2.86zM5.41 20L4 18.59l7.72-7.72 1.47 1.35L5.41 20z\"/>\n",
              "  </svg>\n",
              "      </button>\n",
              "      \n",
              "  <style>\n",
              "    .colab-df-container {\n",
              "      display:flex;\n",
              "      flex-wrap:wrap;\n",
              "      gap: 12px;\n",
              "    }\n",
              "\n",
              "    .colab-df-convert {\n",
              "      background-color: #E8F0FE;\n",
              "      border: none;\n",
              "      border-radius: 50%;\n",
              "      cursor: pointer;\n",
              "      display: none;\n",
              "      fill: #1967D2;\n",
              "      height: 32px;\n",
              "      padding: 0 0 0 0;\n",
              "      width: 32px;\n",
              "    }\n",
              "\n",
              "    .colab-df-convert:hover {\n",
              "      background-color: #E2EBFA;\n",
              "      box-shadow: 0px 1px 2px rgba(60, 64, 67, 0.3), 0px 1px 3px 1px rgba(60, 64, 67, 0.15);\n",
              "      fill: #174EA6;\n",
              "    }\n",
              "\n",
              "    [theme=dark] .colab-df-convert {\n",
              "      background-color: #3B4455;\n",
              "      fill: #D2E3FC;\n",
              "    }\n",
              "\n",
              "    [theme=dark] .colab-df-convert:hover {\n",
              "      background-color: #434B5C;\n",
              "      box-shadow: 0px 1px 3px 1px rgba(0, 0, 0, 0.15);\n",
              "      filter: drop-shadow(0px 1px 2px rgba(0, 0, 0, 0.3));\n",
              "      fill: #FFFFFF;\n",
              "    }\n",
              "  </style>\n",
              "\n",
              "      <script>\n",
              "        const buttonEl =\n",
              "          document.querySelector('#df-518af91a-d49d-455e-9033-98617b9d90c1 button.colab-df-convert');\n",
              "        buttonEl.style.display =\n",
              "          google.colab.kernel.accessAllowed ? 'block' : 'none';\n",
              "\n",
              "        async function convertToInteractive(key) {\n",
              "          const element = document.querySelector('#df-518af91a-d49d-455e-9033-98617b9d90c1');\n",
              "          const dataTable =\n",
              "            await google.colab.kernel.invokeFunction('convertToInteractive',\n",
              "                                                     [key], {});\n",
              "          if (!dataTable) return;\n",
              "\n",
              "          const docLinkHtml = 'Like what you see? Visit the ' +\n",
              "            '<a target=\"_blank\" href=https://colab.research.google.com/notebooks/data_table.ipynb>data table notebook</a>'\n",
              "            + ' to learn more about interactive tables.';\n",
              "          element.innerHTML = '';\n",
              "          dataTable['output_type'] = 'display_data';\n",
              "          await google.colab.output.renderOutput(dataTable, element);\n",
              "          const docLink = document.createElement('div');\n",
              "          docLink.innerHTML = docLinkHtml;\n",
              "          element.appendChild(docLink);\n",
              "        }\n",
              "      </script>\n",
              "    </div>\n",
              "  </div>\n",
              "  "
            ]
          },
          "metadata": {},
          "execution_count": 18
        }
      ],
      "source": [
        "kalingrad_objects_df[kalingrad_objects_df['tourism'].notna()][['id','name', 'lat', 'lon']].head(10)"
      ]
    },
    {
      "cell_type": "code",
      "execution_count": 19,
      "metadata": {
        "colab": {
          "base_uri": "https://localhost:8080/"
        },
        "id": "0u--PC4JjC5O",
        "outputId": "83ffac3e-1436-49e6-c3f1-7a63fe6e571a"
      },
      "outputs": [
        {
          "output_type": "execute_result",
          "data": {
            "text/plain": [
              "Index(['Unnamed: 0', 'id', 'lat', 'lon', 'addr:city', 'addr:country',\n",
              "       'addr:region', 'admin_level', 'capital', 'int_name',\n",
              "       ...\n",
              "       'contact:viber', 'contact:whatsapp', 'service:bicycle:parts',\n",
              "       'service:bicycle:repair', 'wreck:date_sunk', 'wreck:type',\n",
              "       'wreck:visible_at_high_tide', 'wreck:visible_at_low_tide', 'club',\n",
              "       'owner'],\n",
              "      dtype='object', length=520)"
            ]
          },
          "metadata": {},
          "execution_count": 19
        }
      ],
      "source": [
        "kalingrad_objects_df.columns"
      ]
    },
    {
      "cell_type": "markdown",
      "source": [
        "##Предобработка данных"
      ],
      "metadata": {
        "id": "Src3nlIuD4mW"
      }
    },
    {
      "cell_type": "markdown",
      "source": [
        "Функция лемматизации и фильтрции текста"
      ],
      "metadata": {
        "id": "t6-5niX3Klsv"
      }
    },
    {
      "cell_type": "code",
      "source": [
        "morpher = MorphAnalyzer()\n",
        "sw = set(get_stop_words(\"ru\"))\n",
        "exclude = set(string.punctuation)\n",
        "\n",
        "def preprocess_text(line):\n",
        "  txt = ''.join(i for i in line.strip() if i not in exclude).split()\n",
        "  txt = [morpher.parse(i.lower())[0].normal_form for i in txt]\n",
        "  txt = [i for i in txt if i not in sw and i != '']\n",
        "  return txt"
      ],
      "metadata": {
        "id": "sPjxGCP_V1hL"
      },
      "execution_count": 20,
      "outputs": []
    },
    {
      "cell_type": "markdown",
      "source": [
        "Выбор из полученного датафрейма только нужных колонок"
      ],
      "metadata": {
        "id": "M58plp8vKyfg"
      }
    },
    {
      "cell_type": "code",
      "execution_count": 21,
      "metadata": {
        "id": "tiDyiekGZl6i"
      },
      "outputs": [],
      "source": [
        "# main information\n",
        "columns_with_name = ['name']\n",
        "column_id = ['id']\n",
        "columns_with_position = list(kalingrad_objects_df.columns[kalingrad_objects_df.columns.str.contains(r\"lat|lon\")])\n",
        "# columns_with_name = list(kalingrad_objects_df.columns[kalingrad_objects_df.columns.str.contains(r\"name:\")])\n",
        "columns_with_description = list(kalingrad_objects_df.columns[kalingrad_objects_df.columns.str.contains(r\"description\")])\n",
        "columns_with_amenity = list(kalingrad_objects_df.columns[kalingrad_objects_df.columns.str.contains(r\"amenity\")])\n",
        "columns_with_tourism = list(kalingrad_objects_df.columns[kalingrad_objects_df.columns.str.contains(r\"historic|tourism\")])\n",
        "# additional informaton\n",
        "\n",
        "columns_with_opening_hours = list(kalingrad_objects_df.columns[kalingrad_objects_df.columns.str.contains(r\"opening_hours\")])\n",
        "columns_with_phone = list(kalingrad_objects_df.columns[kalingrad_objects_df.columns.str.contains(r\"phone\")])\n",
        "columns_with_website = list(kalingrad_objects_df.columns[kalingrad_objects_df.columns.str.contains(r\"website\")])\n",
        "# get new DF with useful columns\n",
        "clusterizated_columns = sum([columns_with_name, columns_with_description, columns_with_amenity, columns_with_tourism], [])\n",
        "kalingrad_df = kalingrad_objects_df[sum([column_id, columns_with_position, clusterizated_columns], [])]\n",
        "kalingrad_df.fillna('', inplace=True)\n",
        "kalingrad_df['text'] = kalingrad_df[clusterizated_columns].apply(lambda row: ' '.join(row.values.astype(str)), axis=1)\n",
        "kalingrad_df['text'] = kalingrad_df['text'].apply(lambda x: preprocess_text(str(x)))"
      ]
    },
    {
      "cell_type": "code",
      "execution_count": 23,
      "metadata": {
        "colab": {
          "base_uri": "https://localhost:8080/",
          "height": 329
        },
        "id": "aplga4tAff6x",
        "outputId": "f459b99d-225e-4860-9984-a9e84755edd7"
      },
      "outputs": [
        {
          "output_type": "execute_result",
          "data": {
            "text/plain": [
              "            id        lat        lon population population:date platforms  \\\n",
              "34    71786135  54.341237  22.297915                                        \n",
              "110  471830229  55.221176  20.906375                                        \n",
              "114  471928293  54.706492  20.512887                                        \n",
              "\n",
              "    seamark:buoy_lateral:colour                       name description  \\\n",
              "34                               Gołdap (PL) - Гусев (RUS)               \n",
              "110                                             Высота Эфа               \n",
              "114                                          Иммануил Кант               \n",
              "\n",
              "    description:de description:en description:ru amenity disused:amenity  \\\n",
              "34                                                                         \n",
              "110                                                                        \n",
              "114                                                                        \n",
              "\n",
              "    was:amenity historic      tourism historic:civilization  \\\n",
              "34                        information                         \n",
              "110                         viewpoint                         \n",
              "114                 tomb   attraction                         \n",
              "\n",
              "    construction:tourism                                   text  \n",
              "34                        [gołdap, pl, гусев, rus, information]  \n",
              "110                                    [высота, эфа, viewpoint]  \n",
              "114                          [иммануил, кант, tomb, attraction]  "
            ],
            "text/html": [
              "\n",
              "  <div id=\"df-cfc5b67d-dfc5-4ed5-8bf8-6bbdc0c5a1b3\">\n",
              "    <div class=\"colab-df-container\">\n",
              "      <div>\n",
              "<style scoped>\n",
              "    .dataframe tbody tr th:only-of-type {\n",
              "        vertical-align: middle;\n",
              "    }\n",
              "\n",
              "    .dataframe tbody tr th {\n",
              "        vertical-align: top;\n",
              "    }\n",
              "\n",
              "    .dataframe thead th {\n",
              "        text-align: right;\n",
              "    }\n",
              "</style>\n",
              "<table border=\"1\" class=\"dataframe\">\n",
              "  <thead>\n",
              "    <tr style=\"text-align: right;\">\n",
              "      <th></th>\n",
              "      <th>id</th>\n",
              "      <th>lat</th>\n",
              "      <th>lon</th>\n",
              "      <th>population</th>\n",
              "      <th>population:date</th>\n",
              "      <th>platforms</th>\n",
              "      <th>seamark:buoy_lateral:colour</th>\n",
              "      <th>name</th>\n",
              "      <th>description</th>\n",
              "      <th>description:de</th>\n",
              "      <th>description:en</th>\n",
              "      <th>description:ru</th>\n",
              "      <th>amenity</th>\n",
              "      <th>disused:amenity</th>\n",
              "      <th>was:amenity</th>\n",
              "      <th>historic</th>\n",
              "      <th>tourism</th>\n",
              "      <th>historic:civilization</th>\n",
              "      <th>construction:tourism</th>\n",
              "      <th>text</th>\n",
              "    </tr>\n",
              "  </thead>\n",
              "  <tbody>\n",
              "    <tr>\n",
              "      <th>34</th>\n",
              "      <td>71786135</td>\n",
              "      <td>54.341237</td>\n",
              "      <td>22.297915</td>\n",
              "      <td></td>\n",
              "      <td></td>\n",
              "      <td></td>\n",
              "      <td></td>\n",
              "      <td>Gołdap (PL) - Гусев (RUS)</td>\n",
              "      <td></td>\n",
              "      <td></td>\n",
              "      <td></td>\n",
              "      <td></td>\n",
              "      <td></td>\n",
              "      <td></td>\n",
              "      <td></td>\n",
              "      <td></td>\n",
              "      <td>information</td>\n",
              "      <td></td>\n",
              "      <td></td>\n",
              "      <td>[gołdap, pl, гусев, rus, information]</td>\n",
              "    </tr>\n",
              "    <tr>\n",
              "      <th>110</th>\n",
              "      <td>471830229</td>\n",
              "      <td>55.221176</td>\n",
              "      <td>20.906375</td>\n",
              "      <td></td>\n",
              "      <td></td>\n",
              "      <td></td>\n",
              "      <td></td>\n",
              "      <td>Высота Эфа</td>\n",
              "      <td></td>\n",
              "      <td></td>\n",
              "      <td></td>\n",
              "      <td></td>\n",
              "      <td></td>\n",
              "      <td></td>\n",
              "      <td></td>\n",
              "      <td></td>\n",
              "      <td>viewpoint</td>\n",
              "      <td></td>\n",
              "      <td></td>\n",
              "      <td>[высота, эфа, viewpoint]</td>\n",
              "    </tr>\n",
              "    <tr>\n",
              "      <th>114</th>\n",
              "      <td>471928293</td>\n",
              "      <td>54.706492</td>\n",
              "      <td>20.512887</td>\n",
              "      <td></td>\n",
              "      <td></td>\n",
              "      <td></td>\n",
              "      <td></td>\n",
              "      <td>Иммануил Кант</td>\n",
              "      <td></td>\n",
              "      <td></td>\n",
              "      <td></td>\n",
              "      <td></td>\n",
              "      <td></td>\n",
              "      <td></td>\n",
              "      <td></td>\n",
              "      <td>tomb</td>\n",
              "      <td>attraction</td>\n",
              "      <td></td>\n",
              "      <td></td>\n",
              "      <td>[иммануил, кант, tomb, attraction]</td>\n",
              "    </tr>\n",
              "  </tbody>\n",
              "</table>\n",
              "</div>\n",
              "      <button class=\"colab-df-convert\" onclick=\"convertToInteractive('df-cfc5b67d-dfc5-4ed5-8bf8-6bbdc0c5a1b3')\"\n",
              "              title=\"Convert this dataframe to an interactive table.\"\n",
              "              style=\"display:none;\">\n",
              "        \n",
              "  <svg xmlns=\"http://www.w3.org/2000/svg\" height=\"24px\"viewBox=\"0 0 24 24\"\n",
              "       width=\"24px\">\n",
              "    <path d=\"M0 0h24v24H0V0z\" fill=\"none\"/>\n",
              "    <path d=\"M18.56 5.44l.94 2.06.94-2.06 2.06-.94-2.06-.94-.94-2.06-.94 2.06-2.06.94zm-11 1L8.5 8.5l.94-2.06 2.06-.94-2.06-.94L8.5 2.5l-.94 2.06-2.06.94zm10 10l.94 2.06.94-2.06 2.06-.94-2.06-.94-.94-2.06-.94 2.06-2.06.94z\"/><path d=\"M17.41 7.96l-1.37-1.37c-.4-.4-.92-.59-1.43-.59-.52 0-1.04.2-1.43.59L10.3 9.45l-7.72 7.72c-.78.78-.78 2.05 0 2.83L4 21.41c.39.39.9.59 1.41.59.51 0 1.02-.2 1.41-.59l7.78-7.78 2.81-2.81c.8-.78.8-2.07 0-2.86zM5.41 20L4 18.59l7.72-7.72 1.47 1.35L5.41 20z\"/>\n",
              "  </svg>\n",
              "      </button>\n",
              "      \n",
              "  <style>\n",
              "    .colab-df-container {\n",
              "      display:flex;\n",
              "      flex-wrap:wrap;\n",
              "      gap: 12px;\n",
              "    }\n",
              "\n",
              "    .colab-df-convert {\n",
              "      background-color: #E8F0FE;\n",
              "      border: none;\n",
              "      border-radius: 50%;\n",
              "      cursor: pointer;\n",
              "      display: none;\n",
              "      fill: #1967D2;\n",
              "      height: 32px;\n",
              "      padding: 0 0 0 0;\n",
              "      width: 32px;\n",
              "    }\n",
              "\n",
              "    .colab-df-convert:hover {\n",
              "      background-color: #E2EBFA;\n",
              "      box-shadow: 0px 1px 2px rgba(60, 64, 67, 0.3), 0px 1px 3px 1px rgba(60, 64, 67, 0.15);\n",
              "      fill: #174EA6;\n",
              "    }\n",
              "\n",
              "    [theme=dark] .colab-df-convert {\n",
              "      background-color: #3B4455;\n",
              "      fill: #D2E3FC;\n",
              "    }\n",
              "\n",
              "    [theme=dark] .colab-df-convert:hover {\n",
              "      background-color: #434B5C;\n",
              "      box-shadow: 0px 1px 3px 1px rgba(0, 0, 0, 0.15);\n",
              "      filter: drop-shadow(0px 1px 2px rgba(0, 0, 0, 0.3));\n",
              "      fill: #FFFFFF;\n",
              "    }\n",
              "  </style>\n",
              "\n",
              "      <script>\n",
              "        const buttonEl =\n",
              "          document.querySelector('#df-cfc5b67d-dfc5-4ed5-8bf8-6bbdc0c5a1b3 button.colab-df-convert');\n",
              "        buttonEl.style.display =\n",
              "          google.colab.kernel.accessAllowed ? 'block' : 'none';\n",
              "\n",
              "        async function convertToInteractive(key) {\n",
              "          const element = document.querySelector('#df-cfc5b67d-dfc5-4ed5-8bf8-6bbdc0c5a1b3');\n",
              "          const dataTable =\n",
              "            await google.colab.kernel.invokeFunction('convertToInteractive',\n",
              "                                                     [key], {});\n",
              "          if (!dataTable) return;\n",
              "\n",
              "          const docLinkHtml = 'Like what you see? Visit the ' +\n",
              "            '<a target=\"_blank\" href=https://colab.research.google.com/notebooks/data_table.ipynb>data table notebook</a>'\n",
              "            + ' to learn more about interactive tables.';\n",
              "          element.innerHTML = '';\n",
              "          dataTable['output_type'] = 'display_data';\n",
              "          await google.colab.output.renderOutput(dataTable, element);\n",
              "          const docLink = document.createElement('div');\n",
              "          docLink.innerHTML = docLinkHtml;\n",
              "          element.appendChild(docLink);\n",
              "        }\n",
              "      </script>\n",
              "    </div>\n",
              "  </div>\n",
              "  "
            ]
          },
          "metadata": {},
          "execution_count": 23
        }
      ],
      "source": [
        "kalingrad_df[kalingrad_df['tourism']!=''].head(3)"
      ]
    },
    {
      "cell_type": "markdown",
      "source": [
        "##Кластеризация географических объектов"
      ],
      "metadata": {
        "id": "q5eX6ABUY2EK"
      }
    },
    {
      "cell_type": "code",
      "source": [
        "tfidf_vect = TfidfVectorizer().fit(\" \".join(txt) for txt in kalingrad_df['text'].values)\n",
        "idfs = {v[0]: v[1] for v in zip(tfidf_vect.vocabulary_, tfidf_vect.idf_)}"
      ],
      "metadata": {
        "id": "yHHbDS6jMGHW"
      },
      "execution_count": 24,
      "outputs": []
    },
    {
      "cell_type": "code",
      "source": [
        "modelFT = FastText(sentences=kalingrad_df['text'], size=100, min_count=1, window=5)\n",
        "ft_index = annoy.AnnoyIndex(100 ,'angular')\n",
        "midf = np.mean(tfidf_vect.idf_)\n",
        "index_map = {}\n",
        "counter = 0\n",
        "\n",
        "for i in tqdm(range(len(kalingrad_df))):\n",
        "    n_ft = 0\n",
        "    index_map[counter] = (kalingrad_df.loc[i, \"name\"], kalingrad_df.loc[i, \"lat\"],\\\n",
        "                          kalingrad_df.loc[i, \"lon\"], kalingrad_df.loc[i, \"description\"])\n",
        "    vector_ft = np.zeros(100)\n",
        "    for word in kalingrad_df.loc[i, \"text\"]:\n",
        "        if word in modelFT:\n",
        "            vector_ft += modelFT[word] * idfs.get(word, midf)\n",
        "            n_ft += idfs.get(word, midf)\n",
        "    if n_ft > 0:\n",
        "        vector_ft = vector_ft / n_ft\n",
        "    ft_index.add_item(counter, vector_ft)\n",
        "    counter += 1\n",
        "\n",
        "ft_index.build(1000)\n"
      ],
      "metadata": {
        "colab": {
          "base_uri": "https://localhost:8080/",
          "height": 85,
          "referenced_widgets": [
            "64cc63a3746443c78ec25b6bbe4c20e9",
            "8e555f01f975492fbdc755ef879edf08",
            "d766a1fe16204122acb1f81e35328f66",
            "9787a0d8c6d54cec952d3b5e8e19fb9d",
            "24af5db295424c32ad6a6463b8f1a202",
            "4ade4e4c91e44f4aa452ee398b98e18f",
            "ce2881930ecb4b8e86bc7dafdd1c6aad",
            "27eac8342b074523a2daffd80591ae54",
            "f806ba5a4be54edf9db8c06665d1e31c",
            "dfb54ba76b6f4c36a4a71f379fc07379",
            "d0da5600f40a49658cd925267d9c0d60"
          ]
        },
        "id": "PQAjSpULNbJJ",
        "outputId": "df33971b-63ab-4024-931b-33544be8feec"
      },
      "execution_count": 25,
      "outputs": [
        {
          "output_type": "stream",
          "name": "stderr",
          "text": [
            "WARNING:gensim.models.base_any2vec:under 10 jobs per worker: consider setting a smaller `batch_words' for smoother alpha decay\n"
          ]
        },
        {
          "output_type": "display_data",
          "data": {
            "text/plain": [
              "  0%|          | 0/10317 [00:00<?, ?it/s]"
            ],
            "application/vnd.jupyter.widget-view+json": {
              "version_major": 2,
              "version_minor": 0,
              "model_id": "64cc63a3746443c78ec25b6bbe4c20e9"
            }
          },
          "metadata": {}
        },
        {
          "output_type": "execute_result",
          "data": {
            "text/plain": [
              "True"
            ]
          },
          "metadata": {},
          "execution_count": 25
        }
      ]
    },
    {
      "cell_type": "markdown",
      "source": [
        "Функция преобразования текста в эмбеддинг"
      ],
      "metadata": {
        "id": "uMz4w2zgLAn9"
      }
    },
    {
      "cell_type": "code",
      "source": [
        "def embed_txt(txt, idfs, midf):\n",
        "    n_ft = 0\n",
        "    vector_ft = np.zeros(100)\n",
        "    txt = preprocess_text(txt)\n",
        "    for word in txt:\n",
        "        if word in modelFT:\n",
        "            vector_ft += modelFT[word] * idfs.get(word, midf)\n",
        "            n_ft += idfs.get(word, midf)\n",
        "    return vector_ft / n_ft"
      ],
      "metadata": {
        "id": "ix3xhyAkO383"
      },
      "execution_count": 26,
      "outputs": []
    },
    {
      "cell_type": "code",
      "source": [
        "# kalingrad_df.query('name.str.contains(\"кафе\")', engine='python')"
      ],
      "metadata": {
        "id": "TnY69q-YXvKR"
      },
      "execution_count": 27,
      "outputs": []
    },
    {
      "cell_type": "code",
      "execution_count": 28,
      "metadata": {
        "id": "rEy1f0dFy61C"
      },
      "outputs": [],
      "source": [
        "# model = SentenceTransformer('xlm-roberta-base')\n",
        "\n",
        "# embeddings = model.encode(kalingrad_df['text'].apply(lambda row: ' '.join(row)), show_progress_bar=True)\n",
        "# kalingrad_df['Emb']=\"\"\n",
        "# kalingrad_df['Emb'] = kalingrad_df['Emb'].astype(object)\n",
        "# for i, emb in enumerate(embeddings):\n",
        "#   kalingrad_df.at[i, 'Emb'] = emb\n",
        "\n",
        "# sent = \"свободы\"\n",
        "# sent_tens = model.encode(sent, convert_to_tensor='pt').to(device)\n",
        "# results = kalingrad_df['Emb'].apply(lambda emb: torch.cosine_similarity(sent_tens, torch.FloatTensor(emb).to(device), 0).item())"
      ]
    },
    {
      "cell_type": "markdown",
      "source": [
        "##Инициализация модели болталки"
      ],
      "metadata": {
        "id": "UGHD4OpjETh4"
      }
    },
    {
      "cell_type": "code",
      "execution_count": 43,
      "metadata": {
        "id": "P5J1DQDac0e7",
        "colab": {
          "base_uri": "https://localhost:8080/"
        },
        "outputId": "712d00b5-ea82-41aa-f424-8a0f210636a3"
      },
      "outputs": [
        {
          "output_type": "stream",
          "name": "stderr",
          "text": [
            "Special tokens have been added in the vocabulary, make sure the associated word embeddings are fine-tuned or trained.\n"
          ]
        }
      ],
      "source": [
        "# model for chat\n",
        "model_name_chat = 'sberbank-ai/rugpt3medium_based_on_gpt2' #rugpt3small_based_on_gpt2\n",
        "tokenizer_chat = AutoTokenizer.from_pretrained(model_name_chat)\n",
        "model_chat = AutoModelForCausalLM.from_pretrained(model_name_chat).to(device)"
      ]
    },
    {
      "cell_type": "markdown",
      "source": [
        "История всего чата хранится в переменной dialog_text"
      ],
      "metadata": {
        "id": "qg4LpbX_Em6A"
      }
    },
    {
      "cell_type": "code",
      "execution_count": 45,
      "metadata": {
        "id": "KEFJkStgaaHt"
      },
      "outputs": [],
      "source": [
        "user_label, bot_label = '\\n@user:', '\\n@bot:'\n",
        "dialog_text = '' # chat history\n",
        "\n",
        "def chatterbox(look_behind_depth=20):\n",
        "  \"\"\"returns response for text from dialog_text variable\n",
        "     and writes the generated text back in dialog_text \n",
        "     look_behind_depth - how many phrases to take for generation\"\"\"\n",
        "\n",
        "  global dialog_text, user_label, bot_label\n",
        "  # перед новым сообщением бота добавляется метка бота\n",
        "  dialog_text += bot_label\n",
        "  \n",
        "  # находим позицию последнего n-го сообщения (параметр look_behind_depth)\n",
        "  result = [_.start() for _ in re.finditer(user_label, dialog_text)] \n",
        "  start = result[0 if len(result)<look_behind_depth else (look_behind_depth-1)]\n",
        "\n",
        "  # длина обрабатываемого диалога, понадобится для отсечения сгенерированного текста в дальнейшем\n",
        "  len_without_answer = len(dialog_text[start:])\n",
        "\n",
        "  # токенизация последних n сообщений\n",
        "  input_tokens = tokenizer_chat(dialog_text[start:], return_tensors='pt')\n",
        "  input_tokens = {k: v.to(model_chat.device) for k,v in input_tokens.items()}\n",
        "  end_token_id = tokenizer_chat.encode('\\n')[0]\n",
        "\n",
        "  # генерация следующей фразы\n",
        "  size = input_tokens['input_ids'].shape[1]\n",
        "  output = model_chat.generate(\n",
        "      **input_tokens,\n",
        "      eos_token_id=end_token_id,\n",
        "      do_sample=True,\n",
        "      max_length=size+128,\n",
        "      repetition_penalty=3.2,\n",
        "      temperature=1,\n",
        "      num_beams=3,\n",
        "      length_penalty=0.01,\n",
        "      pad_token_id=tokenizer_chat.eos_token_id     \n",
        "  )\n",
        "  # из эмбединга - в текст\n",
        "  output = tokenizer_chat.decode(output[0])\n",
        "  \n",
        "  # удаление лишнего текста, остаётся только сгенерированная фраза\n",
        "  response = output[len_without_answer:].strip()\n",
        "\n",
        "  # add next phrase to general dialog text\n",
        "  dialog_text += response\n",
        "\n",
        "  return response\n"
      ]
    },
    {
      "cell_type": "code",
      "execution_count": 31,
      "metadata": {
        "id": "wjy9xzgSh1bk"
      },
      "outputs": [],
      "source": [
        "# dialog_text = user_label + input('Начните диалог:\\n') # получаем первую фразу от пользователя\n",
        "# while True:\n",
        "#   response = chatterbox()   # получаем ответ от модели на основании последних 10-ти фраз\n",
        "#   next_sentence = input(response + '\\n') # выводим ответ и получаем следующую фразу от пользователя\n",
        "#   if next_sentence.lower()=='пока': break # если пользователь прощается - выходим\n",
        "#   dialog_text += user_label + next_sentence  # запись новых фраз в историю диалога"
      ]
    },
    {
      "cell_type": "markdown",
      "source": [
        "##Инициализация модели для мультиязычного перевода"
      ],
      "metadata": {
        "id": "71WzdaLiE1YI"
      }
    },
    {
      "cell_type": "code",
      "execution_count": 44,
      "metadata": {
        "id": "aprti0hAq4ko",
        "colab": {
          "base_uri": "https://localhost:8080/"
        },
        "outputId": "259a4615-aa1b-4c09-d406-d3053aacf8a7"
      },
      "outputs": [
        {
          "output_type": "stream",
          "name": "stderr",
          "text": [
            "The tokenizer class you load from this checkpoint is not the same type as the class this function is called from. It may result in unexpected tokenization. \n",
            "The tokenizer class you load from this checkpoint is 'M2M100Tokenizer'. \n",
            "The class this function is called from is 'SMALL100Tokenizer'.\n"
          ]
        }
      ],
      "source": [
        "# model for translation\n",
        "model_tr = M2M100ForConditionalGeneration.from_pretrained(\"alirezamsh/small100\")\n",
        "tokenizer_tr = SMALL100Tokenizer.from_pretrained(\"alirezamsh/small100\")"
      ]
    },
    {
      "cell_type": "code",
      "execution_count": 33,
      "metadata": {
        "id": "xNZQcrubj7EK"
      },
      "outputs": [],
      "source": [
        "# from transformers import pipeline\n",
        "# translator = pipeline(\"translation_en_to_de\")\n",
        "# print(translator(\"Hugging Face is a technology company based in New York and Paris\", max_length=40))"
      ]
    },
    {
      "cell_type": "markdown",
      "source": [
        "##Бот\n",
        "\n",
        "<font color='red' > <b>\n",
        "Сообщения пользователя делятся на 3 типа: <br>\n",
        "- сообщения с запросом на перевод текста - заканчиваются двумя символами, определяющими язык перевода (напр.: как пройти на красную площадь? es)   <br>\n",
        "- сообщения с запросом поиска туристических объектов - начинаются со слова \"где\" (напр.: где кинотеатр?)  <br>\n",
        "- простые сообщения в чат в целях общения с ботом - все остальные\n",
        "</b></font>\n",
        "\n",
        "Классификации сообщений пользователя моделью, как на лекции, нет, т.к. не использовались датасеты с вопросами"
      ],
      "metadata": {
        "id": "fOehsun0FCwt"
      }
    },
    {
      "cell_type": "code",
      "execution_count": 35,
      "metadata": {
        "id": "gWhn-hm8qEzX",
        "colab": {
          "base_uri": "https://localhost:8080/"
        },
        "outputId": "07ad53bd-669f-4e50-873a-f7d8f2ec0d47"
      },
      "outputs": [
        {
          "output_type": "stream",
          "name": "stdout",
          "text": [
            "[DOWNLOADED] telegram_token\n"
          ]
        }
      ],
      "source": [
        "# загрузка токена для telegram бота\n",
        "telegram_token_file = Path('telegram_token')\n",
        "download_dropbox_file(telegram_token_file, '/travelot_bot')\n",
        "telegram_token = telegram_token_file.read_text()"
      ]
    },
    {
      "cell_type": "code",
      "execution_count": 51,
      "metadata": {
        "id": "o4nZ1MJwmRb8"
      },
      "outputs": [],
      "source": [
        "# список языков для перевода (модель поддерживает больше, для примера взяты несколько наугад)\n",
        "languages = ['en', 'es', 'de', 'ru', 'gb']\n",
        "flags = {'en':'gb'} # словарь для отображения флажка языка для наглядности\n",
        "questions = ['где'] # вопросы для передачи управления функции поиска геообъектов \n",
        "\n",
        "# на старте только приветствие\n",
        "def start(update: Update, context: CallbackContext):\n",
        "  update.message.reply_text('Привет!')\n",
        "# команда /stop останавливает выполнение Updater'а\n",
        "def stop(update: Update, context: CallbackContext):\n",
        "   threading.Thread(target=shutdown).start()\n",
        "\n",
        "# ответ пользователю в зависимости от запроса\n",
        "def echo(update: Update, context: CallbackContext):\n",
        "  global dialog_text\n",
        "  \n",
        "  txt = update.message.text\n",
        "  # перевод если последние 2 символа есть в списке [languages]\n",
        "  if (to_language:=txt.rstrip().split()[-1]) in languages:\n",
        "    # рисунок флага для наглядности\n",
        "    flag_icon = flag.flag(to_language if to_language not in flags.keys() else flags.get(to_language))\n",
        "    #ответ\n",
        "    update.message.reply_text(flag_icon + ' \\n' + \\\n",
        "      translate(update.message.text[:-2], to_language)[0])\n",
        "  # вывод координат искомого объекта, если вопрос начинается с \"где\" \n",
        "  # выводится один объект без привязки к нахождению пользователя, т.е. информация на текущий момент малополезная \n",
        "  elif (question:=txt.split()[0]) in questions:\n",
        "    vect_ft = embed_txt(update.message.text[len(question):], idfs, midf)\n",
        "    ft_index_val = ft_index.get_nns_by_vector(vect_ft, 5)\n",
        "    results = []\n",
        "    for item in ft_index_val:\n",
        "      results.append(index_map[item])\n",
        "    # выводится только первый найденный объект\n",
        "    context.bot.send_location(chat_id=update.message.chat_id, latitude=results[0][1], longitude=results[0][2])\n",
        "    update.message.reply_text(f'{results[0][0]}\\nКоординаты: {results[0][1]} {results[0][2]}\\n{results[0][3]}')\n",
        "  # иначе отвечает болталка\n",
        "  else:\n",
        "    dialog_text += user_label + update.message.text\n",
        "    response = chatterbox()\n",
        "    update.message.reply_text(response)\n",
        "\n",
        "def shutdown():\n",
        "    updater.stop()\n",
        "    updater.is_idle = False\n",
        "\n",
        "def translate(text, to_language):\n",
        "  tokenizer_tr.tgt_lang = to_language\n",
        "  encoded_hi = tokenizer_tr(text, return_tensors=\"pt\")\n",
        "  generated_tokens = model_tr.generate(**encoded_hi)\n",
        "  translated_text = tokenizer_tr.batch_decode(generated_tokens, skip_special_tokens=True)\n",
        "  return translated_text"
      ]
    },
    {
      "cell_type": "code",
      "execution_count": 52,
      "metadata": {
        "id": "34I1M7tCoDcy"
      },
      "outputs": [],
      "source": [
        "updater = Updater(telegram_token, use_context=True)\n",
        "dispatcher = updater.dispatcher\n",
        "\n",
        "dispatcher.add_handler(CommandHandler('start', start))\n",
        "dispatcher.add_handler(MessageHandler(Filters.text & ~Filters.command, echo))\n",
        "dispatcher.add_handler(CommandHandler('stop', stop))\n",
        "\n",
        "updater.start_polling()\n",
        "updater.idle()"
      ]
    },
    {
      "cell_type": "code",
      "source": [],
      "metadata": {
        "id": "e40smWtlSnMO"
      },
      "execution_count": null,
      "outputs": []
    }
  ],
  "metadata": {
    "accelerator": "GPU",
    "colab": {
      "provenance": [],
      "authorship_tag": "ABX9TyPXo6x1pyc/b8qqXcxDWrl3",
      "include_colab_link": true
    },
    "gpuClass": "standard",
    "kernelspec": {
      "display_name": "Python 3",
      "name": "python3"
    },
    "language_info": {
      "name": "python"
    },
    "widgets": {
      "application/vnd.jupyter.widget-state+json": {
        "64cc63a3746443c78ec25b6bbe4c20e9": {
          "model_module": "@jupyter-widgets/controls",
          "model_name": "HBoxModel",
          "model_module_version": "1.5.0",
          "state": {
            "_dom_classes": [],
            "_model_module": "@jupyter-widgets/controls",
            "_model_module_version": "1.5.0",
            "_model_name": "HBoxModel",
            "_view_count": null,
            "_view_module": "@jupyter-widgets/controls",
            "_view_module_version": "1.5.0",
            "_view_name": "HBoxView",
            "box_style": "",
            "children": [
              "IPY_MODEL_8e555f01f975492fbdc755ef879edf08",
              "IPY_MODEL_d766a1fe16204122acb1f81e35328f66",
              "IPY_MODEL_9787a0d8c6d54cec952d3b5e8e19fb9d"
            ],
            "layout": "IPY_MODEL_24af5db295424c32ad6a6463b8f1a202"
          }
        },
        "8e555f01f975492fbdc755ef879edf08": {
          "model_module": "@jupyter-widgets/controls",
          "model_name": "HTMLModel",
          "model_module_version": "1.5.0",
          "state": {
            "_dom_classes": [],
            "_model_module": "@jupyter-widgets/controls",
            "_model_module_version": "1.5.0",
            "_model_name": "HTMLModel",
            "_view_count": null,
            "_view_module": "@jupyter-widgets/controls",
            "_view_module_version": "1.5.0",
            "_view_name": "HTMLView",
            "description": "",
            "description_tooltip": null,
            "layout": "IPY_MODEL_4ade4e4c91e44f4aa452ee398b98e18f",
            "placeholder": "​",
            "style": "IPY_MODEL_ce2881930ecb4b8e86bc7dafdd1c6aad",
            "value": "100%"
          }
        },
        "d766a1fe16204122acb1f81e35328f66": {
          "model_module": "@jupyter-widgets/controls",
          "model_name": "FloatProgressModel",
          "model_module_version": "1.5.0",
          "state": {
            "_dom_classes": [],
            "_model_module": "@jupyter-widgets/controls",
            "_model_module_version": "1.5.0",
            "_model_name": "FloatProgressModel",
            "_view_count": null,
            "_view_module": "@jupyter-widgets/controls",
            "_view_module_version": "1.5.0",
            "_view_name": "ProgressView",
            "bar_style": "success",
            "description": "",
            "description_tooltip": null,
            "layout": "IPY_MODEL_27eac8342b074523a2daffd80591ae54",
            "max": 10317,
            "min": 0,
            "orientation": "horizontal",
            "style": "IPY_MODEL_f806ba5a4be54edf9db8c06665d1e31c",
            "value": 10317
          }
        },
        "9787a0d8c6d54cec952d3b5e8e19fb9d": {
          "model_module": "@jupyter-widgets/controls",
          "model_name": "HTMLModel",
          "model_module_version": "1.5.0",
          "state": {
            "_dom_classes": [],
            "_model_module": "@jupyter-widgets/controls",
            "_model_module_version": "1.5.0",
            "_model_name": "HTMLModel",
            "_view_count": null,
            "_view_module": "@jupyter-widgets/controls",
            "_view_module_version": "1.5.0",
            "_view_name": "HTMLView",
            "description": "",
            "description_tooltip": null,
            "layout": "IPY_MODEL_dfb54ba76b6f4c36a4a71f379fc07379",
            "placeholder": "​",
            "style": "IPY_MODEL_d0da5600f40a49658cd925267d9c0d60",
            "value": " 10317/10317 [00:01&lt;00:00, 7924.13it/s]"
          }
        },
        "24af5db295424c32ad6a6463b8f1a202": {
          "model_module": "@jupyter-widgets/base",
          "model_name": "LayoutModel",
          "model_module_version": "1.2.0",
          "state": {
            "_model_module": "@jupyter-widgets/base",
            "_model_module_version": "1.2.0",
            "_model_name": "LayoutModel",
            "_view_count": null,
            "_view_module": "@jupyter-widgets/base",
            "_view_module_version": "1.2.0",
            "_view_name": "LayoutView",
            "align_content": null,
            "align_items": null,
            "align_self": null,
            "border": null,
            "bottom": null,
            "display": null,
            "flex": null,
            "flex_flow": null,
            "grid_area": null,
            "grid_auto_columns": null,
            "grid_auto_flow": null,
            "grid_auto_rows": null,
            "grid_column": null,
            "grid_gap": null,
            "grid_row": null,
            "grid_template_areas": null,
            "grid_template_columns": null,
            "grid_template_rows": null,
            "height": null,
            "justify_content": null,
            "justify_items": null,
            "left": null,
            "margin": null,
            "max_height": null,
            "max_width": null,
            "min_height": null,
            "min_width": null,
            "object_fit": null,
            "object_position": null,
            "order": null,
            "overflow": null,
            "overflow_x": null,
            "overflow_y": null,
            "padding": null,
            "right": null,
            "top": null,
            "visibility": null,
            "width": null
          }
        },
        "4ade4e4c91e44f4aa452ee398b98e18f": {
          "model_module": "@jupyter-widgets/base",
          "model_name": "LayoutModel",
          "model_module_version": "1.2.0",
          "state": {
            "_model_module": "@jupyter-widgets/base",
            "_model_module_version": "1.2.0",
            "_model_name": "LayoutModel",
            "_view_count": null,
            "_view_module": "@jupyter-widgets/base",
            "_view_module_version": "1.2.0",
            "_view_name": "LayoutView",
            "align_content": null,
            "align_items": null,
            "align_self": null,
            "border": null,
            "bottom": null,
            "display": null,
            "flex": null,
            "flex_flow": null,
            "grid_area": null,
            "grid_auto_columns": null,
            "grid_auto_flow": null,
            "grid_auto_rows": null,
            "grid_column": null,
            "grid_gap": null,
            "grid_row": null,
            "grid_template_areas": null,
            "grid_template_columns": null,
            "grid_template_rows": null,
            "height": null,
            "justify_content": null,
            "justify_items": null,
            "left": null,
            "margin": null,
            "max_height": null,
            "max_width": null,
            "min_height": null,
            "min_width": null,
            "object_fit": null,
            "object_position": null,
            "order": null,
            "overflow": null,
            "overflow_x": null,
            "overflow_y": null,
            "padding": null,
            "right": null,
            "top": null,
            "visibility": null,
            "width": null
          }
        },
        "ce2881930ecb4b8e86bc7dafdd1c6aad": {
          "model_module": "@jupyter-widgets/controls",
          "model_name": "DescriptionStyleModel",
          "model_module_version": "1.5.0",
          "state": {
            "_model_module": "@jupyter-widgets/controls",
            "_model_module_version": "1.5.0",
            "_model_name": "DescriptionStyleModel",
            "_view_count": null,
            "_view_module": "@jupyter-widgets/base",
            "_view_module_version": "1.2.0",
            "_view_name": "StyleView",
            "description_width": ""
          }
        },
        "27eac8342b074523a2daffd80591ae54": {
          "model_module": "@jupyter-widgets/base",
          "model_name": "LayoutModel",
          "model_module_version": "1.2.0",
          "state": {
            "_model_module": "@jupyter-widgets/base",
            "_model_module_version": "1.2.0",
            "_model_name": "LayoutModel",
            "_view_count": null,
            "_view_module": "@jupyter-widgets/base",
            "_view_module_version": "1.2.0",
            "_view_name": "LayoutView",
            "align_content": null,
            "align_items": null,
            "align_self": null,
            "border": null,
            "bottom": null,
            "display": null,
            "flex": null,
            "flex_flow": null,
            "grid_area": null,
            "grid_auto_columns": null,
            "grid_auto_flow": null,
            "grid_auto_rows": null,
            "grid_column": null,
            "grid_gap": null,
            "grid_row": null,
            "grid_template_areas": null,
            "grid_template_columns": null,
            "grid_template_rows": null,
            "height": null,
            "justify_content": null,
            "justify_items": null,
            "left": null,
            "margin": null,
            "max_height": null,
            "max_width": null,
            "min_height": null,
            "min_width": null,
            "object_fit": null,
            "object_position": null,
            "order": null,
            "overflow": null,
            "overflow_x": null,
            "overflow_y": null,
            "padding": null,
            "right": null,
            "top": null,
            "visibility": null,
            "width": null
          }
        },
        "f806ba5a4be54edf9db8c06665d1e31c": {
          "model_module": "@jupyter-widgets/controls",
          "model_name": "ProgressStyleModel",
          "model_module_version": "1.5.0",
          "state": {
            "_model_module": "@jupyter-widgets/controls",
            "_model_module_version": "1.5.0",
            "_model_name": "ProgressStyleModel",
            "_view_count": null,
            "_view_module": "@jupyter-widgets/base",
            "_view_module_version": "1.2.0",
            "_view_name": "StyleView",
            "bar_color": null,
            "description_width": ""
          }
        },
        "dfb54ba76b6f4c36a4a71f379fc07379": {
          "model_module": "@jupyter-widgets/base",
          "model_name": "LayoutModel",
          "model_module_version": "1.2.0",
          "state": {
            "_model_module": "@jupyter-widgets/base",
            "_model_module_version": "1.2.0",
            "_model_name": "LayoutModel",
            "_view_count": null,
            "_view_module": "@jupyter-widgets/base",
            "_view_module_version": "1.2.0",
            "_view_name": "LayoutView",
            "align_content": null,
            "align_items": null,
            "align_self": null,
            "border": null,
            "bottom": null,
            "display": null,
            "flex": null,
            "flex_flow": null,
            "grid_area": null,
            "grid_auto_columns": null,
            "grid_auto_flow": null,
            "grid_auto_rows": null,
            "grid_column": null,
            "grid_gap": null,
            "grid_row": null,
            "grid_template_areas": null,
            "grid_template_columns": null,
            "grid_template_rows": null,
            "height": null,
            "justify_content": null,
            "justify_items": null,
            "left": null,
            "margin": null,
            "max_height": null,
            "max_width": null,
            "min_height": null,
            "min_width": null,
            "object_fit": null,
            "object_position": null,
            "order": null,
            "overflow": null,
            "overflow_x": null,
            "overflow_y": null,
            "padding": null,
            "right": null,
            "top": null,
            "visibility": null,
            "width": null
          }
        },
        "d0da5600f40a49658cd925267d9c0d60": {
          "model_module": "@jupyter-widgets/controls",
          "model_name": "DescriptionStyleModel",
          "model_module_version": "1.5.0",
          "state": {
            "_model_module": "@jupyter-widgets/controls",
            "_model_module_version": "1.5.0",
            "_model_name": "DescriptionStyleModel",
            "_view_count": null,
            "_view_module": "@jupyter-widgets/base",
            "_view_module_version": "1.2.0",
            "_view_name": "StyleView",
            "description_width": ""
          }
        }
      }
    }
  },
  "nbformat": 4,
  "nbformat_minor": 0
}