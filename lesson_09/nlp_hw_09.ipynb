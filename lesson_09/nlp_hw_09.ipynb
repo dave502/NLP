{
  "nbformat": 4,
  "nbformat_minor": 0,
  "metadata": {
    "colab": {
      "provenance": [],
      "authorship_tag": "ABX9TyPQGNVp5dc3WL1j7bJ6ly8O",
      "include_colab_link": true
    },
    "kernelspec": {
      "name": "python3",
      "display_name": "Python 3"
    },
    "language_info": {
      "name": "python"
    },
    "gpuClass": "standard",
    "accelerator": "GPU"
  },
  "cells": [
    {
      "cell_type": "markdown",
      "metadata": {
        "id": "view-in-github",
        "colab_type": "text"
      },
      "source": [
        "<a href=\"https://colab.research.google.com/github/dave502/NLP/blob/main/lesson_09/nlp_hw_09.ipynb\" target=\"_parent\"><img src=\"https://colab.research.google.com/assets/colab-badge.svg\" alt=\"Open In Colab\"/></a>"
      ]
    },
    {
      "cell_type": "code",
      "execution_count": 1,
      "metadata": {
        "id": "mIHSIX48sC1O"
      },
      "outputs": [],
      "source": [
        "import tensorflow as tf\n",
        "import numpy as np\n",
        "from pathlib import Path\n",
        "from keras.callbacks import EarlyStopping"
      ]
    },
    {
      "cell_type": "markdown",
      "source": [
        "Загрузка данных"
      ],
      "metadata": {
        "id": "cJ0nMO5ikl_M"
      }
    },
    {
      "cell_type": "code",
      "source": [
        "%%capture\n",
        "!wget https://www.dropbox.com/s/wfrfgaizixxwz3w/evgenyi_onegin.txt"
      ],
      "metadata": {
        "id": "Kmf87_ztwLh0"
      },
      "execution_count": 2,
      "outputs": []
    },
    {
      "cell_type": "code",
      "source": [
        "!ls"
      ],
      "metadata": {
        "colab": {
          "base_uri": "https://localhost:8080/"
        },
        "id": "m9Ibq6AjwiDX",
        "outputId": "6e4ce80e-c223-463b-fdf4-07572512bf3a"
      },
      "execution_count": 3,
      "outputs": [
        {
          "output_type": "stream",
          "name": "stdout",
          "text": [
            "evgenyi_onegin.txt  sample_data\n"
          ]
        }
      ]
    },
    {
      "cell_type": "code",
      "source": [
        "data_path = Path('evgenyi_onegin.txt')\n",
        "text = data_path.read_text()\n",
        "print(f'text lenght is {len(text)} chars')\n",
        "print(f'text sample:\\n {text[:500]}')"
      ],
      "metadata": {
        "colab": {
          "base_uri": "https://localhost:8080/"
        },
        "id": "SjDaEbkuwokz",
        "outputId": "6354adf5-0420-4e52-965c-756a5451f28b"
      },
      "execution_count": 4,
      "outputs": [
        {
          "output_type": "stream",
          "name": "stdout",
          "text": [
            "text lenght is 286984 chars\n",
            "text sample:\n",
            " Александр Сергеевич Пушкин\n",
            "\n",
            "                                Евгений Онегин\n",
            "                                Роман в стихах\n",
            "\n",
            "                        Не мысля гордый свет забавить,\n",
            "                        Вниманье дружбы возлюбя,\n",
            "                        Хотел бы я тебе представить\n",
            "                        Залог достойнее тебя,\n",
            "                        Достойнее души прекрасной,\n",
            "                        Святой исполненной мечты,\n",
            "                        Поэзии живой и ясной,\n",
            "                        Высо\n"
          ]
        }
      ]
    },
    {
      "cell_type": "markdown",
      "source": [
        "Удвоение объёмаданных для лучшего обучения"
      ],
      "metadata": {
        "id": "zn7bZdCLkrzB"
      }
    },
    {
      "cell_type": "code",
      "source": [
        "text = text + text"
      ],
      "metadata": {
        "id": "NObMHpa9sviR"
      },
      "execution_count": 5,
      "outputs": []
    },
    {
      "cell_type": "markdown",
      "source": [
        "Словарь всех символов текста"
      ],
      "metadata": {
        "id": "t-kFNnFGkzU7"
      }
    },
    {
      "cell_type": "code",
      "source": [
        "# The unique characters in the file\n",
        "vocab = sorted(set(text))\n",
        "print(f'{len(vocab)} unique characters: \\n{np.array(vocab+[\"\"]).reshape(4, -1)}')"
      ],
      "metadata": {
        "colab": {
          "base_uri": "https://localhost:8080/"
        },
        "id": "bsDwrBxIyXEV",
        "outputId": "20732fe8-54c6-48fb-8d4f-cbfd03899a80"
      },
      "execution_count": 6,
      "outputs": [
        {
          "output_type": "stream",
          "name": "stdout",
          "text": [
            "131 unique characters: \n",
            "[['\\n' ' ' '!' '\"' \"'\" '(' ')' ',' '-' '.' '0' '1' '2' '3' '4' '5' '6'\n",
            "  '7' '8' '9' ':' ';' '?' 'A' 'B' 'C' 'D' 'E' 'F' 'G' 'H' 'I' 'L']\n",
            " ['M' 'N' 'O' 'P' 'Q' 'R' 'S' 'T' 'V' 'W' 'X' 'Y' 'a' 'b' 'c' 'd' 'e' 'f'\n",
            "  'g' 'h' 'i' 'k' 'l' 'm' 'n' 'o' 'p' 'q' 'r' 's' 't' 'u' 'v']\n",
            " ['w' 'y' 'z' '{' '}' 'А' 'Б' 'В' 'Г' 'Д' 'Е' 'Ж' 'З' 'И' 'К' 'Л' 'М' 'Н'\n",
            "  'О' 'П' 'Р' 'С' 'Т' 'У' 'Ф' 'Х' 'Ц' 'Ч' 'Ш' 'Ь' 'Э' 'Ю' 'Я']\n",
            " ['а' 'б' 'в' 'г' 'д' 'е' 'ж' 'з' 'и' 'й' 'к' 'л' 'м' 'н' 'о' 'п' 'р' 'с'\n",
            "  'т' 'у' 'ф' 'х' 'ц' 'ч' 'ш' 'щ' 'ъ' 'ы' 'ь' 'э' 'ю' 'я' '']]\n"
          ]
        }
      ]
    },
    {
      "cell_type": "markdown",
      "source": [
        "Меппиниги для преобразования токенов в индексы и обратно"
      ],
      "metadata": {
        "id": "Gb0Xmbupk4Ia"
      }
    },
    {
      "cell_type": "code",
      "source": [
        "# мэппинги 'символ <-> индекс'\n",
        "char2idx = {u:i for i, u in enumerate(vocab)}\n",
        "idx2char = np.array(vocab)"
      ],
      "metadata": {
        "id": "f-VpU_Ny2BXB"
      },
      "execution_count": 7,
      "outputs": []
    },
    {
      "cell_type": "markdown",
      "source": [
        "Преобразование текста в индексы"
      ],
      "metadata": {
        "id": "lNpo9z56lGS0"
      }
    },
    {
      "cell_type": "code",
      "source": [
        "text_as_int = np.array([char2idx[c] for c in text])\n",
        "list(zip(text_as_int, text))[:20]"
      ],
      "metadata": {
        "colab": {
          "base_uri": "https://localhost:8080/"
        },
        "id": "26e4dvS82vl6",
        "outputId": "1a0cf25d-d84e-4b1f-f9a7-47e542d0e38a"
      },
      "execution_count": 8,
      "outputs": [
        {
          "output_type": "execute_result",
          "data": {
            "text/plain": [
              "[(71, 'А'),\n",
              " (110, 'л'),\n",
              " (104, 'е'),\n",
              " (109, 'к'),\n",
              " (116, 'с'),\n",
              " (99, 'а'),\n",
              " (112, 'н'),\n",
              " (103, 'д'),\n",
              " (115, 'р'),\n",
              " (1, ' '),\n",
              " (87, 'С'),\n",
              " (104, 'е'),\n",
              " (115, 'р'),\n",
              " (102, 'г'),\n",
              " (104, 'е'),\n",
              " (104, 'е'),\n",
              " (101, 'в'),\n",
              " (107, 'и'),\n",
              " (122, 'ч'),\n",
              " (1, ' ')]"
            ]
          },
          "metadata": {},
          "execution_count": 8
        }
      ]
    },
    {
      "cell_type": "markdown",
      "source": [
        "Преобразование индексированного текста в тензор"
      ],
      "metadata": {
        "id": "4rf9XccLlYSa"
      }
    },
    {
      "cell_type": "code",
      "source": [
        "# Create training examples / targets\n",
        "char_dataset = tf.data.Dataset.from_tensor_slices(text_as_int)\n",
        "# проверка обратного преобразования тензора\n",
        "[idx2char[i.numpy()] for i in char_dataset.take(10)]"
      ],
      "metadata": {
        "colab": {
          "base_uri": "https://localhost:8080/"
        },
        "id": "PWwLnCkE39v5",
        "outputId": "37073eea-f90e-4e2d-effc-f0cb870d31fe"
      },
      "execution_count": 11,
      "outputs": [
        {
          "output_type": "execute_result",
          "data": {
            "text/plain": [
              "['А', 'л', 'е', 'к', 'с', 'а', 'н', 'д', 'р', ' ']"
            ]
          },
          "metadata": {},
          "execution_count": 11
        }
      ]
    },
    {
      "cell_type": "markdown",
      "source": [
        "Разбиение тензора на последовательности по 100 символов"
      ],
      "metadata": {
        "id": "7DfhotK_l3pe"
      }
    },
    {
      "cell_type": "code",
      "source": [
        "# The maximum length sentence for a single input in characters\n",
        "seq_length = 100\n",
        "\n",
        "sequences = char_dataset.batch(seq_length+1, drop_remainder=True)\n",
        "[idx2char[i.numpy()] for i in sequences.take(1)]"
      ],
      "metadata": {
        "colab": {
          "base_uri": "https://localhost:8080/"
        },
        "id": "heC0_6_Q4HTm",
        "outputId": "71575f6a-aee3-4a16-ab5b-1bc3990eeae9"
      },
      "execution_count": 12,
      "outputs": [
        {
          "output_type": "execute_result",
          "data": {
            "text/plain": [
              "[array(['А', 'л', 'е', 'к', 'с', 'а', 'н', 'д', 'р', ' ', 'С', 'е', 'р',\n",
              "        'г', 'е', 'е', 'в', 'и', 'ч', ' ', 'П', 'у', 'ш', 'к', 'и', 'н',\n",
              "        '\\n', '\\n', ' ', ' ', ' ', ' ', ' ', ' ', ' ', ' ', ' ', ' ', ' ',\n",
              "        ' ', ' ', ' ', ' ', ' ', ' ', ' ', ' ', ' ', ' ', ' ', ' ', ' ',\n",
              "        ' ', ' ', ' ', ' ', ' ', ' ', ' ', ' ', 'Е', 'в', 'г', 'е', 'н',\n",
              "        'и', 'й', ' ', 'О', 'н', 'е', 'г', 'и', 'н', '\\n', ' ', ' ', ' ',\n",
              "        ' ', ' ', ' ', ' ', ' ', ' ', ' ', ' ', ' ', ' ', ' ', ' ', ' ',\n",
              "        ' ', ' ', ' ', ' ', ' ', ' ', ' ', ' ', ' ', ' '], dtype='<U1')]"
            ]
          },
          "metadata": {},
          "execution_count": 12
        }
      ]
    },
    {
      "cell_type": "markdown",
      "source": [
        "Преобразование тензора в тензорный кортеж (признак, класс)"
      ],
      "metadata": {
        "id": "vkIMMGecmP4I"
      }
    },
    {
      "cell_type": "code",
      "source": [
        "def split_input_target(chunk):\n",
        "    input_text = chunk[:-1]\n",
        "    target_text = chunk[1:]\n",
        "    return input_text, target_text\n",
        "\n",
        "dataset = sequences.map(split_input_target)"
      ],
      "metadata": {
        "id": "jcqsh27O4xEt"
      },
      "execution_count": 13,
      "outputs": []
    },
    {
      "cell_type": "code",
      "source": [
        "for input_example, target_example in  dataset.take(1):\n",
        "    print('Input data: ', repr(''.join(idx2char[input_example.numpy()])))\n",
        "    print('Target data:', repr(''.join(idx2char[target_example.numpy()])))"
      ],
      "metadata": {
        "colab": {
          "base_uri": "https://localhost:8080/"
        },
        "id": "yRQcLcya5b3s",
        "outputId": "23ba524f-aad2-493b-e453-d460812f739e"
      },
      "execution_count": 14,
      "outputs": [
        {
          "output_type": "stream",
          "name": "stdout",
          "text": [
            "Input data:  'Александр Сергеевич Пушкин\\n\\n                                Евгений Онегин\\n                         '\n",
            "Target data: 'лександр Сергеевич Пушкин\\n\\n                                Евгений Онегин\\n                          '\n"
          ]
        }
      ]
    },
    {
      "cell_type": "code",
      "source": [
        "# Batch size\n",
        "BATCH_SIZE = 64\n",
        "# Buffer size to shuffle the dataset\n",
        "# (TF data is designed to work with possibly infinite sequences,\n",
        "# so it doesn't attempt to shuffle the entire sequence in memory. Instead,\n",
        "# it maintains a buffer in which it shuffles elements).\n",
        "BUFFER_SIZE = 10000\n",
        "EPOCHS = 20"
      ],
      "metadata": {
        "id": "KfmPoNT15TAf"
      },
      "execution_count": 15,
      "outputs": []
    },
    {
      "cell_type": "markdown",
      "source": [
        "Разделение датасета на батчи"
      ],
      "metadata": {
        "id": "b1XrZUVFnEeS"
      }
    },
    {
      "cell_type": "code",
      "source": [
        "dataset = dataset.shuffle(BUFFER_SIZE).batch(BATCH_SIZE, drop_remainder=True)\n",
        "dataset"
      ],
      "metadata": {
        "colab": {
          "base_uri": "https://localhost:8080/"
        },
        "id": "PjwDBSi_5HxM",
        "outputId": "ff1e6cf2-534a-4c39-81ff-a3c699f204ef"
      },
      "execution_count": 16,
      "outputs": [
        {
          "output_type": "execute_result",
          "data": {
            "text/plain": [
              "<BatchDataset element_spec=(TensorSpec(shape=(64, 100), dtype=tf.int64, name=None), TensorSpec(shape=(64, 100), dtype=tf.int64, name=None))>"
            ]
          },
          "metadata": {},
          "execution_count": 16
        }
      ]
    },
    {
      "cell_type": "markdown",
      "source": [
        "Параметры сеток"
      ],
      "metadata": {
        "id": "r5kKpBelneXr"
      }
    },
    {
      "cell_type": "code",
      "source": [
        "# Length of the vocabulary in chars\n",
        "vocab_size = len(vocab)\n",
        "\n",
        "# The embedding dimension\n",
        "embedding_dim = 128\n",
        "\n",
        "# Number of RNN units\n",
        "rnn_units = 1024\n",
        "\n",
        "# loss function sparse_categorical_crossentropy\n",
        "def loss(labels, logits):\n",
        "    return tf.keras.losses.sparse_categorical_crossentropy(labels, logits, from_logits=True)"
      ],
      "metadata": {
        "id": "702AXASz5KcI"
      },
      "execution_count": 17,
      "outputs": []
    },
    {
      "cell_type": "markdown",
      "source": [
        "**Сетка с GRU слоями**"
      ],
      "metadata": {
        "id": "SVu-6rE4nhfr"
      }
    },
    {
      "cell_type": "code",
      "source": [
        "class GRUgenerator(tf.keras.Model):\n",
        "    def __init__(self, vocab_size, embedding_dim, batch_size):\n",
        "        super(GRUgenerator, self).__init__()\n",
        "        \n",
        "        self.emb = tf.keras.layers.Embedding(vocab_size, embedding_dim)\n",
        "                                 \n",
        "        self.gru1 = tf.keras.layers.GRU(rnn_units,\n",
        "                            return_sequences=True,\n",
        "                            recurrent_initializer='glorot_uniform')\n",
        "        self.gru2 = tf.keras.layers.GRU(rnn_units,\n",
        "                            return_sequences=True,\n",
        "                            recurrent_initializer='glorot_uniform')\n",
        "                           \n",
        "        self.fc = tf.keras.layers.Dense(vocab_size)\n",
        "\n",
        "    def call(self, x):\n",
        "        emb_x = self.emb(x)\n",
        "        x1 = self.gru1(emb_x)\n",
        "        x = x1\n",
        "        for _ in range(3):\n",
        "            x = self.gru2(x)\n",
        "\n",
        "        x = (x + x1)/2\n",
        "        return self.fc(x)\n",
        "\n",
        "model_gru = GRUgenerator(vocab_size, embedding_dim, BATCH_SIZE)\n",
        "\n",
        "model_gru.compile(optimizer='adam', loss=loss)"
      ],
      "metadata": {
        "id": "x5D5w2vfBvPn"
      },
      "execution_count": 20,
      "outputs": []
    },
    {
      "cell_type": "code",
      "source": [
        "history = model_gru.fit(dataset, epochs=EPOCHS)"
      ],
      "metadata": {
        "colab": {
          "base_uri": "https://localhost:8080/"
        },
        "id": "wKgR4ACKCTTI",
        "outputId": "5827d687-494c-43f9-8750-1271e17a551c"
      },
      "execution_count": 21,
      "outputs": [
        {
          "output_type": "stream",
          "name": "stdout",
          "text": [
            "Epoch 1/20\n",
            "88/88 [==============================] - 29s 279ms/step - loss: 2.1260\n",
            "Epoch 2/20\n",
            "88/88 [==============================] - 25s 281ms/step - loss: 1.6924\n",
            "Epoch 3/20\n",
            "88/88 [==============================] - 24s 269ms/step - loss: 1.5266\n",
            "Epoch 4/20\n",
            "88/88 [==============================] - 26s 284ms/step - loss: 1.4245\n",
            "Epoch 5/20\n",
            "88/88 [==============================] - 25s 274ms/step - loss: 1.3500\n",
            "Epoch 6/20\n",
            "88/88 [==============================] - 25s 279ms/step - loss: 1.2887\n",
            "Epoch 7/20\n",
            "88/88 [==============================] - 25s 279ms/step - loss: 1.2419\n",
            "Epoch 8/20\n",
            "88/88 [==============================] - 24s 269ms/step - loss: 1.2162\n",
            "Epoch 9/20\n",
            "88/88 [==============================] - 25s 273ms/step - loss: 1.1736\n",
            "Epoch 10/20\n",
            "88/88 [==============================] - 26s 284ms/step - loss: 1.1403\n",
            "Epoch 11/20\n",
            "88/88 [==============================] - 24s 271ms/step - loss: 1.0899\n",
            "Epoch 12/20\n",
            "88/88 [==============================] - 24s 270ms/step - loss: 1.0558\n",
            "Epoch 13/20\n",
            "88/88 [==============================] - 25s 276ms/step - loss: 1.0151\n",
            "Epoch 14/20\n",
            "88/88 [==============================] - 25s 279ms/step - loss: 0.9593\n",
            "Epoch 15/20\n",
            "88/88 [==============================] - 25s 273ms/step - loss: 0.9254\n",
            "Epoch 16/20\n",
            "88/88 [==============================] - 24s 270ms/step - loss: 0.8927\n",
            "Epoch 17/20\n",
            "88/88 [==============================] - 25s 273ms/step - loss: 0.8224\n",
            "Epoch 18/20\n",
            "88/88 [==============================] - 25s 275ms/step - loss: 0.7986\n",
            "Epoch 19/20\n",
            "88/88 [==============================] - 25s 280ms/step - loss: 0.7319\n",
            "Epoch 20/20\n",
            "88/88 [==============================] - 25s 276ms/step - loss: 0.6839\n"
          ]
        }
      ]
    },
    {
      "cell_type": "markdown",
      "source": [
        "Функция получения предикта модели и преобразования результатов в текст"
      ],
      "metadata": {
        "id": "BqIAsSCYntgz"
      }
    },
    {
      "cell_type": "code",
      "source": [
        "def generate_text(model, start_string, temperature=0.5):\n",
        "    # Low temperature results in more predictable text.\n",
        "    # Higher temperature results in more surprising text.\n",
        "    # Experiment to find the best setting.\n",
        "\n",
        "    # Evaluation step (generating text using the learned model)\n",
        "\n",
        "    # Number of characters to generate\n",
        "    num_generate = 500\n",
        "\n",
        "    # Converting our start string to numbers (vectorizing)\n",
        "    input_eval = [char2idx[s] for s in start_string]\n",
        "    input_eval = tf.expand_dims(input_eval, 0)\n",
        "\n",
        "    # Empty string to store our results\n",
        "    text_generated = []\n",
        "\n",
        "    # Here batch size == 1\n",
        "    model.reset_states()\n",
        "    for i in range(num_generate):\n",
        "        predictions = model(input_eval)\n",
        "        predictions = tf.squeeze(predictions, 0)\n",
        "        # using a categorical distribution to predict the character returned by the model\n",
        "        predictions = predictions / temperature\n",
        "        predicted_id = tf.random.categorical(predictions, num_samples=1)[-1, 0].numpy()\n",
        "\n",
        "        # Pass the predicted character as the next input to the model\n",
        "        # along with the previous hidden state\n",
        "        input_eval = tf.expand_dims([predicted_id], 0)\n",
        "\n",
        "        text_generated.append(idx2char[predicted_id])\n",
        "\n",
        "    return (start_string + ''.join(text_generated))"
      ],
      "metadata": {
        "id": "-xKyi-C9DKNV"
      },
      "execution_count": 18,
      "outputs": []
    },
    {
      "cell_type": "markdown",
      "source": [
        "Результат предикта GRU модели"
      ],
      "metadata": {
        "id": "74iAKQFnoIJb"
      }
    },
    {
      "cell_type": "code",
      "source": [
        "text_ = generate_text(model_gru, start_string=u\"И вот идет уже \",  temperature=0.7)\n",
        "print(text_)"
      ],
      "metadata": {
        "colab": {
          "base_uri": "https://localhost:8080/"
        },
        "id": "aiUW1LbLFB9P",
        "outputId": "e698c331-9e90-454d-f153-6a11b7654cd0"
      },
      "execution_count": 24,
      "outputs": [
        {
          "output_type": "stream",
          "name": "stdout",
          "text": [
            "И вот идет уже дизвый         X\n",
            "                                                 К                                                    киворадивитедогогомнедвой                                                  наде                                                                                         Поплечиреласа   селе                                           тотый.\n",
            "                          Вста                                                       Ной                                                       \n"
          ]
        }
      ]
    },
    {
      "cell_type": "markdown",
      "source": [
        "*Результат получился неудовлетворительный, изменение температуры не дало желаемого результата. При увеличении температуры сетка выводит произвольные символы, при уменьшении - увеличивается число пробелов*"
      ],
      "metadata": {
        "id": "Y9A7uhDJoMw2"
      }
    },
    {
      "cell_type": "markdown",
      "source": [
        "**Сетка с LSTM слоями**"
      ],
      "metadata": {
        "id": "hclC1MP9o0LF"
      }
    },
    {
      "cell_type": "code",
      "source": [
        "def build_lstm_model(vocab_size, embedding_dim, rnn_units, batch_size):\n",
        "    model = tf.keras.Sequential([\n",
        "        tf.keras.layers.Embedding(vocab_size, embedding_dim,\n",
        "                                  batch_input_shape=[batch_size, None]),\n",
        "                                 \n",
        "        tf.keras.layers.LSTM(rnn_units,\n",
        "                            return_sequences=True,\n",
        "                            stateful=True,\n",
        "                            recurrent_initializer='glorot_uniform'),\n",
        "\n",
        "        tf.keras.layers.LSTM(rnn_units,\n",
        "                            return_sequences=True,\n",
        "                            stateful=True,\n",
        "                            recurrent_initializer='glorot_uniform'),\n",
        "\n",
        "         tf.keras.layers.LSTM(rnn_units,\n",
        "                            return_sequences=True,\n",
        "                            stateful=True,\n",
        "                            recurrent_initializer='glorot_uniform'),\n",
        "        \n",
        "        tf.keras.layers.LSTM(rnn_units,\n",
        "                            return_sequences=True,\n",
        "                            stateful=True,\n",
        "                            recurrent_initializer='glorot_uniform'),\n",
        "                                   \n",
        "        tf.keras.layers.Dense(vocab_size)\n",
        "    ])\n",
        "    return model"
      ],
      "metadata": {
        "id": "Wc28rrqzFGKl"
      },
      "execution_count": 58,
      "outputs": []
    },
    {
      "cell_type": "code",
      "source": [
        "model_lstm = build_lstm_model(\n",
        "    vocab_size=len(vocab),\n",
        "    embedding_dim=embedding_dim,\n",
        "    rnn_units=rnn_units,\n",
        "    batch_size=BATCH_SIZE)"
      ],
      "metadata": {
        "id": "hTGcuBQIYBEy"
      },
      "execution_count": 94,
      "outputs": []
    },
    {
      "cell_type": "code",
      "source": [
        "model_lstm.summary()"
      ],
      "metadata": {
        "colab": {
          "base_uri": "https://localhost:8080/"
        },
        "id": "Io_FVXkNYiB1",
        "outputId": "a9220d8e-75bb-4639-9408-b806b9cc236c"
      },
      "execution_count": 81,
      "outputs": [
        {
          "output_type": "stream",
          "name": "stdout",
          "text": [
            "Model: \"sequential_7\"\n",
            "_________________________________________________________________\n",
            " Layer (type)                Output Shape              Param #   \n",
            "=================================================================\n",
            " embedding_7 (Embedding)     (64, None, 128)           16768     \n",
            "                                                                 \n",
            " lstm_28 (LSTM)              (64, None, 1024)          4722688   \n",
            "                                                                 \n",
            " lstm_29 (LSTM)              (64, None, 1024)          8392704   \n",
            "                                                                 \n",
            " lstm_30 (LSTM)              (64, None, 1024)          8392704   \n",
            "                                                                 \n",
            " lstm_31 (LSTM)              (64, None, 1024)          8392704   \n",
            "                                                                 \n",
            " dense_7 (Dense)             (64, None, 131)           134275    \n",
            "                                                                 \n",
            "=================================================================\n",
            "Total params: 30,051,843\n",
            "Trainable params: 30,051,843\n",
            "Non-trainable params: 0\n",
            "_________________________________________________________________\n"
          ]
        }
      ]
    },
    {
      "cell_type": "code",
      "source": [
        "model_lstm.compile(optimizer='adam', loss=loss)"
      ],
      "metadata": {
        "id": "qDl7b7hUY5SV"
      },
      "execution_count": 95,
      "outputs": []
    },
    {
      "cell_type": "code",
      "source": [
        "!rm -rf ./training_checkpoints"
      ],
      "metadata": {
        "id": "_tH4hMI9htzC"
      },
      "execution_count": 83,
      "outputs": []
    },
    {
      "cell_type": "code",
      "source": [
        "!ls ./training_checkpoints"
      ],
      "metadata": {
        "colab": {
          "base_uri": "https://localhost:8080/"
        },
        "id": "aBpwzPgMhv9D",
        "outputId": "49a86c81-2522-4213-99bf-ef723614ec84"
      },
      "execution_count": 84,
      "outputs": [
        {
          "output_type": "stream",
          "name": "stdout",
          "text": [
            "ls: cannot access './training_checkpoints': No such file or directory\n"
          ]
        }
      ]
    },
    {
      "cell_type": "code",
      "source": [
        "# Directory where the checkpoints will be saved\n",
        "checkpoint_dir = Path('./training_checkpoints')\n",
        "# Name of the checkpoint files\n",
        "checkpoint_prefix = checkpoint_dir / \"ckpt_{epoch}\"\n",
        "\n",
        "checkpoint_callback = tf.keras.callbacks.ModelCheckpoint(\n",
        "    filepath=checkpoint_prefix,\n",
        "    save_freq=88*3,\n",
        "    save_weights_only=True)"
      ],
      "metadata": {
        "id": "3sL22QGphyC8"
      },
      "execution_count": 96,
      "outputs": []
    },
    {
      "cell_type": "code",
      "source": [
        "for input_example_batch, target_example_batch in dataset.take(1):\n",
        "    example_batch_predictions = model_lstm(input_example_batch)\n",
        "    print(example_batch_predictions.shape, \"# (batch_size, sequence_length, vocab_size)\")"
      ],
      "metadata": {
        "id": "VGGZqqoPWS4q",
        "colab": {
          "base_uri": "https://localhost:8080/"
        },
        "outputId": "b83b0e0a-6fac-4934-cd01-f12432978b7d"
      },
      "execution_count": 86,
      "outputs": [
        {
          "output_type": "stream",
          "name": "stdout",
          "text": [
            "(64, 100, 131) # (batch_size, sequence_length, vocab_size)\n"
          ]
        }
      ]
    },
    {
      "cell_type": "code",
      "source": [
        "history = model_lstm.fit(dataset, epochs=EPOCHS, callbacks=[checkpoint_callback])"
      ],
      "metadata": {
        "colab": {
          "base_uri": "https://localhost:8080/"
        },
        "id": "F1-2yHZvRKXq",
        "outputId": "46ffdfb7-01d0-4aea-a2c5-92b0ef479a78"
      },
      "execution_count": 87,
      "outputs": [
        {
          "output_type": "stream",
          "name": "stdout",
          "text": [
            "Epoch 1/20\n",
            "88/88 [==============================] - 37s 361ms/step - loss: 2.4216\n",
            "Epoch 2/20\n",
            "88/88 [==============================] - 31s 344ms/step - loss: 2.1502\n",
            "Epoch 3/20\n",
            "88/88 [==============================] - 33s 365ms/step - loss: 1.7189\n",
            "Epoch 4/20\n",
            "88/88 [==============================] - 32s 351ms/step - loss: 1.5331\n",
            "Epoch 5/20\n",
            "88/88 [==============================] - 32s 351ms/step - loss: 1.4367\n",
            "Epoch 6/20\n",
            "88/88 [==============================] - 32s 362ms/step - loss: 1.3847\n",
            "Epoch 7/20\n",
            "88/88 [==============================] - 32s 352ms/step - loss: 1.3371\n",
            "Epoch 8/20\n",
            "88/88 [==============================] - 32s 353ms/step - loss: 1.3111\n",
            "Epoch 9/20\n",
            "88/88 [==============================] - 33s 363ms/step - loss: 1.2915\n",
            "Epoch 10/20\n",
            "88/88 [==============================] - 32s 351ms/step - loss: 1.2858\n",
            "Epoch 11/20\n",
            "88/88 [==============================] - 32s 351ms/step - loss: 1.2469\n",
            "Epoch 12/20\n",
            "88/88 [==============================] - 33s 366ms/step - loss: 1.2258\n",
            "Epoch 13/20\n",
            "88/88 [==============================] - 32s 352ms/step - loss: 1.2028\n",
            "Epoch 14/20\n",
            "88/88 [==============================] - 32s 351ms/step - loss: 1.1822\n",
            "Epoch 15/20\n",
            "88/88 [==============================] - 33s 365ms/step - loss: 1.1605\n",
            "Epoch 16/20\n",
            "88/88 [==============================] - 32s 351ms/step - loss: 1.1675\n",
            "Epoch 17/20\n",
            "88/88 [==============================] - 32s 355ms/step - loss: 1.1449\n",
            "Epoch 18/20\n",
            "88/88 [==============================] - 33s 367ms/step - loss: 1.1023\n",
            "Epoch 19/20\n",
            "88/88 [==============================] - 32s 354ms/step - loss: 1.0657\n",
            "Epoch 20/20\n",
            "88/88 [==============================] - 31s 351ms/step - loss: 1.0396\n"
          ]
        }
      ]
    },
    {
      "cell_type": "code",
      "source": [
        "tf.train.latest_checkpoint(checkpoint_dir)\n",
        "model_lstm = build_lstm_model(vocab_size, embedding_dim, rnn_units, batch_size=1)\n",
        "model_lstm.load_weights(tf.train.latest_checkpoint(checkpoint_dir))\n",
        "model_lstm.build(tf.TensorShape([1, None]))"
      ],
      "metadata": {
        "id": "MZtuCbLOXIVa"
      },
      "execution_count": 88,
      "outputs": []
    },
    {
      "cell_type": "code",
      "source": [
        "model_lstm.summary()"
      ],
      "metadata": {
        "colab": {
          "base_uri": "https://localhost:8080/"
        },
        "id": "93NiNdzSUXPa",
        "outputId": "0f65fe5b-633c-4060-8f24-ca399d9b03d5"
      },
      "execution_count": 89,
      "outputs": [
        {
          "output_type": "stream",
          "name": "stdout",
          "text": [
            "Model: \"sequential_8\"\n",
            "_________________________________________________________________\n",
            " Layer (type)                Output Shape              Param #   \n",
            "=================================================================\n",
            " embedding_8 (Embedding)     (1, None, 128)            16768     \n",
            "                                                                 \n",
            " lstm_32 (LSTM)              (1, None, 1024)           4722688   \n",
            "                                                                 \n",
            " lstm_33 (LSTM)              (1, None, 1024)           8392704   \n",
            "                                                                 \n",
            " lstm_34 (LSTM)              (1, None, 1024)           8392704   \n",
            "                                                                 \n",
            " lstm_35 (LSTM)              (1, None, 1024)           8392704   \n",
            "                                                                 \n",
            " dense_8 (Dense)             (1, None, 131)            134275    \n",
            "                                                                 \n",
            "=================================================================\n",
            "Total params: 30,051,843\n",
            "Trainable params: 30,051,843\n",
            "Non-trainable params: 0\n",
            "_________________________________________________________________\n"
          ]
        }
      ]
    },
    {
      "cell_type": "markdown",
      "source": [
        "Проверка результата"
      ],
      "metadata": {
        "id": "3LyHLF67pF5a"
      }
    },
    {
      "cell_type": "code",
      "source": [
        "text_ = generate_text(model_lstm, start_string=u\"И вот идет уже \",  temperature=0.7)\n",
        "print(text_)"
      ],
      "metadata": {
        "colab": {
          "base_uri": "https://localhost:8080/"
        },
        "id": "FWzbxcaFRDoU",
        "outputId": "5ef4959f-2a72-4ca6-d024-add3ad97d554"
      },
      "execution_count": 91,
      "outputs": [
        {
          "output_type": "stream",
          "name": "stdout",
          "text": [
            "И вот идет уже лизна гило:\n",
            "                        Мого поремненной избови\n",
            "                        Свиренскутельных усталась,\n",
            "                        По стам и внавдась не подоле!\n",
            "                        И зна мечтих на венский гранила,\n",
            "                        В страгой нашди невовники,\n",
            "                        Попленин                                                                                                                 XXXVI\n",
            "\n",
            "                        То он пиривно из подоне\n",
            "                        Пор\n"
          ]
        }
      ]
    },
    {
      "cell_type": "markdown",
      "source": [
        "*Результат далёк от идеального, но получше чем у сетки с GRU слоями*"
      ],
      "metadata": {
        "id": "AvCC_DYPpMx-"
      }
    }
  ]
}