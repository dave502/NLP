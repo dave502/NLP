{
  "nbformat": 4,
  "nbformat_minor": 0,
  "metadata": {
    "colab": {
      "provenance": [],
      "authorship_tag": "ABX9TyMlAiZZNGyC9lEr3KeGOJR9",
      "include_colab_link": true
    },
    "kernelspec": {
      "name": "python3",
      "display_name": "Python 3"
    },
    "language_info": {
      "name": "python"
    },
    "gpuClass": "standard",
    "widgets": {
      "application/vnd.jupyter.widget-state+json": {
        "04f9bda00b694791ae736fca3c60962f": {
          "model_module": "@jupyter-widgets/controls",
          "model_name": "HBoxModel",
          "model_module_version": "1.5.0",
          "state": {
            "_dom_classes": [],
            "_model_module": "@jupyter-widgets/controls",
            "_model_module_version": "1.5.0",
            "_model_name": "HBoxModel",
            "_view_count": null,
            "_view_module": "@jupyter-widgets/controls",
            "_view_module_version": "1.5.0",
            "_view_name": "HBoxView",
            "box_style": "",
            "children": [
              "IPY_MODEL_f5ea562b20c442fdbe283d9c9802c998",
              "IPY_MODEL_c60248a36b264077b524f6f69b5ebc96",
              "IPY_MODEL_fed9eb64bf6142d48607b0bc7193145e"
            ],
            "layout": "IPY_MODEL_04e4b50697c04b0a8917edc3e27724f1"
          }
        },
        "f5ea562b20c442fdbe283d9c9802c998": {
          "model_module": "@jupyter-widgets/controls",
          "model_name": "HTMLModel",
          "model_module_version": "1.5.0",
          "state": {
            "_dom_classes": [],
            "_model_module": "@jupyter-widgets/controls",
            "_model_module_version": "1.5.0",
            "_model_name": "HTMLModel",
            "_view_count": null,
            "_view_module": "@jupyter-widgets/controls",
            "_view_module_version": "1.5.0",
            "_view_name": "HTMLView",
            "description": "",
            "description_tooltip": null,
            "layout": "IPY_MODEL_42b838da8357410b82d4c5e59fda893a",
            "placeholder": "​",
            "style": "IPY_MODEL_3d0b9384646b4097b387d315de2f5f88",
            "value": "Downloading: 100%"
          }
        },
        "c60248a36b264077b524f6f69b5ebc96": {
          "model_module": "@jupyter-widgets/controls",
          "model_name": "FloatProgressModel",
          "model_module_version": "1.5.0",
          "state": {
            "_dom_classes": [],
            "_model_module": "@jupyter-widgets/controls",
            "_model_module_version": "1.5.0",
            "_model_name": "FloatProgressModel",
            "_view_count": null,
            "_view_module": "@jupyter-widgets/controls",
            "_view_module_version": "1.5.0",
            "_view_name": "ProgressView",
            "bar_style": "success",
            "description": "",
            "description_tooltip": null,
            "layout": "IPY_MODEL_cc635307c8094877a7d425833401ef7f",
            "max": 24,
            "min": 0,
            "orientation": "horizontal",
            "style": "IPY_MODEL_d82f3aaa7d394459a4972806b9298c88",
            "value": 24
          }
        },
        "fed9eb64bf6142d48607b0bc7193145e": {
          "model_module": "@jupyter-widgets/controls",
          "model_name": "HTMLModel",
          "model_module_version": "1.5.0",
          "state": {
            "_dom_classes": [],
            "_model_module": "@jupyter-widgets/controls",
            "_model_module_version": "1.5.0",
            "_model_name": "HTMLModel",
            "_view_count": null,
            "_view_module": "@jupyter-widgets/controls",
            "_view_module_version": "1.5.0",
            "_view_name": "HTMLView",
            "description": "",
            "description_tooltip": null,
            "layout": "IPY_MODEL_0d264916f9f54a448869b0cb161221e5",
            "placeholder": "​",
            "style": "IPY_MODEL_bcca1f5c0f084206bc143b8702b803f2",
            "value": " 24.0/24.0 [00:00&lt;00:00, 878B/s]"
          }
        },
        "04e4b50697c04b0a8917edc3e27724f1": {
          "model_module": "@jupyter-widgets/base",
          "model_name": "LayoutModel",
          "model_module_version": "1.2.0",
          "state": {
            "_model_module": "@jupyter-widgets/base",
            "_model_module_version": "1.2.0",
            "_model_name": "LayoutModel",
            "_view_count": null,
            "_view_module": "@jupyter-widgets/base",
            "_view_module_version": "1.2.0",
            "_view_name": "LayoutView",
            "align_content": null,
            "align_items": null,
            "align_self": null,
            "border": null,
            "bottom": null,
            "display": null,
            "flex": null,
            "flex_flow": null,
            "grid_area": null,
            "grid_auto_columns": null,
            "grid_auto_flow": null,
            "grid_auto_rows": null,
            "grid_column": null,
            "grid_gap": null,
            "grid_row": null,
            "grid_template_areas": null,
            "grid_template_columns": null,
            "grid_template_rows": null,
            "height": null,
            "justify_content": null,
            "justify_items": null,
            "left": null,
            "margin": null,
            "max_height": null,
            "max_width": null,
            "min_height": null,
            "min_width": null,
            "object_fit": null,
            "object_position": null,
            "order": null,
            "overflow": null,
            "overflow_x": null,
            "overflow_y": null,
            "padding": null,
            "right": null,
            "top": null,
            "visibility": null,
            "width": null
          }
        },
        "42b838da8357410b82d4c5e59fda893a": {
          "model_module": "@jupyter-widgets/base",
          "model_name": "LayoutModel",
          "model_module_version": "1.2.0",
          "state": {
            "_model_module": "@jupyter-widgets/base",
            "_model_module_version": "1.2.0",
            "_model_name": "LayoutModel",
            "_view_count": null,
            "_view_module": "@jupyter-widgets/base",
            "_view_module_version": "1.2.0",
            "_view_name": "LayoutView",
            "align_content": null,
            "align_items": null,
            "align_self": null,
            "border": null,
            "bottom": null,
            "display": null,
            "flex": null,
            "flex_flow": null,
            "grid_area": null,
            "grid_auto_columns": null,
            "grid_auto_flow": null,
            "grid_auto_rows": null,
            "grid_column": null,
            "grid_gap": null,
            "grid_row": null,
            "grid_template_areas": null,
            "grid_template_columns": null,
            "grid_template_rows": null,
            "height": null,
            "justify_content": null,
            "justify_items": null,
            "left": null,
            "margin": null,
            "max_height": null,
            "max_width": null,
            "min_height": null,
            "min_width": null,
            "object_fit": null,
            "object_position": null,
            "order": null,
            "overflow": null,
            "overflow_x": null,
            "overflow_y": null,
            "padding": null,
            "right": null,
            "top": null,
            "visibility": null,
            "width": null
          }
        },
        "3d0b9384646b4097b387d315de2f5f88": {
          "model_module": "@jupyter-widgets/controls",
          "model_name": "DescriptionStyleModel",
          "model_module_version": "1.5.0",
          "state": {
            "_model_module": "@jupyter-widgets/controls",
            "_model_module_version": "1.5.0",
            "_model_name": "DescriptionStyleModel",
            "_view_count": null,
            "_view_module": "@jupyter-widgets/base",
            "_view_module_version": "1.2.0",
            "_view_name": "StyleView",
            "description_width": ""
          }
        },
        "cc635307c8094877a7d425833401ef7f": {
          "model_module": "@jupyter-widgets/base",
          "model_name": "LayoutModel",
          "model_module_version": "1.2.0",
          "state": {
            "_model_module": "@jupyter-widgets/base",
            "_model_module_version": "1.2.0",
            "_model_name": "LayoutModel",
            "_view_count": null,
            "_view_module": "@jupyter-widgets/base",
            "_view_module_version": "1.2.0",
            "_view_name": "LayoutView",
            "align_content": null,
            "align_items": null,
            "align_self": null,
            "border": null,
            "bottom": null,
            "display": null,
            "flex": null,
            "flex_flow": null,
            "grid_area": null,
            "grid_auto_columns": null,
            "grid_auto_flow": null,
            "grid_auto_rows": null,
            "grid_column": null,
            "grid_gap": null,
            "grid_row": null,
            "grid_template_areas": null,
            "grid_template_columns": null,
            "grid_template_rows": null,
            "height": null,
            "justify_content": null,
            "justify_items": null,
            "left": null,
            "margin": null,
            "max_height": null,
            "max_width": null,
            "min_height": null,
            "min_width": null,
            "object_fit": null,
            "object_position": null,
            "order": null,
            "overflow": null,
            "overflow_x": null,
            "overflow_y": null,
            "padding": null,
            "right": null,
            "top": null,
            "visibility": null,
            "width": null
          }
        },
        "d82f3aaa7d394459a4972806b9298c88": {
          "model_module": "@jupyter-widgets/controls",
          "model_name": "ProgressStyleModel",
          "model_module_version": "1.5.0",
          "state": {
            "_model_module": "@jupyter-widgets/controls",
            "_model_module_version": "1.5.0",
            "_model_name": "ProgressStyleModel",
            "_view_count": null,
            "_view_module": "@jupyter-widgets/base",
            "_view_module_version": "1.2.0",
            "_view_name": "StyleView",
            "bar_color": null,
            "description_width": ""
          }
        },
        "0d264916f9f54a448869b0cb161221e5": {
          "model_module": "@jupyter-widgets/base",
          "model_name": "LayoutModel",
          "model_module_version": "1.2.0",
          "state": {
            "_model_module": "@jupyter-widgets/base",
            "_model_module_version": "1.2.0",
            "_model_name": "LayoutModel",
            "_view_count": null,
            "_view_module": "@jupyter-widgets/base",
            "_view_module_version": "1.2.0",
            "_view_name": "LayoutView",
            "align_content": null,
            "align_items": null,
            "align_self": null,
            "border": null,
            "bottom": null,
            "display": null,
            "flex": null,
            "flex_flow": null,
            "grid_area": null,
            "grid_auto_columns": null,
            "grid_auto_flow": null,
            "grid_auto_rows": null,
            "grid_column": null,
            "grid_gap": null,
            "grid_row": null,
            "grid_template_areas": null,
            "grid_template_columns": null,
            "grid_template_rows": null,
            "height": null,
            "justify_content": null,
            "justify_items": null,
            "left": null,
            "margin": null,
            "max_height": null,
            "max_width": null,
            "min_height": null,
            "min_width": null,
            "object_fit": null,
            "object_position": null,
            "order": null,
            "overflow": null,
            "overflow_x": null,
            "overflow_y": null,
            "padding": null,
            "right": null,
            "top": null,
            "visibility": null,
            "width": null
          }
        },
        "bcca1f5c0f084206bc143b8702b803f2": {
          "model_module": "@jupyter-widgets/controls",
          "model_name": "DescriptionStyleModel",
          "model_module_version": "1.5.0",
          "state": {
            "_model_module": "@jupyter-widgets/controls",
            "_model_module_version": "1.5.0",
            "_model_name": "DescriptionStyleModel",
            "_view_count": null,
            "_view_module": "@jupyter-widgets/base",
            "_view_module_version": "1.2.0",
            "_view_name": "StyleView",
            "description_width": ""
          }
        },
        "d5da9daad46f4d66b938811531248c55": {
          "model_module": "@jupyter-widgets/controls",
          "model_name": "HBoxModel",
          "model_module_version": "1.5.0",
          "state": {
            "_dom_classes": [],
            "_model_module": "@jupyter-widgets/controls",
            "_model_module_version": "1.5.0",
            "_model_name": "HBoxModel",
            "_view_count": null,
            "_view_module": "@jupyter-widgets/controls",
            "_view_module_version": "1.5.0",
            "_view_name": "HBoxView",
            "box_style": "",
            "children": [
              "IPY_MODEL_ff9223a26847490db70da6d502ad5191",
              "IPY_MODEL_d90fcb40e262484f9dedd0f8105269d9",
              "IPY_MODEL_7f5ab70f31f04763bf56baa3866e18c2"
            ],
            "layout": "IPY_MODEL_9da5da17d4d540deb12d8402fa560977"
          }
        },
        "ff9223a26847490db70da6d502ad5191": {
          "model_module": "@jupyter-widgets/controls",
          "model_name": "HTMLModel",
          "model_module_version": "1.5.0",
          "state": {
            "_dom_classes": [],
            "_model_module": "@jupyter-widgets/controls",
            "_model_module_version": "1.5.0",
            "_model_name": "HTMLModel",
            "_view_count": null,
            "_view_module": "@jupyter-widgets/controls",
            "_view_module_version": "1.5.0",
            "_view_name": "HTMLView",
            "description": "",
            "description_tooltip": null,
            "layout": "IPY_MODEL_0d31796f253741c898ee60c35039f76f",
            "placeholder": "​",
            "style": "IPY_MODEL_ea7521c703e24b9e95f8778615f7f38a",
            "value": "Downloading: 100%"
          }
        },
        "d90fcb40e262484f9dedd0f8105269d9": {
          "model_module": "@jupyter-widgets/controls",
          "model_name": "FloatProgressModel",
          "model_module_version": "1.5.0",
          "state": {
            "_dom_classes": [],
            "_model_module": "@jupyter-widgets/controls",
            "_model_module_version": "1.5.0",
            "_model_name": "FloatProgressModel",
            "_view_count": null,
            "_view_module": "@jupyter-widgets/controls",
            "_view_module_version": "1.5.0",
            "_view_name": "ProgressView",
            "bar_style": "success",
            "description": "",
            "description_tooltip": null,
            "layout": "IPY_MODEL_3c4329d2b970446b87a9cb1aebd322c7",
            "max": 642,
            "min": 0,
            "orientation": "horizontal",
            "style": "IPY_MODEL_a05b3dbe7eef4972a782ad4f19f1321c",
            "value": 642
          }
        },
        "7f5ab70f31f04763bf56baa3866e18c2": {
          "model_module": "@jupyter-widgets/controls",
          "model_name": "HTMLModel",
          "model_module_version": "1.5.0",
          "state": {
            "_dom_classes": [],
            "_model_module": "@jupyter-widgets/controls",
            "_model_module_version": "1.5.0",
            "_model_name": "HTMLModel",
            "_view_count": null,
            "_view_module": "@jupyter-widgets/controls",
            "_view_module_version": "1.5.0",
            "_view_name": "HTMLView",
            "description": "",
            "description_tooltip": null,
            "layout": "IPY_MODEL_ebdd0859f82440b3b1c653ee83f47200",
            "placeholder": "​",
            "style": "IPY_MODEL_09968c0609e54e3c98d7dd40217679e0",
            "value": " 642/642 [00:00&lt;00:00, 23.0kB/s]"
          }
        },
        "9da5da17d4d540deb12d8402fa560977": {
          "model_module": "@jupyter-widgets/base",
          "model_name": "LayoutModel",
          "model_module_version": "1.2.0",
          "state": {
            "_model_module": "@jupyter-widgets/base",
            "_model_module_version": "1.2.0",
            "_model_name": "LayoutModel",
            "_view_count": null,
            "_view_module": "@jupyter-widgets/base",
            "_view_module_version": "1.2.0",
            "_view_name": "LayoutView",
            "align_content": null,
            "align_items": null,
            "align_self": null,
            "border": null,
            "bottom": null,
            "display": null,
            "flex": null,
            "flex_flow": null,
            "grid_area": null,
            "grid_auto_columns": null,
            "grid_auto_flow": null,
            "grid_auto_rows": null,
            "grid_column": null,
            "grid_gap": null,
            "grid_row": null,
            "grid_template_areas": null,
            "grid_template_columns": null,
            "grid_template_rows": null,
            "height": null,
            "justify_content": null,
            "justify_items": null,
            "left": null,
            "margin": null,
            "max_height": null,
            "max_width": null,
            "min_height": null,
            "min_width": null,
            "object_fit": null,
            "object_position": null,
            "order": null,
            "overflow": null,
            "overflow_x": null,
            "overflow_y": null,
            "padding": null,
            "right": null,
            "top": null,
            "visibility": null,
            "width": null
          }
        },
        "0d31796f253741c898ee60c35039f76f": {
          "model_module": "@jupyter-widgets/base",
          "model_name": "LayoutModel",
          "model_module_version": "1.2.0",
          "state": {
            "_model_module": "@jupyter-widgets/base",
            "_model_module_version": "1.2.0",
            "_model_name": "LayoutModel",
            "_view_count": null,
            "_view_module": "@jupyter-widgets/base",
            "_view_module_version": "1.2.0",
            "_view_name": "LayoutView",
            "align_content": null,
            "align_items": null,
            "align_self": null,
            "border": null,
            "bottom": null,
            "display": null,
            "flex": null,
            "flex_flow": null,
            "grid_area": null,
            "grid_auto_columns": null,
            "grid_auto_flow": null,
            "grid_auto_rows": null,
            "grid_column": null,
            "grid_gap": null,
            "grid_row": null,
            "grid_template_areas": null,
            "grid_template_columns": null,
            "grid_template_rows": null,
            "height": null,
            "justify_content": null,
            "justify_items": null,
            "left": null,
            "margin": null,
            "max_height": null,
            "max_width": null,
            "min_height": null,
            "min_width": null,
            "object_fit": null,
            "object_position": null,
            "order": null,
            "overflow": null,
            "overflow_x": null,
            "overflow_y": null,
            "padding": null,
            "right": null,
            "top": null,
            "visibility": null,
            "width": null
          }
        },
        "ea7521c703e24b9e95f8778615f7f38a": {
          "model_module": "@jupyter-widgets/controls",
          "model_name": "DescriptionStyleModel",
          "model_module_version": "1.5.0",
          "state": {
            "_model_module": "@jupyter-widgets/controls",
            "_model_module_version": "1.5.0",
            "_model_name": "DescriptionStyleModel",
            "_view_count": null,
            "_view_module": "@jupyter-widgets/base",
            "_view_module_version": "1.2.0",
            "_view_name": "StyleView",
            "description_width": ""
          }
        },
        "3c4329d2b970446b87a9cb1aebd322c7": {
          "model_module": "@jupyter-widgets/base",
          "model_name": "LayoutModel",
          "model_module_version": "1.2.0",
          "state": {
            "_model_module": "@jupyter-widgets/base",
            "_model_module_version": "1.2.0",
            "_model_name": "LayoutModel",
            "_view_count": null,
            "_view_module": "@jupyter-widgets/base",
            "_view_module_version": "1.2.0",
            "_view_name": "LayoutView",
            "align_content": null,
            "align_items": null,
            "align_self": null,
            "border": null,
            "bottom": null,
            "display": null,
            "flex": null,
            "flex_flow": null,
            "grid_area": null,
            "grid_auto_columns": null,
            "grid_auto_flow": null,
            "grid_auto_rows": null,
            "grid_column": null,
            "grid_gap": null,
            "grid_row": null,
            "grid_template_areas": null,
            "grid_template_columns": null,
            "grid_template_rows": null,
            "height": null,
            "justify_content": null,
            "justify_items": null,
            "left": null,
            "margin": null,
            "max_height": null,
            "max_width": null,
            "min_height": null,
            "min_width": null,
            "object_fit": null,
            "object_position": null,
            "order": null,
            "overflow": null,
            "overflow_x": null,
            "overflow_y": null,
            "padding": null,
            "right": null,
            "top": null,
            "visibility": null,
            "width": null
          }
        },
        "a05b3dbe7eef4972a782ad4f19f1321c": {
          "model_module": "@jupyter-widgets/controls",
          "model_name": "ProgressStyleModel",
          "model_module_version": "1.5.0",
          "state": {
            "_model_module": "@jupyter-widgets/controls",
            "_model_module_version": "1.5.0",
            "_model_name": "ProgressStyleModel",
            "_view_count": null,
            "_view_module": "@jupyter-widgets/base",
            "_view_module_version": "1.2.0",
            "_view_name": "StyleView",
            "bar_color": null,
            "description_width": ""
          }
        },
        "ebdd0859f82440b3b1c653ee83f47200": {
          "model_module": "@jupyter-widgets/base",
          "model_name": "LayoutModel",
          "model_module_version": "1.2.0",
          "state": {
            "_model_module": "@jupyter-widgets/base",
            "_model_module_version": "1.2.0",
            "_model_name": "LayoutModel",
            "_view_count": null,
            "_view_module": "@jupyter-widgets/base",
            "_view_module_version": "1.2.0",
            "_view_name": "LayoutView",
            "align_content": null,
            "align_items": null,
            "align_self": null,
            "border": null,
            "bottom": null,
            "display": null,
            "flex": null,
            "flex_flow": null,
            "grid_area": null,
            "grid_auto_columns": null,
            "grid_auto_flow": null,
            "grid_auto_rows": null,
            "grid_column": null,
            "grid_gap": null,
            "grid_row": null,
            "grid_template_areas": null,
            "grid_template_columns": null,
            "grid_template_rows": null,
            "height": null,
            "justify_content": null,
            "justify_items": null,
            "left": null,
            "margin": null,
            "max_height": null,
            "max_width": null,
            "min_height": null,
            "min_width": null,
            "object_fit": null,
            "object_position": null,
            "order": null,
            "overflow": null,
            "overflow_x": null,
            "overflow_y": null,
            "padding": null,
            "right": null,
            "top": null,
            "visibility": null,
            "width": null
          }
        },
        "09968c0609e54e3c98d7dd40217679e0": {
          "model_module": "@jupyter-widgets/controls",
          "model_name": "DescriptionStyleModel",
          "model_module_version": "1.5.0",
          "state": {
            "_model_module": "@jupyter-widgets/controls",
            "_model_module_version": "1.5.0",
            "_model_name": "DescriptionStyleModel",
            "_view_count": null,
            "_view_module": "@jupyter-widgets/base",
            "_view_module_version": "1.2.0",
            "_view_name": "StyleView",
            "description_width": ""
          }
        },
        "41f05bf2fc544024a606effdfee4d703": {
          "model_module": "@jupyter-widgets/controls",
          "model_name": "HBoxModel",
          "model_module_version": "1.5.0",
          "state": {
            "_dom_classes": [],
            "_model_module": "@jupyter-widgets/controls",
            "_model_module_version": "1.5.0",
            "_model_name": "HBoxModel",
            "_view_count": null,
            "_view_module": "@jupyter-widgets/controls",
            "_view_module_version": "1.5.0",
            "_view_name": "HBoxView",
            "box_style": "",
            "children": [
              "IPY_MODEL_f639568968594524b0aa09ad30c426de",
              "IPY_MODEL_c5648f782ed54156a2fc9585a3065d04",
              "IPY_MODEL_972b6a7f3d5e41f5bf43456fd0843e6b"
            ],
            "layout": "IPY_MODEL_8f61c6f69436488583b0f2eda9d30a2c"
          }
        },
        "f639568968594524b0aa09ad30c426de": {
          "model_module": "@jupyter-widgets/controls",
          "model_name": "HTMLModel",
          "model_module_version": "1.5.0",
          "state": {
            "_dom_classes": [],
            "_model_module": "@jupyter-widgets/controls",
            "_model_module_version": "1.5.0",
            "_model_name": "HTMLModel",
            "_view_count": null,
            "_view_module": "@jupyter-widgets/controls",
            "_view_module_version": "1.5.0",
            "_view_name": "HTMLView",
            "description": "",
            "description_tooltip": null,
            "layout": "IPY_MODEL_2d908d31db5c4a9498a3d81373c65e4a",
            "placeholder": "​",
            "style": "IPY_MODEL_2228fa93f7eb470d86ae432f9ffae3bb",
            "value": "Downloading: 100%"
          }
        },
        "c5648f782ed54156a2fc9585a3065d04": {
          "model_module": "@jupyter-widgets/controls",
          "model_name": "FloatProgressModel",
          "model_module_version": "1.5.0",
          "state": {
            "_dom_classes": [],
            "_model_module": "@jupyter-widgets/controls",
            "_model_module_version": "1.5.0",
            "_model_name": "FloatProgressModel",
            "_view_count": null,
            "_view_module": "@jupyter-widgets/controls",
            "_view_module_version": "1.5.0",
            "_view_name": "ProgressView",
            "bar_style": "success",
            "description": "",
            "description_tooltip": null,
            "layout": "IPY_MODEL_8ce77c6cb1944b1b83d2e8abb44a47b7",
            "max": 1649718,
            "min": 0,
            "orientation": "horizontal",
            "style": "IPY_MODEL_e18bfed51531401e8caba7179dc867ca",
            "value": 1649718
          }
        },
        "972b6a7f3d5e41f5bf43456fd0843e6b": {
          "model_module": "@jupyter-widgets/controls",
          "model_name": "HTMLModel",
          "model_module_version": "1.5.0",
          "state": {
            "_dom_classes": [],
            "_model_module": "@jupyter-widgets/controls",
            "_model_module_version": "1.5.0",
            "_model_name": "HTMLModel",
            "_view_count": null,
            "_view_module": "@jupyter-widgets/controls",
            "_view_module_version": "1.5.0",
            "_view_name": "HTMLView",
            "description": "",
            "description_tooltip": null,
            "layout": "IPY_MODEL_83ec6df1d9464f8fb846b00683e67eb6",
            "placeholder": "​",
            "style": "IPY_MODEL_f0c8454d55af4caab0bd453a7186f0c4",
            "value": " 1.57M/1.57M [00:00&lt;00:00, 2.28MB/s]"
          }
        },
        "8f61c6f69436488583b0f2eda9d30a2c": {
          "model_module": "@jupyter-widgets/base",
          "model_name": "LayoutModel",
          "model_module_version": "1.2.0",
          "state": {
            "_model_module": "@jupyter-widgets/base",
            "_model_module_version": "1.2.0",
            "_model_name": "LayoutModel",
            "_view_count": null,
            "_view_module": "@jupyter-widgets/base",
            "_view_module_version": "1.2.0",
            "_view_name": "LayoutView",
            "align_content": null,
            "align_items": null,
            "align_self": null,
            "border": null,
            "bottom": null,
            "display": null,
            "flex": null,
            "flex_flow": null,
            "grid_area": null,
            "grid_auto_columns": null,
            "grid_auto_flow": null,
            "grid_auto_rows": null,
            "grid_column": null,
            "grid_gap": null,
            "grid_row": null,
            "grid_template_areas": null,
            "grid_template_columns": null,
            "grid_template_rows": null,
            "height": null,
            "justify_content": null,
            "justify_items": null,
            "left": null,
            "margin": null,
            "max_height": null,
            "max_width": null,
            "min_height": null,
            "min_width": null,
            "object_fit": null,
            "object_position": null,
            "order": null,
            "overflow": null,
            "overflow_x": null,
            "overflow_y": null,
            "padding": null,
            "right": null,
            "top": null,
            "visibility": null,
            "width": null
          }
        },
        "2d908d31db5c4a9498a3d81373c65e4a": {
          "model_module": "@jupyter-widgets/base",
          "model_name": "LayoutModel",
          "model_module_version": "1.2.0",
          "state": {
            "_model_module": "@jupyter-widgets/base",
            "_model_module_version": "1.2.0",
            "_model_name": "LayoutModel",
            "_view_count": null,
            "_view_module": "@jupyter-widgets/base",
            "_view_module_version": "1.2.0",
            "_view_name": "LayoutView",
            "align_content": null,
            "align_items": null,
            "align_self": null,
            "border": null,
            "bottom": null,
            "display": null,
            "flex": null,
            "flex_flow": null,
            "grid_area": null,
            "grid_auto_columns": null,
            "grid_auto_flow": null,
            "grid_auto_rows": null,
            "grid_column": null,
            "grid_gap": null,
            "grid_row": null,
            "grid_template_areas": null,
            "grid_template_columns": null,
            "grid_template_rows": null,
            "height": null,
            "justify_content": null,
            "justify_items": null,
            "left": null,
            "margin": null,
            "max_height": null,
            "max_width": null,
            "min_height": null,
            "min_width": null,
            "object_fit": null,
            "object_position": null,
            "order": null,
            "overflow": null,
            "overflow_x": null,
            "overflow_y": null,
            "padding": null,
            "right": null,
            "top": null,
            "visibility": null,
            "width": null
          }
        },
        "2228fa93f7eb470d86ae432f9ffae3bb": {
          "model_module": "@jupyter-widgets/controls",
          "model_name": "DescriptionStyleModel",
          "model_module_version": "1.5.0",
          "state": {
            "_model_module": "@jupyter-widgets/controls",
            "_model_module_version": "1.5.0",
            "_model_name": "DescriptionStyleModel",
            "_view_count": null,
            "_view_module": "@jupyter-widgets/base",
            "_view_module_version": "1.2.0",
            "_view_name": "StyleView",
            "description_width": ""
          }
        },
        "8ce77c6cb1944b1b83d2e8abb44a47b7": {
          "model_module": "@jupyter-widgets/base",
          "model_name": "LayoutModel",
          "model_module_version": "1.2.0",
          "state": {
            "_model_module": "@jupyter-widgets/base",
            "_model_module_version": "1.2.0",
            "_model_name": "LayoutModel",
            "_view_count": null,
            "_view_module": "@jupyter-widgets/base",
            "_view_module_version": "1.2.0",
            "_view_name": "LayoutView",
            "align_content": null,
            "align_items": null,
            "align_self": null,
            "border": null,
            "bottom": null,
            "display": null,
            "flex": null,
            "flex_flow": null,
            "grid_area": null,
            "grid_auto_columns": null,
            "grid_auto_flow": null,
            "grid_auto_rows": null,
            "grid_column": null,
            "grid_gap": null,
            "grid_row": null,
            "grid_template_areas": null,
            "grid_template_columns": null,
            "grid_template_rows": null,
            "height": null,
            "justify_content": null,
            "justify_items": null,
            "left": null,
            "margin": null,
            "max_height": null,
            "max_width": null,
            "min_height": null,
            "min_width": null,
            "object_fit": null,
            "object_position": null,
            "order": null,
            "overflow": null,
            "overflow_x": null,
            "overflow_y": null,
            "padding": null,
            "right": null,
            "top": null,
            "visibility": null,
            "width": null
          }
        },
        "e18bfed51531401e8caba7179dc867ca": {
          "model_module": "@jupyter-widgets/controls",
          "model_name": "ProgressStyleModel",
          "model_module_version": "1.5.0",
          "state": {
            "_model_module": "@jupyter-widgets/controls",
            "_model_module_version": "1.5.0",
            "_model_name": "ProgressStyleModel",
            "_view_count": null,
            "_view_module": "@jupyter-widgets/base",
            "_view_module_version": "1.2.0",
            "_view_name": "StyleView",
            "bar_color": null,
            "description_width": ""
          }
        },
        "83ec6df1d9464f8fb846b00683e67eb6": {
          "model_module": "@jupyter-widgets/base",
          "model_name": "LayoutModel",
          "model_module_version": "1.2.0",
          "state": {
            "_model_module": "@jupyter-widgets/base",
            "_model_module_version": "1.2.0",
            "_model_name": "LayoutModel",
            "_view_count": null,
            "_view_module": "@jupyter-widgets/base",
            "_view_module_version": "1.2.0",
            "_view_name": "LayoutView",
            "align_content": null,
            "align_items": null,
            "align_self": null,
            "border": null,
            "bottom": null,
            "display": null,
            "flex": null,
            "flex_flow": null,
            "grid_area": null,
            "grid_auto_columns": null,
            "grid_auto_flow": null,
            "grid_auto_rows": null,
            "grid_column": null,
            "grid_gap": null,
            "grid_row": null,
            "grid_template_areas": null,
            "grid_template_columns": null,
            "grid_template_rows": null,
            "height": null,
            "justify_content": null,
            "justify_items": null,
            "left": null,
            "margin": null,
            "max_height": null,
            "max_width": null,
            "min_height": null,
            "min_width": null,
            "object_fit": null,
            "object_position": null,
            "order": null,
            "overflow": null,
            "overflow_x": null,
            "overflow_y": null,
            "padding": null,
            "right": null,
            "top": null,
            "visibility": null,
            "width": null
          }
        },
        "f0c8454d55af4caab0bd453a7186f0c4": {
          "model_module": "@jupyter-widgets/controls",
          "model_name": "DescriptionStyleModel",
          "model_module_version": "1.5.0",
          "state": {
            "_model_module": "@jupyter-widgets/controls",
            "_model_module_version": "1.5.0",
            "_model_name": "DescriptionStyleModel",
            "_view_count": null,
            "_view_module": "@jupyter-widgets/base",
            "_view_module_version": "1.2.0",
            "_view_name": "StyleView",
            "description_width": ""
          }
        },
        "d53fe845e9404b1895127ab0cebd418d": {
          "model_module": "@jupyter-widgets/controls",
          "model_name": "HBoxModel",
          "model_module_version": "1.5.0",
          "state": {
            "_dom_classes": [],
            "_model_module": "@jupyter-widgets/controls",
            "_model_module_version": "1.5.0",
            "_model_name": "HBoxModel",
            "_view_count": null,
            "_view_module": "@jupyter-widgets/controls",
            "_view_module_version": "1.5.0",
            "_view_name": "HBoxView",
            "box_style": "",
            "children": [
              "IPY_MODEL_c9cacd50eeb5417d8c75b6079d50d6f6",
              "IPY_MODEL_5132555b59084fc1af6660ea34a62a59",
              "IPY_MODEL_959e3b04fe1e46ea95f8ae1fd936aee9"
            ],
            "layout": "IPY_MODEL_a3956a92d96543d18a3ad591cc56fcca"
          }
        },
        "c9cacd50eeb5417d8c75b6079d50d6f6": {
          "model_module": "@jupyter-widgets/controls",
          "model_name": "HTMLModel",
          "model_module_version": "1.5.0",
          "state": {
            "_dom_classes": [],
            "_model_module": "@jupyter-widgets/controls",
            "_model_module_version": "1.5.0",
            "_model_name": "HTMLModel",
            "_view_count": null,
            "_view_module": "@jupyter-widgets/controls",
            "_view_module_version": "1.5.0",
            "_view_name": "HTMLView",
            "description": "",
            "description_tooltip": null,
            "layout": "IPY_MODEL_5a0a0963af8e4218b748b5bc628d0b90",
            "placeholder": "​",
            "style": "IPY_MODEL_67c945d3a89f4cdb9c468e0363abca91",
            "value": "Downloading: 100%"
          }
        },
        "5132555b59084fc1af6660ea34a62a59": {
          "model_module": "@jupyter-widgets/controls",
          "model_name": "FloatProgressModel",
          "model_module_version": "1.5.0",
          "state": {
            "_dom_classes": [],
            "_model_module": "@jupyter-widgets/controls",
            "_model_module_version": "1.5.0",
            "_model_name": "FloatProgressModel",
            "_view_count": null,
            "_view_module": "@jupyter-widgets/controls",
            "_view_module_version": "1.5.0",
            "_view_name": "ProgressView",
            "bar_style": "success",
            "description": "",
            "description_tooltip": null,
            "layout": "IPY_MODEL_433737718fd54f0d98bea2455ef49ee8",
            "max": 112,
            "min": 0,
            "orientation": "horizontal",
            "style": "IPY_MODEL_962932110e274bb9b2dd355719ff4925",
            "value": 112
          }
        },
        "959e3b04fe1e46ea95f8ae1fd936aee9": {
          "model_module": "@jupyter-widgets/controls",
          "model_name": "HTMLModel",
          "model_module_version": "1.5.0",
          "state": {
            "_dom_classes": [],
            "_model_module": "@jupyter-widgets/controls",
            "_model_module_version": "1.5.0",
            "_model_name": "HTMLModel",
            "_view_count": null,
            "_view_module": "@jupyter-widgets/controls",
            "_view_module_version": "1.5.0",
            "_view_name": "HTMLView",
            "description": "",
            "description_tooltip": null,
            "layout": "IPY_MODEL_6947a40aa8ac4e0b831d267177213502",
            "placeholder": "​",
            "style": "IPY_MODEL_26526aa1278b4e7fb24b2e3a528a2687",
            "value": " 112/112 [00:00&lt;00:00, 3.91kB/s]"
          }
        },
        "a3956a92d96543d18a3ad591cc56fcca": {
          "model_module": "@jupyter-widgets/base",
          "model_name": "LayoutModel",
          "model_module_version": "1.2.0",
          "state": {
            "_model_module": "@jupyter-widgets/base",
            "_model_module_version": "1.2.0",
            "_model_name": "LayoutModel",
            "_view_count": null,
            "_view_module": "@jupyter-widgets/base",
            "_view_module_version": "1.2.0",
            "_view_name": "LayoutView",
            "align_content": null,
            "align_items": null,
            "align_self": null,
            "border": null,
            "bottom": null,
            "display": null,
            "flex": null,
            "flex_flow": null,
            "grid_area": null,
            "grid_auto_columns": null,
            "grid_auto_flow": null,
            "grid_auto_rows": null,
            "grid_column": null,
            "grid_gap": null,
            "grid_row": null,
            "grid_template_areas": null,
            "grid_template_columns": null,
            "grid_template_rows": null,
            "height": null,
            "justify_content": null,
            "justify_items": null,
            "left": null,
            "margin": null,
            "max_height": null,
            "max_width": null,
            "min_height": null,
            "min_width": null,
            "object_fit": null,
            "object_position": null,
            "order": null,
            "overflow": null,
            "overflow_x": null,
            "overflow_y": null,
            "padding": null,
            "right": null,
            "top": null,
            "visibility": null,
            "width": null
          }
        },
        "5a0a0963af8e4218b748b5bc628d0b90": {
          "model_module": "@jupyter-widgets/base",
          "model_name": "LayoutModel",
          "model_module_version": "1.2.0",
          "state": {
            "_model_module": "@jupyter-widgets/base",
            "_model_module_version": "1.2.0",
            "_model_name": "LayoutModel",
            "_view_count": null,
            "_view_module": "@jupyter-widgets/base",
            "_view_module_version": "1.2.0",
            "_view_name": "LayoutView",
            "align_content": null,
            "align_items": null,
            "align_self": null,
            "border": null,
            "bottom": null,
            "display": null,
            "flex": null,
            "flex_flow": null,
            "grid_area": null,
            "grid_auto_columns": null,
            "grid_auto_flow": null,
            "grid_auto_rows": null,
            "grid_column": null,
            "grid_gap": null,
            "grid_row": null,
            "grid_template_areas": null,
            "grid_template_columns": null,
            "grid_template_rows": null,
            "height": null,
            "justify_content": null,
            "justify_items": null,
            "left": null,
            "margin": null,
            "max_height": null,
            "max_width": null,
            "min_height": null,
            "min_width": null,
            "object_fit": null,
            "object_position": null,
            "order": null,
            "overflow": null,
            "overflow_x": null,
            "overflow_y": null,
            "padding": null,
            "right": null,
            "top": null,
            "visibility": null,
            "width": null
          }
        },
        "67c945d3a89f4cdb9c468e0363abca91": {
          "model_module": "@jupyter-widgets/controls",
          "model_name": "DescriptionStyleModel",
          "model_module_version": "1.5.0",
          "state": {
            "_model_module": "@jupyter-widgets/controls",
            "_model_module_version": "1.5.0",
            "_model_name": "DescriptionStyleModel",
            "_view_count": null,
            "_view_module": "@jupyter-widgets/base",
            "_view_module_version": "1.2.0",
            "_view_name": "StyleView",
            "description_width": ""
          }
        },
        "433737718fd54f0d98bea2455ef49ee8": {
          "model_module": "@jupyter-widgets/base",
          "model_name": "LayoutModel",
          "model_module_version": "1.2.0",
          "state": {
            "_model_module": "@jupyter-widgets/base",
            "_model_module_version": "1.2.0",
            "_model_name": "LayoutModel",
            "_view_count": null,
            "_view_module": "@jupyter-widgets/base",
            "_view_module_version": "1.2.0",
            "_view_name": "LayoutView",
            "align_content": null,
            "align_items": null,
            "align_self": null,
            "border": null,
            "bottom": null,
            "display": null,
            "flex": null,
            "flex_flow": null,
            "grid_area": null,
            "grid_auto_columns": null,
            "grid_auto_flow": null,
            "grid_auto_rows": null,
            "grid_column": null,
            "grid_gap": null,
            "grid_row": null,
            "grid_template_areas": null,
            "grid_template_columns": null,
            "grid_template_rows": null,
            "height": null,
            "justify_content": null,
            "justify_items": null,
            "left": null,
            "margin": null,
            "max_height": null,
            "max_width": null,
            "min_height": null,
            "min_width": null,
            "object_fit": null,
            "object_position": null,
            "order": null,
            "overflow": null,
            "overflow_x": null,
            "overflow_y": null,
            "padding": null,
            "right": null,
            "top": null,
            "visibility": null,
            "width": null
          }
        },
        "962932110e274bb9b2dd355719ff4925": {
          "model_module": "@jupyter-widgets/controls",
          "model_name": "ProgressStyleModel",
          "model_module_version": "1.5.0",
          "state": {
            "_model_module": "@jupyter-widgets/controls",
            "_model_module_version": "1.5.0",
            "_model_name": "ProgressStyleModel",
            "_view_count": null,
            "_view_module": "@jupyter-widgets/base",
            "_view_module_version": "1.2.0",
            "_view_name": "StyleView",
            "bar_color": null,
            "description_width": ""
          }
        },
        "6947a40aa8ac4e0b831d267177213502": {
          "model_module": "@jupyter-widgets/base",
          "model_name": "LayoutModel",
          "model_module_version": "1.2.0",
          "state": {
            "_model_module": "@jupyter-widgets/base",
            "_model_module_version": "1.2.0",
            "_model_name": "LayoutModel",
            "_view_count": null,
            "_view_module": "@jupyter-widgets/base",
            "_view_module_version": "1.2.0",
            "_view_name": "LayoutView",
            "align_content": null,
            "align_items": null,
            "align_self": null,
            "border": null,
            "bottom": null,
            "display": null,
            "flex": null,
            "flex_flow": null,
            "grid_area": null,
            "grid_auto_columns": null,
            "grid_auto_flow": null,
            "grid_auto_rows": null,
            "grid_column": null,
            "grid_gap": null,
            "grid_row": null,
            "grid_template_areas": null,
            "grid_template_columns": null,
            "grid_template_rows": null,
            "height": null,
            "justify_content": null,
            "justify_items": null,
            "left": null,
            "margin": null,
            "max_height": null,
            "max_width": null,
            "min_height": null,
            "min_width": null,
            "object_fit": null,
            "object_position": null,
            "order": null,
            "overflow": null,
            "overflow_x": null,
            "overflow_y": null,
            "padding": null,
            "right": null,
            "top": null,
            "visibility": null,
            "width": null
          }
        },
        "26526aa1278b4e7fb24b2e3a528a2687": {
          "model_module": "@jupyter-widgets/controls",
          "model_name": "DescriptionStyleModel",
          "model_module_version": "1.5.0",
          "state": {
            "_model_module": "@jupyter-widgets/controls",
            "_model_module_version": "1.5.0",
            "_model_name": "DescriptionStyleModel",
            "_view_count": null,
            "_view_module": "@jupyter-widgets/base",
            "_view_module_version": "1.2.0",
            "_view_name": "StyleView",
            "description_width": ""
          }
        },
        "df8681b74ec44484b2f448206aa02a01": {
          "model_module": "@jupyter-widgets/controls",
          "model_name": "HBoxModel",
          "model_module_version": "1.5.0",
          "state": {
            "_dom_classes": [],
            "_model_module": "@jupyter-widgets/controls",
            "_model_module_version": "1.5.0",
            "_model_name": "HBoxModel",
            "_view_count": null,
            "_view_module": "@jupyter-widgets/controls",
            "_view_module_version": "1.5.0",
            "_view_name": "HBoxView",
            "box_style": "",
            "children": [
              "IPY_MODEL_62ffd4a40a7d48659fb50a1ba40e1b09",
              "IPY_MODEL_a44fa48ccf724701840b358a75216e43",
              "IPY_MODEL_5b0b88f56b1d4ee692ac3880e6226b8f"
            ],
            "layout": "IPY_MODEL_112d2b2e13d14d99805dbfe766b10fd1"
          }
        },
        "62ffd4a40a7d48659fb50a1ba40e1b09": {
          "model_module": "@jupyter-widgets/controls",
          "model_name": "HTMLModel",
          "model_module_version": "1.5.0",
          "state": {
            "_dom_classes": [],
            "_model_module": "@jupyter-widgets/controls",
            "_model_module_version": "1.5.0",
            "_model_name": "HTMLModel",
            "_view_count": null,
            "_view_module": "@jupyter-widgets/controls",
            "_view_module_version": "1.5.0",
            "_view_name": "HTMLView",
            "description": "",
            "description_tooltip": null,
            "layout": "IPY_MODEL_f17d7ed7b4664190b7a9b0481b381f55",
            "placeholder": "​",
            "style": "IPY_MODEL_e51701bfab4f49d5bb98158a3a73269d",
            "value": "Downloading: 100%"
          }
        },
        "a44fa48ccf724701840b358a75216e43": {
          "model_module": "@jupyter-widgets/controls",
          "model_name": "FloatProgressModel",
          "model_module_version": "1.5.0",
          "state": {
            "_dom_classes": [],
            "_model_module": "@jupyter-widgets/controls",
            "_model_module_version": "1.5.0",
            "_model_name": "FloatProgressModel",
            "_view_count": null,
            "_view_module": "@jupyter-widgets/controls",
            "_view_module_version": "1.5.0",
            "_view_name": "ProgressView",
            "bar_style": "success",
            "description": "",
            "description_tooltip": null,
            "layout": "IPY_MODEL_71493064bbd04ba99ee511dc59b91070",
            "max": 714355318,
            "min": 0,
            "orientation": "horizontal",
            "style": "IPY_MODEL_5a04c7c0bccf46b7ba9faf3f108d29e6",
            "value": 714355318
          }
        },
        "5b0b88f56b1d4ee692ac3880e6226b8f": {
          "model_module": "@jupyter-widgets/controls",
          "model_name": "HTMLModel",
          "model_module_version": "1.5.0",
          "state": {
            "_dom_classes": [],
            "_model_module": "@jupyter-widgets/controls",
            "_model_module_version": "1.5.0",
            "_model_name": "HTMLModel",
            "_view_count": null,
            "_view_module": "@jupyter-widgets/controls",
            "_view_module_version": "1.5.0",
            "_view_name": "HTMLView",
            "description": "",
            "description_tooltip": null,
            "layout": "IPY_MODEL_dbc6c17e044c4915a5be56c684dc612c",
            "placeholder": "​",
            "style": "IPY_MODEL_b8728e19c3b342b4a2b936fdaaa6b840",
            "value": " 681M/681M [00:09&lt;00:00, 82.0MB/s]"
          }
        },
        "112d2b2e13d14d99805dbfe766b10fd1": {
          "model_module": "@jupyter-widgets/base",
          "model_name": "LayoutModel",
          "model_module_version": "1.2.0",
          "state": {
            "_model_module": "@jupyter-widgets/base",
            "_model_module_version": "1.2.0",
            "_model_name": "LayoutModel",
            "_view_count": null,
            "_view_module": "@jupyter-widgets/base",
            "_view_module_version": "1.2.0",
            "_view_name": "LayoutView",
            "align_content": null,
            "align_items": null,
            "align_self": null,
            "border": null,
            "bottom": null,
            "display": null,
            "flex": null,
            "flex_flow": null,
            "grid_area": null,
            "grid_auto_columns": null,
            "grid_auto_flow": null,
            "grid_auto_rows": null,
            "grid_column": null,
            "grid_gap": null,
            "grid_row": null,
            "grid_template_areas": null,
            "grid_template_columns": null,
            "grid_template_rows": null,
            "height": null,
            "justify_content": null,
            "justify_items": null,
            "left": null,
            "margin": null,
            "max_height": null,
            "max_width": null,
            "min_height": null,
            "min_width": null,
            "object_fit": null,
            "object_position": null,
            "order": null,
            "overflow": null,
            "overflow_x": null,
            "overflow_y": null,
            "padding": null,
            "right": null,
            "top": null,
            "visibility": null,
            "width": null
          }
        },
        "f17d7ed7b4664190b7a9b0481b381f55": {
          "model_module": "@jupyter-widgets/base",
          "model_name": "LayoutModel",
          "model_module_version": "1.2.0",
          "state": {
            "_model_module": "@jupyter-widgets/base",
            "_model_module_version": "1.2.0",
            "_model_name": "LayoutModel",
            "_view_count": null,
            "_view_module": "@jupyter-widgets/base",
            "_view_module_version": "1.2.0",
            "_view_name": "LayoutView",
            "align_content": null,
            "align_items": null,
            "align_self": null,
            "border": null,
            "bottom": null,
            "display": null,
            "flex": null,
            "flex_flow": null,
            "grid_area": null,
            "grid_auto_columns": null,
            "grid_auto_flow": null,
            "grid_auto_rows": null,
            "grid_column": null,
            "grid_gap": null,
            "grid_row": null,
            "grid_template_areas": null,
            "grid_template_columns": null,
            "grid_template_rows": null,
            "height": null,
            "justify_content": null,
            "justify_items": null,
            "left": null,
            "margin": null,
            "max_height": null,
            "max_width": null,
            "min_height": null,
            "min_width": null,
            "object_fit": null,
            "object_position": null,
            "order": null,
            "overflow": null,
            "overflow_x": null,
            "overflow_y": null,
            "padding": null,
            "right": null,
            "top": null,
            "visibility": null,
            "width": null
          }
        },
        "e51701bfab4f49d5bb98158a3a73269d": {
          "model_module": "@jupyter-widgets/controls",
          "model_name": "DescriptionStyleModel",
          "model_module_version": "1.5.0",
          "state": {
            "_model_module": "@jupyter-widgets/controls",
            "_model_module_version": "1.5.0",
            "_model_name": "DescriptionStyleModel",
            "_view_count": null,
            "_view_module": "@jupyter-widgets/base",
            "_view_module_version": "1.2.0",
            "_view_name": "StyleView",
            "description_width": ""
          }
        },
        "71493064bbd04ba99ee511dc59b91070": {
          "model_module": "@jupyter-widgets/base",
          "model_name": "LayoutModel",
          "model_module_version": "1.2.0",
          "state": {
            "_model_module": "@jupyter-widgets/base",
            "_model_module_version": "1.2.0",
            "_model_name": "LayoutModel",
            "_view_count": null,
            "_view_module": "@jupyter-widgets/base",
            "_view_module_version": "1.2.0",
            "_view_name": "LayoutView",
            "align_content": null,
            "align_items": null,
            "align_self": null,
            "border": null,
            "bottom": null,
            "display": null,
            "flex": null,
            "flex_flow": null,
            "grid_area": null,
            "grid_auto_columns": null,
            "grid_auto_flow": null,
            "grid_auto_rows": null,
            "grid_column": null,
            "grid_gap": null,
            "grid_row": null,
            "grid_template_areas": null,
            "grid_template_columns": null,
            "grid_template_rows": null,
            "height": null,
            "justify_content": null,
            "justify_items": null,
            "left": null,
            "margin": null,
            "max_height": null,
            "max_width": null,
            "min_height": null,
            "min_width": null,
            "object_fit": null,
            "object_position": null,
            "order": null,
            "overflow": null,
            "overflow_x": null,
            "overflow_y": null,
            "padding": null,
            "right": null,
            "top": null,
            "visibility": null,
            "width": null
          }
        },
        "5a04c7c0bccf46b7ba9faf3f108d29e6": {
          "model_module": "@jupyter-widgets/controls",
          "model_name": "ProgressStyleModel",
          "model_module_version": "1.5.0",
          "state": {
            "_model_module": "@jupyter-widgets/controls",
            "_model_module_version": "1.5.0",
            "_model_name": "ProgressStyleModel",
            "_view_count": null,
            "_view_module": "@jupyter-widgets/base",
            "_view_module_version": "1.2.0",
            "_view_name": "StyleView",
            "bar_color": null,
            "description_width": ""
          }
        },
        "dbc6c17e044c4915a5be56c684dc612c": {
          "model_module": "@jupyter-widgets/base",
          "model_name": "LayoutModel",
          "model_module_version": "1.2.0",
          "state": {
            "_model_module": "@jupyter-widgets/base",
            "_model_module_version": "1.2.0",
            "_model_name": "LayoutModel",
            "_view_count": null,
            "_view_module": "@jupyter-widgets/base",
            "_view_module_version": "1.2.0",
            "_view_name": "LayoutView",
            "align_content": null,
            "align_items": null,
            "align_self": null,
            "border": null,
            "bottom": null,
            "display": null,
            "flex": null,
            "flex_flow": null,
            "grid_area": null,
            "grid_auto_columns": null,
            "grid_auto_flow": null,
            "grid_auto_rows": null,
            "grid_column": null,
            "grid_gap": null,
            "grid_row": null,
            "grid_template_areas": null,
            "grid_template_columns": null,
            "grid_template_rows": null,
            "height": null,
            "justify_content": null,
            "justify_items": null,
            "left": null,
            "margin": null,
            "max_height": null,
            "max_width": null,
            "min_height": null,
            "min_width": null,
            "object_fit": null,
            "object_position": null,
            "order": null,
            "overflow": null,
            "overflow_x": null,
            "overflow_y": null,
            "padding": null,
            "right": null,
            "top": null,
            "visibility": null,
            "width": null
          }
        },
        "b8728e19c3b342b4a2b936fdaaa6b840": {
          "model_module": "@jupyter-widgets/controls",
          "model_name": "DescriptionStyleModel",
          "model_module_version": "1.5.0",
          "state": {
            "_model_module": "@jupyter-widgets/controls",
            "_model_module_version": "1.5.0",
            "_model_name": "DescriptionStyleModel",
            "_view_count": null,
            "_view_module": "@jupyter-widgets/base",
            "_view_module_version": "1.2.0",
            "_view_name": "StyleView",
            "description_width": ""
          }
        }
      }
    }
  },
  "cells": [
    {
      "cell_type": "markdown",
      "metadata": {
        "id": "view-in-github",
        "colab_type": "text"
      },
      "source": [
        "<a href=\"https://colab.research.google.com/github/dave502/NLP/blob/main/lesson_13/nlp_hw_13.ipynb\" target=\"_parent\"><img src=\"https://colab.research.google.com/assets/colab-badge.svg\" alt=\"Open In Colab\"/></a>"
      ]
    },
    {
      "cell_type": "code",
      "execution_count": 23,
      "metadata": {
        "id": "a5-_SCMxDoML"
      },
      "outputs": [],
      "source": [
        "%%capture\n",
        "!pip install transformers"
      ]
    },
    {
      "cell_type": "code",
      "source": [
        "import re\n",
        "import torch\n",
        "from transformers import AutoTokenizer, AutoModelForCausalLM\n",
        "import csv\n",
        "import random"
      ],
      "metadata": {
        "id": "V5NbTwKuPF7N"
      },
      "execution_count": 24,
      "outputs": []
    },
    {
      "cell_type": "code",
      "source": [
        "device = torch.device(\"cuda\")#(\"cpu\")#"
      ],
      "metadata": {
        "id": "efOK4nhSpTxx"
      },
      "execution_count": 25,
      "outputs": []
    },
    {
      "cell_type": "markdown",
      "source": [
        "###ГЕНЕРАЦИЯ ТВИТОВ"
      ],
      "metadata": {
        "id": "mXwKdcr9GqRo"
      }
    },
    {
      "cell_type": "markdown",
      "source": [
        "#####Загрузка данных"
      ],
      "metadata": {
        "id": "Ja2f1Eq3fIYI"
      }
    },
    {
      "cell_type": "code",
      "source": [
        "%%capture\n",
        "!rm -r data data.zip\n",
        "!wget https://www.dropbox.com/s/s04sixz0366tj8r/data.zip\n",
        "!unzip data.zip\n",
        "!rm data.zip"
      ],
      "metadata": {
        "id": "60hjDDYhNUIH"
      },
      "execution_count": 4,
      "outputs": []
    },
    {
      "cell_type": "code",
      "source": [
        "!ls data"
      ],
      "metadata": {
        "colab": {
          "base_uri": "https://localhost:8080/"
        },
        "id": "G9CiMJghORZC",
        "outputId": "74db16b1-662c-40c9-c440-5eb5ce949fd3"
      },
      "execution_count": 5,
      "outputs": [
        {
          "output_type": "stream",
          "name": "stdout",
          "text": [
            "train.csv  val.csv\n"
          ]
        }
      ]
    },
    {
      "cell_type": "code",
      "source": [
        "!head -n 5 data/train.csv"
      ],
      "metadata": {
        "colab": {
          "base_uri": "https://localhost:8080/"
        },
        "id": "9nLvEaZ2TXg-",
        "outputId": "0ebad6f2-c01a-4a53-fcda-5426bdea6b42"
      },
      "execution_count": 6,
      "outputs": [
        {
          "output_type": "stream",
          "name": "stdout",
          "text": [
            "id,text,class\n",
            "0,\"@alisachachka не уезжаааааааай. :(❤ я тоже не хочу, чтобы ты уезжала.\",0\n",
            "1,\"RT @GalyginVadim: Ребята и девчата!\n",
            "Все в кино!!! \"\"Вот Это Любовь!\"\"\n",
            "Сегодня! Завтра!  И потом!)))))\n"
          ]
        }
      ]
    },
    {
      "cell_type": "code",
      "source": [
        "with open('data/train.csv', 'r') as train_csv:\n",
        "  reader = csv.reader(train_csv)\n",
        "  next(reader, None) # skip header\n",
        "  train_list = [rows[1] for rows in reader]\n",
        "train_list[:5]"
      ],
      "metadata": {
        "colab": {
          "base_uri": "https://localhost:8080/"
        },
        "id": "fCRACaXxTwK9",
        "outputId": "d029a86e-bfe1-436a-8375-9db17ba2a347"
      },
      "execution_count": 7,
      "outputs": [
        {
          "output_type": "execute_result",
          "data": {
            "text/plain": [
              "['@alisachachka не уезжаааааааай. :(❤ я тоже не хочу, чтобы ты уезжала.',\n",
              " 'RT @GalyginVadim: Ребята и девчата!\\nВсе в кино!!! \"Вот Это Любовь!\"\\nСегодня! Завтра!  И потом!)))))\\n#вотэтолюбовь',\n",
              " 'RT @ARTEM_KLYUSHIN: Кто ненавидит пробки ретвит((((( RT',\n",
              " 'RT @epupybobv: Хочется котлету по-киевски. Запретный плод. :)',\n",
              " '@KarineKurganova @Yess__Boss босапопа есбоса не боится мороза и .......))']"
            ]
          },
          "metadata": {},
          "execution_count": 7
        }
      ]
    },
    {
      "cell_type": "markdown",
      "source": [
        "#####Препроцессинг текста"
      ],
      "metadata": {
        "id": "4uCo2yIafeRu"
      }
    },
    {
      "cell_type": "code",
      "source": [
        "def preprocessing(text_lines:list, sep:str='')->list:\n",
        "  \"\"\"\n",
        "  функция педобработки данных\n",
        "  убираются сайты, символы, цифры, стоп-слова и токены с единичной длинной\n",
        "  \"\"\"  \n",
        "  # регулярное выражение для очистки текста\n",
        "  url_pattern = \"(http|ftp|https):\\/\\/([\\w_-]+(?:(?:\\.[\\w_-]+)+))([\\w.,@?^=%&:\\/~+#-]*[\\w@?^=%&\\/~+#-])\"\n",
        "  smile_pattern = \"(:D|D:)\"\n",
        "  usernames_pattern = \"(@[\\w]*|RT @[\\w]*)\"\n",
        "  onlywords_pattern = \"[^\\w\\b]|[^A-Za-zА-ЯЁа-яё]\"\n",
        "  pattern = f\"{smile_pattern}|{url_pattern}|{usernames_pattern}|{onlywords_pattern}\"\n",
        "\n",
        "  preprocessed = [re.sub(pattern, ' ', line) for line in text_lines]\n",
        "  preprocessed = [(re.sub(r'\\s+', ' ', line)+sep).lstrip() for line in preprocessed]\n",
        "\n",
        "  return preprocessed"
      ],
      "metadata": {
        "id": "--YNkmWSOeu5"
      },
      "execution_count": 8,
      "outputs": []
    },
    {
      "cell_type": "code",
      "source": [
        "sep = '\\n***\\n'\n",
        "train = preprocessing(train_list, sep)"
      ],
      "metadata": {
        "id": "PusrXjrFlicm"
      },
      "execution_count": 9,
      "outputs": []
    },
    {
      "cell_type": "markdown",
      "source": [
        "#####Инициализация модели GPT"
      ],
      "metadata": {
        "id": "60sEVx63flX7"
      }
    },
    {
      "cell_type": "code",
      "source": [
        "model_name = 'sberbank-ai/rugpt3small_based_on_gpt2'\n",
        "tokenizer = AutoTokenizer.from_pretrained(model_name)\n",
        "model = AutoModelForCausalLM.from_pretrained(model_name).to(device)"
      ],
      "metadata": {
        "id": "YPsoE4ODoWhj"
      },
      "execution_count": null,
      "outputs": []
    },
    {
      "cell_type": "markdown",
      "source": [
        "#####Отбор нескольких строк из обучающей выборки"
      ],
      "metadata": {
        "id": "YWFptEJJf7s2"
      }
    },
    {
      "cell_type": "code",
      "source": [
        "prefix = sep + ''.join(random.sample(train, 5))\n",
        "print(prefix)"
      ],
      "metadata": {
        "colab": {
          "base_uri": "https://localhost:8080/"
        },
        "id": "5yzBl7Rnpn1M",
        "outputId": "6d7ae045-11a9-4a87-f51b-e82094d43b97"
      },
      "execution_count": 11,
      "outputs": [
        {
          "output_type": "stream",
          "name": "stdout",
          "text": [
            "\n",
            "***\n",
            "Ты вообще одна с парнями фоткалась что плохого то \n",
            "***\n",
            "посмотрела у нее были две бэшки на одной на другой еще украинская бэшка в декабре есть \n",
            "***\n",
            "блин приди и уберись мне \n",
            "***\n",
            "На то он и мозг чтобы иногда нас удивлять х \n",
            "***\n",
            "пельмешечная идея витает в воздухе хммм \n",
            "***\n",
            "\n"
          ]
        }
      ]
    },
    {
      "cell_type": "markdown",
      "source": [
        "#####Токенизация текста"
      ],
      "metadata": {
        "id": "0pEVXgPBgJv7"
      }
    },
    {
      "cell_type": "code",
      "source": [
        "tokens = tokenizer(prefix, return_tensors='pt')\n",
        "tokens = {k: v.to(model.device) for k,v in tokens.items()}\n",
        "end_token_id = tokenizer.encode('***')[0]"
      ],
      "metadata": {
        "id": "H3xeBXb2pv_n"
      },
      "execution_count": 12,
      "outputs": []
    },
    {
      "cell_type": "code",
      "source": [
        "end_token_id"
      ],
      "metadata": {
        "colab": {
          "base_uri": "https://localhost:8080/"
        },
        "id": "FLe22n9LsYZc",
        "outputId": "5aa063da-fba7-4e96-b811-55808ac6ceb3"
      },
      "execution_count": 13,
      "outputs": [
        {
          "output_type": "execute_result",
          "data": {
            "text/plain": [
              "24633"
            ]
          },
          "metadata": {},
          "execution_count": 13
        }
      ]
    },
    {
      "cell_type": "markdown",
      "source": [
        "#####Генерация текста моделью"
      ],
      "metadata": {
        "id": "zU8F4FtigUZs"
      }
    },
    {
      "cell_type": "code",
      "source": [
        "# количество полученных токенов\n",
        "size = tokens['input_ids'].shape[1]\n",
        "# генарация текста\n",
        "output = model.generate(**tokens,\n",
        "                        eos_token_id=end_token_id,\n",
        "                        do_sample=False,\n",
        "                        max_length=size+128,\n",
        "                        repetition_penalty=4.2,\n",
        "                        temperature=0.7,\n",
        "                        num_beams=10,\n",
        "                        )\n",
        "decoded = tokenizer.decode(output[0])\n",
        "result = decoded[len(prefix):]\n",
        "print(result)"
      ],
      "metadata": {
        "colab": {
          "base_uri": "https://localhost:8080/"
        },
        "id": "CB6BbfdCsCxX",
        "outputId": "462e835a-4ca0-490e-8d99-bd39c70d44ea"
      },
      "execution_count": 21,
      "outputs": [
        {
          "output_type": "stream",
          "name": "stderr",
          "text": [
            "Setting `pad_token_id` to `eos_token_id`:24633 for open-end generation.\n"
          ]
        },
        {
          "output_type": "stream",
          "name": "stdout",
          "text": [
            "я не знаю как тебе объяснить, но я очень хочу чтоб ты была со мной. Я так скучаю по тебе \n",
            " ***\n",
            "у меня сегодня день рожденья а это значит что мы будем отмечать его где-нибудь в другом месте х \n",
            "***\n"
          ]
        }
      ]
    },
    {
      "cell_type": "markdown",
      "source": [
        "###АНАЛИЗ ТЕКСТА И ОТВЕТЫ ПО ТЕКСТУ"
      ],
      "metadata": {
        "id": "LIH-RQR9GxOm"
      }
    },
    {
      "cell_type": "code",
      "source": [
        "%%capture\n",
        "!pip install deeppavlov"
      ],
      "metadata": {
        "id": "S7W5yiGKs9Vt"
      },
      "execution_count": 1,
      "outputs": []
    },
    {
      "cell_type": "code",
      "source": [
        "from deeppavlov import build_model, configs"
      ],
      "metadata": {
        "id": "UE8oileeCyYN"
      },
      "execution_count": 3,
      "outputs": []
    },
    {
      "cell_type": "markdown",
      "source": [
        "Инициализация бертовой модели"
      ],
      "metadata": {
        "id": "hE91vGYlge8t"
      }
    },
    {
      "cell_type": "code",
      "source": [
        "model_dp = build_model(configs.squad.squad_ru_bert, download=True)"
      ],
      "metadata": {
        "colab": {
          "base_uri": "https://localhost:8080/",
          "height": 376,
          "referenced_widgets": [
            "04f9bda00b694791ae736fca3c60962f",
            "f5ea562b20c442fdbe283d9c9802c998",
            "c60248a36b264077b524f6f69b5ebc96",
            "fed9eb64bf6142d48607b0bc7193145e",
            "04e4b50697c04b0a8917edc3e27724f1",
            "42b838da8357410b82d4c5e59fda893a",
            "3d0b9384646b4097b387d315de2f5f88",
            "cc635307c8094877a7d425833401ef7f",
            "d82f3aaa7d394459a4972806b9298c88",
            "0d264916f9f54a448869b0cb161221e5",
            "bcca1f5c0f084206bc143b8702b803f2",
            "d5da9daad46f4d66b938811531248c55",
            "ff9223a26847490db70da6d502ad5191",
            "d90fcb40e262484f9dedd0f8105269d9",
            "7f5ab70f31f04763bf56baa3866e18c2",
            "9da5da17d4d540deb12d8402fa560977",
            "0d31796f253741c898ee60c35039f76f",
            "ea7521c703e24b9e95f8778615f7f38a",
            "3c4329d2b970446b87a9cb1aebd322c7",
            "a05b3dbe7eef4972a782ad4f19f1321c",
            "ebdd0859f82440b3b1c653ee83f47200",
            "09968c0609e54e3c98d7dd40217679e0",
            "41f05bf2fc544024a606effdfee4d703",
            "f639568968594524b0aa09ad30c426de",
            "c5648f782ed54156a2fc9585a3065d04",
            "972b6a7f3d5e41f5bf43456fd0843e6b",
            "8f61c6f69436488583b0f2eda9d30a2c",
            "2d908d31db5c4a9498a3d81373c65e4a",
            "2228fa93f7eb470d86ae432f9ffae3bb",
            "8ce77c6cb1944b1b83d2e8abb44a47b7",
            "e18bfed51531401e8caba7179dc867ca",
            "83ec6df1d9464f8fb846b00683e67eb6",
            "f0c8454d55af4caab0bd453a7186f0c4",
            "d53fe845e9404b1895127ab0cebd418d",
            "c9cacd50eeb5417d8c75b6079d50d6f6",
            "5132555b59084fc1af6660ea34a62a59",
            "959e3b04fe1e46ea95f8ae1fd936aee9",
            "a3956a92d96543d18a3ad591cc56fcca",
            "5a0a0963af8e4218b748b5bc628d0b90",
            "67c945d3a89f4cdb9c468e0363abca91",
            "433737718fd54f0d98bea2455ef49ee8",
            "962932110e274bb9b2dd355719ff4925",
            "6947a40aa8ac4e0b831d267177213502",
            "26526aa1278b4e7fb24b2e3a528a2687",
            "df8681b74ec44484b2f448206aa02a01",
            "62ffd4a40a7d48659fb50a1ba40e1b09",
            "a44fa48ccf724701840b358a75216e43",
            "5b0b88f56b1d4ee692ac3880e6226b8f",
            "112d2b2e13d14d99805dbfe766b10fd1",
            "f17d7ed7b4664190b7a9b0481b381f55",
            "e51701bfab4f49d5bb98158a3a73269d",
            "71493064bbd04ba99ee511dc59b91070",
            "5a04c7c0bccf46b7ba9faf3f108d29e6",
            "dbc6c17e044c4915a5be56c684dc612c",
            "b8728e19c3b342b4a2b936fdaaa6b840"
          ]
        },
        "id": "qULo4JR4C-42",
        "outputId": "e4a0465b-a5ed-49d1-c023-755a02266f23"
      },
      "execution_count": 6,
      "outputs": [
        {
          "output_type": "stream",
          "name": "stderr",
          "text": [
            "2022-12-06 15:32:09.420 INFO in 'deeppavlov.core.data.utils'['utils'] at line 95: Downloading from http://files.deeppavlov.ai/v1/squad/squad_ru_torch_bert.tar.gz to /root/.deeppavlov/squad_ru_torch_bert.tar.gz\n",
            "INFO:deeppavlov.core.data.utils:Downloading from http://files.deeppavlov.ai/v1/squad/squad_ru_torch_bert.tar.gz to /root/.deeppavlov/squad_ru_torch_bert.tar.gz\n",
            "100%|██████████| 1.74G/1.74G [01:28<00:00, 19.6MB/s]\n",
            "2022-12-06 15:33:38.964 INFO in 'deeppavlov.core.data.utils'['utils'] at line 276: Extracting /root/.deeppavlov/squad_ru_torch_bert.tar.gz archive into /root/.deeppavlov/models\n",
            "INFO:deeppavlov.core.data.utils:Extracting /root/.deeppavlov/squad_ru_torch_bert.tar.gz archive into /root/.deeppavlov/models\n"
          ]
        },
        {
          "output_type": "display_data",
          "data": {
            "text/plain": [
              "Downloading:   0%|          | 0.00/24.0 [00:00<?, ?B/s]"
            ],
            "application/vnd.jupyter.widget-view+json": {
              "version_major": 2,
              "version_minor": 0,
              "model_id": "04f9bda00b694791ae736fca3c60962f"
            }
          },
          "metadata": {}
        },
        {
          "output_type": "display_data",
          "data": {
            "text/plain": [
              "Downloading:   0%|          | 0.00/642 [00:00<?, ?B/s]"
            ],
            "application/vnd.jupyter.widget-view+json": {
              "version_major": 2,
              "version_minor": 0,
              "model_id": "d5da9daad46f4d66b938811531248c55"
            }
          },
          "metadata": {}
        },
        {
          "output_type": "display_data",
          "data": {
            "text/plain": [
              "Downloading:   0%|          | 0.00/1.57M [00:00<?, ?B/s]"
            ],
            "application/vnd.jupyter.widget-view+json": {
              "version_major": 2,
              "version_minor": 0,
              "model_id": "41f05bf2fc544024a606effdfee4d703"
            }
          },
          "metadata": {}
        },
        {
          "output_type": "display_data",
          "data": {
            "text/plain": [
              "Downloading:   0%|          | 0.00/112 [00:00<?, ?B/s]"
            ],
            "application/vnd.jupyter.widget-view+json": {
              "version_major": 2,
              "version_minor": 0,
              "model_id": "d53fe845e9404b1895127ab0cebd418d"
            }
          },
          "metadata": {}
        },
        {
          "output_type": "display_data",
          "data": {
            "text/plain": [
              "Downloading:   0%|          | 0.00/681M [00:00<?, ?B/s]"
            ],
            "application/vnd.jupyter.widget-view+json": {
              "version_major": 2,
              "version_minor": 0,
              "model_id": "df8681b74ec44484b2f448206aa02a01"
            }
          },
          "metadata": {}
        },
        {
          "output_type": "stream",
          "name": "stderr",
          "text": [
            "Some weights of the model checkpoint at DeepPavlov/rubert-base-cased were not used when initializing BertForQuestionAnswering: ['cls.predictions.transform.dense.weight', 'cls.seq_relationship.weight', 'cls.predictions.bias', 'cls.predictions.transform.LayerNorm.weight', 'cls.seq_relationship.bias', 'cls.predictions.decoder.weight', 'cls.predictions.transform.LayerNorm.bias', 'cls.predictions.decoder.bias', 'cls.predictions.transform.dense.bias']\n",
            "- This IS expected if you are initializing BertForQuestionAnswering from the checkpoint of a model trained on another task or with another architecture (e.g. initializing a BertForSequenceClassification model from a BertForPreTraining model).\n",
            "- This IS NOT expected if you are initializing BertForQuestionAnswering from the checkpoint of a model that you expect to be exactly identical (initializing a BertForSequenceClassification model from a BertForSequenceClassification model).\n",
            "Some weights of BertForQuestionAnswering were not initialized from the model checkpoint at DeepPavlov/rubert-base-cased and are newly initialized: ['qa_outputs.bias', 'qa_outputs.weight']\n",
            "You should probably TRAIN this model on a down-stream task to be able to use it for predictions and inference.\n"
          ]
        }
      ]
    },
    {
      "cell_type": "markdown",
      "source": [
        "Анализируемый текст"
      ],
      "metadata": {
        "id": "kQ_ZMhOXgnt6"
      }
    },
    {
      "cell_type": "code",
      "source": [
        "text = \\\n",
        "\"\"\"\n",
        "Далеко-далеко, в не замеченных картографами складках давно вышедшего из моды Западного Спирального Рукава Галактики, затерялась крохотная, никому не интересная желтая звезда.\n",
        "Вокруг нее, на расстоянии примерно девяноста восьми миллионов миль, обращается ничтожная зелено-голубая планетка, обитатели которой все еще очень похожи на своих предков-обезьян – достаточно сказать, что электронные часы до сих пор считаются у них чудом техники.\n",
        "У этой планеты есть – вернее, была – одна проблема: большинство живущих на ней людей только и делали, что страдали, так как не находили в жизни счастья. Рождалось множество решений, но почти все они сводились к перераспределению маленьких зеленых клочков бумаги – что само по себе весьма странно, так как кто-кто, а маленькие зеленые клочки бумаги никаких страданий не испытывали, ибо счастья не искали.\n",
        "Решение все никак не находилось, и планета полнилась озлобленными людьми, для большинства из которых ощущение несчастья было постоянным, и даже электронные часы не скрашивали им жизнь.\n",
        "Постепенно распространялось и крепло убеждение, что все несчастья пошли с того, как люди спустились с деревьев на землю. А кое-кто даже полагал, что ошибка была совершена еще раньше – с деревьями тоже нечего было связываться и вообще незачем было вылезать из океана.\n",
        "И вот как-то в четверг, после дождя, спустя почти две тысячи лет после того, как одного человека приколотили гвоздями к дереву за то, что он призывал хотя бы иногда, просто для разнообразия, относиться друг к другу по-хорошему, некая девушка, сидя в одиночестве за столиком маленького кафе в Рикмансворте, вдруг додумалась, в чем была вся загвоздка и каким образом мир все-таки можно сделать обителью счастья и покоя. На сей раз дело в шляпе, все непременно получится – и никаких гвоздей и приколачиваний живых людей к деревьям и прочим предметам!\n",
        "К сожалению, не успела она дойти до телефона, чтобы поделиться с кем-нибудь своим открытием, произошла чудовищно нелепая катастрофа, и решение было навсегда потеряно.\n",
        "Впрочем, история, которую я собираюсь вам поведать, не о девушке.\n",
        "Это история о чудовищно нелепой катастрофе и некоторых ее последствиях.\n",
        "Также это история о книге. О книге под названием «Автостопом по Галактике: Путеводитель вольного странника», в обиходе именуемой просто «Путеводитель» – книге, написанной не на Земле, никогда на Земле не публиковавшейся и до катастрофы неизвестной ни одному землянину. Тем не менее это замечательная книга.\n",
        "Пожалуй, это самое замечательное из всех изданий грандиозной Издательской корпорации Малой Медведицы – также неизвестной ни одному землянину.\n",
        "Книга пользуется огромным спросом, оставив далеко позади «Межзвездный сборник советов по домоводству»; раскупается гораздо быстрее, чем «Еще 53 способа скоротать время в невесомости», и вызывает еще больше споров и толков, чем философская трилогия «Где Господь сбился с пути», «Основные ошибки Господа Бога» и «Да кто он в конце концов такой, этот Господь Бог?!»\n",
        "В просвещенных и расслабленных цивилизациях Внешнего Восточного Кольца Галактики «Путеводитель» вытеснил даже великую «Большую Галактическую Энциклопедию» в качестве общепризнанного кладезя мудрости и знаний. Ибо, несмотря на обилие пропусков и вопиюще искаженной, а то и просто-напросто апокрифической информации, «Путеводитель» обладает двумя важнейшими преимуществами перед «Энциклопедией».\n",
        "Во-первых, он дешевле. Во-вторых, на титульном листе крупными буквами выведены сакраментальные слова: «НЕ ПАНИКУЙ».\n",
        "\"\"\""
      ],
      "metadata": {
        "id": "ib_M9fQ4Dxpe"
      },
      "execution_count": 7,
      "outputs": []
    },
    {
      "cell_type": "markdown",
      "source": [
        "#####Проверка анализа текста и генерации ответов"
      ],
      "metadata": {
        "id": "fJvkzjXUg0ZS"
      }
    },
    {
      "cell_type": "code",
      "source": [
        "model_dp([text], ['где затерялась звезда?'])"
      ],
      "metadata": {
        "colab": {
          "base_uri": "https://localhost:8080/"
        },
        "id": "6GV8skPXE1tq",
        "outputId": "a5a17b61-77ed-4768-96b6-a14ada355c28"
      },
      "execution_count": 11,
      "outputs": [
        {
          "output_type": "execute_result",
          "data": {
            "text/plain": [
              "[['в не замеченных картографами складках давно вышедшего из моды Западного Спирального Рукава Галактики'],\n",
              " [16],\n",
              " [1.0]]"
            ]
          },
          "metadata": {},
          "execution_count": 11
        }
      ]
    },
    {
      "cell_type": "code",
      "source": [
        "model_dp([text], ['что написано на листе?'])"
      ],
      "metadata": {
        "colab": {
          "base_uri": "https://localhost:8080/"
        },
        "id": "LXjCMbRSFaVw",
        "outputId": "9cb7e6a6-30dc-4f76-bfab-34bb8d5422c2"
      },
      "execution_count": 12,
      "outputs": [
        {
          "output_type": "execute_result",
          "data": {
            "text/plain": [
              "[['«НЕ ПАНИКУЙ»'], [1381], [0.9999987483024597]]"
            ]
          },
          "metadata": {},
          "execution_count": 12
        }
      ]
    },
    {
      "cell_type": "code",
      "source": [
        "model_dp([text], ['о чем книга?'])"
      ],
      "metadata": {
        "colab": {
          "base_uri": "https://localhost:8080/"
        },
        "id": "w2Fr4SdoFYIE",
        "outputId": "cfd2b4ef-6758-46dd-9dc2-b2f32fa92603"
      },
      "execution_count": 13,
      "outputs": [
        {
          "output_type": "execute_result",
          "data": {
            "text/plain": [
              "[['о чудовищно нелепой катастрофе и некоторых ее последствиях'],\n",
              " [12],\n",
              " [0.9999992847442627]]"
            ]
          },
          "metadata": {},
          "execution_count": 13
        }
      ]
    },
    {
      "cell_type": "markdown",
      "source": [
        "###ДИАЛОГ С ПОМОЩЬЮ GPT "
      ],
      "metadata": {
        "id": "zxtcchaxHO4J"
      }
    },
    {
      "cell_type": "markdown",
      "source": [
        "Функция генерации ответа по списку предыдущих фраз"
      ],
      "metadata": {
        "id": "-HRLhn6jhPto"
      }
    },
    {
      "cell_type": "code",
      "source": [
        "def continue_dialog(texts):\n",
        "\n",
        "  # вставка префиксов, определяющих участников диалога\n",
        "  prefix = '\\nx:'\n",
        "  for i, t in enumerate(texts):\n",
        "    prefix += t\n",
        "    prefix += '\\nx:' if i%2 == 1 else '\\ny:'\n",
        "  # токенизация дилога\n",
        "  tokens = tokenizer(prefix, return_tensors='pt')\n",
        "  tokens = {k: v.to(model.device) for k, v in tokens.items()}\n",
        "  end_token_id = tokenizer.encode('\\n')[0]\n",
        "  # добавление следующей фразы \n",
        "  size = tokens['input_ids'].shape[1]\n",
        "  output = model.generate(**tokens,\n",
        "                          eos_token_id=end_token_id,\n",
        "                          do_sample=True,\n",
        "                          max_length=size+128,\n",
        "                          repetition_penalty=3.2,\n",
        "                          temperature=1,\n",
        "                          num_beams=3,\n",
        "                          length_penalty=0.01,\n",
        "                          pad_token_id=tokenizer.eos_token_id)\n",
        "  # декодирование полученных токенов\n",
        "  decoded = tokenizer.decode(output[0])\n",
        "  # возврат последней фразы из диалога\n",
        "  result = decoded[len(prefix):]\n",
        "  return result.strip()"
      ],
      "metadata": {
        "id": "4wdVXt_sF-i6"
      },
      "execution_count": 47,
      "outputs": []
    },
    {
      "cell_type": "code",
      "source": [
        "start_phrase = input('Начните диалог:\\n') # получаем первую фразу от пользователя\n",
        "history = [start_phrase]\n",
        "while True:\n",
        "  response = continue_dialog(history[-10:])   # получаем ответ от модели на основании последних 10-ти фраз\n",
        "  next_sentence = input(response + '\\n') # выводи ответ и получаем следующую фразу от пользователя\n",
        "  if next_sentence.lower()=='пока': break # если пользователь прощается - выходим\n",
        "  history.append(response) # запись новых фраз в историю диалога\n",
        "  history.append(next_sentence)"
      ],
      "metadata": {
        "colab": {
          "base_uri": "https://localhost:8080/"
        },
        "id": "eZR2aTI-Szms",
        "outputId": "5410088b-d022-4045-ae29-68ae2565dac1"
      },
      "execution_count": 51,
      "outputs": [
        {
          "name": "stdout",
          "output_type": "stream",
          "text": [
            "Начните диалог:\n",
            "Добрый вечер!\n",
            "Здравствуйте.\n",
            "Как Вас зовут?\n",
            "Лариса.\n",
            "Как дела, Лариса?\n",
            "Нормально.\n",
            "Вы не знаете какая сечас погода?\n",
            "Нет.\n",
            "А время сейчас какое?\n",
            "Четверг.\n",
            "Нет, сегодня вторник.\n",
            "Понятно.\n",
            "Вы не расположены к диалогу, да?\n",
            "Да.\n",
            "Тогда не буду Вас больше беспокоить\n",
            "Почему?\n",
            "У меня много дел\n",
            "Какие дела?\n",
            "Мне пора готовить ужин\n",
            "Простите, а что это значит?\n",
            "Вам не понять\n",
            "Что-что?\n",
            "Пока\n"
          ]
        }
      ]
    }
  ]
}