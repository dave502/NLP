{
  "nbformat": 4,
  "nbformat_minor": 0,
  "metadata": {
    "colab": {
      "provenance": [],
      "collapsed_sections": [],
      "authorship_tag": "ABX9TyOjiNWvRG51MAY4lPySfZ54",
      "include_colab_link": true
    },
    "kernelspec": {
      "name": "python3",
      "display_name": "Python 3"
    },
    "language_info": {
      "name": "python"
    },
    "widgets": {
      "application/vnd.jupyter.widget-state+json": {
        "11fc91ae6a724e7eb5326fcfcb7c1ee6": {
          "model_module": "@jupyter-widgets/controls",
          "model_name": "HBoxModel",
          "model_module_version": "1.5.0",
          "state": {
            "_dom_classes": [],
            "_model_module": "@jupyter-widgets/controls",
            "_model_module_version": "1.5.0",
            "_model_name": "HBoxModel",
            "_view_count": null,
            "_view_module": "@jupyter-widgets/controls",
            "_view_module_version": "1.5.0",
            "_view_name": "HBoxView",
            "box_style": "",
            "children": [
              "IPY_MODEL_1b0ff8b2127143b2add2db5359161aa1",
              "IPY_MODEL_be631163266b4bfd9027e4de3ff50a9d",
              "IPY_MODEL_803fd00f0d6e4ef7b444b6171dcd5cc4"
            ],
            "layout": "IPY_MODEL_359062a5a2dd4b429250c915d6570bd8"
          }
        },
        "1b0ff8b2127143b2add2db5359161aa1": {
          "model_module": "@jupyter-widgets/controls",
          "model_name": "HTMLModel",
          "model_module_version": "1.5.0",
          "state": {
            "_dom_classes": [],
            "_model_module": "@jupyter-widgets/controls",
            "_model_module_version": "1.5.0",
            "_model_name": "HTMLModel",
            "_view_count": null,
            "_view_module": "@jupyter-widgets/controls",
            "_view_module_version": "1.5.0",
            "_view_name": "HTMLView",
            "description": "",
            "description_tooltip": null,
            "layout": "IPY_MODEL_d32ed60a9e284c74a9438f7b22fdcc99",
            "placeholder": "​",
            "style": "IPY_MODEL_e0210ebda39c473fb10ef8c7118e7a4c",
            "value": ""
          }
        },
        "be631163266b4bfd9027e4de3ff50a9d": {
          "model_module": "@jupyter-widgets/controls",
          "model_name": "FloatProgressModel",
          "model_module_version": "1.5.0",
          "state": {
            "_dom_classes": [],
            "_model_module": "@jupyter-widgets/controls",
            "_model_module_version": "1.5.0",
            "_model_name": "FloatProgressModel",
            "_view_count": null,
            "_view_module": "@jupyter-widgets/controls",
            "_view_module_version": "1.5.0",
            "_view_name": "ProgressView",
            "bar_style": "danger",
            "description": "",
            "description_tooltip": null,
            "layout": "IPY_MODEL_502fb4b37cb644ffa4a648b92054b38f",
            "max": 1,
            "min": 0,
            "orientation": "horizontal",
            "style": "IPY_MODEL_354e1d93a1d34860858b84d974eaf81c",
            "value": 1
          }
        },
        "803fd00f0d6e4ef7b444b6171dcd5cc4": {
          "model_module": "@jupyter-widgets/controls",
          "model_name": "HTMLModel",
          "model_module_version": "1.5.0",
          "state": {
            "_dom_classes": [],
            "_model_module": "@jupyter-widgets/controls",
            "_model_module_version": "1.5.0",
            "_model_name": "HTMLModel",
            "_view_count": null,
            "_view_module": "@jupyter-widgets/controls",
            "_view_module_version": "1.5.0",
            "_view_name": "HTMLView",
            "description": "",
            "description_tooltip": null,
            "layout": "IPY_MODEL_d880d88b66854a16aa3d5fa11d4c1c30",
            "placeholder": "​",
            "style": "IPY_MODEL_f45f33a55d0943aebba9d4f521eb4768",
            "value": " 100000/? [57:17&lt;00:00, 38.93it/s]"
          }
        },
        "359062a5a2dd4b429250c915d6570bd8": {
          "model_module": "@jupyter-widgets/base",
          "model_name": "LayoutModel",
          "model_module_version": "1.2.0",
          "state": {
            "_model_module": "@jupyter-widgets/base",
            "_model_module_version": "1.2.0",
            "_model_name": "LayoutModel",
            "_view_count": null,
            "_view_module": "@jupyter-widgets/base",
            "_view_module_version": "1.2.0",
            "_view_name": "LayoutView",
            "align_content": null,
            "align_items": null,
            "align_self": null,
            "border": null,
            "bottom": null,
            "display": null,
            "flex": null,
            "flex_flow": null,
            "grid_area": null,
            "grid_auto_columns": null,
            "grid_auto_flow": null,
            "grid_auto_rows": null,
            "grid_column": null,
            "grid_gap": null,
            "grid_row": null,
            "grid_template_areas": null,
            "grid_template_columns": null,
            "grid_template_rows": null,
            "height": null,
            "justify_content": null,
            "justify_items": null,
            "left": null,
            "margin": null,
            "max_height": null,
            "max_width": null,
            "min_height": null,
            "min_width": null,
            "object_fit": null,
            "object_position": null,
            "order": null,
            "overflow": null,
            "overflow_x": null,
            "overflow_y": null,
            "padding": null,
            "right": null,
            "top": null,
            "visibility": null,
            "width": null
          }
        },
        "d32ed60a9e284c74a9438f7b22fdcc99": {
          "model_module": "@jupyter-widgets/base",
          "model_name": "LayoutModel",
          "model_module_version": "1.2.0",
          "state": {
            "_model_module": "@jupyter-widgets/base",
            "_model_module_version": "1.2.0",
            "_model_name": "LayoutModel",
            "_view_count": null,
            "_view_module": "@jupyter-widgets/base",
            "_view_module_version": "1.2.0",
            "_view_name": "LayoutView",
            "align_content": null,
            "align_items": null,
            "align_self": null,
            "border": null,
            "bottom": null,
            "display": null,
            "flex": null,
            "flex_flow": null,
            "grid_area": null,
            "grid_auto_columns": null,
            "grid_auto_flow": null,
            "grid_auto_rows": null,
            "grid_column": null,
            "grid_gap": null,
            "grid_row": null,
            "grid_template_areas": null,
            "grid_template_columns": null,
            "grid_template_rows": null,
            "height": null,
            "justify_content": null,
            "justify_items": null,
            "left": null,
            "margin": null,
            "max_height": null,
            "max_width": null,
            "min_height": null,
            "min_width": null,
            "object_fit": null,
            "object_position": null,
            "order": null,
            "overflow": null,
            "overflow_x": null,
            "overflow_y": null,
            "padding": null,
            "right": null,
            "top": null,
            "visibility": null,
            "width": null
          }
        },
        "e0210ebda39c473fb10ef8c7118e7a4c": {
          "model_module": "@jupyter-widgets/controls",
          "model_name": "DescriptionStyleModel",
          "model_module_version": "1.5.0",
          "state": {
            "_model_module": "@jupyter-widgets/controls",
            "_model_module_version": "1.5.0",
            "_model_name": "DescriptionStyleModel",
            "_view_count": null,
            "_view_module": "@jupyter-widgets/base",
            "_view_module_version": "1.2.0",
            "_view_name": "StyleView",
            "description_width": ""
          }
        },
        "502fb4b37cb644ffa4a648b92054b38f": {
          "model_module": "@jupyter-widgets/base",
          "model_name": "LayoutModel",
          "model_module_version": "1.2.0",
          "state": {
            "_model_module": "@jupyter-widgets/base",
            "_model_module_version": "1.2.0",
            "_model_name": "LayoutModel",
            "_view_count": null,
            "_view_module": "@jupyter-widgets/base",
            "_view_module_version": "1.2.0",
            "_view_name": "LayoutView",
            "align_content": null,
            "align_items": null,
            "align_self": null,
            "border": null,
            "bottom": null,
            "display": null,
            "flex": null,
            "flex_flow": null,
            "grid_area": null,
            "grid_auto_columns": null,
            "grid_auto_flow": null,
            "grid_auto_rows": null,
            "grid_column": null,
            "grid_gap": null,
            "grid_row": null,
            "grid_template_areas": null,
            "grid_template_columns": null,
            "grid_template_rows": null,
            "height": null,
            "justify_content": null,
            "justify_items": null,
            "left": null,
            "margin": null,
            "max_height": null,
            "max_width": null,
            "min_height": null,
            "min_width": null,
            "object_fit": null,
            "object_position": null,
            "order": null,
            "overflow": null,
            "overflow_x": null,
            "overflow_y": null,
            "padding": null,
            "right": null,
            "top": null,
            "visibility": null,
            "width": "20px"
          }
        },
        "354e1d93a1d34860858b84d974eaf81c": {
          "model_module": "@jupyter-widgets/controls",
          "model_name": "ProgressStyleModel",
          "model_module_version": "1.5.0",
          "state": {
            "_model_module": "@jupyter-widgets/controls",
            "_model_module_version": "1.5.0",
            "_model_name": "ProgressStyleModel",
            "_view_count": null,
            "_view_module": "@jupyter-widgets/base",
            "_view_module_version": "1.2.0",
            "_view_name": "StyleView",
            "bar_color": null,
            "description_width": ""
          }
        },
        "d880d88b66854a16aa3d5fa11d4c1c30": {
          "model_module": "@jupyter-widgets/base",
          "model_name": "LayoutModel",
          "model_module_version": "1.2.0",
          "state": {
            "_model_module": "@jupyter-widgets/base",
            "_model_module_version": "1.2.0",
            "_model_name": "LayoutModel",
            "_view_count": null,
            "_view_module": "@jupyter-widgets/base",
            "_view_module_version": "1.2.0",
            "_view_name": "LayoutView",
            "align_content": null,
            "align_items": null,
            "align_self": null,
            "border": null,
            "bottom": null,
            "display": null,
            "flex": null,
            "flex_flow": null,
            "grid_area": null,
            "grid_auto_columns": null,
            "grid_auto_flow": null,
            "grid_auto_rows": null,
            "grid_column": null,
            "grid_gap": null,
            "grid_row": null,
            "grid_template_areas": null,
            "grid_template_columns": null,
            "grid_template_rows": null,
            "height": null,
            "justify_content": null,
            "justify_items": null,
            "left": null,
            "margin": null,
            "max_height": null,
            "max_width": null,
            "min_height": null,
            "min_width": null,
            "object_fit": null,
            "object_position": null,
            "order": null,
            "overflow": null,
            "overflow_x": null,
            "overflow_y": null,
            "padding": null,
            "right": null,
            "top": null,
            "visibility": null,
            "width": null
          }
        },
        "f45f33a55d0943aebba9d4f521eb4768": {
          "model_module": "@jupyter-widgets/controls",
          "model_name": "DescriptionStyleModel",
          "model_module_version": "1.5.0",
          "state": {
            "_model_module": "@jupyter-widgets/controls",
            "_model_module_version": "1.5.0",
            "_model_name": "DescriptionStyleModel",
            "_view_count": null,
            "_view_module": "@jupyter-widgets/base",
            "_view_module_version": "1.2.0",
            "_view_name": "StyleView",
            "description_width": ""
          }
        }
      }
    }
  },
  "cells": [
    {
      "cell_type": "markdown",
      "metadata": {
        "id": "view-in-github",
        "colab_type": "text"
      },
      "source": [
        "<a href=\"https://colab.research.google.com/github/dave502/NLP/blob/main/lesson_03/nlp_hw_03.ipynb\" target=\"_parent\"><img src=\"https://colab.research.google.com/assets/colab-badge.svg\" alt=\"Open In Colab\"/></a>"
      ]
    },
    {
      "cell_type": "code",
      "source": [
        "%%capture\n",
        "!pip install corus\n",
        "!pip install annoy\n",
        "!pip install pymorphy2\n",
        "!pip install stop_words"
      ],
      "metadata": {
        "id": "nxjFBZ_ACLrP"
      },
      "execution_count": null,
      "outputs": []
    },
    {
      "cell_type": "code",
      "source": [
        "from corus import load_ods_gazeta\n",
        "from google.colab import drive\n",
        "import annoy\n",
        "from gensim.models import Word2Vec, FastText\n",
        "from pymorphy2 import MorphAnalyzer\n",
        "from stop_words import get_stop_words\n",
        "import string\n",
        "from tqdm.notebook import tqdm\n",
        "import pickle\n",
        "import numpy as np"
      ],
      "metadata": {
        "id": "PETUH0o4DpL2"
      },
      "execution_count": 50,
      "outputs": []
    },
    {
      "cell_type": "code",
      "source": [
        "data_path = '/drive/My Drive/MLData/'\n",
        "data_file = 'gazeta.csv.gz'"
      ],
      "metadata": {
        "id": "y0UDZJ5ORYH7"
      },
      "execution_count": 3,
      "outputs": []
    },
    {
      "cell_type": "code",
      "source": [
        "drive.mount('/drive')"
      ],
      "metadata": {
        "colab": {
          "base_uri": "https://localhost:8080/"
        },
        "id": "w_Opaj2eRlXT",
        "outputId": "2e89131c-265c-4f82-e350-f59cacc6f27e"
      },
      "execution_count": 4,
      "outputs": [
        {
          "output_type": "stream",
          "name": "stdout",
          "text": [
            "Mounted at /drive\n"
          ]
        }
      ]
    },
    {
      "cell_type": "code",
      "source": [
        "# функция предобработки текста\n",
        "def preprocess_text(text, morpher, stopwords, punctuation):\n",
        "\n",
        "  tokens = ''.join(token for token in text.strip() if token not in punctuation).split()\n",
        "  tokens = [morpher.parse(token.lower())[0].normal_form for token in tokens]\n",
        "  tokens = [token for token in tokens if token not in stopwords and token != \"\"]\n",
        "  return tokens  "
      ],
      "metadata": {
        "id": "dcrJEyINVNgj"
      },
      "execution_count": 13,
      "outputs": []
    },
    {
      "cell_type": "code",
      "source": [
        "# даные для предобработки текста\n",
        "morpher = MorphAnalyzer()\n",
        "stopwords = set(get_stop_words(\"ru\"))\n",
        "punctuation = set(string.punctuation)"
      ],
      "metadata": {
        "id": "5lfrWrCGXVDM"
      },
      "execution_count": 14,
      "outputs": []
    },
    {
      "cell_type": "code",
      "source": [
        "# загрузка даных\n",
        "records = load_ods_gazeta(data_path+data_file)\n",
        "next(records)"
      ],
      "metadata": {
        "colab": {
          "base_uri": "https://localhost:8080/"
        },
        "id": "Z6L93NcBCHGp",
        "outputId": "4f6bd554-8c69-4902-cbdd-004ff720aea3"
      },
      "execution_count": 15,
      "outputs": [
        {
          "output_type": "execute_result",
          "data": {
            "text/plain": [
              "NewsRecord(\n",
              "    timestamp=datetime.datetime(2008, 11, 21, 15, 19, 14),\n",
              "    url='https://www.gazeta.ru/news/business/2008/11/21/n_1298950.shtml',\n",
              "    edition=None,\n",
              "    topics='Бизнес',\n",
              "    authors=None,\n",
              "    title='Госдума сокращает срок действия ставки экспортных пошлин на нефть',\n",
              "    text='Госдума приняла сегодня в первом чтении и сразу в целом поправки в закон «О таможенном тарифе», сокращающие срок действия ставки экспортных пошлин на нефть с 2-х до 1-го месяца.nnДля установления средних цен на нефть марки Urals и расчета экспортных пошлин правительство России в течение двух месяцев проводит мониторинг на международных рынках нефтяного сырья (средиземноморском и роттердамском), экспортные пошлины на нефть устанавливаются также раз в два месяца.nnСокращение на месяц периода мониторинга (с 15-го числа каждого календарного месяца по 14-е число следующего месяца) и соответственно срока действия ставок экспортных пошлин «позволит более оперативно реагировать на изменения экономической ситуации в стране и сэкономить нефтяникам миллиарды рублей», считают разработчики. Экспортные ставки будут вводиться с 1 числа календарного месяца, следующего за окончанием периода мониторинга.',\n",
              "    stats=Stats(\n",
              "        fb=None,\n",
              "        vk=None,\n",
              "        ok=None,\n",
              "        twitter=None,\n",
              "        lj=None,\n",
              "        tg=None,\n",
              "        likes=None,\n",
              "        views=None,\n",
              "        comments=None\n",
              "    )\n",
              ")"
            ]
          },
          "metadata": {},
          "execution_count": 15
        }
      ]
    },
    {
      "cell_type": "code",
      "source": [
        "# предобработка и запись новых данных в список\n",
        "news = []\n",
        "counter = 0\n",
        "for record in tqdm(records):\n",
        "  news.append(preprocess_text(record.text, morpher, stopwords, punctuation))\n",
        "  counter += 1\n",
        "  if counter > 100000: break\n"
      ],
      "metadata": {
        "colab": {
          "base_uri": "https://localhost:8080/",
          "height": 49,
          "referenced_widgets": [
            "11fc91ae6a724e7eb5326fcfcb7c1ee6",
            "1b0ff8b2127143b2add2db5359161aa1",
            "be631163266b4bfd9027e4de3ff50a9d",
            "803fd00f0d6e4ef7b444b6171dcd5cc4",
            "359062a5a2dd4b429250c915d6570bd8",
            "d32ed60a9e284c74a9438f7b22fdcc99",
            "e0210ebda39c473fb10ef8c7118e7a4c",
            "502fb4b37cb644ffa4a648b92054b38f",
            "354e1d93a1d34860858b84d974eaf81c",
            "d880d88b66854a16aa3d5fa11d4c1c30",
            "f45f33a55d0943aebba9d4f521eb4768"
          ]
        },
        "id": "8NlCr1H4E0qh",
        "outputId": "e5183c8a-4923-4926-f32c-3c5b9e2be786"
      },
      "execution_count": 16,
      "outputs": [
        {
          "output_type": "display_data",
          "data": {
            "text/plain": [
              "0it [00:00, ?it/s]"
            ],
            "application/vnd.jupyter.widget-view+json": {
              "version_major": 2,
              "version_minor": 0,
              "model_id": "11fc91ae6a724e7eb5326fcfcb7c1ee6"
            }
          },
          "metadata": {}
        }
      ]
    },
    {
      "cell_type": "code",
      "source": [
        "print(news[0])"
      ],
      "metadata": {
        "colab": {
          "base_uri": "https://localhost:8080/"
        },
        "id": "G5HMFYdtYDVq",
        "outputId": "1cb8c635-c1ab-4416-c682-edfc3c155f70"
      },
      "execution_count": 159,
      "outputs": [
        {
          "output_type": "stream",
          "name": "stdout",
          "text": [
            "['японский', 'учёный', 'физический', 'центр', 'riken', 'заявлять', 'удаться', 'синтезировать', 'атом', '113го', 'элемент', 'таблица', 'менделеев', 'элемент', 'впервые', 'получить', '2003', 'российский', 'американский', 'физик', 'эксперимент', 'синтез', '115го', 'элемент', 'открытие', 'признать', 'международный', 'союз', 'теоретический', 'прикладной', 'химия', 'сообщаетnриа', '«новости»nnть', 'природа', 'существовать', 'элемент', 'атомный', 'номер', 'число', 'протон', 'ядро', 'атом', 'большой', '92', 'тяжёлый', 'уран', 'тяжёлый', 'элемент', 'например', 'плутоний', 'нарабатываться', 'атомный', 'реактор', 'элемент', 'тяжёлый', '100го', 'фермий', 'получать', 'ускоритель', 'путём', 'бомбардировка', 'мишень', 'тяжёлый', 'ион', 'слияние', 'ядро', 'мишень', '«снаряда»', 'возникать', 'ядро', 'новый', 'элементаnnгруппа', 'учёный', 'руководство', 'косука', 'морить', 'статья', 'опубликовать', 'journal', 'of', 'physical', 'society', 'of', 'japan', 'описывать', 'результат', 'многолетний', 'эксперимент', 'линейный', 'ускоритель', 'расположить', 'город', 'вако', 'окрестность', 'токио', '2003', 'исследователь', 'пытаться', 'получить', '113ть', 'элемент', 'бомбардировать', 'ускоритель', 'мишень', 'висмута209', 'пучок', 'ион', 'цинка70', 'разогнать', 'скорость', 'свет', 'висмутаnть', 'результат', 'удаться', 'зафиксировать', 'цепочка', 'распад', 'соответствующий', 'событие', 'рождение', '113го', 'элемент', '23', 'июль', '2004', '2', 'апрель', '2005', '12', 'август', '2012', 'ядро', 'новый', 'элемент', 'составить', '49', '03', 'миллисекундыnкак', 'считать', 'японский', 'учёный', 'открытие', 'стать', 'основание', 'международный', 'союз', 'теоретический', 'прикладной', 'химия', 'признать', 'открытие', 'случай', 'японский', 'учёный', 'впервые', 'история', 'получить', 'право', 'дать', 'название', 'новый', 'элемент', 'признание', 'требоваться', 'независимый', 'подтверждение', 'эксперимент', 'должный', 'повторный', 'лаборатория', 'перекрёстный', 'реакцииn«этый', 'выдающийся', 'результат', 'воспроизвести', 'крайне', 'трудно', 'поскольку', 'регистрироваться', 'примерно', 'событие', 'перекрёстный', 'реакция', 'существует»', 'андрей', 'попёкий', 'заместитель', 'директор', 'лаборатория', 'флёровый', 'объединить', 'институт', 'ядерный', 'исследование', 'дубна']\n"
          ]
        }
      ]
    },
    {
      "cell_type": "code",
      "source": [
        "with open(data_path+'news.pkl', 'wb') as f:\n",
        "  pickle.dump(news, f)"
      ],
      "metadata": {
        "id": "XFpWd_C-aVc-"
      },
      "execution_count": 18,
      "outputs": []
    },
    {
      "cell_type": "code",
      "source": [
        "%%time\n",
        "# обучение модели\n",
        "modelFT = FastText(sentences=news, min_count=3, window=5, workers=8, size=300)"
      ],
      "metadata": {
        "id": "mB-DrfV5dbuU"
      },
      "execution_count": null,
      "outputs": []
    },
    {
      "cell_type": "code",
      "source": [
        "# повторная загрузка данных для кластеризатора\n",
        "records = load_ods_gazeta(data_path+data_file)\n",
        "# инициализация кластеризатора\n",
        "ft_index = annoy.AnnoyIndex(300 ,'angular')\n",
        "\n",
        "index_map = {}\n",
        "counter = 0\n",
        "# для каждой новости\n",
        "for record in tqdm(records):\n",
        "    n_ft = 0\n",
        "    # запись новости в словарь\n",
        "    index_map[counter] = record.text\n",
        "\n",
        "    # инициализация вектора новости нолями\n",
        "    vector_ft = np.zeros(300)\n",
        "\n",
        "    # для каждого слова новости получаем вектор из модели и суммируем все вектора в один\n",
        "    for word in record.text.split():\n",
        "        if word in modelFT.wv:\n",
        "            vector_ft += modelFT.wv[word]\n",
        "            n_ft += 1\n",
        "    if n_ft > 0:\n",
        "        vector_ft = vector_ft / n_ft # нормализация вектора \n",
        "    # добавляем полученный вектор в кластеризатор \n",
        "    ft_index.add_item(counter, vector_ft)\n",
        "    \n",
        "    counter += 1\n",
        "\n",
        "    if counter > 100000:\n",
        "        break"
      ],
      "metadata": {
        "id": "cu0QW-StK-jd"
      },
      "execution_count": null,
      "outputs": []
    },
    {
      "cell_type": "code",
      "source": [
        "    ft_index.build(1000)"
      ],
      "metadata": {
        "id": "j4ZFheEpoTIM"
      },
      "execution_count": null,
      "outputs": []
    },
    {
      "cell_type": "code",
      "source": [
        "# функция получения новости по запросу\n",
        "def get_response(query_text, index, model, index_map, n_results):\n",
        "    # предобработка запроса\n",
        "    query = preprocess_text(query_text, morpher, stopwords, punctuation)\n",
        "    # инициализация и формирование ветора запроса\n",
        "    vector = np.zeros(300)\n",
        "    norm = 0\n",
        "    for word in query:\n",
        "        if word in model.wv:\n",
        "            vector += model.wv[word]\n",
        "            norm += 1\n",
        "    if norm > 0:\n",
        "        vector = vector / norm\n",
        "    # поиск индексов близких новостей кластеризатором\n",
        "    news_indexes = index.get_nns_by_vector(vector, n_results, )\n",
        "    # вывод новостей по индексам\n",
        "    return [index_map[i] for i in news_indexes]"
      ],
      "metadata": {
        "id": "8T5NCa9NNZtg"
      },
      "execution_count": null,
      "outputs": []
    },
    {
      "cell_type": "code",
      "source": [
        "text = 'новости спорта в россии'"
      ],
      "metadata": {
        "id": "R2X6nhwhN-Aq"
      },
      "execution_count": 134,
      "outputs": []
    },
    {
      "cell_type": "code",
      "source": [
        "get_response(text, ft_index, modelFT, index_map, 5)"
      ],
      "metadata": {
        "colab": {
          "base_uri": "https://localhost:8080/"
        },
        "id": "ShV5J1bselrO",
        "outputId": "1c0876d7-24f0-48d0-b6cb-d6415f91d153"
      },
      "execution_count": 136,
      "outputs": [
        {
          "output_type": "execute_result",
          "data": {
            "text/plain": [
              "['Согласно постановлению правительства России, 17 лауреатам в области физической культуры и спорта выплатят денежное поощрение в размере 500 тыс. руб. в качестве поощрения. Об этом сообщается на сайтеnправительства Россииn.nЛауреаты определятся в десяти национальных номинациях в области физкультуры и спорта: «Гордость России», «Надежда России», «За служение спорту», «Спортивная солидарность», «Регион России», «Эпоха в спорте», «Преодоление», «Спортивный Парнас», «Спортивный объект в России», «За вклад в развитие физической культуры и спорта в сельской местности».nnДействие указанного постановления продлено до 2017 года в целях создания стимула для спортсменов, тренеров, специалистов в области физической культуры и спорта.nОзнакомиться с другими материалами, новостями и статистикой можно наnстраницеnлетних видов спорта.',\n",
              " 'В Екатеринбурге состоялась торжественная церемония открытия футбольного манежа «Урал», сообщаетn«ФЦП-Пресс»n. В ней приняли участие министр спорта РФ Виталий Мутко, губернатор Свердловской области Евгений Куйвашев, глава администрации Екатеринбурга Александр Якоб, президент федерации футбола Свердловской области Евгений Нохрин.nn«Это значит, что мы уже сейчас приближаемся к выполнению главной задачи чемпионата мира по футболу 2018 года — созданию современной футбольной инфраструктуры в регионах России, выведению российского футбола на качественно новый уровень», — подчеркнул Куйвашев.nnСтроительство крытого футбольного манежа велось в рамках реализации Федеральной целевой программы «Развитие физической культуры и спорта в Российской Федерации на 2006-2015 годы» и областной целевой программы «Развитие физической культуры и спорта в Свердловской области на 2011-2015 годы». Общая стоимость работ составила порядка 1,5 млрд рублей.',\n",
              " 'Решение о необходимости форсировать строительство государственного училища олимпийского резерва по хоккею в Ярославле было принято на встрече губернатора Ярославской области Сергея Ястребова с министром спорта РФ Виталием Мутко, сообщаетnофициальный сайтnПравительства Ярославской области.nНа встрече в Москве обсуждались вопросы развития спортивной инфраструктуры ярославского региона. Были рассмотрены перспективы нескольких объектов: государственного училища олимпийского резерва по хоккею, футбольного стадиона «Шинник» и Центра лыжного спорта «Демино».nn«По указанию Виталия Мутко работы по проектированию государственного училища олимпийского резерва по хоккею внутри министерства сейчас будут форсированы. Строительство основных объектов должно быть завершено в 2014 году, — приводится слова Ястребова в пресс-релизе управления массовых коммуникаций Правительства Ярославской области. — Училище будет построено за счет федеральных средств, Ярославская область полностью обеспечивает инфраструктуру, предоставляет земельный участок».nРаботы по проектировке училища находятся в завершающей стадии. В настоящее время для проведения занятий училище арендует помещения одной из спортивных школ Ярославля и ледовый корт.nКак сообщается в пресс-релизе, на встрече в Минспорте также обсуждалась возможность включения футбольного стадиона «Шинник» в федеральную целевую программу «Развитие физической культуры и спорта на 2006-2015 годы».nnРегиональные власти намерены завершить реконструкцию стадиона, запланированную еще во время включения Ярославля в список городов-кандидатов на проведение чемпионата мира по футболу в России в 2018 году. В настоящее время рассматривается вопрос о передаче стадиона «Шинник» с муниципального уровня на областной. Для завершения его реконструкции необходимо предварительно 1,5 млрд рублей.nКроме того, Ястребов обсудил с Мутко возможность создания на территории области на время чемпионата мира по футболу «дома команд» для обеспечения проживания и тренировки участников соревнований. Соответствующая заявка уже подана.nНа встрече были достигнуты также договоренности и о развитии Центра лыжного спорта «Демино», где проходят соревнования самого высокого уровня. В ближайшее время будет прорабатываться вопрос о включении объекта в федеральную программу развития физкультуры и спорта.',\n",
              " 'Правительство Мурманской области поддержало проект строительства многофункционального легкоатлетического манежа в спортивном комплексе «Долина Уюта», который обойдется примерно в 425 млн рублей и будет возведен не раньше 2015 года, сообщает пресс-служба правительства области.nnВице-губернатор Алексей Тюкавин на прошедшем во вторник совещании поручил министерству строительства и территориального развития области провести конкурсные процедуры для определения подрядной организации по демонтажу металлоконструкций и строительству здания манежа.n',\n",
              " '24 октября министр спорта РФ Виталий Мутко побывал с рабочим визитом в Комсомольске-на-Амуре. Он посетил спортивные объекты города, встретился со спортивной общественностью Хабаровского края и принял участие в заседании Правительственной комиссии по вопросам социально-экономического развития Дальнего Восток, которое провел председатель Правительства РФ Дмитрий Медведев, сообщаетnофициальный сайтnФЦП «Развитие физической культуры и спорта в Российской Федерации на 2006–2015 годы».nУтром министр осмотрел специализированный зал бокса «Дружба» ДЮСШ №4, пострадавший во время недавнего наводнения. Виталий Мутко поручил выделить из фонда Министерства спорта средства для оказания помощи спортивным школам, а также рассмотреть вопрос финансирования капитального ремонта зала «Дружба», оснащение его современными тренажерами и размещения на прилегающей территории спортивных площадок.']"
            ]
          },
          "metadata": {},
          "execution_count": 136
        }
      ]
    },
    {
      "cell_type": "code",
      "source": [],
      "metadata": {
        "id": "BJVOj6T1tc8f"
      },
      "execution_count": null,
      "outputs": []
    }
  ]
}