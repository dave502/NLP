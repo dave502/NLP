{
  "nbformat": 4,
  "nbformat_minor": 0,
  "metadata": {
    "colab": {
      "provenance": [],
      "collapsed_sections": [],
      "authorship_tag": "ABX9TyMy4wCUrKNIKRvwfHBYbxsv",
      "include_colab_link": true
    },
    "kernelspec": {
      "name": "python3",
      "display_name": "Python 3"
    },
    "language_info": {
      "name": "python"
    },
    "accelerator": "GPU"
  },
  "cells": [
    {
      "cell_type": "markdown",
      "metadata": {
        "id": "view-in-github",
        "colab_type": "text"
      },
      "source": [
        "<a href=\"https://colab.research.google.com/github/dave502/NLP/blob/main/lesson_02/nlp_hw_02.ipynb\" target=\"_parent\"><img src=\"https://colab.research.google.com/assets/colab-badge.svg\" alt=\"Open In Colab\"/></a>"
      ]
    },
    {
      "cell_type": "code",
      "source": [
        "from pandas.core.common import random_state\n",
        "from matplotlib import pyplot as plt\n",
        "import pandas as pd\n",
        "import numpy as np\n",
        "import scipy.sparse as sp\n",
        "from sklearn.metrics import *\n",
        "from sklearn.model_selection import train_test_split, GridSearchCV\n",
        "from sklearn.preprocessing import LabelEncoder\n",
        "from sklearn.pipeline import Pipeline, make_pipeline\n",
        "from sklearn.linear_model import LogisticRegression \n",
        "from sklearn.feature_extraction.text import CountVectorizer, TfidfVectorizer, HashingVectorizer\n",
        "#from collections import defaultdict\n",
        "import json\n",
        "from google.colab import drive\n",
        "random_state = 42\n",
        "save_path = '/drive/My Drive/MLData/'"
      ],
      "metadata": {
        "id": "f-4aYEK4F2AO"
      },
      "execution_count": 1,
      "outputs": []
    },
    {
      "cell_type": "code",
      "source": [
        "import tensorflow as tf\n",
        "from tensorflow import keras\n",
        "from tensorflow.keras import Sequential\n",
        "from tensorflow.keras.layers import Input, Dense, Embedding, GlobalAveragePooling1D, Conv1D, GRU, LSTM, Dropout, Flatten\n",
        "from tensorflow.keras.layers.experimental.preprocessing import TextVectorization"
      ],
      "metadata": {
        "id": "5h_V20UG4dAq"
      },
      "execution_count": 2,
      "outputs": []
    },
    {
      "cell_type": "code",
      "source": [
        "%%capture\n",
        "!pip install pymorphy2"
      ],
      "metadata": {
        "id": "bNwOrosPfe9_"
      },
      "execution_count": 6,
      "outputs": []
    },
    {
      "cell_type": "code",
      "source": [
        "import re\n",
        "import nltk\n",
        "from nltk.corpus import stopwords\n",
        "from pymorphy2 import MorphAnalyzer\n",
        "\n",
        "nltk.download('stopwords')\n",
        "stopwords_list = stopwords.words(\"russian\")\n",
        "\n",
        "#from razdel import tokenize\n",
        "#from natasha import Doc, Segmenter, MorphVocab, NewsEmbedding, NewsMorphTagger\n",
        "# segmenter = Segmenter()\n",
        "# morph_vocab = MorphVocab()\n",
        "# emb = NewsEmbedding()\n",
        "# morph_tagger = NewsMorphTagger(emb)\n",
        "\n",
        "morph = MorphAnalyzer()"
      ],
      "metadata": {
        "colab": {
          "base_uri": "https://localhost:8080/"
        },
        "id": "hjD54M3Q71Np",
        "outputId": "29e9ad78-357b-4dce-cf5e-87a426fc839d"
      },
      "execution_count": 7,
      "outputs": [
        {
          "output_type": "stream",
          "name": "stderr",
          "text": [
            "[nltk_data] Downloading package stopwords to /root/nltk_data...\n",
            "[nltk_data]   Unzipping corpora/stopwords.zip.\n"
          ]
        }
      ]
    },
    {
      "cell_type": "code",
      "source": [
        "drive.mount('/drive')"
      ],
      "metadata": {
        "colab": {
          "base_uri": "https://localhost:8080/"
        },
        "id": "quwdB7FQlAyo",
        "outputId": "65f4ad30-dc9d-4cdb-c2c1-19b0bb30f6e2"
      },
      "execution_count": 8,
      "outputs": [
        {
          "output_type": "stream",
          "name": "stdout",
          "text": [
            "Mounted at /drive\n"
          ]
        }
      ]
    },
    {
      "cell_type": "markdown",
      "source": [
        "Получение данных"
      ],
      "metadata": {
        "id": "jpvlf4oZaSIo"
      }
    },
    {
      "cell_type": "code",
      "execution_count": 9,
      "metadata": {
        "colab": {
          "base_uri": "https://localhost:8080/"
        },
        "id": "cSV0vpXXCSdH",
        "outputId": "a5c34fe8-d59f-467f-eef8-25f5011bad97"
      },
      "outputs": [
        {
          "output_type": "stream",
          "name": "stdout",
          "text": [
            "2022-10-14 12:36:27 URL:https://uc5128926ae371198d34e8c42838.dl.dropboxusercontent.com/cd/0/inline/Bux56MTTnDwc6NBD7w7o3V1buVv23arGCv6pgsiDUoGuSm0WoJ0e9fJgbPczmTzdZ1nS8p2oInQzNuc7dw8iWF8fKF2QHLQ6gqh1nygTJuoBQS0zDNG_YODGEiKq3fk9dlgaliAkQlEopLXDEvOSxWm87S0urPdMt7JUaD8nWt044A/file [26233379/26233379] -> \"positive.csv\" [1]\n",
            "2022-10-14 12:36:31 URL:https://uc9c40a8b2e5781c04a13990d4b2.dl.dropboxusercontent.com/cd/0/inline/Buw0fHNs-TdAqzzAqwCqfQpWKmvzg-euFbRHnVJFFCOpwZv7hUzla9UOxgteA-x_4ubX7jmUgSslJjZCYEA4fHITCOjXmh3EqvNJZYjwm-05y-Eg0uGqRwFflpZtjZeTR6QzYh5lHXs37bdAK4eKMkr1_o2xTCPTzRIwwOUF8YOYdw/file [24450101/24450101] -> \"negative.csv\" [1]\n"
          ]
        }
      ],
      "source": [
        "!wget https://www.dropbox.com/s/fnpq3z4bcnoktiv/positive.csv -nv\n",
        "!wget https://www.dropbox.com/s/r6u59ljhhjdg6j0/negative.csv -nv"
      ]
    },
    {
      "cell_type": "markdown",
      "source": [
        "Преобразование в датасет"
      ],
      "metadata": {
        "id": "nk4YH1AXaWb7"
      }
    },
    {
      "cell_type": "code",
      "source": [
        "positive = pd.read_csv('positive.csv', sep=';', usecols=[3], names=['text'])\n",
        "negative = pd.read_csv('negative.csv', sep=';', usecols=[3], names=['text'])\n",
        "positive['label'], negative['label'] = 'positive', 'negative'\n",
        "df = pd.concat([positive, negative])"
      ],
      "metadata": {
        "id": "y-_Od8r0EaMP"
      },
      "execution_count": 10,
      "outputs": []
    },
    {
      "cell_type": "code",
      "source": [
        "df.sample(5)"
      ],
      "metadata": {
        "colab": {
          "base_uri": "https://localhost:8080/",
          "height": 206
        },
        "id": "shilfZL4HJP4",
        "outputId": "b06f5bac-bc78-487f-9c17-c22f7392e46d"
      },
      "execution_count": 13,
      "outputs": [
        {
          "output_type": "execute_result",
          "data": {
            "text/plain": [
              "                                                     text     label\n",
              "63241   @Satsura_ у меня предъявленное состояние, мне ...  negative\n",
              "107952  @AidaAraslanova круто!) я приеду, сто лет не б...  positive\n",
              "113877  RT @bazzzilio: @VRSoloviev :)) Я все еще жив, ...  positive\n",
              "889     @BesPolotenchika давай подтягивай народ к этой...  positive\n",
              "92300   Да боже мой,какая честь! Нет тебя и нахер не н...  positive"
            ],
            "text/html": [
              "\n",
              "  <div id=\"df-b73705c4-939c-4364-baa9-86636f6b0e4b\">\n",
              "    <div class=\"colab-df-container\">\n",
              "      <div>\n",
              "<style scoped>\n",
              "    .dataframe tbody tr th:only-of-type {\n",
              "        vertical-align: middle;\n",
              "    }\n",
              "\n",
              "    .dataframe tbody tr th {\n",
              "        vertical-align: top;\n",
              "    }\n",
              "\n",
              "    .dataframe thead th {\n",
              "        text-align: right;\n",
              "    }\n",
              "</style>\n",
              "<table border=\"1\" class=\"dataframe\">\n",
              "  <thead>\n",
              "    <tr style=\"text-align: right;\">\n",
              "      <th></th>\n",
              "      <th>text</th>\n",
              "      <th>label</th>\n",
              "    </tr>\n",
              "  </thead>\n",
              "  <tbody>\n",
              "    <tr>\n",
              "      <th>63241</th>\n",
              "      <td>@Satsura_ у меня предъявленное состояние, мне ...</td>\n",
              "      <td>negative</td>\n",
              "    </tr>\n",
              "    <tr>\n",
              "      <th>107952</th>\n",
              "      <td>@AidaAraslanova круто!) я приеду, сто лет не б...</td>\n",
              "      <td>positive</td>\n",
              "    </tr>\n",
              "    <tr>\n",
              "      <th>113877</th>\n",
              "      <td>RT @bazzzilio: @VRSoloviev :)) Я все еще жив, ...</td>\n",
              "      <td>positive</td>\n",
              "    </tr>\n",
              "    <tr>\n",
              "      <th>889</th>\n",
              "      <td>@BesPolotenchika давай подтягивай народ к этой...</td>\n",
              "      <td>positive</td>\n",
              "    </tr>\n",
              "    <tr>\n",
              "      <th>92300</th>\n",
              "      <td>Да боже мой,какая честь! Нет тебя и нахер не н...</td>\n",
              "      <td>positive</td>\n",
              "    </tr>\n",
              "  </tbody>\n",
              "</table>\n",
              "</div>\n",
              "      <button class=\"colab-df-convert\" onclick=\"convertToInteractive('df-b73705c4-939c-4364-baa9-86636f6b0e4b')\"\n",
              "              title=\"Convert this dataframe to an interactive table.\"\n",
              "              style=\"display:none;\">\n",
              "        \n",
              "  <svg xmlns=\"http://www.w3.org/2000/svg\" height=\"24px\"viewBox=\"0 0 24 24\"\n",
              "       width=\"24px\">\n",
              "    <path d=\"M0 0h24v24H0V0z\" fill=\"none\"/>\n",
              "    <path d=\"M18.56 5.44l.94 2.06.94-2.06 2.06-.94-2.06-.94-.94-2.06-.94 2.06-2.06.94zm-11 1L8.5 8.5l.94-2.06 2.06-.94-2.06-.94L8.5 2.5l-.94 2.06-2.06.94zm10 10l.94 2.06.94-2.06 2.06-.94-2.06-.94-.94-2.06-.94 2.06-2.06.94z\"/><path d=\"M17.41 7.96l-1.37-1.37c-.4-.4-.92-.59-1.43-.59-.52 0-1.04.2-1.43.59L10.3 9.45l-7.72 7.72c-.78.78-.78 2.05 0 2.83L4 21.41c.39.39.9.59 1.41.59.51 0 1.02-.2 1.41-.59l7.78-7.78 2.81-2.81c.8-.78.8-2.07 0-2.86zM5.41 20L4 18.59l7.72-7.72 1.47 1.35L5.41 20z\"/>\n",
              "  </svg>\n",
              "      </button>\n",
              "      \n",
              "  <style>\n",
              "    .colab-df-container {\n",
              "      display:flex;\n",
              "      flex-wrap:wrap;\n",
              "      gap: 12px;\n",
              "    }\n",
              "\n",
              "    .colab-df-convert {\n",
              "      background-color: #E8F0FE;\n",
              "      border: none;\n",
              "      border-radius: 50%;\n",
              "      cursor: pointer;\n",
              "      display: none;\n",
              "      fill: #1967D2;\n",
              "      height: 32px;\n",
              "      padding: 0 0 0 0;\n",
              "      width: 32px;\n",
              "    }\n",
              "\n",
              "    .colab-df-convert:hover {\n",
              "      background-color: #E2EBFA;\n",
              "      box-shadow: 0px 1px 2px rgba(60, 64, 67, 0.3), 0px 1px 3px 1px rgba(60, 64, 67, 0.15);\n",
              "      fill: #174EA6;\n",
              "    }\n",
              "\n",
              "    [theme=dark] .colab-df-convert {\n",
              "      background-color: #3B4455;\n",
              "      fill: #D2E3FC;\n",
              "    }\n",
              "\n",
              "    [theme=dark] .colab-df-convert:hover {\n",
              "      background-color: #434B5C;\n",
              "      box-shadow: 0px 1px 3px 1px rgba(0, 0, 0, 0.15);\n",
              "      filter: drop-shadow(0px 1px 2px rgba(0, 0, 0, 0.3));\n",
              "      fill: #FFFFFF;\n",
              "    }\n",
              "  </style>\n",
              "\n",
              "      <script>\n",
              "        const buttonEl =\n",
              "          document.querySelector('#df-b73705c4-939c-4364-baa9-86636f6b0e4b button.colab-df-convert');\n",
              "        buttonEl.style.display =\n",
              "          google.colab.kernel.accessAllowed ? 'block' : 'none';\n",
              "\n",
              "        async function convertToInteractive(key) {\n",
              "          const element = document.querySelector('#df-b73705c4-939c-4364-baa9-86636f6b0e4b');\n",
              "          const dataTable =\n",
              "            await google.colab.kernel.invokeFunction('convertToInteractive',\n",
              "                                                     [key], {});\n",
              "          if (!dataTable) return;\n",
              "\n",
              "          const docLinkHtml = 'Like what you see? Visit the ' +\n",
              "            '<a target=\"_blank\" href=https://colab.research.google.com/notebooks/data_table.ipynb>data table notebook</a>'\n",
              "            + ' to learn more about interactive tables.';\n",
              "          element.innerHTML = '';\n",
              "          dataTable['output_type'] = 'display_data';\n",
              "          await google.colab.output.renderOutput(dataTable, element);\n",
              "          const docLink = document.createElement('div');\n",
              "          docLink.innerHTML = docLinkHtml;\n",
              "          element.appendChild(docLink);\n",
              "        }\n",
              "      </script>\n",
              "    </div>\n",
              "  </div>\n",
              "  "
            ]
          },
          "metadata": {},
          "execution_count": 13
        }
      ]
    },
    {
      "cell_type": "markdown",
      "source": [
        "Разделение датасета на обучающий и тестовый"
      ],
      "metadata": {
        "id": "F_S0gvNlafSP"
      }
    },
    {
      "cell_type": "code",
      "source": [
        "x_train_raw, x_test_raw, y_train, y_test = train_test_split(df['text'], df['label'])"
      ],
      "metadata": {
        "id": "JV_u4AzuHrxZ"
      },
      "execution_count": 11,
      "outputs": []
    },
    {
      "cell_type": "code",
      "source": [
        "%%capture\n",
        "!pip install razdel\n",
        "!pip install natasha"
      ],
      "metadata": {
        "id": "FSuJ7XsEBAo9"
      },
      "execution_count": 57,
      "outputs": []
    },
    {
      "cell_type": "markdown",
      "source": [
        "Чтобы не терять каждый раз время на нормализацию текста, нормализация делается сразу:"
      ],
      "metadata": {
        "id": "N8f2TM3qVJw6"
      }
    },
    {
      "cell_type": "code",
      "source": [
        "def preprocessing(df_text, get_list=False):\n",
        "\n",
        "  # С Natasha работать оказалось сложнее, чем с pymorphy2\n",
        "  # def lemmatize(text):\n",
        "  #   doc = Doc(text)\n",
        "  #   doc.segment(segmenter)\n",
        "  #   doc.tag_morph(morph_tagger)\n",
        "  #   for token in doc.tokens:\n",
        "  #     token.lemmatize(morph_vocab)\n",
        "  #   return [_.lemma for _ in doc.tokens]\n",
        "\n",
        "  def lemmatize(text):\n",
        "    # удлание ников, знаков препинаний, чисел и т.п.\n",
        "    patterns = r'@[\\w]*|[^\\w\\s]|[^a-zA-ZА-Яа-я]'\n",
        "    text = re.sub(patterns, ' ', text)\n",
        "    tokens = []\n",
        "    for token in text.split():\n",
        "        if token and token not in stopwords_list and len(token)>1:\n",
        "            token = token.strip().lower()\n",
        "            token = morph.normal_forms(token)[0]\n",
        "            tokens.append(token)\n",
        "\n",
        "    tokens = \" \".join(tokens) if not get_list else tokens\n",
        "    return tokens\n",
        "\n",
        "  return df_text.apply(lemmatize)\n"
      ],
      "metadata": {
        "id": "kpsNLKOm7hsu"
      },
      "execution_count": 61,
      "outputs": []
    },
    {
      "cell_type": "code",
      "source": [
        "%%time\n",
        "x_train = preprocessing(x_train_raw)\n",
        "x_test = preprocessing(x_test_raw)"
      ],
      "metadata": {
        "colab": {
          "base_uri": "https://localhost:8080/"
        },
        "id": "kkIi87QwNe3h",
        "outputId": "90871375-0697-474f-cd57-64e57adbdb5f"
      },
      "execution_count": 155,
      "outputs": [
        {
          "output_type": "stream",
          "name": "stdout",
          "text": [
            "CPU times: user 5min 17s, sys: 910 ms, total: 5min 18s\n",
            "Wall time: 5min 19s\n"
          ]
        }
      ]
    },
    {
      "cell_type": "code",
      "source": [
        "x_train[:5]"
      ],
      "metadata": {
        "colab": {
          "base_uri": "https://localhost:8080/"
        },
        "id": "I6XXuaybVw7O",
        "outputId": "bbc595f4-fb91-4885-d815-5e66278c8e0f"
      },
      "execution_count": 156,
      "outputs": [
        {
          "output_type": "execute_result",
          "data": {
            "text/plain": [
              "24321          спасибо весь поздравлениять безумно приятно\n",
              "75556    говорить мой двор кроме сегодня один человек у...\n",
              "15656    после кинуть плюрк побежать жайк сюда окончате...\n",
              "89586                                            думать эт\n",
              "77606       ну умудриться потянуть нога второй день болеть\n",
              "Name: text, dtype: object"
            ]
          },
          "metadata": {},
          "execution_count": 156
        }
      ]
    },
    {
      "cell_type": "code",
      "source": [
        "x_train.to_csv(save_path+'x_train')\n",
        "x_test.to_csv(save_path+'x_test')\n",
        "y_train.to_csv(save_path+'y_train')\n",
        "y_test.to_csv(save_path+'y_test')"
      ],
      "metadata": {
        "id": "tzAYBHRPQawq"
      },
      "execution_count": 158,
      "outputs": []
    },
    {
      "cell_type": "markdown",
      "source": [
        "**Задание 1.<br>\n",
        "обучите три классификатора: <br>\n",
        "1) на токенах с высокой частотой<br>\n",
        "2) на токенах со средней частотой<br>\n",
        "3) на токенах с низкой частотой<br>\n",
        "Сравните полученные результаты, оцените какие токены наиболее важные для классификации.**"
      ],
      "metadata": {
        "id": "m8jBjj8RIn1E"
      }
    },
    {
      "cell_type": "markdown",
      "source": [
        "Функция классификации текста"
      ],
      "metadata": {
        "id": "0kDqFt8oa5mz"
      }
    },
    {
      "cell_type": "code",
      "source": [
        "def text_classifier(train_text, train_labels, test_text, test_labels, vectorizer, print_report=False):\n",
        "  # получаем мешок слов\n",
        "  bow = vectorizer.fit_transform(train_text)\n",
        "\n",
        "  # с помощью логистическойй регрессии делаем предикт\n",
        "  clf = LogisticRegression(n_jobs=8)\n",
        "  clf.fit(bow, train_labels)\n",
        "  pred = clf.predict(vectorizer.transform(test_text))\n",
        "\n",
        "  if print_report: print(classification_report(pred, y_test))\n",
        "  \n",
        "  # возвращаем даннные предикта и метрику f1\n",
        "  return pred, f1_score(pred, test_labels, pos_label='positive')"
      ],
      "metadata": {
        "id": "1ZDWHIyBSXGo"
      },
      "execution_count": 168,
      "outputs": []
    },
    {
      "cell_type": "markdown",
      "source": [
        "Из мешка слов получаем значения частот токенов"
      ],
      "metadata": {
        "id": "AlT49d8QbSYz"
      }
    },
    {
      "cell_type": "code",
      "source": [
        "def get_token_frequencies(text):\n",
        "  bow = CountVectorizer().fit_transform(text)\n",
        "  return list(set(bow.data))\n",
        "\n",
        "df_freq = get_token_frequencies(x_train)\n",
        "print(f'частота встречающихся токенов: {df_freq}')"
      ],
      "metadata": {
        "colab": {
          "base_uri": "https://localhost:8080/"
        },
        "id": "3wz3l3Jtq0bi",
        "outputId": "abdb4789-43e6-4848-e83a-c798a684b630"
      },
      "execution_count": 160,
      "outputs": [
        {
          "output_type": "stream",
          "name": "stdout",
          "text": [
            "частота встречающихся токенов: [1, 2, 3, 4, 5, 6, 7, 8, 9, 10, 11, 12, 13, 14, 15, 17, 23]\n"
          ]
        }
      ]
    },
    {
      "cell_type": "markdown",
      "source": [
        "Выбираем векторайзеры, виды изспользуемых нграм и полученные частоты токенов делим на редкие, средние и частые"
      ],
      "metadata": {
        "id": "mtgZY_xobbsO"
      }
    },
    {
      "cell_type": "code",
      "source": [
        "vectorizers = {CountVectorizer: 'CountVectorizer', TfidfVectorizer:'TfidfVectorizer'}\n",
        "ngram_ranges = {(1, 1): '1gram', (2, 2):'2gram', (3, 3):'3gram'}\n",
        "frequency_df = {(1, df_freq[len(df_freq)//3]): 'низкая частота',\n",
        "                (df_freq[len(df_freq)//3+1], df_freq[len(df_freq)//3*2]): 'средняя частота', \n",
        "                (df_freq[len(df_freq)//3*2+1], 1.0): 'высокая частота'}\n",
        "frequency_df"
      ],
      "metadata": {
        "colab": {
          "base_uri": "https://localhost:8080/"
        },
        "id": "cGtHtDsUMUld",
        "outputId": "1d73a11b-d7a5-485f-980e-b3bf2cc68612"
      },
      "execution_count": 161,
      "outputs": [
        {
          "output_type": "execute_result",
          "data": {
            "text/plain": [
              "{(1, 6): 'низкая частота',\n",
              " (7, 11): 'средняя частота',\n",
              " (12, 1.0): 'высокая частота'}"
            ]
          },
          "metadata": {},
          "execution_count": 161
        }
      ]
    },
    {
      "cell_type": "markdown",
      "source": [
        "Классификация текста"
      ],
      "metadata": {
        "id": "JAKdCECrcJR_"
      }
    },
    {
      "cell_type": "code",
      "source": [
        "%%time\n",
        "results = dict()  # словарь с результатами классификации\n",
        "for vectorizer, vec_legend in vectorizers.items(): # перебор векторайзеров\n",
        "  results_ngram = dict()\n",
        "  for ngram, ngram_legend in ngram_ranges.items(): # перебор ngram\n",
        "      results_df = dict()\n",
        "      for (min_df, max_df), freq_legend in frequency_df.items(): # перебор частот токенов\n",
        "          _, results_df[freq_legend] = text_classifier(x_train, y_train, x_test, y_test, vectorizer(min_df=min_df, max_df=max_df, ngram_range=ngram))\n",
        "      results_ngram[ngram_legend]=results_df\n",
        "  results[vec_legend]=results_ngram\n",
        "\n",
        "with open('dict_results.json', 'w') as file:\n",
        "    json.dump(results, file)"
      ],
      "metadata": {
        "colab": {
          "base_uri": "https://localhost:8080/"
        },
        "id": "SmdOkqICSMZi",
        "outputId": "d4a4186f-868c-4de6-8aac-f96c16e4f8cd"
      },
      "execution_count": 162,
      "outputs": [
        {
          "output_type": "stream",
          "name": "stdout",
          "text": [
            "CPU times: user 1min 37s, sys: 2.42 s, total: 1min 39s\n",
            "Wall time: 2min 55s\n"
          ]
        }
      ]
    },
    {
      "cell_type": "markdown",
      "source": [
        "Отображение результата"
      ],
      "metadata": {
        "id": "N1gPi9URcmtL"
      }
    },
    {
      "cell_type": "code",
      "source": [
        "plt.figure(figsize=(16, 10))\n",
        "for i, (vec_title, vec_result) in enumerate(results.items()):\n",
        "  plt.subplot(2, 2, i+1)\n",
        "  plt.title(vec_title)\n",
        "  plt.ylabel('f1 score')\n",
        "  x = np.arange(3)\n",
        "  width = 0.3\n",
        "  for i, (ngram_title, ngram_result) in enumerate(vec_result.items()):\n",
        "\n",
        "    plt.bar(x + (0.3*i)-0.3, list(ngram_result.values()), width=width, label=ngram_title)\n",
        "    plt.xticks(x, list(ngram_result.keys()))\n",
        "\n",
        "  plt.legend()"
      ],
      "metadata": {
        "colab": {
          "base_uri": "https://localhost:8080/",
          "height": 311
        },
        "id": "2Gvl1IFKu-PY",
        "outputId": "d8538edf-71b0-4667-db5a-1e408900c32a"
      },
      "execution_count": 163,
      "outputs": [
        {
          "output_type": "display_data",
          "data": {
            "text/plain": [
              "<Figure size 1152x720 with 2 Axes>"
            ],
            "image/png": "[encoded data removed]"
          },
          "metadata": {
            "needs_background": "light"
          }
        }
      ]
    },
    {
      "cell_type": "markdown",
      "source": [
        "Исходя из результатов, очевидно, что токены с высокой частотой в данном случае наиболее важные для классификации. Результаты классификации по токенам, частота которых лежит в переделах [12-23], очень близки к результатам классификации без ограничения частоты токенов. <br>\n",
        "Что интересно, биграмы и триграмы показали лучший результат для токенов со средней и низкой частотой, вероятно, потому что в нграмах оказывались более частые токены. Здесь не приводятся результаты классификации ненормализованного текста, но для ненормализованного текста униграмы давали лучший результат на всех частотах. "
      ],
      "metadata": {
        "id": "OnkWc7dffOfA"
      }
    },
    {
      "cell_type": "markdown",
      "source": [
        "**Задание 2.\n",
        "найти фичи с наибольшей значимостью, и вывести их**"
      ],
      "metadata": {
        "id": "f0k4TzWUgDWY"
      }
    },
    {
      "cell_type": "code",
      "source": [
        "count_vectorizer = CountVectorizer()\n",
        "bow = count_vectorizer.fit_transform(x_train)\n",
        "\n",
        "clf = LogisticRegression(n_jobs=8)\n",
        "clf.fit(bow, y_train)"
      ],
      "metadata": {
        "colab": {
          "base_uri": "https://localhost:8080/"
        },
        "id": "b7txUDPoxSDq",
        "outputId": "4253c56e-2c44-42ec-c415-d97ded2683cf"
      },
      "execution_count": 164,
      "outputs": [
        {
          "output_type": "execute_result",
          "data": {
            "text/plain": [
              "LogisticRegression(n_jobs=8)"
            ]
          },
          "metadata": {},
          "execution_count": 164
        }
      ]
    },
    {
      "cell_type": "code",
      "source": [
        "feature_names = count_vectorizer.get_feature_names_out()\n",
        "list(zip(feature_names, clf.coef_[0]))\n",
        "sorted(list(zip(feature_names, clf.coef_[0])), key=lambda x: abs(x[1]), reverse=True)[:30]"
      ],
      "metadata": {
        "colab": {
          "base_uri": "https://localhost:8080/"
        },
        "id": "cVOuRmZxjVh8",
        "outputId": "61815b29-b5ae-4278-e619-ec0b05b2d0c7"
      },
      "execution_count": 165,
      "outputs": [
        {
          "output_type": "execute_result",
          "data": {
            "text/plain": [
              "[('xd', 4.563688553985907),\n",
              " ('dd', 4.560608215809219),\n",
              " ('ddd', 4.486376029932314),\n",
              " ('dddd', 4.444117758619806),\n",
              " ('снаступающимтвиттерский', -4.189466980064631),\n",
              " ('ddddd', 3.8615021992318033),\n",
              " ('скорбеть', -3.428402621968418),\n",
              " ('погибнуть', -3.172997866591121),\n",
              " ('теракт', -3.118010043331761),\n",
              " ('пичалька', -2.9676380002750626),\n",
              " ('luwqrs', -2.923137053757605),\n",
              " ('печально', -2.877979005335929),\n",
              " ('грустно', -2.873784004189287),\n",
              " ('печальбеда', -2.7817803859004018),\n",
              " ('огорчать', -2.7756616144606947),\n",
              " ('печаль', -2.7731876054898192),\n",
              " ('сожаление', -2.7658570206544097),\n",
              " ('хнык', -2.761727725169093),\n",
              " ('exadirectioners', -2.7586774314102076),\n",
              " ('пичалить', -2.7232629647543383),\n",
              " ('несправедливость', -2.650455703368116),\n",
              " ('улыбнуть', 2.6382576079923052),\n",
              " ('обидно', -2.6076373130498443),\n",
              " ('суждено', -2.577776037954533),\n",
              " ('печалька', -2.5635036928274624),\n",
              " ('увы', -2.536750667229971),\n",
              " ('спасииибо', 2.536683926443512),\n",
              " ('happybirthdayjaredleto', -2.473059315872398),\n",
              " ('рушиться', -2.466087401118848),\n",
              " ('распасться', -2.465572252338058)]"
            ]
          },
          "metadata": {},
          "execution_count": 165
        }
      ]
    },
    {
      "cell_type": "markdown",
      "source": [
        "**Задание 3. <br>\n",
        "1) сравнить count/tf-idf/hashing векторайзеры/полносвязанную сетку (построить classification_report)<br>\n",
        "2) подобрать оптимальный размер для hashing векторайзера<br>\n",
        "3) убедиться что для сетки нет переобучения**"
      ],
      "metadata": {
        "id": "ZS8zzjmIlPye"
      }
    },
    {
      "cell_type": "markdown",
      "source": [
        "Подбор n_features для hashing векторайзера"
      ],
      "metadata": {
        "id": "M3HtuzbBeGcr"
      }
    },
    {
      "cell_type": "code",
      "source": [
        "classifier = Pipeline([\n",
        "    ('vectorizer', HashingVectorizer()),\n",
        "    ('clf', LogisticRegression())])\n",
        "\n",
        "param_grid = {\"vectorizer__n_features\": [1000, 5000, 10000, 30000, 50000, 70000, 100000]}\n",
        "\n",
        "search = GridSearchCV(classifier, param_grid, n_jobs=8)\n",
        "search.fit(x_train, y_train)"
      ],
      "metadata": {
        "id": "g4Km0u5UyTkp"
      },
      "execution_count": null,
      "outputs": []
    },
    {
      "cell_type": "code",
      "source": [
        "plt.plot(\n",
        "    search.cv_results_['param_vectorizer__n_features'].data,\n",
        "    search.cv_results_['mean_test_score'],\n",
        "    linestyle=\":\"\n",
        ")\n",
        "plt.ylabel('CV score')\n",
        "plt.xlabel('n_features')"
      ],
      "metadata": {
        "colab": {
          "base_uri": "https://localhost:8080/",
          "height": 298
        },
        "id": "8Itwkds_7gw-",
        "outputId": "45c5b0d5-0bfb-4a16-ca84-7f6a7d963697"
      },
      "execution_count": 167,
      "outputs": [
        {
          "output_type": "execute_result",
          "data": {
            "text/plain": [
              "Text(0.5, 0, 'n_features')"
            ]
          },
          "metadata": {},
          "execution_count": 167
        },
        {
          "output_type": "display_data",
          "data": {
            "text/plain": [
              "<Figure size 432x288 with 1 Axes>"
            ],
            "image/png": "[encoded data removed]"
          },
          "metadata": {
            "needs_background": "light"
          }
        }
      ]
    },
    {
      "cell_type": "markdown",
      "source": [
        "**оптимальное количество параметров - приблизительно 70 000**"
      ],
      "metadata": {
        "id": "t1n3bfy77NSs"
      }
    },
    {
      "cell_type": "markdown",
      "source": [
        "Сравение classification_report классификаторов"
      ],
      "metadata": {
        "id": "YgCSca63ePKx"
      }
    },
    {
      "cell_type": "code",
      "source": [
        "%%time\n",
        "count_vectorizer = CountVectorizer()\n",
        "bow = count_vectorizer.fit_transform(x_train)\n",
        "clf = LogisticRegression(n_jobs=-1)\n",
        "clf.fit(bow, y_train)\n",
        "pred = clf.predict(count_vectorizer.transform(x_test))\n",
        "print(classification_report(pred, y_test))\n"
      ],
      "metadata": {
        "colab": {
          "base_uri": "https://localhost:8080/"
        },
        "id": "Jw4TaoKn1uGZ",
        "outputId": "8a8c8c71-222d-454f-9c9f-526a26b69e93"
      },
      "execution_count": 170,
      "outputs": [
        {
          "output_type": "stream",
          "name": "stdout",
          "text": [
            "              precision    recall  f1-score   support\n",
            "\n",
            "    negative       0.73      0.73      0.73     27935\n",
            "    positive       0.74      0.74      0.74     28774\n",
            "\n",
            "    accuracy                           0.73     56709\n",
            "   macro avg       0.73      0.73      0.73     56709\n",
            "weighted avg       0.73      0.73      0.73     56709\n",
            "\n",
            "CPU times: user 6.71 s, sys: 216 ms, total: 6.92 s\n",
            "Wall time: 14.5 s\n"
          ]
        }
      ]
    },
    {
      "cell_type": "code",
      "source": [
        "%%time\n",
        "Tfidf_vectorizer = TfidfVectorizer()\n",
        "bow = Tfidf_vectorizer.fit_transform(x_train)\n",
        "clf = LogisticRegression(n_jobs=-1)\n",
        "clf.fit(bow, y_train)\n",
        "pred = clf.predict(Tfidf_vectorizer.transform(x_test))\n",
        "print(classification_report(pred, y_test))"
      ],
      "metadata": {
        "colab": {
          "base_uri": "https://localhost:8080/"
        },
        "id": "fs1FgNiC3xV0",
        "outputId": "17aff1da-4102-490f-9e95-26f7f61c0305"
      },
      "execution_count": 171,
      "outputs": [
        {
          "output_type": "stream",
          "name": "stdout",
          "text": [
            "              precision    recall  f1-score   support\n",
            "\n",
            "    negative       0.70      0.74      0.72     26438\n",
            "    positive       0.76      0.73      0.74     30271\n",
            "\n",
            "    accuracy                           0.73     56709\n",
            "   macro avg       0.73      0.73      0.73     56709\n",
            "weighted avg       0.73      0.73      0.73     56709\n",
            "\n",
            "CPU times: user 5.8 s, sys: 62.6 ms, total: 5.86 s\n",
            "Wall time: 11.4 s\n"
          ]
        }
      ]
    },
    {
      "cell_type": "code",
      "source": [
        "%%time\n",
        "hashing_vectorizer = HashingVectorizer(n_features=70000)\n",
        "bow = hashing_vectorizer.fit_transform(x_train)\n",
        "clf = LogisticRegression(n_jobs=-1)\n",
        "clf.fit(bow, y_train)\n",
        "pred = clf.predict(hashing_vectorizer.transform(x_test))\n",
        "print(classification_report(pred, y_test))"
      ],
      "metadata": {
        "colab": {
          "base_uri": "https://localhost:8080/"
        },
        "id": "MZdaXUfR36Rm",
        "outputId": "17346a64-32ca-49f1-d89b-4f5a82919dc6"
      },
      "execution_count": 172,
      "outputs": [
        {
          "output_type": "stream",
          "name": "stdout",
          "text": [
            "              precision    recall  f1-score   support\n",
            "\n",
            "    negative       0.70      0.73      0.71     26670\n",
            "    positive       0.75      0.72      0.73     30039\n",
            "\n",
            "    accuracy                           0.72     56709\n",
            "   macro avg       0.72      0.72      0.72     56709\n",
            "weighted avg       0.72      0.72      0.72     56709\n",
            "\n",
            "CPU times: user 4.73 s, sys: 24.4 ms, total: 4.76 s\n",
            "Wall time: 9.98 s\n"
          ]
        }
      ]
    },
    {
      "cell_type": "markdown",
      "source": [
        "NN"
      ],
      "metadata": {
        "id": "kzcnhXPNeBs4"
      }
    },
    {
      "cell_type": "code",
      "source": [
        "positive = pd.read_csv('positive.csv', sep=';', usecols=[3], names=['text'])\n",
        "negative = pd.read_csv('negative.csv', sep=';', usecols=[3], names=['text'])\n",
        "positive['label'], negative['label'] = 'positive', 'negative'\n",
        "x_train, x_test, y_train, y_test = train_test_split(df['text'], df['label'])"
      ],
      "metadata": {
        "id": "6LGJ5uGPlBoP"
      },
      "execution_count": 56,
      "outputs": []
    },
    {
      "cell_type": "markdown",
      "source": [
        "Разбиваем обучающую выборку на обучающущю и валидационую"
      ],
      "metadata": {
        "id": "jmBO5mfFnpvM"
      }
    },
    {
      "cell_type": "code",
      "source": [
        "nnx_train, nnx_valid, nny_train, nny_valid = train_test_split(x_train, y_train)"
      ],
      "metadata": {
        "id": "tjTHOUNcGjkh"
      },
      "execution_count": 57,
      "outputs": []
    },
    {
      "cell_type": "markdown",
      "source": [
        "Нормализация"
      ],
      "metadata": {
        "id": "td0_5LlAnxzw"
      }
    },
    {
      "cell_type": "code",
      "source": [
        "nnx_train = preprocessing(nnx_train)\n",
        "nnx_valid = preprocessing(nnx_valid)"
      ],
      "metadata": {
        "id": "62QaTyoTlzuD"
      },
      "execution_count": 63,
      "outputs": []
    },
    {
      "cell_type": "code",
      "source": [
        "# labelEncode целевую переменную\n",
        "encoder = LabelEncoder()\n",
        "nny_train = encoder.fit_transform(nny_train)\n",
        "nny_valid = encoder.fit_transform(nny_valid)\n",
        "\n",
        "train_data = tf.data.Dataset.from_tensor_slices((nnx_train, nny_train))\n",
        "valid_data = tf.data.Dataset.from_tensor_slices((nnx_valid, nny_valid))\n",
        "\n",
        "train_data = train_data.batch(16)\n",
        "valid_data = valid_data.batch(16)\n",
        "\n",
        "AUTOTUNE = tf.data.AUTOTUNE\n",
        "train_data = train_data.cache().prefetch(buffer_size=AUTOTUNE)\n",
        "valid_data = valid_data.cache().prefetch(buffer_size=AUTOTUNE)\n"
      ],
      "metadata": {
        "id": "-rA2gFgL4aPV"
      },
      "execution_count": 64,
      "outputs": []
    },
    {
      "cell_type": "code",
      "source": [
        "def custom_standardization(input_data):\n",
        "    return input_data\n",
        "\n",
        "vocab_size = 10000\n",
        "seq_len = 100\n",
        "\n",
        "vectorize_layer = TextVectorization(\n",
        "    standardize=custom_standardization,\n",
        "    max_tokens=vocab_size,\n",
        "    output_mode='int',\n",
        "    output_sequence_length=seq_len)\n",
        "\n",
        "# Make a text-only dataset (no labels) and call adapt to build the vocabulary.\n",
        "text_data = train_data.map(lambda x, y: x)\n",
        "vectorize_layer.adapt(text_data)"
      ],
      "metadata": {
        "id": "pQ5PbgPbe3Ci"
      },
      "execution_count": 65,
      "outputs": []
    },
    {
      "cell_type": "code",
      "source": [
        "embedding_dim=100\n",
        "\n",
        "10*100*200\n",
        "\n",
        "model = Sequential([\n",
        "    vectorize_layer,\n",
        "    Embedding(vocab_size, embedding_dim),\n",
        "    Dropout(0.2),\n",
        "    GlobalAveragePooling1D(),\n",
        "    Dropout(0.2),\n",
        "    # Conv1D(200, (3)),\n",
        "    # Conv1D(200, (2)),\n",
        "    # GRU(300),\n",
        "    #GlobalAveragePooling1D(),\n",
        "    Dense(100, activation='relu'),\n",
        "    Dense(1)\n",
        "])"
      ],
      "metadata": {
        "id": "So4rfEXNfGB1"
      },
      "execution_count": 125,
      "outputs": []
    },
    {
      "cell_type": "code",
      "source": [
        "model.compile(optimizer='adam',\n",
        "              loss=tf.keras.losses.BinaryCrossentropy(from_logits=True),\n",
        "              metrics=tf.metrics.BinaryAccuracy(threshold=0.5))"
      ],
      "metadata": {
        "id": "YlifktPYfIAg"
      },
      "execution_count": 135,
      "outputs": []
    },
    {
      "cell_type": "code",
      "source": [
        "history = model.fit(train_data, validation_data=valid_data, epochs=5)"
      ],
      "metadata": {
        "colab": {
          "base_uri": "https://localhost:8080/"
        },
        "id": "u3ZTQzOxfJw3",
        "outputId": "79b6cd02-1721-4b40-fc48-e2020c4fe1ff"
      },
      "execution_count": 136,
      "outputs": [
        {
          "output_type": "stream",
          "name": "stdout",
          "text": [
            "Epoch 1/5\n",
            "7975/7975 [==============================] - 65s 5ms/step - loss: 0.4658 - binary_accuracy: 0.7614 - val_loss: 0.5823 - val_binary_accuracy: 0.7121\n",
            "Epoch 2/5\n",
            "7975/7975 [==============================] - 36s 5ms/step - loss: 0.4600 - binary_accuracy: 0.7651 - val_loss: 0.5865 - val_binary_accuracy: 0.7131\n",
            "Epoch 3/5\n",
            "7975/7975 [==============================] - 36s 5ms/step - loss: 0.4534 - binary_accuracy: 0.7702 - val_loss: 0.5920 - val_binary_accuracy: 0.7132\n",
            "Epoch 4/5\n",
            "7975/7975 [==============================] - 36s 5ms/step - loss: 0.4466 - binary_accuracy: 0.7748 - val_loss: 0.5989 - val_binary_accuracy: 0.7096\n",
            "Epoch 5/5\n",
            "7975/7975 [==============================] - 38s 5ms/step - loss: 0.4396 - binary_accuracy: 0.7795 - val_loss: 0.6092 - val_binary_accuracy: 0.7128\n"
          ]
        }
      ]
    },
    {
      "cell_type": "markdown",
      "source": [
        "Нормализация тестового датафрейма"
      ],
      "metadata": {
        "id": "d09obiPho3eZ"
      }
    },
    {
      "cell_type": "code",
      "source": [
        "nnx_test = preprocessing(x_test)\n",
        "nny_test = encoder.fit_transform(y_test)"
      ],
      "metadata": {
        "id": "KskSsiDHoOex"
      },
      "execution_count": 69,
      "outputs": []
    },
    {
      "cell_type": "markdown",
      "source": [
        "Получаем предикт модели"
      ],
      "metadata": {
        "id": "6GSEX5Jq4IHr"
      }
    },
    {
      "cell_type": "code",
      "source": [
        "pred = model.predict(nnx_test)"
      ],
      "metadata": {
        "colab": {
          "base_uri": "https://localhost:8080/"
        },
        "id": "-1JicxY4DkBJ",
        "outputId": "ab29d565-9ac9-44d9-9bd8-19b9dccb2901"
      },
      "execution_count": 137,
      "outputs": [
        {
          "output_type": "stream",
          "name": "stdout",
          "text": [
            "1773/1773 [==============================] - 4s 2ms/step\n"
          ]
        }
      ]
    },
    {
      "cell_type": "code",
      "source": [
        "pred[:5] # Ожидался результат в диапазоне от 0 до 1. Не ясно почему так."
      ],
      "metadata": {
        "colab": {
          "base_uri": "https://localhost:8080/"
        },
        "id": "0LEwEopg3iVS",
        "outputId": "9d17308e-d62d-4496-945a-44457d81ef60"
      },
      "execution_count": 145,
      "outputs": [
        {
          "output_type": "execute_result",
          "data": {
            "text/plain": [
              "array([[-0.07786962],\n",
              "       [-5.875721  ],\n",
              "       [-9.053772  ],\n",
              "       [ 1.879563  ],\n",
              "       [ 0.3813364 ]], dtype=float32)"
            ]
          },
          "metadata": {},
          "execution_count": 145
        }
      ]
    },
    {
      "cell_type": "markdown",
      "source": [
        "Преобразуем предикт в двоичный результат"
      ],
      "metadata": {
        "id": "rrGOPEeV3pOj"
      }
    },
    {
      "cell_type": "code",
      "source": [
        "pred_binary = pred>0.5"
      ],
      "metadata": {
        "id": "nziaI2aJpn2M"
      },
      "execution_count": 140,
      "outputs": []
    },
    {
      "cell_type": "markdown",
      "source": [
        "Получаем classification_report"
      ],
      "metadata": {
        "id": "7cUNipnC4PMi"
      }
    },
    {
      "cell_type": "code",
      "source": [
        "print(classification_report(pred_binary, nny_test))"
      ],
      "metadata": {
        "colab": {
          "base_uri": "https://localhost:8080/"
        },
        "id": "2ZEZuhC0pR9n",
        "outputId": "79489a9f-288c-4923-ffb1-69f54e2e4001"
      },
      "execution_count": 144,
      "outputs": [
        {
          "output_type": "stream",
          "name": "stdout",
          "text": [
            "              precision    recall  f1-score   support\n",
            "\n",
            "       False       0.80      0.68      0.73     32976\n",
            "        True       0.63      0.76      0.69     23733\n",
            "\n",
            "    accuracy                           0.71     56709\n",
            "   macro avg       0.71      0.72      0.71     56709\n",
            "weighted avg       0.73      0.71      0.71     56709\n",
            "\n"
          ]
        }
      ]
    },
    {
      "cell_type": "markdown",
      "source": [
        "**Результаты у сетки получились не самые лучшие. У каунт векторайзера и tf-idf векторайзера получились лучше. Но надо признать, что сетка в плане конфигурации и настройки очень недоработана.**"
      ],
      "metadata": {
        "id": "fqVB93uR5B4p"
      }
    },
    {
      "cell_type": "markdown",
      "source": [
        "Проверка переобучения"
      ],
      "metadata": {
        "id": "H1t8efaJ1ixd"
      }
    },
    {
      "cell_type": "code",
      "source": [
        "history_dict = history.history"
      ],
      "metadata": {
        "id": "L_oKavxlpirD"
      },
      "execution_count": 147,
      "outputs": []
    },
    {
      "cell_type": "markdown",
      "source": [
        "Графики потерь при обучении и валидации"
      ],
      "metadata": {
        "id": "KDuArsLJ1shH"
      }
    },
    {
      "cell_type": "code",
      "source": [
        "acc = history_dict['binary_accuracy']\n",
        "val_acc = history_dict['val_binary_accuracy']\n",
        "loss = history_dict['loss']\n",
        "val_loss = history_dict['val_loss']\n",
        "\n",
        "epochs = range(1, len(acc) + 1)\n",
        "\n",
        "# \"bo\" is for \"blue dot\"\n",
        "plt.plot(epochs, loss, 'bo', label='Training loss')\n",
        "# b is for \"solid blue line\"\n",
        "plt.plot(epochs, val_loss, 'b', label='Validation loss')\n",
        "plt.title('Training and validation loss')\n",
        "plt.xlabel('Epochs')\n",
        "plt.ylabel('Loss')\n",
        "plt.legend()\n",
        "\n",
        "plt.show()\n"
      ],
      "metadata": {
        "colab": {
          "base_uri": "https://localhost:8080/",
          "height": 295
        },
        "id": "9Ute9iFx1ohF",
        "outputId": "487ffe54-79ef-4b4a-bd3c-40e37940d66d"
      },
      "execution_count": 148,
      "outputs": [
        {
          "output_type": "display_data",
          "data": {
            "text/plain": [
              "<Figure size 432x288 with 1 Axes>"
            ],
            "image/png": "[encoded data removed]"
          },
          "metadata": {
            "needs_background": "light"
          }
        }
      ]
    },
    {
      "cell_type": "markdown",
      "source": [
        "Графики точности при обучении и валидации"
      ],
      "metadata": {
        "id": "M3Cl6rc_1yHd"
      }
    },
    {
      "cell_type": "code",
      "source": [
        "plt.plot(epochs, acc, 'bo', label='Training acc')\n",
        "plt.plot(epochs, val_acc, 'b', label='Validation acc')\n",
        "plt.title('Training and validation accuracy')\n",
        "plt.xlabel('Epochs')\n",
        "plt.ylabel('Accuracy')\n",
        "plt.legend(loc='lower right')\n",
        "\n",
        "plt.show()\n"
      ],
      "metadata": {
        "colab": {
          "base_uri": "https://localhost:8080/",
          "height": 295
        },
        "id": "jxFN0Gvl11Ks",
        "outputId": "5652c8c4-9314-4590-a0b1-3057e844e0dc"
      },
      "execution_count": 149,
      "outputs": [
        {
          "output_type": "display_data",
          "data": {
            "text/plain": [
              "<Figure size 432x288 with 1 Axes>"
            ],
            "image/png": "[encoded data removed]"
          },
          "metadata": {
            "needs_background": "light"
          }
        }
      ]
    },
    {
      "cell_type": "markdown",
      "source": [
        "**Судя по графикам, модель немного переобучилась**"
      ],
      "metadata": {
        "id": "0euprEug42MB"
      }
    },
    {
      "cell_type": "code",
      "source": [],
      "metadata": {
        "id": "rLmCP1rE4kAP"
      },
      "execution_count": null,
      "outputs": []
    }
  ]
}
