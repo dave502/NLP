{
  "cells": [
    {
      "cell_type": "markdown",
      "metadata": {
        "id": "view-in-github",
        "colab_type": "text"
      },
      "source": [
        "<a href=\"https://colab.research.google.com/github/dave502/NLP/blob/main/lesson_10/nlp_hw_10.ipynb\" target=\"_parent\"><img src=\"https://colab.research.google.com/assets/colab-badge.svg\" alt=\"Open In Colab\"/></a>"
      ]
    },
    {
      "cell_type": "code",
      "execution_count": null,
      "metadata": {
        "id": "na_SaYy3EYrb"
      },
      "outputs": [],
      "source": [
        "import tensorflow as tf\n",
        "import matplotlib.pyplot as plt\n",
        "import matplotlib.ticker as ticker\n",
        "from sklearn.model_selection import train_test_split\n",
        "import numpy as np\n",
        "\n",
        "import unicodedata\n",
        "import re\n",
        "import os\n",
        "import io\n",
        "from pathlib import Path"
      ]
    },
    {
      "cell_type": "markdown",
      "source": [
        "Загрузка данных"
      ],
      "metadata": {
        "id": "ke14WixkZ_qa"
      }
    },
    {
      "cell_type": "code",
      "execution_count": null,
      "metadata": {
        "id": "X5A5d2Ff0OZo"
      },
      "outputs": [],
      "source": [
        "%%capture\n",
        "!wget http://www.manythings.org/anki/rus-eng.zip\n",
        "!rm ru_en -r\n",
        "!mkdir ru_en\n",
        "!unzip rus-eng.zip -d ru_en\n",
        "!rm rus-eng.zip"
      ]
    },
    {
      "cell_type": "code",
      "execution_count": null,
      "metadata": {
        "colab": {
          "base_uri": "https://localhost:8080/"
        },
        "id": "yba2Oem00bBW",
        "outputId": "34421d8a-269c-48ef-d6eb-77e375d1e773"
      },
      "outputs": [
        {
          "output_type": "stream",
          "name": "stdout",
          "text": [
            "_about.txt  rus.txt\n"
          ]
        }
      ],
      "source": [
        "!ls ru_en"
      ]
    },
    {
      "cell_type": "code",
      "execution_count": null,
      "metadata": {
        "id": "Btc5C0-u1Ut4"
      },
      "outputs": [],
      "source": [
        "data_path = Path('/content/ru_en/rus.txt')"
      ]
    },
    {
      "cell_type": "markdown",
      "source": [
        "Функция предобработки текста"
      ],
      "metadata": {
        "id": "WfpDEggXZ-ik"
      }
    },
    {
      "cell_type": "code",
      "execution_count": null,
      "metadata": {
        "id": "kxQkWZks1sF9"
      },
      "outputs": [],
      "source": [
        "def preprocess_sentence(w):\n",
        "  w = w.lower().strip()\n",
        "\n",
        "  # creating a space between a word and the punctuation following it\n",
        "  # eg: \"he is a boy.\" => \"he is a boy .\"\n",
        "  # Reference:- https://stackoverflow.com/questions/3645931/python-padding-punctuation-with-white-spaces-keeping-punctuation\n",
        "  w = re.sub(r\"([?.!,])\", r\" \\1 \", w)\n",
        "  w = re.sub(r'[\" \"]+', \" \", w)\n",
        "\n",
        "  # replacing everything with space except (a-z, A-Z, \".\", \"?\", \"!\", \",\")\n",
        "  w = re.sub(r\"[^a-zA-Zа-яА-Я?.!,']+\", \" \", w)\n",
        "\n",
        "  w = w.strip()\n",
        "\n",
        "  # adding a start and an end token to the sentence\n",
        "  # so that the model know when to start and stop predicting.\n",
        "  w = '<start> ' + w + ' <end>'\n",
        "  return w"
      ]
    },
    {
      "cell_type": "code",
      "execution_count": null,
      "metadata": {
        "colab": {
          "base_uri": "https://localhost:8080/",
          "height": 35
        },
        "id": "WGhs-nC31_t2",
        "outputId": "9b035575-0038-4db9-d9a0-03d9cc05f564"
      },
      "outputs": [
        {
          "output_type": "execute_result",
          "data": {
            "text/plain": [
              "'<start> this is example sentence . <end>'"
            ],
            "application/vnd.google.colaboratory.intrinsic+json": {
              "type": "string"
            }
          },
          "metadata": {},
          "execution_count": 6
        }
      ],
      "source": [
        "preprocess_sentence(\"This is example sentence.\")"
      ]
    },
    {
      "cell_type": "markdown",
      "source": [
        "Функции создания и токенизации датасета"
      ],
      "metadata": {
        "id": "BxtQj8jEaLkz"
      }
    },
    {
      "cell_type": "code",
      "execution_count": null,
      "metadata": {
        "id": "7m1Ia92A2BzW"
      },
      "outputs": [],
      "source": [
        "def create_dataset(data_path: Path, num_examples: int) -> zip:\n",
        "  lines = data_path.read_text(encoding='UTF-8').strip().split('\\n')\n",
        "\n",
        "  word_pairs = [[preprocess_sentence(sent) for sent in line.split('\\t')[:2]] for line in lines[:num_examples]]\n",
        "\n",
        "  return zip(*word_pairs)\n",
        "\n",
        "def load_dataset(data_path: Path, num_examples: int) -> tuple:\n",
        "  # creating cleaned input, output pairs\n",
        "  target_lang, input_lang = create_dataset(data_path, num_examples)\n",
        "\n",
        "  input_tensor, input_lang_tokenizer = tokenize(input_lang)\n",
        "  target_tensor, target_lang_tokenizer = tokenize(target_lang)\n",
        "\n",
        "  return input_tensor, target_tensor, input_lang_tokenizer, target_lang_tokenizer\n",
        "\n",
        "def tokenize(lang):\n",
        "  lang_tokenizer = tf.keras.preprocessing.text.Tokenizer(filters='')\n",
        "  lang_tokenizer.fit_on_texts(lang)\n",
        "\n",
        "  tensor = lang_tokenizer.texts_to_sequences(lang)\n",
        "\n",
        "  tensor = tf.keras.preprocessing.sequence.pad_sequences(tensor, padding='post')\n",
        "\n",
        "  return tensor, lang_tokenizer"
      ]
    },
    {
      "cell_type": "markdown",
      "source": [
        "Проверка создания датасета"
      ],
      "metadata": {
        "id": "agDkeTrYaX0N"
      }
    },
    {
      "cell_type": "code",
      "execution_count": null,
      "metadata": {
        "colab": {
          "base_uri": "https://localhost:8080/"
        },
        "id": "lDYNwKzj3dPe",
        "outputId": "3bab2b24-494b-4e0e-8502-b173910b184b"
      },
      "outputs": [
        {
          "output_type": "stream",
          "name": "stdout",
          "text": [
            "len(en) = 451436, len(ru) = 451436\n",
            "<start> go . <end>\n",
            "<start> марш ! <end>\n"
          ]
        }
      ],
      "source": [
        "en, ru = create_dataset(data_path, None)\n",
        "print(f'len(en) = {len(en)}, len(ru) = {len(ru)}')\n",
        "print(en[0])\n",
        "print(ru[0])"
      ]
    },
    {
      "cell_type": "markdown",
      "source": [
        "Загрузка датасета из файла (в виде массивов), получение токенайзеров "
      ],
      "metadata": {
        "id": "XHnQwXckaezl"
      }
    },
    {
      "cell_type": "code",
      "execution_count": null,
      "metadata": {
        "id": "DugZPHSZ53ZG"
      },
      "outputs": [],
      "source": [
        "NUM_EXAMPLES = 100000\n",
        "input_tensor, target_tensor, input_lang_tokenizer, target_lang_tokenizer = load_dataset(data_path, NUM_EXAMPLES)"
      ]
    },
    {
      "cell_type": "markdown",
      "source": [
        "Длины полученных тензоров"
      ],
      "metadata": {
        "id": "4kKilZbGaowU"
      }
    },
    {
      "cell_type": "code",
      "execution_count": null,
      "metadata": {
        "colab": {
          "base_uri": "https://localhost:8080/"
        },
        "id": "AWNWVSAy6qnn",
        "outputId": "653ba772-22c0-408b-ed54-f41dfbb2c0d5"
      },
      "outputs": [
        {
          "output_type": "execute_result",
          "data": {
            "text/plain": [
              "(11, 15)"
            ]
          },
          "metadata": {},
          "execution_count": 10
        }
      ],
      "source": [
        "# Calculate max_length of the target tensors\n",
        "max_length_targ, max_length_inp = target_tensor.shape[1], input_tensor.shape[1]\n",
        "max_length_targ, max_length_inp"
      ]
    },
    {
      "cell_type": "markdown",
      "source": [
        "Разбиение датасета на обучающий и валидационный (массивы)"
      ],
      "metadata": {
        "id": "b7P4hTn8bVtr"
      }
    },
    {
      "cell_type": "code",
      "execution_count": null,
      "metadata": {
        "colab": {
          "base_uri": "https://localhost:8080/"
        },
        "id": "Lo9P0Nxz7E_W",
        "outputId": "aa095dd3-5bc5-47aa-9cf1-7540637e6724"
      },
      "outputs": [
        {
          "output_type": "stream",
          "name": "stdout",
          "text": [
            "80000 80000 20000 20000\n"
          ]
        }
      ],
      "source": [
        "# Creating training and validation sets using an 80-20 split\n",
        "input_tensor_train, input_tensor_val, target_tensor_train, target_tensor_val = train_test_split(input_tensor, target_tensor, test_size=0.2)\n",
        "\n",
        "# Show length\n",
        "print(len(input_tensor_train), len(target_tensor_train), len(input_tensor_val), len(target_tensor_val))"
      ]
    },
    {
      "cell_type": "markdown",
      "source": [
        "Проверка работы токенайзеров для вхоящих и целевых тензоров"
      ],
      "metadata": {
        "id": "gNe74yB6boeA"
      }
    },
    {
      "cell_type": "code",
      "execution_count": null,
      "metadata": {
        "colab": {
          "base_uri": "https://localhost:8080/"
        },
        "id": "oqZPqjR57Qh8",
        "outputId": "a148eaeb-202f-442d-c545-dcf5f0552d54"
      },
      "outputs": [
        {
          "output_type": "stream",
          "name": "stdout",
          "text": [
            "Input Language; index to word mapping\n",
            "1 ----> <start>\n",
            "4 ----> я\n",
            "5956 ----> прочла\n",
            "3761 ----> статью\n",
            "3 ----> .\n",
            "2 ----> <end>\n",
            "\n",
            "Target Language; index to word mapping\n",
            "1 ----> <start>\n",
            "4 ----> i\n",
            "154 ----> read\n",
            "12 ----> the\n",
            "2033 ----> article\n",
            "3 ----> .\n",
            "2 ----> <end>\n"
          ]
        }
      ],
      "source": [
        "def show_mapping(tokenizer, tensor):\n",
        "  for t in tensor:\n",
        "    if t!=0:\n",
        "      print (\"%d ----> %s\" % (t, tokenizer.index_word[t]))\n",
        "\n",
        "print (\"Input Language; index to word mapping\")\n",
        "show_mapping(input_lang_tokenizer, input_tensor_train[0])\n",
        "print ()\n",
        "print (\"Target Language; index to word mapping\")\n",
        "show_mapping(target_lang_tokenizer, target_tensor_train[0])"
      ]
    },
    {
      "cell_type": "markdown",
      "source": [
        "Параметры модели"
      ],
      "metadata": {
        "id": "qM2lmASHbz3x"
      }
    },
    {
      "cell_type": "code",
      "execution_count": null,
      "metadata": {
        "id": "oDBPbCFo8L71"
      },
      "outputs": [],
      "source": [
        "BUFFER_SIZE = len(input_tensor_train)\n",
        "BATCH_SIZE = 64\n",
        "STEPS_PER_EPOCH = len(input_tensor_train)//BATCH_SIZE\n",
        "EMBEDDING_DIM = 300\n",
        "UNITS = 1024\n",
        "vocab_inp_size = len(input_lang_tokenizer.word_index)+1\n",
        "vocab_tar_size = len(target_lang_tokenizer.word_index)+1"
      ]
    },
    {
      "cell_type": "markdown",
      "source": [
        "Преобразование датасетов из массивов в tf тензор"
      ],
      "metadata": {
        "id": "1_3geAFVcRPG"
      }
    },
    {
      "cell_type": "code",
      "source": [
        "dataset = tf.data.Dataset.from_tensor_slices((input_tensor_train, target_tensor_train)).shuffle(BUFFER_SIZE)\n",
        "dataset = dataset.batch(BATCH_SIZE, drop_remainder=True)"
      ],
      "metadata": {
        "id": "ABxCClf1NGEC"
      },
      "execution_count": null,
      "outputs": []
    },
    {
      "cell_type": "markdown",
      "source": [
        "Проверка размеров полученного тензора ([<размер батча>, <длина строки данных>])"
      ],
      "metadata": {
        "id": "C_i-ER66cjnC"
      }
    },
    {
      "cell_type": "code",
      "source": [
        "example_input_batch, example_target_batch = next(iter(dataset))\n",
        "example_input_batch.shape, example_target_batch.shape"
      ],
      "metadata": {
        "colab": {
          "base_uri": "https://localhost:8080/"
        },
        "id": "X2J7sl20NIxS",
        "outputId": "3c0f9fff-94dd-49cd-c11b-662e541cc60d"
      },
      "execution_count": null,
      "outputs": [
        {
          "output_type": "execute_result",
          "data": {
            "text/plain": [
              "(TensorShape([64, 15]), TensorShape([64, 11]))"
            ]
          },
          "metadata": {},
          "execution_count": 15
        }
      ]
    },
    {
      "cell_type": "markdown",
      "source": [
        "Класс энкодера. На выходе - состояние слоя GRU."
      ],
      "metadata": {
        "id": "PZc401Kpc8EX"
      }
    },
    {
      "cell_type": "code",
      "source": [
        "class Encoder(tf.keras.Model):\n",
        "    def __init__(self, vocab_size, embedding_dim, rnn_units, batch_size, with_attention=False):\n",
        "        super(Encoder, self).__init__()\n",
        "\n",
        "        self.batch_size = batch_size\n",
        "        self.rnn_units = rnn_units\n",
        "\n",
        "        self.embedding = tf.keras.layers.Embedding(vocab_size, embedding_dim)\n",
        "        self.gru = tf.keras.layers.GRU(self.rnn_units, return_sequences=with_attention, return_state=True, recurrent_initializer='glorot_uniform')\n",
        "\n",
        "    def call(self, x, hidden):\n",
        "        x = self.embedding(x)\n",
        "        output, state = self.gru(x, initial_state=hidden)\n",
        "        return state\n",
        "\n",
        "    def get_zero_hidden_state(self):\n",
        "        return tf.zeros((self.batch_size, self.rnn_units))"
      ],
      "metadata": {
        "id": "CX-krxs8NK1w"
      },
      "execution_count": null,
      "outputs": []
    },
    {
      "cell_type": "code",
      "source": [
        "encoder = Encoder(vocab_inp_size, EMBEDDING_DIM, UNITS, BATCH_SIZE)"
      ],
      "metadata": {
        "id": "NnKxNGctNNxA"
      },
      "execution_count": null,
      "outputs": []
    },
    {
      "cell_type": "markdown",
      "source": [
        "Проверка работы энкодера. На выходе - (<размер батча>, <количество GRU ячеек>)"
      ],
      "metadata": {
        "id": "e1ifj4zfdeaG"
      }
    },
    {
      "cell_type": "code",
      "source": [
        "# sample input\n",
        "sample_hidden = encoder.get_zero_hidden_state()\n",
        "sample_hidden = encoder(example_input_batch, sample_hidden)\n",
        "print ('Encoder Hidden state shape: (batch size, units) {}'.format(sample_hidden.shape))"
      ],
      "metadata": {
        "colab": {
          "base_uri": "https://localhost:8080/"
        },
        "id": "hSBND3uiNP1j",
        "outputId": "b52020a5-08ea-4ca2-d4f2-3a65dc922dd0"
      },
      "execution_count": null,
      "outputs": [
        {
          "output_type": "stream",
          "name": "stdout",
          "text": [
            "Encoder Hidden state shape: (batch size, units) (64, 1024)\n"
          ]
        }
      ]
    },
    {
      "cell_type": "markdown",
      "source": [
        "Класс декодера. На входе данные и состояние энкодера, на выходе - вероятностное распределение словаря + состояние gru декодера "
      ],
      "metadata": {
        "id": "hlAL3aq0d1sj"
      }
    },
    {
      "cell_type": "code",
      "source": [
        "class Decoder(tf.keras.Model):\n",
        "    def __init__(self, vocab_size, embedding_dim, rnn_units, batch_size):\n",
        "        super(Decoder, self).__init__()\n",
        "\n",
        "        self.batch_size = batch_size\n",
        "        self.rnn_units = rnn_units\n",
        "        \n",
        "        self.embedding = tf.keras.layers.Embedding(vocab_size, embedding_dim)\n",
        "        self.gru = tf.keras.layers.GRU(self.rnn_units, return_sequences=True, return_state=True, recurrent_initializer='glorot_uniform')\n",
        "        self.fc = tf.keras.layers.Dense(vocab_size)\n",
        "\n",
        "    def call(self, x, hidden):\n",
        "        # enc_output shape == (batch_size, max_length, hidden_size)\n",
        "        x = self.embedding(x) # x shape after passing through embedding == (batch_size, 1, embedding_dim)\n",
        "        output, state = self.gru(x, initial_state=hidden)\n",
        "        output = tf.reshape(output, (-1, output.shape[2])) # output shape == (batch_size * 1, hidden_size)\n",
        "        x = self.fc(output) # output shape == (batch_size, vocab)\n",
        "\n",
        "        return x, state"
      ],
      "metadata": {
        "id": "O_3Vb0mpNSzB"
      },
      "execution_count": null,
      "outputs": []
    },
    {
      "cell_type": "code",
      "source": [
        "decoder = Decoder(vocab_tar_size, EMBEDDING_DIM, UNITS, BATCH_SIZE)"
      ],
      "metadata": {
        "id": "sKYVYpAANYSy"
      },
      "execution_count": null,
      "outputs": []
    },
    {
      "cell_type": "markdown",
      "source": [
        "Проверка работы декодера"
      ],
      "metadata": {
        "id": "3-PkJvgNebTc"
      }
    },
    {
      "cell_type": "code",
      "source": [
        "decoder_sample_x, decoder_sample_h = decoder(tf.random.uniform((BATCH_SIZE, 1)), sample_hidden)\n",
        "print(f'{decoder_sample_x.shape}')\n",
        "print(f'{decoder_sample_h.shape}')"
      ],
      "metadata": {
        "colab": {
          "base_uri": "https://localhost:8080/"
        },
        "id": "v8QE529tNaRm",
        "outputId": "c2d54154-f205-4059-d57b-7db17dd09aa5"
      },
      "execution_count": null,
      "outputs": [
        {
          "output_type": "stream",
          "name": "stdout",
          "text": [
            "(64, 7335)\n",
            "(64, 1024)\n"
          ]
        }
      ]
    },
    {
      "cell_type": "markdown",
      "source": [
        "Оптимизатор и лосс-функция для модели"
      ],
      "metadata": {
        "id": "1LXTzEA9UHzH"
      }
    },
    {
      "cell_type": "code",
      "source": [
        "optimizer = tf.keras.optimizers.Adam()\n",
        "loss_object = tf.keras.losses.SparseCategoricalCrossentropy(from_logits=True, reduction='none')\n",
        "\n",
        "def loss_funcion(real, pred):\n",
        "    \n",
        "    loss_ = loss_object(real, pred)\n",
        "\n",
        "    mask = tf.math.logical_not(tf.math.equal(real, 0))\n",
        "    mask = tf.cast(mask, dtype=loss_.dtype)\n",
        "\n",
        "    loss_ *= mask\n",
        "\n",
        "    return tf.reduce_mean(loss_)"
      ],
      "metadata": {
        "id": "20SE0yz5Nd0n"
      },
      "execution_count": null,
      "outputs": []
    },
    {
      "cell_type": "markdown",
      "source": [
        "Функция шага обучения энкодера, декодера"
      ],
      "metadata": {
        "id": "rUY7H1tuUSNa"
      }
    },
    {
      "cell_type": "code",
      "source": [
        "@tf.function\n",
        "def train_step(input, target, encoder_hidden):\n",
        "    loss = 0\n",
        "\n",
        "    with tf.GradientTape() as tape:\n",
        "        encoder_hidden = encoder(input, encoder_hidden)\n",
        "\n",
        "        decoder_hidden = encoder_hidden\n",
        "\n",
        "        decoder_input = tf.expand_dims([target_lang_tokenizer.word_index['<start>']] * BATCH_SIZE, 1)\n",
        "\n",
        "        # Teacher forcing - feeding the target as the next input\n",
        "        for t in range(1, target.shape[1]):\n",
        "            # passing enc_output to the decoder\n",
        "            predictions, decoder_hidden = decoder(decoder_input, decoder_hidden)\n",
        "\n",
        "            loss += loss_funcion(target[:, t], predictions)\n",
        "\n",
        "            # using teacher forcing\n",
        "            decoder_input = tf.expand_dims(target[:, t], 1)\n",
        "\n",
        "    batch_loss = (loss / int(target.shape[1]))\n",
        "\n",
        "    variables = encoder.trainable_variables + decoder.trainable_variables\n",
        "\n",
        "    gradients = tape.gradient(loss, variables)\n",
        "\n",
        "    optimizer.apply_gradients(zip(gradients, variables))\n",
        "\n",
        "    return batch_loss"
      ],
      "metadata": {
        "id": "nA0g58KZNhP1"
      },
      "execution_count": null,
      "outputs": []
    },
    {
      "cell_type": "markdown",
      "source": [
        "Обучение энкодера, декодера"
      ],
      "metadata": {
        "id": "roJdB6HsUjO4"
      }
    },
    {
      "cell_type": "code",
      "source": [
        "EPOCHS = 50\n",
        "\n",
        "for epoch in range(EPOCHS):\n",
        "    \n",
        "    encoder_hidden = encoder.get_zero_hidden_state()\n",
        "    total_loss = 0\n",
        "\n",
        "    for (batch, (input, target)) in enumerate(dataset.take(STEPS_PER_EPOCH)):\n",
        "      batch_loss = train_step(input, target, encoder_hidden)\n",
        "      total_loss += batch_loss\n",
        "\n",
        "      if batch % 100 == 0: print(f'Epoch {epoch+1} Batch {batch} Loss {batch_loss:.4f}')\n",
        "\n",
        "    print(f'Epoch {epoch+1} Batch {batch} Loss {total_loss / STEPS_PER_EPOCH:.4f}')"
      ],
      "metadata": {
        "colab": {
          "base_uri": "https://localhost:8080/"
        },
        "id": "PN6INylNNjip",
        "outputId": "04c6f2d5-064b-4daf-d436-963373849703"
      },
      "execution_count": null,
      "outputs": [
        {
          "output_type": "stream",
          "name": "stdout",
          "text": [
            "Epoch 1 Batch 0 Loss 4.6652\n",
            "Epoch 1 Batch 100 Loss 2.0469\n",
            "Epoch 1 Batch 200 Loss 1.8178\n",
            "Epoch 1 Batch 300 Loss 1.6540\n",
            "Epoch 1 Batch 400 Loss 1.5260\n",
            "Epoch 1 Batch 500 Loss 1.4188\n",
            "Epoch 1 Batch 600 Loss 1.4605\n",
            "Epoch 1 Batch 700 Loss 1.3172\n",
            "Epoch 1 Batch 800 Loss 1.2932\n",
            "Epoch 1 Batch 900 Loss 1.1983\n",
            "Epoch 1 Batch 1000 Loss 1.1648\n",
            "Epoch 1 Batch 1100 Loss 1.1259\n",
            "Epoch 1 Batch 1200 Loss 0.8650\n",
            "Epoch 1 Batch 1249 Loss 1.4526\n",
            "Epoch 2 Batch 0 Loss 0.8534\n",
            "Epoch 2 Batch 100 Loss 0.8713\n",
            "Epoch 2 Batch 200 Loss 0.8075\n",
            "Epoch 2 Batch 300 Loss 0.8159\n",
            "Epoch 2 Batch 400 Loss 0.7123\n",
            "Epoch 2 Batch 500 Loss 0.6909\n",
            "Epoch 2 Batch 600 Loss 0.7694\n",
            "Epoch 2 Batch 700 Loss 0.5854\n",
            "Epoch 2 Batch 800 Loss 0.5862\n",
            "Epoch 2 Batch 900 Loss 0.6290\n",
            "Epoch 2 Batch 1000 Loss 0.4932\n",
            "Epoch 2 Batch 1100 Loss 0.5804\n",
            "Epoch 2 Batch 1200 Loss 0.5669\n",
            "Epoch 2 Batch 1249 Loss 0.7140\n",
            "Epoch 3 Batch 0 Loss 0.4448\n",
            "Epoch 3 Batch 100 Loss 0.3864\n",
            "Epoch 3 Batch 200 Loss 0.4182\n",
            "Epoch 3 Batch 300 Loss 0.3715\n",
            "Epoch 3 Batch 400 Loss 0.4261\n",
            "Epoch 3 Batch 500 Loss 0.3931\n",
            "Epoch 3 Batch 600 Loss 0.4654\n",
            "Epoch 3 Batch 700 Loss 0.4215\n",
            "Epoch 3 Batch 800 Loss 0.3451\n",
            "Epoch 3 Batch 900 Loss 0.4275\n",
            "Epoch 3 Batch 1000 Loss 0.3806\n",
            "Epoch 3 Batch 1100 Loss 0.4056\n",
            "Epoch 3 Batch 1200 Loss 0.3887\n",
            "Epoch 3 Batch 1249 Loss 0.3869\n",
            "Epoch 4 Batch 0 Loss 0.1940\n",
            "Epoch 4 Batch 100 Loss 0.2151\n",
            "Epoch 4 Batch 200 Loss 0.2209\n",
            "Epoch 4 Batch 300 Loss 0.1959\n",
            "Epoch 4 Batch 400 Loss 0.2192\n",
            "Epoch 4 Batch 500 Loss 0.2167\n",
            "Epoch 4 Batch 600 Loss 0.2977\n",
            "Epoch 4 Batch 700 Loss 0.2668\n",
            "Epoch 4 Batch 800 Loss 0.2203\n",
            "Epoch 4 Batch 900 Loss 0.2242\n",
            "Epoch 4 Batch 1000 Loss 0.2577\n",
            "Epoch 4 Batch 1100 Loss 0.2390\n",
            "Epoch 4 Batch 1200 Loss 0.2256\n",
            "Epoch 4 Batch 1249 Loss 0.2324\n",
            "Epoch 5 Batch 0 Loss 0.1146\n",
            "Epoch 5 Batch 100 Loss 0.1328\n",
            "Epoch 5 Batch 200 Loss 0.1258\n",
            "Epoch 5 Batch 300 Loss 0.1742\n",
            "Epoch 5 Batch 400 Loss 0.1392\n",
            "Epoch 5 Batch 500 Loss 0.1607\n",
            "Epoch 5 Batch 600 Loss 0.1580\n",
            "Epoch 5 Batch 700 Loss 0.1283\n",
            "Epoch 5 Batch 800 Loss 0.1659\n",
            "Epoch 5 Batch 900 Loss 0.1156\n",
            "Epoch 5 Batch 1000 Loss 0.1343\n",
            "Epoch 5 Batch 1100 Loss 0.1818\n",
            "Epoch 5 Batch 1200 Loss 0.2143\n",
            "Epoch 5 Batch 1249 Loss 0.1577\n",
            "Epoch 6 Batch 0 Loss 0.1094\n",
            "Epoch 6 Batch 100 Loss 0.0827\n",
            "Epoch 6 Batch 200 Loss 0.1058\n",
            "Epoch 6 Batch 300 Loss 0.0938\n",
            "Epoch 6 Batch 400 Loss 0.0949\n",
            "Epoch 6 Batch 500 Loss 0.1248\n",
            "Epoch 6 Batch 600 Loss 0.1131\n",
            "Epoch 6 Batch 700 Loss 0.0996\n",
            "Epoch 6 Batch 800 Loss 0.1182\n",
            "Epoch 6 Batch 900 Loss 0.1926\n",
            "Epoch 6 Batch 1000 Loss 0.1318\n",
            "Epoch 6 Batch 1100 Loss 0.1153\n",
            "Epoch 6 Batch 1200 Loss 0.1300\n",
            "Epoch 6 Batch 1249 Loss 0.1200\n",
            "Epoch 7 Batch 0 Loss 0.0739\n",
            "Epoch 7 Batch 100 Loss 0.0479\n",
            "Epoch 7 Batch 200 Loss 0.0902\n",
            "Epoch 7 Batch 300 Loss 0.0706\n",
            "Epoch 7 Batch 400 Loss 0.1000\n",
            "Epoch 7 Batch 500 Loss 0.1068\n",
            "Epoch 7 Batch 600 Loss 0.0881\n",
            "Epoch 7 Batch 700 Loss 0.1015\n",
            "Epoch 7 Batch 800 Loss 0.1264\n",
            "Epoch 7 Batch 900 Loss 0.1571\n",
            "Epoch 7 Batch 1000 Loss 0.0934\n",
            "Epoch 7 Batch 1100 Loss 0.1217\n",
            "Epoch 7 Batch 1200 Loss 0.1464\n",
            "Epoch 7 Batch 1249 Loss 0.1014\n",
            "Epoch 8 Batch 0 Loss 0.0780\n",
            "Epoch 8 Batch 100 Loss 0.0816\n",
            "Epoch 8 Batch 200 Loss 0.0516\n",
            "Epoch 8 Batch 300 Loss 0.0930\n",
            "Epoch 8 Batch 400 Loss 0.0975\n",
            "Epoch 8 Batch 500 Loss 0.0730\n",
            "Epoch 8 Batch 600 Loss 0.0535\n",
            "Epoch 8 Batch 700 Loss 0.1215\n",
            "Epoch 8 Batch 800 Loss 0.0960\n",
            "Epoch 8 Batch 900 Loss 0.0886\n",
            "Epoch 8 Batch 1000 Loss 0.1228\n",
            "Epoch 8 Batch 1100 Loss 0.1161\n",
            "Epoch 8 Batch 1200 Loss 0.0984\n",
            "Epoch 8 Batch 1249 Loss 0.0910\n",
            "Epoch 9 Batch 0 Loss 0.0640\n",
            "Epoch 9 Batch 100 Loss 0.0555\n",
            "Epoch 9 Batch 200 Loss 0.0506\n",
            "Epoch 9 Batch 300 Loss 0.0762\n",
            "Epoch 9 Batch 400 Loss 0.0747\n",
            "Epoch 9 Batch 500 Loss 0.0983\n",
            "Epoch 9 Batch 600 Loss 0.0796\n",
            "Epoch 9 Batch 700 Loss 0.0832\n",
            "Epoch 9 Batch 800 Loss 0.1026\n",
            "Epoch 9 Batch 900 Loss 0.1069\n",
            "Epoch 9 Batch 1000 Loss 0.0900\n",
            "Epoch 9 Batch 1100 Loss 0.0990\n",
            "Epoch 9 Batch 1200 Loss 0.0687\n",
            "Epoch 9 Batch 1249 Loss 0.0845\n",
            "Epoch 10 Batch 0 Loss 0.0575\n",
            "Epoch 10 Batch 100 Loss 0.0507\n",
            "Epoch 10 Batch 200 Loss 0.0562\n",
            "Epoch 10 Batch 300 Loss 0.0753\n",
            "Epoch 10 Batch 400 Loss 0.0745\n",
            "Epoch 10 Batch 500 Loss 0.0670\n",
            "Epoch 10 Batch 600 Loss 0.1013\n",
            "Epoch 10 Batch 700 Loss 0.0917\n",
            "Epoch 10 Batch 800 Loss 0.0651\n",
            "Epoch 10 Batch 900 Loss 0.1268\n",
            "Epoch 10 Batch 1000 Loss 0.0745\n",
            "Epoch 10 Batch 1100 Loss 0.0802\n",
            "Epoch 10 Batch 1200 Loss 0.0905\n",
            "Epoch 10 Batch 1249 Loss 0.0794\n",
            "Epoch 11 Batch 0 Loss 0.0356\n",
            "Epoch 11 Batch 100 Loss 0.0614\n",
            "Epoch 11 Batch 200 Loss 0.0756\n",
            "Epoch 11 Batch 300 Loss 0.0862\n",
            "Epoch 11 Batch 400 Loss 0.0326\n",
            "Epoch 11 Batch 500 Loss 0.0894\n",
            "Epoch 11 Batch 600 Loss 0.1024\n",
            "Epoch 11 Batch 700 Loss 0.1544\n",
            "Epoch 11 Batch 800 Loss 0.0777\n",
            "Epoch 11 Batch 900 Loss 0.0601\n",
            "Epoch 11 Batch 1000 Loss 0.0731\n",
            "Epoch 11 Batch 1100 Loss 0.0731\n",
            "Epoch 11 Batch 1200 Loss 0.0927\n",
            "Epoch 11 Batch 1249 Loss 0.0765\n",
            "Epoch 12 Batch 0 Loss 0.0417\n",
            "Epoch 12 Batch 100 Loss 0.0512\n",
            "Epoch 12 Batch 200 Loss 0.0636\n",
            "Epoch 12 Batch 300 Loss 0.0629\n",
            "Epoch 12 Batch 400 Loss 0.0834\n",
            "Epoch 12 Batch 500 Loss 0.0605\n",
            "Epoch 12 Batch 600 Loss 0.0531\n",
            "Epoch 12 Batch 700 Loss 0.0705\n",
            "Epoch 12 Batch 800 Loss 0.0709\n",
            "Epoch 12 Batch 900 Loss 0.0989\n",
            "Epoch 12 Batch 1000 Loss 0.0848\n",
            "Epoch 12 Batch 1100 Loss 0.0626\n",
            "Epoch 12 Batch 1200 Loss 0.0927\n",
            "Epoch 12 Batch 1249 Loss 0.0729\n",
            "Epoch 13 Batch 0 Loss 0.0611\n",
            "Epoch 13 Batch 100 Loss 0.0439\n",
            "Epoch 13 Batch 200 Loss 0.0397\n",
            "Epoch 13 Batch 300 Loss 0.0889\n",
            "Epoch 13 Batch 400 Loss 0.0742\n",
            "Epoch 13 Batch 500 Loss 0.0623\n",
            "Epoch 13 Batch 600 Loss 0.0969\n",
            "Epoch 13 Batch 700 Loss 0.1075\n",
            "Epoch 13 Batch 800 Loss 0.0361\n",
            "Epoch 13 Batch 900 Loss 0.0588\n",
            "Epoch 13 Batch 1000 Loss 0.0852\n",
            "Epoch 13 Batch 1100 Loss 0.1142\n",
            "Epoch 13 Batch 1200 Loss 0.0763\n",
            "Epoch 13 Batch 1249 Loss 0.0714\n",
            "Epoch 14 Batch 0 Loss 0.0469\n",
            "Epoch 14 Batch 100 Loss 0.0396\n",
            "Epoch 14 Batch 200 Loss 0.0422\n",
            "Epoch 14 Batch 300 Loss 0.0604\n",
            "Epoch 14 Batch 400 Loss 0.0451\n",
            "Epoch 14 Batch 500 Loss 0.0813\n",
            "Epoch 14 Batch 600 Loss 0.0492\n",
            "Epoch 14 Batch 700 Loss 0.0742\n",
            "Epoch 14 Batch 800 Loss 0.1043\n",
            "Epoch 14 Batch 900 Loss 0.0729\n",
            "Epoch 14 Batch 1000 Loss 0.0870\n",
            "Epoch 14 Batch 1100 Loss 0.1025\n",
            "Epoch 14 Batch 1200 Loss 0.0780\n",
            "Epoch 14 Batch 1249 Loss 0.0688\n",
            "Epoch 15 Batch 0 Loss 0.0548\n",
            "Epoch 15 Batch 100 Loss 0.0557\n",
            "Epoch 15 Batch 200 Loss 0.0555\n",
            "Epoch 15 Batch 300 Loss 0.0309\n",
            "Epoch 15 Batch 400 Loss 0.0435\n",
            "Epoch 15 Batch 500 Loss 0.0491\n",
            "Epoch 15 Batch 600 Loss 0.0473\n",
            "Epoch 15 Batch 700 Loss 0.0460\n",
            "Epoch 15 Batch 800 Loss 0.0688\n",
            "Epoch 15 Batch 900 Loss 0.0865\n",
            "Epoch 15 Batch 1000 Loss 0.0999\n",
            "Epoch 15 Batch 1100 Loss 0.0864\n",
            "Epoch 15 Batch 1200 Loss 0.1255\n",
            "Epoch 15 Batch 1249 Loss 0.0672\n",
            "Epoch 16 Batch 0 Loss 0.0775\n",
            "Epoch 16 Batch 100 Loss 0.0179\n",
            "Epoch 16 Batch 200 Loss 0.0548\n",
            "Epoch 16 Batch 300 Loss 0.0815\n",
            "Epoch 16 Batch 400 Loss 0.0726\n",
            "Epoch 16 Batch 500 Loss 0.0524\n",
            "Epoch 16 Batch 600 Loss 0.0647\n",
            "Epoch 16 Batch 700 Loss 0.0549\n",
            "Epoch 16 Batch 800 Loss 0.0675\n",
            "Epoch 16 Batch 900 Loss 0.1272\n",
            "Epoch 16 Batch 1000 Loss 0.0940\n",
            "Epoch 16 Batch 1100 Loss 0.1014\n",
            "Epoch 16 Batch 1200 Loss 0.1048\n",
            "Epoch 16 Batch 1249 Loss 0.0654\n",
            "Epoch 17 Batch 0 Loss 0.0584\n",
            "Epoch 17 Batch 100 Loss 0.0268\n",
            "Epoch 17 Batch 200 Loss 0.0505\n",
            "Epoch 17 Batch 300 Loss 0.0592\n",
            "Epoch 17 Batch 400 Loss 0.0787\n",
            "Epoch 17 Batch 500 Loss 0.0533\n",
            "Epoch 17 Batch 600 Loss 0.0540\n",
            "Epoch 17 Batch 700 Loss 0.0507\n",
            "Epoch 17 Batch 800 Loss 0.0598\n",
            "Epoch 17 Batch 900 Loss 0.0948\n",
            "Epoch 17 Batch 1000 Loss 0.0449\n",
            "Epoch 17 Batch 1100 Loss 0.0781\n",
            "Epoch 17 Batch 1200 Loss 0.0549\n",
            "Epoch 17 Batch 1249 Loss 0.0638\n",
            "Epoch 18 Batch 0 Loss 0.0615\n",
            "Epoch 18 Batch 100 Loss 0.0757\n",
            "Epoch 18 Batch 200 Loss 0.0640\n",
            "Epoch 18 Batch 300 Loss 0.0530\n",
            "Epoch 18 Batch 400 Loss 0.0558\n",
            "Epoch 18 Batch 500 Loss 0.0384\n",
            "Epoch 18 Batch 600 Loss 0.0567\n",
            "Epoch 18 Batch 700 Loss 0.0774\n",
            "Epoch 18 Batch 800 Loss 0.0872\n",
            "Epoch 18 Batch 900 Loss 0.0581\n",
            "Epoch 18 Batch 1000 Loss 0.0493\n",
            "Epoch 18 Batch 1100 Loss 0.1184\n",
            "Epoch 18 Batch 1200 Loss 0.1178\n",
            "Epoch 18 Batch 1249 Loss 0.0632\n",
            "Epoch 19 Batch 0 Loss 0.0664\n",
            "Epoch 19 Batch 100 Loss 0.0332\n",
            "Epoch 19 Batch 200 Loss 0.0258\n",
            "Epoch 19 Batch 300 Loss 0.0453\n",
            "Epoch 19 Batch 400 Loss 0.0446\n",
            "Epoch 19 Batch 500 Loss 0.0579\n",
            "Epoch 19 Batch 600 Loss 0.0828\n",
            "Epoch 19 Batch 700 Loss 0.0466\n",
            "Epoch 19 Batch 800 Loss 0.1013\n",
            "Epoch 19 Batch 900 Loss 0.1025\n",
            "Epoch 19 Batch 1000 Loss 0.0596\n",
            "Epoch 19 Batch 1100 Loss 0.0592\n",
            "Epoch 19 Batch 1200 Loss 0.0677\n",
            "Epoch 19 Batch 1249 Loss 0.0613\n",
            "Epoch 20 Batch 0 Loss 0.0255\n",
            "Epoch 20 Batch 100 Loss 0.0374\n",
            "Epoch 20 Batch 200 Loss 0.0556\n",
            "Epoch 20 Batch 300 Loss 0.0538\n",
            "Epoch 20 Batch 400 Loss 0.0345\n",
            "Epoch 20 Batch 500 Loss 0.0257\n",
            "Epoch 20 Batch 600 Loss 0.0806\n",
            "Epoch 20 Batch 700 Loss 0.0613\n",
            "Epoch 20 Batch 800 Loss 0.0212\n",
            "Epoch 20 Batch 900 Loss 0.0690\n",
            "Epoch 20 Batch 1000 Loss 0.0809\n",
            "Epoch 20 Batch 1100 Loss 0.0673\n",
            "Epoch 20 Batch 1200 Loss 0.0586\n",
            "Epoch 20 Batch 1249 Loss 0.0604\n",
            "Epoch 21 Batch 0 Loss 0.0293\n",
            "Epoch 21 Batch 100 Loss 0.0352\n",
            "Epoch 21 Batch 200 Loss 0.0348\n",
            "Epoch 21 Batch 300 Loss 0.0679\n",
            "Epoch 21 Batch 400 Loss 0.0420\n",
            "Epoch 21 Batch 500 Loss 0.0560\n",
            "Epoch 21 Batch 600 Loss 0.0325\n",
            "Epoch 21 Batch 700 Loss 0.0364\n",
            "Epoch 21 Batch 800 Loss 0.0898\n",
            "Epoch 21 Batch 900 Loss 0.1139\n",
            "Epoch 21 Batch 1000 Loss 0.0659\n",
            "Epoch 21 Batch 1100 Loss 0.0545\n",
            "Epoch 21 Batch 1200 Loss 0.0685\n",
            "Epoch 21 Batch 1249 Loss 0.0599\n",
            "Epoch 22 Batch 0 Loss 0.0385\n",
            "Epoch 22 Batch 100 Loss 0.0473\n",
            "Epoch 22 Batch 200 Loss 0.0490\n",
            "Epoch 22 Batch 300 Loss 0.0514\n",
            "Epoch 22 Batch 400 Loss 0.0828\n",
            "Epoch 22 Batch 500 Loss 0.0541\n",
            "Epoch 22 Batch 600 Loss 0.0626\n",
            "Epoch 22 Batch 700 Loss 0.0449\n",
            "Epoch 22 Batch 800 Loss 0.0730\n",
            "Epoch 22 Batch 900 Loss 0.0653\n",
            "Epoch 22 Batch 1000 Loss 0.0437\n",
            "Epoch 22 Batch 1100 Loss 0.0819\n",
            "Epoch 22 Batch 1200 Loss 0.0625\n",
            "Epoch 22 Batch 1249 Loss 0.0584\n",
            "Epoch 23 Batch 0 Loss 0.0656\n",
            "Epoch 23 Batch 100 Loss 0.0290\n",
            "Epoch 23 Batch 200 Loss 0.0429\n",
            "Epoch 23 Batch 300 Loss 0.0289\n",
            "Epoch 23 Batch 400 Loss 0.0316\n",
            "Epoch 23 Batch 500 Loss 0.0845\n",
            "Epoch 23 Batch 600 Loss 0.0484\n",
            "Epoch 23 Batch 700 Loss 0.0566\n",
            "Epoch 23 Batch 800 Loss 0.0320\n",
            "Epoch 23 Batch 900 Loss 0.0853\n",
            "Epoch 23 Batch 1000 Loss 0.0598\n",
            "Epoch 23 Batch 1100 Loss 0.0542\n",
            "Epoch 23 Batch 1200 Loss 0.0804\n",
            "Epoch 23 Batch 1249 Loss 0.0583\n",
            "Epoch 24 Batch 0 Loss 0.0633\n",
            "Epoch 24 Batch 100 Loss 0.0489\n",
            "Epoch 24 Batch 200 Loss 0.0198\n",
            "Epoch 24 Batch 300 Loss 0.0952\n",
            "Epoch 24 Batch 400 Loss 0.0568\n",
            "Epoch 24 Batch 500 Loss 0.0264\n",
            "Epoch 24 Batch 600 Loss 0.0391\n",
            "Epoch 24 Batch 700 Loss 0.0513\n",
            "Epoch 24 Batch 800 Loss 0.0692\n",
            "Epoch 24 Batch 900 Loss 0.0379\n",
            "Epoch 24 Batch 1000 Loss 0.0882\n",
            "Epoch 24 Batch 1100 Loss 0.0502\n",
            "Epoch 24 Batch 1200 Loss 0.0703\n",
            "Epoch 24 Batch 1249 Loss 0.0566\n",
            "Epoch 25 Batch 0 Loss 0.0534\n",
            "Epoch 25 Batch 100 Loss 0.0673\n",
            "Epoch 25 Batch 200 Loss 0.0301\n",
            "Epoch 25 Batch 300 Loss 0.0257\n",
            "Epoch 25 Batch 400 Loss 0.0448\n",
            "Epoch 25 Batch 500 Loss 0.0349\n",
            "Epoch 25 Batch 600 Loss 0.1000\n",
            "Epoch 25 Batch 700 Loss 0.0719\n",
            "Epoch 25 Batch 800 Loss 0.0406\n",
            "Epoch 25 Batch 900 Loss 0.0849\n",
            "Epoch 25 Batch 1000 Loss 0.0554\n",
            "Epoch 25 Batch 1100 Loss 0.0726\n",
            "Epoch 25 Batch 1200 Loss 0.0570\n",
            "Epoch 25 Batch 1249 Loss 0.0557\n",
            "Epoch 26 Batch 0 Loss 0.0416\n",
            "Epoch 26 Batch 100 Loss 0.0543\n",
            "Epoch 26 Batch 200 Loss 0.0169\n",
            "Epoch 26 Batch 300 Loss 0.0362\n",
            "Epoch 26 Batch 400 Loss 0.0605\n",
            "Epoch 26 Batch 500 Loss 0.0406\n",
            "Epoch 26 Batch 600 Loss 0.0824\n",
            "Epoch 26 Batch 700 Loss 0.0463\n",
            "Epoch 26 Batch 800 Loss 0.0364\n",
            "Epoch 26 Batch 900 Loss 0.0627\n",
            "Epoch 26 Batch 1000 Loss 0.0421\n",
            "Epoch 26 Batch 1100 Loss 0.0812\n",
            "Epoch 26 Batch 1200 Loss 0.0672\n",
            "Epoch 26 Batch 1249 Loss 0.0557\n",
            "Epoch 27 Batch 0 Loss 0.0446\n",
            "Epoch 27 Batch 100 Loss 0.0467\n",
            "Epoch 27 Batch 200 Loss 0.0324\n",
            "Epoch 27 Batch 300 Loss 0.0299\n",
            "Epoch 27 Batch 400 Loss 0.0488\n",
            "Epoch 27 Batch 500 Loss 0.0596\n",
            "Epoch 27 Batch 600 Loss 0.0480\n",
            "Epoch 27 Batch 700 Loss 0.0423\n",
            "Epoch 27 Batch 800 Loss 0.0379\n",
            "Epoch 27 Batch 900 Loss 0.0408\n",
            "Epoch 27 Batch 1000 Loss 0.0545\n",
            "Epoch 27 Batch 1100 Loss 0.0632\n",
            "Epoch 27 Batch 1200 Loss 0.0738\n",
            "Epoch 27 Batch 1249 Loss 0.0545\n",
            "Epoch 28 Batch 0 Loss 0.0480\n",
            "Epoch 28 Batch 100 Loss 0.0357\n",
            "Epoch 28 Batch 200 Loss 0.0361\n",
            "Epoch 28 Batch 300 Loss 0.0862\n",
            "Epoch 28 Batch 400 Loss 0.0647\n",
            "Epoch 28 Batch 500 Loss 0.0525\n",
            "Epoch 28 Batch 600 Loss 0.0430\n",
            "Epoch 28 Batch 700 Loss 0.0488\n",
            "Epoch 28 Batch 800 Loss 0.0696\n",
            "Epoch 28 Batch 900 Loss 0.0651\n",
            "Epoch 28 Batch 1000 Loss 0.0404\n",
            "Epoch 28 Batch 1100 Loss 0.0235\n",
            "Epoch 28 Batch 1200 Loss 0.0430\n",
            "Epoch 28 Batch 1249 Loss 0.0536\n",
            "Epoch 29 Batch 0 Loss 0.0442\n",
            "Epoch 29 Batch 100 Loss 0.0426\n",
            "Epoch 29 Batch 200 Loss 0.0737\n",
            "Epoch 29 Batch 300 Loss 0.0441\n",
            "Epoch 29 Batch 400 Loss 0.0390\n",
            "Epoch 29 Batch 500 Loss 0.0531\n",
            "Epoch 29 Batch 600 Loss 0.0347\n",
            "Epoch 29 Batch 700 Loss 0.0392\n",
            "Epoch 29 Batch 800 Loss 0.0571\n",
            "Epoch 29 Batch 900 Loss 0.1117\n",
            "Epoch 29 Batch 1000 Loss 0.0619\n",
            "Epoch 29 Batch 1100 Loss 0.0553\n",
            "Epoch 29 Batch 1200 Loss 0.0482\n",
            "Epoch 29 Batch 1249 Loss 0.0531\n",
            "Epoch 30 Batch 0 Loss 0.0325\n",
            "Epoch 30 Batch 100 Loss 0.0218\n",
            "Epoch 30 Batch 200 Loss 0.0445\n",
            "Epoch 30 Batch 300 Loss 0.0517\n",
            "Epoch 30 Batch 400 Loss 0.0442\n",
            "Epoch 30 Batch 500 Loss 0.0639\n",
            "Epoch 30 Batch 600 Loss 0.0370\n",
            "Epoch 30 Batch 700 Loss 0.0287\n",
            "Epoch 30 Batch 800 Loss 0.0581\n",
            "Epoch 30 Batch 900 Loss 0.0561\n",
            "Epoch 30 Batch 1000 Loss 0.0437\n",
            "Epoch 30 Batch 1100 Loss 0.0654\n",
            "Epoch 30 Batch 1200 Loss 0.0770\n",
            "Epoch 30 Batch 1249 Loss 0.0525\n",
            "Epoch 31 Batch 0 Loss 0.0480\n",
            "Epoch 31 Batch 100 Loss 0.0262\n",
            "Epoch 31 Batch 200 Loss 0.0517\n",
            "Epoch 31 Batch 300 Loss 0.0429\n",
            "Epoch 31 Batch 400 Loss 0.0334\n",
            "Epoch 31 Batch 500 Loss 0.0406\n",
            "Epoch 31 Batch 600 Loss 0.0325\n",
            "Epoch 31 Batch 700 Loss 0.0444\n",
            "Epoch 31 Batch 800 Loss 0.0341\n",
            "Epoch 31 Batch 900 Loss 0.0377\n",
            "Epoch 31 Batch 1000 Loss 0.0331\n",
            "Epoch 31 Batch 1100 Loss 0.0458\n",
            "Epoch 31 Batch 1200 Loss 0.0787\n",
            "Epoch 31 Batch 1249 Loss 0.0515\n",
            "Epoch 32 Batch 0 Loss 0.0270\n",
            "Epoch 32 Batch 100 Loss 0.0256\n",
            "Epoch 32 Batch 200 Loss 0.0346\n",
            "Epoch 32 Batch 300 Loss 0.0220\n",
            "Epoch 32 Batch 400 Loss 0.0665\n",
            "Epoch 32 Batch 500 Loss 0.0512\n",
            "Epoch 32 Batch 600 Loss 0.0758\n",
            "Epoch 32 Batch 700 Loss 0.0697\n",
            "Epoch 32 Batch 800 Loss 0.0738\n",
            "Epoch 32 Batch 900 Loss 0.0605\n",
            "Epoch 32 Batch 1000 Loss 0.0783\n",
            "Epoch 32 Batch 1100 Loss 0.0460\n",
            "Epoch 32 Batch 1200 Loss 0.0467\n",
            "Epoch 32 Batch 1249 Loss 0.0510\n",
            "Epoch 33 Batch 0 Loss 0.0380\n",
            "Epoch 33 Batch 100 Loss 0.0481\n",
            "Epoch 33 Batch 200 Loss 0.0332\n",
            "Epoch 33 Batch 300 Loss 0.0309\n",
            "Epoch 33 Batch 400 Loss 0.0253\n",
            "Epoch 33 Batch 500 Loss 0.0447\n",
            "Epoch 33 Batch 600 Loss 0.0710\n",
            "Epoch 33 Batch 700 Loss 0.0504\n",
            "Epoch 33 Batch 800 Loss 0.0673\n",
            "Epoch 33 Batch 900 Loss 0.0572\n",
            "Epoch 33 Batch 1000 Loss 0.0420\n",
            "Epoch 33 Batch 1100 Loss 0.0808\n",
            "Epoch 33 Batch 1200 Loss 0.0614\n",
            "Epoch 33 Batch 1249 Loss 0.0504\n",
            "Epoch 34 Batch 0 Loss 0.0360\n",
            "Epoch 34 Batch 100 Loss 0.0456\n",
            "Epoch 34 Batch 200 Loss 0.0730\n",
            "Epoch 34 Batch 300 Loss 0.0312\n",
            "Epoch 34 Batch 400 Loss 0.0488\n",
            "Epoch 34 Batch 500 Loss 0.0439\n",
            "Epoch 34 Batch 600 Loss 0.0675\n",
            "Epoch 34 Batch 700 Loss 0.0312\n",
            "Epoch 34 Batch 800 Loss 0.0602\n",
            "Epoch 34 Batch 900 Loss 0.0393\n",
            "Epoch 34 Batch 1000 Loss 0.0302\n",
            "Epoch 34 Batch 1100 Loss 0.0683\n",
            "Epoch 34 Batch 1200 Loss 0.0707\n",
            "Epoch 34 Batch 1249 Loss 0.0507\n",
            "Epoch 35 Batch 0 Loss 0.0351\n",
            "Epoch 35 Batch 100 Loss 0.0264\n",
            "Epoch 35 Batch 200 Loss 0.0363\n",
            "Epoch 35 Batch 300 Loss 0.0624\n",
            "Epoch 35 Batch 400 Loss 0.0380\n",
            "Epoch 35 Batch 500 Loss 0.0709\n",
            "Epoch 35 Batch 600 Loss 0.0390\n",
            "Epoch 35 Batch 700 Loss 0.0704\n",
            "Epoch 35 Batch 800 Loss 0.0422\n",
            "Epoch 35 Batch 900 Loss 0.0598\n",
            "Epoch 35 Batch 1000 Loss 0.0344\n",
            "Epoch 35 Batch 1100 Loss 0.0376\n",
            "Epoch 35 Batch 1200 Loss 0.0869\n",
            "Epoch 35 Batch 1249 Loss 0.0495\n",
            "Epoch 36 Batch 0 Loss 0.0562\n",
            "Epoch 36 Batch 100 Loss 0.0251\n",
            "Epoch 36 Batch 200 Loss 0.0404\n",
            "Epoch 36 Batch 300 Loss 0.0405\n",
            "Epoch 36 Batch 400 Loss 0.0792\n",
            "Epoch 36 Batch 500 Loss 0.0734\n",
            "Epoch 36 Batch 600 Loss 0.0264\n",
            "Epoch 36 Batch 700 Loss 0.0752\n",
            "Epoch 36 Batch 800 Loss 0.0663\n",
            "Epoch 36 Batch 900 Loss 0.0847\n",
            "Epoch 36 Batch 1000 Loss 0.0533\n",
            "Epoch 36 Batch 1100 Loss 0.0651\n",
            "Epoch 36 Batch 1200 Loss 0.0448\n",
            "Epoch 36 Batch 1249 Loss 0.0490\n",
            "Epoch 37 Batch 0 Loss 0.0529\n",
            "Epoch 37 Batch 100 Loss 0.0321\n",
            "Epoch 37 Batch 200 Loss 0.0610\n",
            "Epoch 37 Batch 300 Loss 0.0491\n",
            "Epoch 37 Batch 400 Loss 0.0141\n",
            "Epoch 37 Batch 500 Loss 0.0701\n",
            "Epoch 37 Batch 600 Loss 0.0160\n",
            "Epoch 37 Batch 700 Loss 0.0333\n",
            "Epoch 37 Batch 800 Loss 0.0499\n",
            "Epoch 37 Batch 900 Loss 0.0532\n",
            "Epoch 37 Batch 1000 Loss 0.0660\n",
            "Epoch 37 Batch 1100 Loss 0.0562\n",
            "Epoch 37 Batch 1200 Loss 0.0481\n",
            "Epoch 37 Batch 1249 Loss 0.0484\n",
            "Epoch 38 Batch 0 Loss 0.0626\n",
            "Epoch 38 Batch 100 Loss 0.0361\n",
            "Epoch 38 Batch 200 Loss 0.0171\n",
            "Epoch 38 Batch 300 Loss 0.0470\n",
            "Epoch 38 Batch 400 Loss 0.0172\n",
            "Epoch 38 Batch 500 Loss 0.0750\n",
            "Epoch 38 Batch 600 Loss 0.0255\n",
            "Epoch 38 Batch 700 Loss 0.0270\n",
            "Epoch 38 Batch 800 Loss 0.0277\n",
            "Epoch 38 Batch 900 Loss 0.0377\n",
            "Epoch 38 Batch 1000 Loss 0.0397\n",
            "Epoch 38 Batch 1100 Loss 0.0372\n",
            "Epoch 38 Batch 1200 Loss 0.0902\n",
            "Epoch 38 Batch 1249 Loss 0.0479\n",
            "Epoch 39 Batch 0 Loss 0.0316\n",
            "Epoch 39 Batch 100 Loss 0.0608\n",
            "Epoch 39 Batch 200 Loss 0.0295\n",
            "Epoch 39 Batch 300 Loss 0.0441\n",
            "Epoch 39 Batch 400 Loss 0.0400\n",
            "Epoch 39 Batch 500 Loss 0.0335\n",
            "Epoch 39 Batch 600 Loss 0.0560\n",
            "Epoch 39 Batch 700 Loss 0.0591\n",
            "Epoch 39 Batch 800 Loss 0.0466\n",
            "Epoch 39 Batch 900 Loss 0.0579\n",
            "Epoch 39 Batch 1000 Loss 0.0210\n",
            "Epoch 39 Batch 1100 Loss 0.0621\n",
            "Epoch 39 Batch 1200 Loss 0.0548\n",
            "Epoch 39 Batch 1249 Loss 0.0477\n",
            "Epoch 40 Batch 0 Loss 0.0547\n",
            "Epoch 40 Batch 100 Loss 0.0614\n",
            "Epoch 40 Batch 200 Loss 0.0395\n",
            "Epoch 40 Batch 300 Loss 0.0452\n",
            "Epoch 40 Batch 400 Loss 0.0470\n",
            "Epoch 40 Batch 500 Loss 0.0369\n",
            "Epoch 40 Batch 600 Loss 0.0495\n",
            "Epoch 40 Batch 700 Loss 0.0368\n",
            "Epoch 40 Batch 800 Loss 0.0647\n",
            "Epoch 40 Batch 900 Loss 0.0447\n",
            "Epoch 40 Batch 1000 Loss 0.0267\n",
            "Epoch 40 Batch 1100 Loss 0.0401\n",
            "Epoch 40 Batch 1200 Loss 0.0558\n",
            "Epoch 40 Batch 1249 Loss 0.0472\n",
            "Epoch 41 Batch 0 Loss 0.0345\n",
            "Epoch 41 Batch 100 Loss 0.0710\n",
            "Epoch 41 Batch 200 Loss 0.0425\n",
            "Epoch 41 Batch 300 Loss 0.0449\n",
            "Epoch 41 Batch 400 Loss 0.0241\n",
            "Epoch 41 Batch 500 Loss 0.0666\n",
            "Epoch 41 Batch 600 Loss 0.0292\n",
            "Epoch 41 Batch 700 Loss 0.0521\n",
            "Epoch 41 Batch 800 Loss 0.0319\n",
            "Epoch 41 Batch 900 Loss 0.0395\n",
            "Epoch 41 Batch 1000 Loss 0.0465\n",
            "Epoch 41 Batch 1100 Loss 0.0416\n",
            "Epoch 41 Batch 1200 Loss 0.0918\n",
            "Epoch 41 Batch 1249 Loss 0.0465\n",
            "Epoch 42 Batch 0 Loss 0.0329\n",
            "Epoch 42 Batch 100 Loss 0.0225\n",
            "Epoch 42 Batch 200 Loss 0.0258\n",
            "Epoch 42 Batch 300 Loss 0.0451\n",
            "Epoch 42 Batch 400 Loss 0.0563\n",
            "Epoch 42 Batch 500 Loss 0.0497\n",
            "Epoch 42 Batch 600 Loss 0.0453\n",
            "Epoch 42 Batch 700 Loss 0.0650\n",
            "Epoch 42 Batch 800 Loss 0.0546\n",
            "Epoch 42 Batch 900 Loss 0.0298\n",
            "Epoch 42 Batch 1000 Loss 0.0542\n",
            "Epoch 42 Batch 1100 Loss 0.0304\n",
            "Epoch 42 Batch 1200 Loss 0.0366\n",
            "Epoch 42 Batch 1249 Loss 0.0465\n",
            "Epoch 43 Batch 0 Loss 0.0368\n",
            "Epoch 43 Batch 100 Loss 0.0332\n",
            "Epoch 43 Batch 200 Loss 0.0306\n",
            "Epoch 43 Batch 300 Loss 0.0317\n",
            "Epoch 43 Batch 400 Loss 0.0543\n",
            "Epoch 43 Batch 500 Loss 0.0278\n",
            "Epoch 43 Batch 600 Loss 0.0428\n",
            "Epoch 43 Batch 700 Loss 0.0643\n",
            "Epoch 43 Batch 800 Loss 0.0455\n",
            "Epoch 43 Batch 900 Loss 0.0481\n",
            "Epoch 43 Batch 1000 Loss 0.0535\n",
            "Epoch 43 Batch 1100 Loss 0.0295\n",
            "Epoch 43 Batch 1200 Loss 0.0701\n",
            "Epoch 43 Batch 1249 Loss 0.0460\n",
            "Epoch 44 Batch 0 Loss 0.0304\n",
            "Epoch 44 Batch 100 Loss 0.0383\n",
            "Epoch 44 Batch 200 Loss 0.0543\n",
            "Epoch 44 Batch 300 Loss 0.0472\n",
            "Epoch 44 Batch 400 Loss 0.0379\n",
            "Epoch 44 Batch 500 Loss 0.0432\n",
            "Epoch 44 Batch 600 Loss 0.0380\n",
            "Epoch 44 Batch 700 Loss 0.0626\n",
            "Epoch 44 Batch 800 Loss 0.0450\n",
            "Epoch 44 Batch 900 Loss 0.0786\n",
            "Epoch 44 Batch 1000 Loss 0.0454\n",
            "Epoch 44 Batch 1100 Loss 0.0380\n",
            "Epoch 44 Batch 1200 Loss 0.0898\n",
            "Epoch 44 Batch 1249 Loss 0.0452\n",
            "Epoch 45 Batch 0 Loss 0.0374\n",
            "Epoch 45 Batch 100 Loss 0.0487\n",
            "Epoch 45 Batch 200 Loss 0.0337\n",
            "Epoch 45 Batch 300 Loss 0.0431\n",
            "Epoch 45 Batch 400 Loss 0.0316\n",
            "Epoch 45 Batch 500 Loss 0.0494\n",
            "Epoch 45 Batch 600 Loss 0.0593\n",
            "Epoch 45 Batch 700 Loss 0.0584\n",
            "Epoch 45 Batch 800 Loss 0.0651\n",
            "Epoch 45 Batch 900 Loss 0.0395\n",
            "Epoch 45 Batch 1000 Loss 0.0540\n",
            "Epoch 45 Batch 1100 Loss 0.0707\n",
            "Epoch 45 Batch 1200 Loss 0.0435\n",
            "Epoch 45 Batch 1249 Loss 0.0450\n",
            "Epoch 46 Batch 0 Loss 0.0282\n",
            "Epoch 46 Batch 100 Loss 0.0641\n",
            "Epoch 46 Batch 200 Loss 0.0514\n",
            "Epoch 46 Batch 300 Loss 0.0429\n",
            "Epoch 46 Batch 400 Loss 0.0335\n",
            "Epoch 46 Batch 500 Loss 0.0293\n",
            "Epoch 46 Batch 600 Loss 0.0549\n",
            "Epoch 46 Batch 700 Loss 0.0273\n",
            "Epoch 46 Batch 800 Loss 0.0489\n",
            "Epoch 46 Batch 900 Loss 0.0626\n",
            "Epoch 46 Batch 1000 Loss 0.0586\n",
            "Epoch 46 Batch 1100 Loss 0.0375\n",
            "Epoch 46 Batch 1200 Loss 0.0650\n",
            "Epoch 46 Batch 1249 Loss 0.0450\n",
            "Epoch 47 Batch 0 Loss 0.0209\n",
            "Epoch 47 Batch 100 Loss 0.0357\n",
            "Epoch 47 Batch 200 Loss 0.0402\n",
            "Epoch 47 Batch 300 Loss 0.0352\n",
            "Epoch 47 Batch 400 Loss 0.0562\n",
            "Epoch 47 Batch 500 Loss 0.0281\n",
            "Epoch 47 Batch 600 Loss 0.0216\n",
            "Epoch 47 Batch 700 Loss 0.0558\n",
            "Epoch 47 Batch 800 Loss 0.0687\n",
            "Epoch 47 Batch 900 Loss 0.0492\n",
            "Epoch 47 Batch 1000 Loss 0.0375\n",
            "Epoch 47 Batch 1100 Loss 0.0432\n",
            "Epoch 47 Batch 1200 Loss 0.0200\n",
            "Epoch 47 Batch 1249 Loss 0.0444\n",
            "Epoch 48 Batch 0 Loss 0.0620\n",
            "Epoch 48 Batch 100 Loss 0.0628\n",
            "Epoch 48 Batch 200 Loss 0.0477\n",
            "Epoch 48 Batch 300 Loss 0.0248\n",
            "Epoch 48 Batch 400 Loss 0.0408\n",
            "Epoch 48 Batch 500 Loss 0.0730\n",
            "Epoch 48 Batch 600 Loss 0.0216\n",
            "Epoch 48 Batch 700 Loss 0.0469\n",
            "Epoch 48 Batch 800 Loss 0.0543\n",
            "Epoch 48 Batch 900 Loss 0.0332\n",
            "Epoch 48 Batch 1000 Loss 0.0472\n",
            "Epoch 48 Batch 1100 Loss 0.0412\n",
            "Epoch 48 Batch 1200 Loss 0.0285\n",
            "Epoch 48 Batch 1249 Loss 0.0443\n",
            "Epoch 49 Batch 0 Loss 0.0427\n",
            "Epoch 49 Batch 100 Loss 0.0400\n",
            "Epoch 49 Batch 200 Loss 0.0654\n",
            "Epoch 49 Batch 300 Loss 0.0223\n",
            "Epoch 49 Batch 400 Loss 0.0387\n",
            "Epoch 49 Batch 500 Loss 0.0511\n",
            "Epoch 49 Batch 600 Loss 0.0578\n",
            "Epoch 49 Batch 700 Loss 0.0300\n",
            "Epoch 49 Batch 800 Loss 0.0449\n",
            "Epoch 49 Batch 900 Loss 0.0537\n",
            "Epoch 49 Batch 1000 Loss 0.0604\n",
            "Epoch 49 Batch 1100 Loss 0.0285\n",
            "Epoch 49 Batch 1200 Loss 0.0462\n",
            "Epoch 49 Batch 1249 Loss 0.0439\n",
            "Epoch 50 Batch 0 Loss 0.0135\n",
            "Epoch 50 Batch 100 Loss 0.0318\n",
            "Epoch 50 Batch 200 Loss 0.0149\n",
            "Epoch 50 Batch 300 Loss 0.0422\n",
            "Epoch 50 Batch 400 Loss 0.0331\n",
            "Epoch 50 Batch 500 Loss 0.0432\n",
            "Epoch 50 Batch 600 Loss 0.0521\n",
            "Epoch 50 Batch 700 Loss 0.0395\n",
            "Epoch 50 Batch 800 Loss 0.0476\n",
            "Epoch 50 Batch 900 Loss 0.0271\n",
            "Epoch 50 Batch 1000 Loss 0.0716\n",
            "Epoch 50 Batch 1100 Loss 0.0631\n",
            "Epoch 50 Batch 1200 Loss 0.0969\n",
            "Epoch 50 Batch 1249 Loss 0.0442\n"
          ]
        }
      ]
    },
    {
      "cell_type": "markdown",
      "source": [
        "Функция перевода на основании предикта "
      ],
      "metadata": {
        "id": "VCJeIJaIVKng"
      }
    },
    {
      "cell_type": "code",
      "source": [
        "def evaluate(sentence):\n",
        "  attantion_plot = np.zeros((max_length_targ, max_length_inp))\n",
        "\n",
        "  sentence = preprocess_sentence(sentence)\n",
        "\n",
        "  inputs = [input_lang_tokenizer.word_index[i] for i in sentence.split(' ')]\n",
        "  inputs = tf.keras.preprocessing.sequence.pad_sequences([inputs], maxlen=max_length_inp, padding='post')\n",
        "  inputs = tf.convert_to_tensor(inputs)\n",
        "\n",
        "  result = ''\n",
        "\n",
        "  hidden = [tf.zeros((1, UNITS))]\n",
        "  enc_hidden = encoder(inputs, hidden)\n",
        "  dec_hidden = enc_hidden\n",
        "  dec_input = tf.expand_dims([target_lang_tokenizer.word_index['<start>']], 0)\n",
        "\n",
        "  for t in range(max_length_targ):\n",
        "    predictions, dec_hidden = decoder(dec_input, dec_hidden)\n",
        "\n",
        "    # storing the attention weights to plot later on\n",
        "    predicted_id = tf.argmax(predictions[0]).numpy()\n",
        "    result += target_lang_tokenizer.index_word[predicted_id] + ' '\n",
        "\n",
        "    if target_lang_tokenizer.index_word[predicted_id] == '<end>':\n",
        "      return result, sentence\n",
        "\n",
        "    # the predicted ID is fed back into the model\n",
        "    dec_input = tf.expand_dims([predicted_id], 0)\n",
        "\n",
        "  return result, sentence"
      ],
      "metadata": {
        "id": "iA8Y3jyINqrB"
      },
      "execution_count": null,
      "outputs": []
    },
    {
      "cell_type": "code",
      "source": [
        "def translate(sentence):\n",
        "  result, sentence = evaluate(sentence)\n",
        "\n",
        "  print('Input: %s' % (sentence))\n",
        "  print('Predicted translation: {}'.format(result))"
      ],
      "metadata": {
        "id": "eaabYP2eUFmg"
      },
      "execution_count": null,
      "outputs": []
    },
    {
      "cell_type": "markdown",
      "source": [
        "Проверка перевода"
      ],
      "metadata": {
        "id": "cqePeY-SVTz2"
      }
    },
    {
      "cell_type": "code",
      "source": [
        "translate('Здесь хорошо.')"
      ],
      "metadata": {
        "colab": {
          "base_uri": "https://localhost:8080/"
        },
        "id": "70QkDOtmUSaa",
        "outputId": "134214eb-1ead-42a2-8fed-ac8a0113c485"
      },
      "execution_count": null,
      "outputs": [
        {
          "output_type": "stream",
          "name": "stdout",
          "text": [
            "Input: <start> здесь хорошо . <end>\n",
            "Predicted translation: it's good here . <end> \n"
          ]
        }
      ]
    },
    {
      "cell_type": "code",
      "source": [
        "translate('Я не смогу поехать.')"
      ],
      "metadata": {
        "colab": {
          "base_uri": "https://localhost:8080/"
        },
        "id": "yOlh2smfUVPC",
        "outputId": "a0d4a515-cda4-4c2f-e917-5839e4353785"
      },
      "execution_count": null,
      "outputs": [
        {
          "output_type": "stream",
          "name": "stdout",
          "text": [
            "Input: <start> я не смогу поехать . <end>\n",
            "Predicted translation: i can't go . <end> \n"
          ]
        }
      ]
    },
    {
      "cell_type": "code",
      "source": [
        "translate('Вы еще дома?')"
      ],
      "metadata": {
        "colab": {
          "base_uri": "https://localhost:8080/"
        },
        "id": "1J0a1RV4ZH6o",
        "outputId": "a8fcec9c-4b9c-4db3-df16-c77fb3bf2d61"
      },
      "execution_count": null,
      "outputs": [
        {
          "output_type": "stream",
          "name": "stdout",
          "text": [
            "Input: <start> вы еще дома ? <end>\n",
            "Predicted translation: are you still home ? <end> \n"
          ]
        }
      ]
    },
    {
      "cell_type": "code",
      "source": [
        "translate('когда обед?')"
      ],
      "metadata": {
        "colab": {
          "base_uri": "https://localhost:8080/"
        },
        "id": "bIEimK_2ZKhs",
        "outputId": "646e6ae7-5bdb-4419-9805-d6bc17659283"
      },
      "execution_count": null,
      "outputs": [
        {
          "output_type": "stream",
          "name": "stdout",
          "text": [
            "Input: <start> когда обед ? <end>\n",
            "Predicted translation: when's dinner ? <end> \n"
          ]
        }
      ]
    },
    {
      "cell_type": "code",
      "source": [
        "translate('где рядом магазин?')"
      ],
      "metadata": {
        "colab": {
          "base_uri": "https://localhost:8080/"
        },
        "id": "P4qXfSqqZXxa",
        "outputId": "04dbb91b-0167-4555-f559-d3baa56c628c"
      },
      "execution_count": null,
      "outputs": [
        {
          "output_type": "stream",
          "name": "stdout",
          "text": [
            "Input: <start> где рядом магазин ? <end>\n",
            "Predicted translation: where is the soup ? <end> \n"
          ]
        }
      ]
    },
    {
      "cell_type": "markdown",
      "source": [
        "*Переводит не идеально, но есть и хорошие попадания*"
      ],
      "metadata": {
        "id": "wSgTBD58V0yz"
      }
    }
  ],
  "metadata": {
    "colab": {
      "provenance": [],
      "authorship_tag": "ABX9TyNiFMSCU9hCjaCV3NRqDEI/",
      "include_colab_link": true
    },
    "kernelspec": {
      "display_name": "Python 3",
      "name": "python3"
    },
    "language_info": {
      "name": "python"
    },
    "gpuClass": "standard"
  },
  "nbformat": 4,
  "nbformat_minor": 0
}