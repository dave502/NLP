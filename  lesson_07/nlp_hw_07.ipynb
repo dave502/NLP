{
  "nbformat": 4,
  "nbformat_minor": 0,
  "metadata": {
    "colab": {
      "provenance": [],
      "collapsed_sections": [],
      "authorship_tag": "ABX9TyM11LsbldccrMNZvivXPHjJ",
      "include_colab_link": true
    },
    "kernelspec": {
      "name": "python3",
      "display_name": "Python 3"
    },
    "language_info": {
      "name": "python"
    },
    "gpuClass": "standard"
  },
  "cells": [
    {
      "cell_type": "markdown",
      "metadata": {
        "id": "view-in-github",
        "colab_type": "text"
      },
      "source": [
        "<a href=\"https://colab.research.google.com/github/dave502/NLP/blob/main/%20lesson_07/nlp_hw_07.ipynb\" target=\"_parent\"><img src=\"https://colab.research.google.com/assets/colab-badge.svg\" alt=\"Open In Colab\"/></a>"
      ]
    },
    {
      "cell_type": "code",
      "source": [
        "%%capture\n",
        "!pip install xlrd --upgrade\n",
        "!pip install stop_words\n",
        "!pip install pymorphy2\n",
        "!pip install fasttext"
      ],
      "metadata": {
        "id": "n7vbi-juhBZZ"
      },
      "execution_count": 1,
      "outputs": []
    },
    {
      "cell_type": "code",
      "execution_count": 8,
      "metadata": {
        "id": "Q3PJiQ_pa1XS"
      },
      "outputs": [],
      "source": [
        "import pandas as pd\n",
        "import tensorflow as tf\n",
        "from sklearn.model_selection import train_test_split\n",
        "from sklearn.metrics import confusion_matrix, ConfusionMatrixDisplay, f1_score\n",
        "from stop_words import get_stop_words\n",
        "from pymorphy2 import MorphAnalyzer\n",
        "import re"
      ]
    },
    {
      "cell_type": "code",
      "source": [
        "import numpy as np\n",
        "import keras\n",
        "from keras.models import Sequential, Model\n",
        "from keras.layers import Dense, Dropout, Activation, Input, Embedding, Conv1D, GlobalMaxPool1D\n",
        "from keras.preprocessing.text import Tokenizer\n",
        "from keras_preprocessing.sequence import pad_sequences\n",
        "from keras.callbacks import TensorBoard, EarlyStopping"
      ],
      "metadata": {
        "id": "umLHxVyj4WQS"
      },
      "execution_count": 9,
      "outputs": []
    },
    {
      "cell_type": "code",
      "source": [
        "!pip install navec\n",
        "!pip install slovnet\n",
        "from navec import Navec\n",
        "from slovnet.model.emb import NavecEmbedding\n",
        "import gensim, logging"
      ],
      "metadata": {
        "id": "E4KcV8Hlf8sh"
      },
      "execution_count": null,
      "outputs": []
    },
    {
      "cell_type": "code",
      "source": [
        "# библиотеку Navec не удалось использовать для tensorflow\n",
        "\n",
        "# !wget https://storage.yandexcloud.net/natasha-navec/packs/navec_hudlit_v1_12B_500K_300d_100q.tar\n",
        "# path = 'navec_hudlit_v1_12B_500K_300d_100q.tar'\n",
        "# navec = Navec.load(path) "
      ],
      "metadata": {
        "id": "5V5zMjrOgY5h"
      },
      "execution_count": null,
      "outputs": []
    },
    {
      "cell_type": "code",
      "source": [
        "# загружаем предобученную модель \n",
        "!wget http://vectors.nlpl.eu/repository/20/220.zip\n",
        "!unzip '220.zip' -d emb_model"
      ],
      "metadata": {
        "id": "aK0Wre6HzwxH"
      },
      "execution_count": null,
      "outputs": []
    },
    {
      "cell_type": "code",
      "source": [
        "pd.set_option('max_colwidth', 148)\n",
        "random_state=42"
      ],
      "metadata": {
        "id": "wUjt_rvEnTFr"
      },
      "execution_count": 10,
      "outputs": []
    },
    {
      "cell_type": "markdown",
      "source": [
        "Функция предобработки текста"
      ],
      "metadata": {
        "id": "HFH_lWkdSKbZ"
      }
    },
    {
      "cell_type": "code",
      "source": [
        "morpher = MorphAnalyzer()\n",
        "stopwords = set(get_stop_words(\"ru\")) - {'не', 'нет', 'хорошо'}\n",
        "\n",
        "def preprocess_text(text: pd.Series)->pd.Series:\n",
        "  \"\"\"\n",
        "  функция обработки текста для pandas.Series\n",
        "  \"\"\"  \n",
        "  # регулярное выражение для очистки текста\n",
        "  url_pattern = \"(http|ftp|https):\\/\\/([\\w_-]+(?:(?:\\.[\\w_-]+)+))([\\w.,@?^=%&:\\/~+#-]*[\\w@?^=%&\\/~+#-])\"\n",
        "  #punct_pattern = f\"[{punct+'«—»'}]\"\n",
        "  smile_pattern = \"(:D|D:)\"\n",
        "  usernames_pattern = \"(@[\\w]*|RT @[\\w]*)\"\n",
        "  onlywords_pattern = \"[^\\w\\b]|[^A-Za-zА-ЯЁа-яё]\"\n",
        "  pattern = f\"{smile_pattern}|{url_pattern}|{usernames_pattern}|{onlywords_pattern}\"\n",
        "\n",
        "  # удаление лишних символов в соответствии с регулярными выражениями \n",
        "  new_text = text.replace(pattern, ' ', regex=True)\n",
        "  \n",
        "  # совмещение отрицаний 'не'/'нет' со следующим словом\n",
        "  new_text = new_text.replace(r'((?<=[\\s]не)|(?<=^Не))\\s(?=[\\w])', '')\n",
        "\n",
        "  # лемматизация, удаление стоп-слов и запись результата в новую колонку\n",
        "  new_text = new_text.apply(lambda x: [morpher.normal_forms(token)[0].strip().lower() for token in str(x).split()\\\n",
        "                                            if (token not in stopwords) and (len(token) > 2)])\n",
        "  return new_text"
      ],
      "metadata": {
        "id": "AI162LE1vOE7"
      },
      "execution_count": 11,
      "outputs": []
    },
    {
      "cell_type": "markdown",
      "source": [
        "Функция преобразования слов в токены"
      ],
      "metadata": {
        "id": "Nb_BNqMeSeaT"
      }
    },
    {
      "cell_type": "code",
      "source": [
        "def text_to_sequence(text, maxlen, vocabulary):\n",
        "  \n",
        "    result = [vocabulary[word] for word in text if word in vocabulary]\n",
        "\n",
        "    padding = [0]*(maxlen-len(result))\n",
        "    return padding + result[-maxlen:]"
      ],
      "metadata": {
        "id": "qgTpstHycb8W"
      },
      "execution_count": 28,
      "outputs": []
    },
    {
      "cell_type": "markdown",
      "source": [
        "Загрузка данных в датафрейм"
      ],
      "metadata": {
        "id": "blZn_50dSnNF"
      }
    },
    {
      "cell_type": "code",
      "source": [
        "df = pd.read_excel('data.xls')\n",
        "df.sample(10)"
      ],
      "metadata": {
        "colab": {
          "base_uri": "https://localhost:8080/",
          "height": 363
        },
        "id": "tlEuDdl7gdMH",
        "outputId": "f84f9226-dfec-45c1-c06d-cd67237d7d52"
      },
      "execution_count": 14,
      "outputs": [
        {
          "output_type": "execute_result",
          "data": {
            "text/plain": [
              "       Rating  \\\n",
              "3053        2   \n",
              "14557       5   \n",
              "14453       5   \n",
              "13025       5   \n",
              "4438        1   \n",
              "1921        4   \n",
              "7069        5   \n",
              "5404        4   \n",
              "4595        1   \n",
              "2719        5   \n",
              "\n",
              "                                                                                             Content  \\\n",
              "3053   постоянно мониторит твой телефон собирает отебе всю информациб и постоянно разводит на кредит   \n",
              "14557                                                                         Это хорошее преложение   \n",
              "14453                                                                                          Супер   \n",
              "13025                                                                                       Нравится   \n",
              "4438                                                  Идиотская проверка на оригинальность прошивки!   \n",
              "1921                                                                                         Спасибо   \n",
              "7069                                                                                            Збсь   \n",
              "5404                                                           Добротное и очень полезное приложение   \n",
              "4595                                                Не могу установить из-за ошибки 491, что делать?   \n",
              "2719                                                                                        Отлично!   \n",
              "\n",
              "             Date  \n",
              "3053   2017-08-09  \n",
              "14557  2017-07-23  \n",
              "14453  2017-07-23  \n",
              "13025  2017-07-26  \n",
              "4438   2017-08-07  \n",
              "1921   2017-08-11  \n",
              "7069   2017-08-04  \n",
              "5404   2017-08-06  \n",
              "4595   2017-08-07  \n",
              "2719   2017-08-10  "
            ],
            "text/html": [
              "\n",
              "  <div id=\"df-edec60eb-d369-4889-9684-c146bd2b5d2a\">\n",
              "    <div class=\"colab-df-container\">\n",
              "      <div>\n",
              "<style scoped>\n",
              "    .dataframe tbody tr th:only-of-type {\n",
              "        vertical-align: middle;\n",
              "    }\n",
              "\n",
              "    .dataframe tbody tr th {\n",
              "        vertical-align: top;\n",
              "    }\n",
              "\n",
              "    .dataframe thead th {\n",
              "        text-align: right;\n",
              "    }\n",
              "</style>\n",
              "<table border=\"1\" class=\"dataframe\">\n",
              "  <thead>\n",
              "    <tr style=\"text-align: right;\">\n",
              "      <th></th>\n",
              "      <th>Rating</th>\n",
              "      <th>Content</th>\n",
              "      <th>Date</th>\n",
              "    </tr>\n",
              "  </thead>\n",
              "  <tbody>\n",
              "    <tr>\n",
              "      <th>3053</th>\n",
              "      <td>2</td>\n",
              "      <td>постоянно мониторит твой телефон собирает отебе всю информациб и постоянно разводит на кредит</td>\n",
              "      <td>2017-08-09</td>\n",
              "    </tr>\n",
              "    <tr>\n",
              "      <th>14557</th>\n",
              "      <td>5</td>\n",
              "      <td>Это хорошее преложение</td>\n",
              "      <td>2017-07-23</td>\n",
              "    </tr>\n",
              "    <tr>\n",
              "      <th>14453</th>\n",
              "      <td>5</td>\n",
              "      <td>Супер</td>\n",
              "      <td>2017-07-23</td>\n",
              "    </tr>\n",
              "    <tr>\n",
              "      <th>13025</th>\n",
              "      <td>5</td>\n",
              "      <td>Нравится</td>\n",
              "      <td>2017-07-26</td>\n",
              "    </tr>\n",
              "    <tr>\n",
              "      <th>4438</th>\n",
              "      <td>1</td>\n",
              "      <td>Идиотская проверка на оригинальность прошивки!</td>\n",
              "      <td>2017-08-07</td>\n",
              "    </tr>\n",
              "    <tr>\n",
              "      <th>1921</th>\n",
              "      <td>4</td>\n",
              "      <td>Спасибо</td>\n",
              "      <td>2017-08-11</td>\n",
              "    </tr>\n",
              "    <tr>\n",
              "      <th>7069</th>\n",
              "      <td>5</td>\n",
              "      <td>Збсь</td>\n",
              "      <td>2017-08-04</td>\n",
              "    </tr>\n",
              "    <tr>\n",
              "      <th>5404</th>\n",
              "      <td>4</td>\n",
              "      <td>Добротное и очень полезное приложение</td>\n",
              "      <td>2017-08-06</td>\n",
              "    </tr>\n",
              "    <tr>\n",
              "      <th>4595</th>\n",
              "      <td>1</td>\n",
              "      <td>Не могу установить из-за ошибки 491, что делать?</td>\n",
              "      <td>2017-08-07</td>\n",
              "    </tr>\n",
              "    <tr>\n",
              "      <th>2719</th>\n",
              "      <td>5</td>\n",
              "      <td>Отлично!</td>\n",
              "      <td>2017-08-10</td>\n",
              "    </tr>\n",
              "  </tbody>\n",
              "</table>\n",
              "</div>\n",
              "      <button class=\"colab-df-convert\" onclick=\"convertToInteractive('df-edec60eb-d369-4889-9684-c146bd2b5d2a')\"\n",
              "              title=\"Convert this dataframe to an interactive table.\"\n",
              "              style=\"display:none;\">\n",
              "        \n",
              "  <svg xmlns=\"http://www.w3.org/2000/svg\" height=\"24px\"viewBox=\"0 0 24 24\"\n",
              "       width=\"24px\">\n",
              "    <path d=\"M0 0h24v24H0V0z\" fill=\"none\"/>\n",
              "    <path d=\"M18.56 5.44l.94 2.06.94-2.06 2.06-.94-2.06-.94-.94-2.06-.94 2.06-2.06.94zm-11 1L8.5 8.5l.94-2.06 2.06-.94-2.06-.94L8.5 2.5l-.94 2.06-2.06.94zm10 10l.94 2.06.94-2.06 2.06-.94-2.06-.94-.94-2.06-.94 2.06-2.06.94z\"/><path d=\"M17.41 7.96l-1.37-1.37c-.4-.4-.92-.59-1.43-.59-.52 0-1.04.2-1.43.59L10.3 9.45l-7.72 7.72c-.78.78-.78 2.05 0 2.83L4 21.41c.39.39.9.59 1.41.59.51 0 1.02-.2 1.41-.59l7.78-7.78 2.81-2.81c.8-.78.8-2.07 0-2.86zM5.41 20L4 18.59l7.72-7.72 1.47 1.35L5.41 20z\"/>\n",
              "  </svg>\n",
              "      </button>\n",
              "      \n",
              "  <style>\n",
              "    .colab-df-container {\n",
              "      display:flex;\n",
              "      flex-wrap:wrap;\n",
              "      gap: 12px;\n",
              "    }\n",
              "\n",
              "    .colab-df-convert {\n",
              "      background-color: #E8F0FE;\n",
              "      border: none;\n",
              "      border-radius: 50%;\n",
              "      cursor: pointer;\n",
              "      display: none;\n",
              "      fill: #1967D2;\n",
              "      height: 32px;\n",
              "      padding: 0 0 0 0;\n",
              "      width: 32px;\n",
              "    }\n",
              "\n",
              "    .colab-df-convert:hover {\n",
              "      background-color: #E2EBFA;\n",
              "      box-shadow: 0px 1px 2px rgba(60, 64, 67, 0.3), 0px 1px 3px 1px rgba(60, 64, 67, 0.15);\n",
              "      fill: #174EA6;\n",
              "    }\n",
              "\n",
              "    [theme=dark] .colab-df-convert {\n",
              "      background-color: #3B4455;\n",
              "      fill: #D2E3FC;\n",
              "    }\n",
              "\n",
              "    [theme=dark] .colab-df-convert:hover {\n",
              "      background-color: #434B5C;\n",
              "      box-shadow: 0px 1px 3px 1px rgba(0, 0, 0, 0.15);\n",
              "      filter: drop-shadow(0px 1px 2px rgba(0, 0, 0, 0.3));\n",
              "      fill: #FFFFFF;\n",
              "    }\n",
              "  </style>\n",
              "\n",
              "      <script>\n",
              "        const buttonEl =\n",
              "          document.querySelector('#df-edec60eb-d369-4889-9684-c146bd2b5d2a button.colab-df-convert');\n",
              "        buttonEl.style.display =\n",
              "          google.colab.kernel.accessAllowed ? 'block' : 'none';\n",
              "\n",
              "        async function convertToInteractive(key) {\n",
              "          const element = document.querySelector('#df-edec60eb-d369-4889-9684-c146bd2b5d2a');\n",
              "          const dataTable =\n",
              "            await google.colab.kernel.invokeFunction('convertToInteractive',\n",
              "                                                     [key], {});\n",
              "          if (!dataTable) return;\n",
              "\n",
              "          const docLinkHtml = 'Like what you see? Visit the ' +\n",
              "            '<a target=\"_blank\" href=https://colab.research.google.com/notebooks/data_table.ipynb>data table notebook</a>'\n",
              "            + ' to learn more about interactive tables.';\n",
              "          element.innerHTML = '';\n",
              "          dataTable['output_type'] = 'display_data';\n",
              "          await google.colab.output.renderOutput(dataTable, element);\n",
              "          const docLink = document.createElement('div');\n",
              "          docLink.innerHTML = docLinkHtml;\n",
              "          element.appendChild(docLink);\n",
              "        }\n",
              "      </script>\n",
              "    </div>\n",
              "  </div>\n",
              "  "
            ]
          },
          "metadata": {},
          "execution_count": 14
        }
      ]
    },
    {
      "cell_type": "markdown",
      "source": [
        "Разбиение данных на обучающий и тестовый наборы"
      ],
      "metadata": {
        "id": "Ff988fvqSxtr"
      }
    },
    {
      "cell_type": "code",
      "source": [
        "X_train, X_test, y_train, y_test = train_test_split(df['Content'], df['Rating'], test_size=0.2, random_state=random_state)\n",
        "\n",
        "# # посмотрим получившиеся размеры\n",
        "# print('Train/val/test sizes')\n",
        "# pd.DataFrame([[len(X_train), len(y_train)], [len(X_val), len(y_val)], [len(X_test), len(y_test)]], columns=['X', 'y'], \\\n",
        "#              index=['train', 'val', 'test'])"
      ],
      "metadata": {
        "id": "7TChp5vg2sv3"
      },
      "execution_count": 15,
      "outputs": []
    },
    {
      "cell_type": "markdown",
      "source": [
        "Предобработка обучающей выборки"
      ],
      "metadata": {
        "id": "yIxakxBmS3q4"
      }
    },
    {
      "cell_type": "code",
      "source": [
        "X_train = preprocess_text(X_train)"
      ],
      "metadata": {
        "id": "I96LkE9yd2_V"
      },
      "execution_count": 16,
      "outputs": []
    },
    {
      "cell_type": "code",
      "source": [
        "X_train.sample(10)"
      ],
      "metadata": {
        "colab": {
          "base_uri": "https://localhost:8080/"
        },
        "id": "95d8XPU-dOaB",
        "outputId": "dcc5a242-c74d-415f-9de4-dc76437fd74b"
      },
      "execution_count": 18,
      "outputs": [
        {
          "output_type": "execute_result",
          "data": {
            "text/plain": [
              "33                                                                          [работать, поиск, наименование, служба]\n",
              "6663                                                                                                [очень, удобно]\n",
              "4717                                                                              [вход, дважды, вводить, пин, код]\n",
              "9180     [приложение, работать, перезагрузка, переустановка, приложение, телефон, помогать, пароль, смс, приходить]\n",
              "13080                                                                                                      [удобно]\n",
              "14559                                                                                                            []\n",
              "10929                                                                                               [маэстро, kart]\n",
              "13306                                                                                                       [норма]\n",
              "16958                                                                                                     [молодец]\n",
              "15186                                                                                                   [нормально]\n",
              "Name: Content, dtype: object"
            ]
          },
          "metadata": {},
          "execution_count": 18
        }
      ]
    },
    {
      "cell_type": "markdown",
      "source": [
        "Получение словаря { < слово > : < id > } из обучающей выборки"
      ],
      "metadata": {
        "id": "lcLhUPgVTAVi"
      }
    },
    {
      "cell_type": "code",
      "source": [
        "corpus = X_train.apply(' '.join).to_string(index=False).split()\n",
        "vocabulary = {v: k for k, v in dict(enumerate(corpus, 1)).items()}"
      ],
      "metadata": {
        "id": "Rl1DFVEle_1r"
      },
      "execution_count": 19,
      "outputs": []
    },
    {
      "cell_type": "markdown",
      "source": [
        "Токенизация обучающей выборки на основании словаря"
      ],
      "metadata": {
        "id": "4Xi15njrTmUT"
      }
    },
    {
      "cell_type": "code",
      "source": [
        "max_len = 40\n",
        "x_train = np.asarray([text_to_sequence(text, max_len, vocabulary) for text in X_train], dtype=np.int32)"
      ],
      "metadata": {
        "id": "tHmocpnXc3yz"
      },
      "execution_count": 29,
      "outputs": []
    },
    {
      "cell_type": "markdown",
      "source": [
        "Преобразование оценок в обучающей выборке в 3 класса: отрицательно, нейтрально и положительно. И категоризация классов."
      ],
      "metadata": {
        "id": "Zy1AobmeTv3-"
      }
    },
    {
      "cell_type": "code",
      "source": [
        "y_train[y_train<3] = -1\n",
        "y_train[y_train==3] = 0\n",
        "y_train[y_train>3] = 1\n",
        "y_train = keras.utils.to_categorical(y_train, 3)"
      ],
      "metadata": {
        "id": "fjiFhToN2y8t"
      },
      "execution_count": 175,
      "outputs": []
    },
    {
      "cell_type": "markdown",
      "source": [
        "Препроцессинг и токенизация тестовой выборки"
      ],
      "metadata": {
        "id": "0CFHXhcIUKHW"
      }
    },
    {
      "cell_type": "code",
      "source": [
        "X_test = preprocess_text(X_test)\n",
        "x_test = np.asarray([text_to_sequence(text, max_len, vocabulary) for text in X_test], dtype=np.int32)"
      ],
      "metadata": {
        "id": "-IFzGwYN3lxY"
      },
      "execution_count": 176,
      "outputs": []
    },
    {
      "cell_type": "markdown",
      "source": [
        "Преобразование оценок в тестовой выборке в 3 класса: отрицательно, нейтрально и положительно. И категоризация классов."
      ],
      "metadata": {
        "id": "rg1P7nceUSDY"
      }
    },
    {
      "cell_type": "code",
      "source": [
        "y_test[y_test<3] = -1\n",
        "y_test[y_test==3] = 0\n",
        "y_test[y_test>3] = 1\n",
        "y_test = keras.utils.to_categorical(y_test, 3)"
      ],
      "metadata": {
        "id": "x5j4mLBQg0mb"
      },
      "execution_count": 177,
      "outputs": []
    },
    {
      "cell_type": "markdown",
      "source": [
        "Построение модели"
      ],
      "metadata": {
        "id": "1sE3k_ogUezB"
      }
    },
    {
      "cell_type": "code",
      "source": [
        "## Define the embedding dimension\n",
        "EMBEDDING_DIM = 128\n",
        "MAX_LENGTH = 40\n",
        "BATCH_SIZE=64\n",
        "EPOCHS = 20\n",
        "\n",
        "model = Sequential()\n",
        "model.add(Embedding(input_dim = len(corpus)+1, output_dim=EMBEDDING_DIM, input_length=MAX_LENGTH))\n",
        "model.add(Conv1D(128, 3))\n",
        "model.add(Activation(\"relu\"))\n",
        "model.add(GlobalMaxPool1D())\n",
        "model.add(Dense(10))\n",
        "model.add(Activation(\"relu\"))\n",
        "model.add(Dense(3)) # количество классов\n",
        "model.add(Activation('softmax'))"
      ],
      "metadata": {
        "id": "vvqqlXgF7s1a"
      },
      "execution_count": 60,
      "outputs": []
    },
    {
      "cell_type": "code",
      "source": [
        "model.compile(loss='categorical_crossentropy', optimizer='adam', metrics=['accuracy'])"
      ],
      "metadata": {
        "id": "pTEM4P6G9Li2"
      },
      "execution_count": 52,
      "outputs": []
    },
    {
      "cell_type": "markdown",
      "source": [
        "Обучение модели"
      ],
      "metadata": {
        "id": "qgRfDfrPUitE"
      }
    },
    {
      "cell_type": "code",
      "source": [
        "tensorboard=TensorBoard(log_dir='./logs', write_graph=True, write_images=True)\n",
        "early_stopping=EarlyStopping(monitor='val_loss', patience=3)  \n",
        "\n",
        "history = model.fit(x_train, y_train, \n",
        "                    batch_size=BATCH_SIZE,\n",
        "                    epochs=EPOCHS,\n",
        "                    verbose=1,\n",
        "                    validation_split=0.2,\n",
        "                    callbacks=[tensorboard, early_stopping])"
      ],
      "metadata": {
        "colab": {
          "base_uri": "https://localhost:8080/"
        },
        "id": "-5HBy8Lm9Pt4",
        "outputId": "2ee8e0d9-f8f3-4d26-8bfc-3a6578fb03bf"
      },
      "execution_count": 56,
      "outputs": [
        {
          "output_type": "stream",
          "name": "stdout",
          "text": [
            "Epoch 1/20\n",
            "207/207 [==============================] - 2s 10ms/step - loss: 0.0193 - accuracy: 0.9949 - val_loss: 0.9495 - val_accuracy: 0.8606\n",
            "Epoch 2/20\n",
            "207/207 [==============================] - 2s 9ms/step - loss: 0.0185 - accuracy: 0.9950 - val_loss: 0.9477 - val_accuracy: 0.8600\n",
            "Epoch 3/20\n",
            "207/207 [==============================] - 2s 10ms/step - loss: 0.0188 - accuracy: 0.9946 - val_loss: 0.9735 - val_accuracy: 0.8621\n",
            "Epoch 4/20\n",
            "207/207 [==============================] - 2s 9ms/step - loss: 0.0190 - accuracy: 0.9953 - val_loss: 0.9779 - val_accuracy: 0.8600\n",
            "Epoch 5/20\n",
            "207/207 [==============================] - 2s 10ms/step - loss: 0.0184 - accuracy: 0.9952 - val_loss: 0.9971 - val_accuracy: 0.8612\n"
          ]
        }
      ]
    },
    {
      "cell_type": "markdown",
      "source": [
        "Предикт и вывод метрик"
      ],
      "metadata": {
        "id": "_XkIx3wJUmNc"
      }
    },
    {
      "cell_type": "code",
      "source": [
        "pred = model.predict(x_test, batch_size=BATCH_SIZE, verbose=1)"
      ],
      "metadata": {
        "colab": {
          "base_uri": "https://localhost:8080/"
        },
        "id": "kv-E2rihlaYJ",
        "outputId": "010365d5-bca0-4d64-88d9-dd4b2557d9c9"
      },
      "execution_count": 58,
      "outputs": [
        {
          "output_type": "stream",
          "name": "stdout",
          "text": [
            "65/65 [==============================] - 0s 3ms/step\n"
          ]
        }
      ]
    },
    {
      "cell_type": "code",
      "source": [
        "# метрики\n",
        "matrix = confusion_matrix(y_test.argmax(axis=1), pred.argmax(axis=1))\n",
        "cm_display = ConfusionMatrixDisplay(confusion_matrix = matrix) \n",
        "cm_display.plot()\n",
        "print(f'f1_score = {f1_score(y_test.argmax(axis=1), pred.argmax(axis=1), average=\"weighted\")}')"
      ],
      "metadata": {
        "colab": {
          "base_uri": "https://localhost:8080/",
          "height": 297
        },
        "id": "pciPRK5flly_",
        "outputId": "30430e28-34b1-4968-ee40-3d5d5dfddeb5"
      },
      "execution_count": 75,
      "outputs": [
        {
          "output_type": "stream",
          "name": "stdout",
          "text": [
            "f1_score = 0.8558142194931584\n"
          ]
        },
        {
          "output_type": "display_data",
          "data": {
            "text/plain": [
              "<Figure size 432x288 with 2 Axes>"
            ],
            "image/png": "[encoded data removed]"
          },
          "metadata": {
            "needs_background": "light"
          }
        }
      ]
    },
    {
      "cell_type": "markdown",
      "source": [
        "*Метрики хорошие. Хоть модель и не все классы хорошо распознаёт, но по основному классу результаты хорошие*"
      ],
      "metadata": {
        "id": "85CNgkdXU3NZ"
      }
    },
    {
      "cell_type": "markdown",
      "source": [
        "##### Модель с предобученным эмбеддингом"
      ],
      "metadata": {
        "id": "DnhUvC9VVxUq"
      }
    },
    {
      "cell_type": "markdown",
      "source": [
        "Загрузка модели из файла"
      ],
      "metadata": {
        "id": "cMvIgEHzV-WH"
      }
    },
    {
      "cell_type": "code",
      "source": [
        "gensim_model = gensim.models.KeyedVectors.load_word2vec_format('emb_model/model.bin', binary=True)"
      ],
      "metadata": {
        "id": "_J97c59X1c29"
      },
      "execution_count": 126,
      "outputs": []
    },
    {
      "cell_type": "markdown",
      "source": [
        "Получение объекта эмбеддинга"
      ],
      "metadata": {
        "id": "poTFc9E1WFed"
      }
    },
    {
      "cell_type": "code",
      "source": [
        "gensim_emb = gensim_model.get_keras_embedding(train_embeddings=False)"
      ],
      "metadata": {
        "id": "d2-nC-q2_Aag"
      },
      "execution_count": 183,
      "outputs": []
    },
    {
      "cell_type": "markdown",
      "source": [
        "Построение модели с полученным эмбеддингом в первом слое"
      ],
      "metadata": {
        "id": "_FMFN18aWNfC"
      }
    },
    {
      "cell_type": "code",
      "source": [
        "## Define the embedding dimension\n",
        "BATCH_SIZE=64\n",
        "EPOCHS = 20\n",
        "\n",
        "model1 = Sequential()\n",
        "model1.add(gensim_emb) \n",
        "model1.add(Conv1D(128, 3))\n",
        "model1.add(Activation(\"relu\"))\n",
        "model1.add(GlobalMaxPool1D())\n",
        "model1.add(Dense(10))\n",
        "model1.add(Activation(\"relu\"))\n",
        "model1.add(Dense(3)) # количество классов\n",
        "model1.add(Activation('softmax'))\n",
        "\n",
        "model1.compile(loss='categorical_crossentropy', optimizer='adam', metrics=['accuracy'])"
      ],
      "metadata": {
        "id": "6lQXmryeAbCA"
      },
      "execution_count": 184,
      "outputs": []
    },
    {
      "cell_type": "markdown",
      "source": [
        "Обучение модели"
      ],
      "metadata": {
        "id": "fLvYnhYCWXn-"
      }
    },
    {
      "cell_type": "code",
      "source": [
        "tensorboard=TensorBoard(log_dir='./logs', write_graph=True, write_images=True)\n",
        "early_stopping=EarlyStopping(monitor='val_loss', patience=3)  \n",
        "\n",
        "history = model1.fit(x_train, y_train, \n",
        "                    batch_size=BATCH_SIZE,\n",
        "                    epochs=EPOCHS,\n",
        "                    verbose=1,\n",
        "                    validation_split=0.2,\n",
        "                    callbacks=[tensorboard, early_stopping])"
      ],
      "metadata": {
        "colab": {
          "base_uri": "https://localhost:8080/"
        },
        "id": "ShVFVJtdAoPc",
        "outputId": "db08cfc8-8e6a-4003-83bb-ecaede4bcd18"
      },
      "execution_count": 189,
      "outputs": [
        {
          "output_type": "stream",
          "name": "stdout",
          "text": [
            "Epoch 1/20\n",
            "207/207 [==============================] - 15s 73ms/step - loss: 0.1889 - accuracy: 0.9201 - val_loss: 0.4141 - val_accuracy: 0.8606\n",
            "Epoch 2/20\n",
            "207/207 [==============================] - 16s 79ms/step - loss: 0.1603 - accuracy: 0.9312 - val_loss: 0.4319 - val_accuracy: 0.8696\n",
            "Epoch 3/20\n",
            "207/207 [==============================] - 15s 73ms/step - loss: 0.1393 - accuracy: 0.9454 - val_loss: 0.4342 - val_accuracy: 0.8621\n",
            "Epoch 4/20\n",
            "207/207 [==============================] - 16s 79ms/step - loss: 0.1333 - accuracy: 0.9558 - val_loss: 0.4550 - val_accuracy: 0.8693\n"
          ]
        }
      ]
    },
    {
      "cell_type": "markdown",
      "source": [
        "Предикт и метрика"
      ],
      "metadata": {
        "id": "w7RY81nZWai9"
      }
    },
    {
      "cell_type": "code",
      "source": [
        "pred = model1.predict(x_test, batch_size=BATCH_SIZE, verbose=1)\n",
        "\n",
        "# метрики\n",
        "matrix = confusion_matrix(y_test.argmax(axis=1), pred.argmax(axis=1))\n",
        "cm_display = ConfusionMatrixDisplay(confusion_matrix = matrix) \n",
        "cm_display.plot()\n",
        "print(f'f1_score = {f1_score(y_test.argmax(axis=1), pred.argmax(axis=1), average=\"weighted\")}')"
      ],
      "metadata": {
        "colab": {
          "base_uri": "https://localhost:8080/",
          "height": 315
        },
        "id": "eIs1_g7KQdKb",
        "outputId": "ab5f50f9-9d63-4a96-84d4-fbcfa548d906"
      },
      "execution_count": 190,
      "outputs": [
        {
          "output_type": "stream",
          "name": "stdout",
          "text": [
            "65/65 [==============================] - 2s 23ms/step\n",
            "f1_score = 0.8589721492021285\n"
          ]
        },
        {
          "output_type": "display_data",
          "data": {
            "text/plain": [
              "<Figure size 432x288 with 2 Axes>"
            ],
            "image/png": "[encoded data removed]"
          },
          "metadata": {
            "needs_background": "light"
          }
        }
      ]
    },
    {
      "cell_type": "markdown",
      "source": [
        "*Результат модели с обучающимся эмбеддинг-слоем почти не отличается от результата модели с предобученным эмбеддинг слоем. Разница метрики f1 не превышает 0.01*"
      ],
      "metadata": {
        "id": "_nlh_kh_W7Ss"
      }
    },
    {
      "cell_type": "code",
      "source": [],
      "metadata": {
        "id": "n8tp2sZ0Rh8u"
      },
      "execution_count": null,
      "outputs": []
    }
  ]
}