{
  "nbformat": 4,
  "nbformat_minor": 0,
  "metadata": {
    "colab": {
      "provenance": [],
      "authorship_tag": "ABX9TyOIO+BvEUfhYwT6SknwsAXT",
      "include_colab_link": true
    },
    "kernelspec": {
      "name": "python3",
      "display_name": "Python 3"
    },
    "language_info": {
      "name": "python"
    },
    "gpuClass": "standard",
    "widgets": {
      "application/vnd.jupyter.widget-state+json": {
        "319fdbd16e2f46eeb51dcbaabf8144f2": {
          "model_module": "@jupyter-widgets/controls",
          "model_name": "HBoxModel",
          "model_module_version": "1.5.0",
          "state": {
            "_dom_classes": [],
            "_model_module": "@jupyter-widgets/controls",
            "_model_module_version": "1.5.0",
            "_model_name": "HBoxModel",
            "_view_count": null,
            "_view_module": "@jupyter-widgets/controls",
            "_view_module_version": "1.5.0",
            "_view_name": "HBoxView",
            "box_style": "",
            "children": [
              "IPY_MODEL_393a92d6ae124e8eb6cf7603a6676bde",
              "IPY_MODEL_9eb3a21c4cda49979cf56ab753baacf3",
              "IPY_MODEL_6cde285772eb479385717a958522705f"
            ],
            "layout": "IPY_MODEL_0473fa507e70416fb02bf55f6cf307c1"
          }
        },
        "393a92d6ae124e8eb6cf7603a6676bde": {
          "model_module": "@jupyter-widgets/controls",
          "model_name": "HTMLModel",
          "model_module_version": "1.5.0",
          "state": {
            "_dom_classes": [],
            "_model_module": "@jupyter-widgets/controls",
            "_model_module_version": "1.5.0",
            "_model_name": "HTMLModel",
            "_view_count": null,
            "_view_module": "@jupyter-widgets/controls",
            "_view_module_version": "1.5.0",
            "_view_name": "HTMLView",
            "description": "",
            "description_tooltip": null,
            "layout": "IPY_MODEL_986b7f4cca004ad88aecf3b5247bf67a",
            "placeholder": "​",
            "style": "IPY_MODEL_0d4b7d7a073a4955b371049b87740e89",
            "value": "Downloading: 100%"
          }
        },
        "9eb3a21c4cda49979cf56ab753baacf3": {
          "model_module": "@jupyter-widgets/controls",
          "model_name": "FloatProgressModel",
          "model_module_version": "1.5.0",
          "state": {
            "_dom_classes": [],
            "_model_module": "@jupyter-widgets/controls",
            "_model_module_version": "1.5.0",
            "_model_name": "FloatProgressModel",
            "_view_count": null,
            "_view_module": "@jupyter-widgets/controls",
            "_view_module_version": "1.5.0",
            "_view_name": "ProgressView",
            "bar_style": "success",
            "description": "",
            "description_tooltip": null,
            "layout": "IPY_MODEL_84e961414648497baef714a81e1f00a2",
            "max": 608,
            "min": 0,
            "orientation": "horizontal",
            "style": "IPY_MODEL_cb349f8cd222463595326303c96df1c4",
            "value": 608
          }
        },
        "6cde285772eb479385717a958522705f": {
          "model_module": "@jupyter-widgets/controls",
          "model_name": "HTMLModel",
          "model_module_version": "1.5.0",
          "state": {
            "_dom_classes": [],
            "_model_module": "@jupyter-widgets/controls",
            "_model_module_version": "1.5.0",
            "_model_name": "HTMLModel",
            "_view_count": null,
            "_view_module": "@jupyter-widgets/controls",
            "_view_module_version": "1.5.0",
            "_view_name": "HTMLView",
            "description": "",
            "description_tooltip": null,
            "layout": "IPY_MODEL_541ca274ad56429daadd3c609b9ccd42",
            "placeholder": "​",
            "style": "IPY_MODEL_4f0a658c17cf4520b6bdaeaf8d64be3d",
            "value": " 608/608 [00:00&lt;00:00, 20.6kB/s]"
          }
        },
        "0473fa507e70416fb02bf55f6cf307c1": {
          "model_module": "@jupyter-widgets/base",
          "model_name": "LayoutModel",
          "model_module_version": "1.2.0",
          "state": {
            "_model_module": "@jupyter-widgets/base",
            "_model_module_version": "1.2.0",
            "_model_name": "LayoutModel",
            "_view_count": null,
            "_view_module": "@jupyter-widgets/base",
            "_view_module_version": "1.2.0",
            "_view_name": "LayoutView",
            "align_content": null,
            "align_items": null,
            "align_self": null,
            "border": null,
            "bottom": null,
            "display": null,
            "flex": null,
            "flex_flow": null,
            "grid_area": null,
            "grid_auto_columns": null,
            "grid_auto_flow": null,
            "grid_auto_rows": null,
            "grid_column": null,
            "grid_gap": null,
            "grid_row": null,
            "grid_template_areas": null,
            "grid_template_columns": null,
            "grid_template_rows": null,
            "height": null,
            "justify_content": null,
            "justify_items": null,
            "left": null,
            "margin": null,
            "max_height": null,
            "max_width": null,
            "min_height": null,
            "min_width": null,
            "object_fit": null,
            "object_position": null,
            "order": null,
            "overflow": null,
            "overflow_x": null,
            "overflow_y": null,
            "padding": null,
            "right": null,
            "top": null,
            "visibility": null,
            "width": null
          }
        },
        "986b7f4cca004ad88aecf3b5247bf67a": {
          "model_module": "@jupyter-widgets/base",
          "model_name": "LayoutModel",
          "model_module_version": "1.2.0",
          "state": {
            "_model_module": "@jupyter-widgets/base",
            "_model_module_version": "1.2.0",
            "_model_name": "LayoutModel",
            "_view_count": null,
            "_view_module": "@jupyter-widgets/base",
            "_view_module_version": "1.2.0",
            "_view_name": "LayoutView",
            "align_content": null,
            "align_items": null,
            "align_self": null,
            "border": null,
            "bottom": null,
            "display": null,
            "flex": null,
            "flex_flow": null,
            "grid_area": null,
            "grid_auto_columns": null,
            "grid_auto_flow": null,
            "grid_auto_rows": null,
            "grid_column": null,
            "grid_gap": null,
            "grid_row": null,
            "grid_template_areas": null,
            "grid_template_columns": null,
            "grid_template_rows": null,
            "height": null,
            "justify_content": null,
            "justify_items": null,
            "left": null,
            "margin": null,
            "max_height": null,
            "max_width": null,
            "min_height": null,
            "min_width": null,
            "object_fit": null,
            "object_position": null,
            "order": null,
            "overflow": null,
            "overflow_x": null,
            "overflow_y": null,
            "padding": null,
            "right": null,
            "top": null,
            "visibility": null,
            "width": null
          }
        },
        "0d4b7d7a073a4955b371049b87740e89": {
          "model_module": "@jupyter-widgets/controls",
          "model_name": "DescriptionStyleModel",
          "model_module_version": "1.5.0",
          "state": {
            "_model_module": "@jupyter-widgets/controls",
            "_model_module_version": "1.5.0",
            "_model_name": "DescriptionStyleModel",
            "_view_count": null,
            "_view_module": "@jupyter-widgets/base",
            "_view_module_version": "1.2.0",
            "_view_name": "StyleView",
            "description_width": ""
          }
        },
        "84e961414648497baef714a81e1f00a2": {
          "model_module": "@jupyter-widgets/base",
          "model_name": "LayoutModel",
          "model_module_version": "1.2.0",
          "state": {
            "_model_module": "@jupyter-widgets/base",
            "_model_module_version": "1.2.0",
            "_model_name": "LayoutModel",
            "_view_count": null,
            "_view_module": "@jupyter-widgets/base",
            "_view_module_version": "1.2.0",
            "_view_name": "LayoutView",
            "align_content": null,
            "align_items": null,
            "align_self": null,
            "border": null,
            "bottom": null,
            "display": null,
            "flex": null,
            "flex_flow": null,
            "grid_area": null,
            "grid_auto_columns": null,
            "grid_auto_flow": null,
            "grid_auto_rows": null,
            "grid_column": null,
            "grid_gap": null,
            "grid_row": null,
            "grid_template_areas": null,
            "grid_template_columns": null,
            "grid_template_rows": null,
            "height": null,
            "justify_content": null,
            "justify_items": null,
            "left": null,
            "margin": null,
            "max_height": null,
            "max_width": null,
            "min_height": null,
            "min_width": null,
            "object_fit": null,
            "object_position": null,
            "order": null,
            "overflow": null,
            "overflow_x": null,
            "overflow_y": null,
            "padding": null,
            "right": null,
            "top": null,
            "visibility": null,
            "width": null
          }
        },
        "cb349f8cd222463595326303c96df1c4": {
          "model_module": "@jupyter-widgets/controls",
          "model_name": "ProgressStyleModel",
          "model_module_version": "1.5.0",
          "state": {
            "_model_module": "@jupyter-widgets/controls",
            "_model_module_version": "1.5.0",
            "_model_name": "ProgressStyleModel",
            "_view_count": null,
            "_view_module": "@jupyter-widgets/base",
            "_view_module_version": "1.2.0",
            "_view_name": "StyleView",
            "bar_color": null,
            "description_width": ""
          }
        },
        "541ca274ad56429daadd3c609b9ccd42": {
          "model_module": "@jupyter-widgets/base",
          "model_name": "LayoutModel",
          "model_module_version": "1.2.0",
          "state": {
            "_model_module": "@jupyter-widgets/base",
            "_model_module_version": "1.2.0",
            "_model_name": "LayoutModel",
            "_view_count": null,
            "_view_module": "@jupyter-widgets/base",
            "_view_module_version": "1.2.0",
            "_view_name": "LayoutView",
            "align_content": null,
            "align_items": null,
            "align_self": null,
            "border": null,
            "bottom": null,
            "display": null,
            "flex": null,
            "flex_flow": null,
            "grid_area": null,
            "grid_auto_columns": null,
            "grid_auto_flow": null,
            "grid_auto_rows": null,
            "grid_column": null,
            "grid_gap": null,
            "grid_row": null,
            "grid_template_areas": null,
            "grid_template_columns": null,
            "grid_template_rows": null,
            "height": null,
            "justify_content": null,
            "justify_items": null,
            "left": null,
            "margin": null,
            "max_height": null,
            "max_width": null,
            "min_height": null,
            "min_width": null,
            "object_fit": null,
            "object_position": null,
            "order": null,
            "overflow": null,
            "overflow_x": null,
            "overflow_y": null,
            "padding": null,
            "right": null,
            "top": null,
            "visibility": null,
            "width": null
          }
        },
        "4f0a658c17cf4520b6bdaeaf8d64be3d": {
          "model_module": "@jupyter-widgets/controls",
          "model_name": "DescriptionStyleModel",
          "model_module_version": "1.5.0",
          "state": {
            "_model_module": "@jupyter-widgets/controls",
            "_model_module_version": "1.5.0",
            "_model_name": "DescriptionStyleModel",
            "_view_count": null,
            "_view_module": "@jupyter-widgets/base",
            "_view_module_version": "1.2.0",
            "_view_name": "StyleView",
            "description_width": ""
          }
        },
        "887dbf2c57a042e798081bc3e4f7b8e3": {
          "model_module": "@jupyter-widgets/controls",
          "model_name": "HBoxModel",
          "model_module_version": "1.5.0",
          "state": {
            "_dom_classes": [],
            "_model_module": "@jupyter-widgets/controls",
            "_model_module_version": "1.5.0",
            "_model_name": "HBoxModel",
            "_view_count": null,
            "_view_module": "@jupyter-widgets/controls",
            "_view_module_version": "1.5.0",
            "_view_name": "HBoxView",
            "box_style": "",
            "children": [
              "IPY_MODEL_10c7dd5665834eb0bcb22ec7bec8ac0c",
              "IPY_MODEL_c0661d5c5fd34efbb8bd5de9fdeffd58",
              "IPY_MODEL_160239bf43114030b9c99e192cd64b83"
            ],
            "layout": "IPY_MODEL_8636582c61c54146ae78b6f357bca3c6"
          }
        },
        "10c7dd5665834eb0bcb22ec7bec8ac0c": {
          "model_module": "@jupyter-widgets/controls",
          "model_name": "HTMLModel",
          "model_module_version": "1.5.0",
          "state": {
            "_dom_classes": [],
            "_model_module": "@jupyter-widgets/controls",
            "_model_module_version": "1.5.0",
            "_model_name": "HTMLModel",
            "_view_count": null,
            "_view_module": "@jupyter-widgets/controls",
            "_view_module_version": "1.5.0",
            "_view_name": "HTMLView",
            "description": "",
            "description_tooltip": null,
            "layout": "IPY_MODEL_f369b67386274ac48a533c1e833d714a",
            "placeholder": "​",
            "style": "IPY_MODEL_4b0e9ca5ca85413b8ddec5de530e7892",
            "value": "Downloading: 100%"
          }
        },
        "c0661d5c5fd34efbb8bd5de9fdeffd58": {
          "model_module": "@jupyter-widgets/controls",
          "model_name": "FloatProgressModel",
          "model_module_version": "1.5.0",
          "state": {
            "_dom_classes": [],
            "_model_module": "@jupyter-widgets/controls",
            "_model_module_version": "1.5.0",
            "_model_name": "FloatProgressModel",
            "_view_count": null,
            "_view_module": "@jupyter-widgets/controls",
            "_view_module_version": "1.5.0",
            "_view_name": "ProgressView",
            "bar_style": "success",
            "description": "",
            "description_tooltip": null,
            "layout": "IPY_MODEL_4630004b902a4f51b9bce6aecc292649",
            "max": 1713123,
            "min": 0,
            "orientation": "horizontal",
            "style": "IPY_MODEL_18746bdb475a4c7cba2d98787bd82d27",
            "value": 1713123
          }
        },
        "160239bf43114030b9c99e192cd64b83": {
          "model_module": "@jupyter-widgets/controls",
          "model_name": "HTMLModel",
          "model_module_version": "1.5.0",
          "state": {
            "_dom_classes": [],
            "_model_module": "@jupyter-widgets/controls",
            "_model_module_version": "1.5.0",
            "_model_name": "HTMLModel",
            "_view_count": null,
            "_view_module": "@jupyter-widgets/controls",
            "_view_module_version": "1.5.0",
            "_view_name": "HTMLView",
            "description": "",
            "description_tooltip": null,
            "layout": "IPY_MODEL_198d17280a5f47ba83b2cb8e7d5e1336",
            "placeholder": "​",
            "style": "IPY_MODEL_a10db2bb48184928a7d47c5bd9f17d6e",
            "value": " 1.71M/1.71M [00:00&lt;00:00, 2.24MB/s]"
          }
        },
        "8636582c61c54146ae78b6f357bca3c6": {
          "model_module": "@jupyter-widgets/base",
          "model_name": "LayoutModel",
          "model_module_version": "1.2.0",
          "state": {
            "_model_module": "@jupyter-widgets/base",
            "_model_module_version": "1.2.0",
            "_model_name": "LayoutModel",
            "_view_count": null,
            "_view_module": "@jupyter-widgets/base",
            "_view_module_version": "1.2.0",
            "_view_name": "LayoutView",
            "align_content": null,
            "align_items": null,
            "align_self": null,
            "border": null,
            "bottom": null,
            "display": null,
            "flex": null,
            "flex_flow": null,
            "grid_area": null,
            "grid_auto_columns": null,
            "grid_auto_flow": null,
            "grid_auto_rows": null,
            "grid_column": null,
            "grid_gap": null,
            "grid_row": null,
            "grid_template_areas": null,
            "grid_template_columns": null,
            "grid_template_rows": null,
            "height": null,
            "justify_content": null,
            "justify_items": null,
            "left": null,
            "margin": null,
            "max_height": null,
            "max_width": null,
            "min_height": null,
            "min_width": null,
            "object_fit": null,
            "object_position": null,
            "order": null,
            "overflow": null,
            "overflow_x": null,
            "overflow_y": null,
            "padding": null,
            "right": null,
            "top": null,
            "visibility": null,
            "width": null
          }
        },
        "f369b67386274ac48a533c1e833d714a": {
          "model_module": "@jupyter-widgets/base",
          "model_name": "LayoutModel",
          "model_module_version": "1.2.0",
          "state": {
            "_model_module": "@jupyter-widgets/base",
            "_model_module_version": "1.2.0",
            "_model_name": "LayoutModel",
            "_view_count": null,
            "_view_module": "@jupyter-widgets/base",
            "_view_module_version": "1.2.0",
            "_view_name": "LayoutView",
            "align_content": null,
            "align_items": null,
            "align_self": null,
            "border": null,
            "bottom": null,
            "display": null,
            "flex": null,
            "flex_flow": null,
            "grid_area": null,
            "grid_auto_columns": null,
            "grid_auto_flow": null,
            "grid_auto_rows": null,
            "grid_column": null,
            "grid_gap": null,
            "grid_row": null,
            "grid_template_areas": null,
            "grid_template_columns": null,
            "grid_template_rows": null,
            "height": null,
            "justify_content": null,
            "justify_items": null,
            "left": null,
            "margin": null,
            "max_height": null,
            "max_width": null,
            "min_height": null,
            "min_width": null,
            "object_fit": null,
            "object_position": null,
            "order": null,
            "overflow": null,
            "overflow_x": null,
            "overflow_y": null,
            "padding": null,
            "right": null,
            "top": null,
            "visibility": null,
            "width": null
          }
        },
        "4b0e9ca5ca85413b8ddec5de530e7892": {
          "model_module": "@jupyter-widgets/controls",
          "model_name": "DescriptionStyleModel",
          "model_module_version": "1.5.0",
          "state": {
            "_model_module": "@jupyter-widgets/controls",
            "_model_module_version": "1.5.0",
            "_model_name": "DescriptionStyleModel",
            "_view_count": null,
            "_view_module": "@jupyter-widgets/base",
            "_view_module_version": "1.2.0",
            "_view_name": "StyleView",
            "description_width": ""
          }
        },
        "4630004b902a4f51b9bce6aecc292649": {
          "model_module": "@jupyter-widgets/base",
          "model_name": "LayoutModel",
          "model_module_version": "1.2.0",
          "state": {
            "_model_module": "@jupyter-widgets/base",
            "_model_module_version": "1.2.0",
            "_model_name": "LayoutModel",
            "_view_count": null,
            "_view_module": "@jupyter-widgets/base",
            "_view_module_version": "1.2.0",
            "_view_name": "LayoutView",
            "align_content": null,
            "align_items": null,
            "align_self": null,
            "border": null,
            "bottom": null,
            "display": null,
            "flex": null,
            "flex_flow": null,
            "grid_area": null,
            "grid_auto_columns": null,
            "grid_auto_flow": null,
            "grid_auto_rows": null,
            "grid_column": null,
            "grid_gap": null,
            "grid_row": null,
            "grid_template_areas": null,
            "grid_template_columns": null,
            "grid_template_rows": null,
            "height": null,
            "justify_content": null,
            "justify_items": null,
            "left": null,
            "margin": null,
            "max_height": null,
            "max_width": null,
            "min_height": null,
            "min_width": null,
            "object_fit": null,
            "object_position": null,
            "order": null,
            "overflow": null,
            "overflow_x": null,
            "overflow_y": null,
            "padding": null,
            "right": null,
            "top": null,
            "visibility": null,
            "width": null
          }
        },
        "18746bdb475a4c7cba2d98787bd82d27": {
          "model_module": "@jupyter-widgets/controls",
          "model_name": "ProgressStyleModel",
          "model_module_version": "1.5.0",
          "state": {
            "_model_module": "@jupyter-widgets/controls",
            "_model_module_version": "1.5.0",
            "_model_name": "ProgressStyleModel",
            "_view_count": null,
            "_view_module": "@jupyter-widgets/base",
            "_view_module_version": "1.2.0",
            "_view_name": "StyleView",
            "bar_color": null,
            "description_width": ""
          }
        },
        "198d17280a5f47ba83b2cb8e7d5e1336": {
          "model_module": "@jupyter-widgets/base",
          "model_name": "LayoutModel",
          "model_module_version": "1.2.0",
          "state": {
            "_model_module": "@jupyter-widgets/base",
            "_model_module_version": "1.2.0",
            "_model_name": "LayoutModel",
            "_view_count": null,
            "_view_module": "@jupyter-widgets/base",
            "_view_module_version": "1.2.0",
            "_view_name": "LayoutView",
            "align_content": null,
            "align_items": null,
            "align_self": null,
            "border": null,
            "bottom": null,
            "display": null,
            "flex": null,
            "flex_flow": null,
            "grid_area": null,
            "grid_auto_columns": null,
            "grid_auto_flow": null,
            "grid_auto_rows": null,
            "grid_column": null,
            "grid_gap": null,
            "grid_row": null,
            "grid_template_areas": null,
            "grid_template_columns": null,
            "grid_template_rows": null,
            "height": null,
            "justify_content": null,
            "justify_items": null,
            "left": null,
            "margin": null,
            "max_height": null,
            "max_width": null,
            "min_height": null,
            "min_width": null,
            "object_fit": null,
            "object_position": null,
            "order": null,
            "overflow": null,
            "overflow_x": null,
            "overflow_y": null,
            "padding": null,
            "right": null,
            "top": null,
            "visibility": null,
            "width": null
          }
        },
        "a10db2bb48184928a7d47c5bd9f17d6e": {
          "model_module": "@jupyter-widgets/controls",
          "model_name": "DescriptionStyleModel",
          "model_module_version": "1.5.0",
          "state": {
            "_model_module": "@jupyter-widgets/controls",
            "_model_module_version": "1.5.0",
            "_model_name": "DescriptionStyleModel",
            "_view_count": null,
            "_view_module": "@jupyter-widgets/base",
            "_view_module_version": "1.2.0",
            "_view_name": "StyleView",
            "description_width": ""
          }
        },
        "9d0e07a981b34636857f32e6f721b36c": {
          "model_module": "@jupyter-widgets/controls",
          "model_name": "HBoxModel",
          "model_module_version": "1.5.0",
          "state": {
            "_dom_classes": [],
            "_model_module": "@jupyter-widgets/controls",
            "_model_module_version": "1.5.0",
            "_model_name": "HBoxModel",
            "_view_count": null,
            "_view_module": "@jupyter-widgets/controls",
            "_view_module_version": "1.5.0",
            "_view_name": "HBoxView",
            "box_style": "",
            "children": [
              "IPY_MODEL_d36ae28574a741239dd0d63aa1dafb5b",
              "IPY_MODEL_0a17a40d2da841499cb526bc3ed9845a",
              "IPY_MODEL_d14c1d36f8cb44c8bf7f6cdc6b779dce"
            ],
            "layout": "IPY_MODEL_1ae6756067084136baff1a5e4b07aeeb"
          }
        },
        "d36ae28574a741239dd0d63aa1dafb5b": {
          "model_module": "@jupyter-widgets/controls",
          "model_name": "HTMLModel",
          "model_module_version": "1.5.0",
          "state": {
            "_dom_classes": [],
            "_model_module": "@jupyter-widgets/controls",
            "_model_module_version": "1.5.0",
            "_model_name": "HTMLModel",
            "_view_count": null,
            "_view_module": "@jupyter-widgets/controls",
            "_view_module_version": "1.5.0",
            "_view_name": "HTMLView",
            "description": "",
            "description_tooltip": null,
            "layout": "IPY_MODEL_cd66674b41d240ddbb4cca901ab55f81",
            "placeholder": "​",
            "style": "IPY_MODEL_ec5c347b392d45659a07ea6c89bab6d2",
            "value": "Downloading: 100%"
          }
        },
        "0a17a40d2da841499cb526bc3ed9845a": {
          "model_module": "@jupyter-widgets/controls",
          "model_name": "FloatProgressModel",
          "model_module_version": "1.5.0",
          "state": {
            "_dom_classes": [],
            "_model_module": "@jupyter-widgets/controls",
            "_model_module_version": "1.5.0",
            "_model_name": "FloatProgressModel",
            "_view_count": null,
            "_view_module": "@jupyter-widgets/controls",
            "_view_module_version": "1.5.0",
            "_view_name": "ProgressView",
            "bar_style": "success",
            "description": "",
            "description_tooltip": null,
            "layout": "IPY_MODEL_d76a8480f8cb4c0689b02731aa9499eb",
            "max": 1270925,
            "min": 0,
            "orientation": "horizontal",
            "style": "IPY_MODEL_7cf54ca11544465b9fa1527e82360e45",
            "value": 1270925
          }
        },
        "d14c1d36f8cb44c8bf7f6cdc6b779dce": {
          "model_module": "@jupyter-widgets/controls",
          "model_name": "HTMLModel",
          "model_module_version": "1.5.0",
          "state": {
            "_dom_classes": [],
            "_model_module": "@jupyter-widgets/controls",
            "_model_module_version": "1.5.0",
            "_model_name": "HTMLModel",
            "_view_count": null,
            "_view_module": "@jupyter-widgets/controls",
            "_view_module_version": "1.5.0",
            "_view_name": "HTMLView",
            "description": "",
            "description_tooltip": null,
            "layout": "IPY_MODEL_9d30ee63a4e848e8ab86d90614feb3ca",
            "placeholder": "​",
            "style": "IPY_MODEL_92eaa961f127498592b5059528cb1060",
            "value": " 1.27M/1.27M [00:00&lt;00:00, 2.05MB/s]"
          }
        },
        "1ae6756067084136baff1a5e4b07aeeb": {
          "model_module": "@jupyter-widgets/base",
          "model_name": "LayoutModel",
          "model_module_version": "1.2.0",
          "state": {
            "_model_module": "@jupyter-widgets/base",
            "_model_module_version": "1.2.0",
            "_model_name": "LayoutModel",
            "_view_count": null,
            "_view_module": "@jupyter-widgets/base",
            "_view_module_version": "1.2.0",
            "_view_name": "LayoutView",
            "align_content": null,
            "align_items": null,
            "align_self": null,
            "border": null,
            "bottom": null,
            "display": null,
            "flex": null,
            "flex_flow": null,
            "grid_area": null,
            "grid_auto_columns": null,
            "grid_auto_flow": null,
            "grid_auto_rows": null,
            "grid_column": null,
            "grid_gap": null,
            "grid_row": null,
            "grid_template_areas": null,
            "grid_template_columns": null,
            "grid_template_rows": null,
            "height": null,
            "justify_content": null,
            "justify_items": null,
            "left": null,
            "margin": null,
            "max_height": null,
            "max_width": null,
            "min_height": null,
            "min_width": null,
            "object_fit": null,
            "object_position": null,
            "order": null,
            "overflow": null,
            "overflow_x": null,
            "overflow_y": null,
            "padding": null,
            "right": null,
            "top": null,
            "visibility": null,
            "width": null
          }
        },
        "cd66674b41d240ddbb4cca901ab55f81": {
          "model_module": "@jupyter-widgets/base",
          "model_name": "LayoutModel",
          "model_module_version": "1.2.0",
          "state": {
            "_model_module": "@jupyter-widgets/base",
            "_model_module_version": "1.2.0",
            "_model_name": "LayoutModel",
            "_view_count": null,
            "_view_module": "@jupyter-widgets/base",
            "_view_module_version": "1.2.0",
            "_view_name": "LayoutView",
            "align_content": null,
            "align_items": null,
            "align_self": null,
            "border": null,
            "bottom": null,
            "display": null,
            "flex": null,
            "flex_flow": null,
            "grid_area": null,
            "grid_auto_columns": null,
            "grid_auto_flow": null,
            "grid_auto_rows": null,
            "grid_column": null,
            "grid_gap": null,
            "grid_row": null,
            "grid_template_areas": null,
            "grid_template_columns": null,
            "grid_template_rows": null,
            "height": null,
            "justify_content": null,
            "justify_items": null,
            "left": null,
            "margin": null,
            "max_height": null,
            "max_width": null,
            "min_height": null,
            "min_width": null,
            "object_fit": null,
            "object_position": null,
            "order": null,
            "overflow": null,
            "overflow_x": null,
            "overflow_y": null,
            "padding": null,
            "right": null,
            "top": null,
            "visibility": null,
            "width": null
          }
        },
        "ec5c347b392d45659a07ea6c89bab6d2": {
          "model_module": "@jupyter-widgets/controls",
          "model_name": "DescriptionStyleModel",
          "model_module_version": "1.5.0",
          "state": {
            "_model_module": "@jupyter-widgets/controls",
            "_model_module_version": "1.5.0",
            "_model_name": "DescriptionStyleModel",
            "_view_count": null,
            "_view_module": "@jupyter-widgets/base",
            "_view_module_version": "1.2.0",
            "_view_name": "StyleView",
            "description_width": ""
          }
        },
        "d76a8480f8cb4c0689b02731aa9499eb": {
          "model_module": "@jupyter-widgets/base",
          "model_name": "LayoutModel",
          "model_module_version": "1.2.0",
          "state": {
            "_model_module": "@jupyter-widgets/base",
            "_model_module_version": "1.2.0",
            "_model_name": "LayoutModel",
            "_view_count": null,
            "_view_module": "@jupyter-widgets/base",
            "_view_module_version": "1.2.0",
            "_view_name": "LayoutView",
            "align_content": null,
            "align_items": null,
            "align_self": null,
            "border": null,
            "bottom": null,
            "display": null,
            "flex": null,
            "flex_flow": null,
            "grid_area": null,
            "grid_auto_columns": null,
            "grid_auto_flow": null,
            "grid_auto_rows": null,
            "grid_column": null,
            "grid_gap": null,
            "grid_row": null,
            "grid_template_areas": null,
            "grid_template_columns": null,
            "grid_template_rows": null,
            "height": null,
            "justify_content": null,
            "justify_items": null,
            "left": null,
            "margin": null,
            "max_height": null,
            "max_width": null,
            "min_height": null,
            "min_width": null,
            "object_fit": null,
            "object_position": null,
            "order": null,
            "overflow": null,
            "overflow_x": null,
            "overflow_y": null,
            "padding": null,
            "right": null,
            "top": null,
            "visibility": null,
            "width": null
          }
        },
        "7cf54ca11544465b9fa1527e82360e45": {
          "model_module": "@jupyter-widgets/controls",
          "model_name": "ProgressStyleModel",
          "model_module_version": "1.5.0",
          "state": {
            "_model_module": "@jupyter-widgets/controls",
            "_model_module_version": "1.5.0",
            "_model_name": "ProgressStyleModel",
            "_view_count": null,
            "_view_module": "@jupyter-widgets/base",
            "_view_module_version": "1.2.0",
            "_view_name": "StyleView",
            "bar_color": null,
            "description_width": ""
          }
        },
        "9d30ee63a4e848e8ab86d90614feb3ca": {
          "model_module": "@jupyter-widgets/base",
          "model_name": "LayoutModel",
          "model_module_version": "1.2.0",
          "state": {
            "_model_module": "@jupyter-widgets/base",
            "_model_module_version": "1.2.0",
            "_model_name": "LayoutModel",
            "_view_count": null,
            "_view_module": "@jupyter-widgets/base",
            "_view_module_version": "1.2.0",
            "_view_name": "LayoutView",
            "align_content": null,
            "align_items": null,
            "align_self": null,
            "border": null,
            "bottom": null,
            "display": null,
            "flex": null,
            "flex_flow": null,
            "grid_area": null,
            "grid_auto_columns": null,
            "grid_auto_flow": null,
            "grid_auto_rows": null,
            "grid_column": null,
            "grid_gap": null,
            "grid_row": null,
            "grid_template_areas": null,
            "grid_template_columns": null,
            "grid_template_rows": null,
            "height": null,
            "justify_content": null,
            "justify_items": null,
            "left": null,
            "margin": null,
            "max_height": null,
            "max_width": null,
            "min_height": null,
            "min_width": null,
            "object_fit": null,
            "object_position": null,
            "order": null,
            "overflow": null,
            "overflow_x": null,
            "overflow_y": null,
            "padding": null,
            "right": null,
            "top": null,
            "visibility": null,
            "width": null
          }
        },
        "92eaa961f127498592b5059528cb1060": {
          "model_module": "@jupyter-widgets/controls",
          "model_name": "DescriptionStyleModel",
          "model_module_version": "1.5.0",
          "state": {
            "_model_module": "@jupyter-widgets/controls",
            "_model_module_version": "1.5.0",
            "_model_name": "DescriptionStyleModel",
            "_view_count": null,
            "_view_module": "@jupyter-widgets/base",
            "_view_module_version": "1.2.0",
            "_view_name": "StyleView",
            "description_width": ""
          }
        },
        "7cc4239ef1d847059d5cca792cdea5fe": {
          "model_module": "@jupyter-widgets/controls",
          "model_name": "HBoxModel",
          "model_module_version": "1.5.0",
          "state": {
            "_dom_classes": [],
            "_model_module": "@jupyter-widgets/controls",
            "_model_module_version": "1.5.0",
            "_model_name": "HBoxModel",
            "_view_count": null,
            "_view_module": "@jupyter-widgets/controls",
            "_view_module_version": "1.5.0",
            "_view_name": "HBoxView",
            "box_style": "",
            "children": [
              "IPY_MODEL_d79252d656854ac690a08e9707be5b64",
              "IPY_MODEL_1341b1c6a3d84fd8b8eb0dc142261976",
              "IPY_MODEL_8231564942f64e23b2efc7982860c0b7"
            ],
            "layout": "IPY_MODEL_d694b6ff30ff4b7aa97da464b584e424"
          }
        },
        "d79252d656854ac690a08e9707be5b64": {
          "model_module": "@jupyter-widgets/controls",
          "model_name": "HTMLModel",
          "model_module_version": "1.5.0",
          "state": {
            "_dom_classes": [],
            "_model_module": "@jupyter-widgets/controls",
            "_model_module_version": "1.5.0",
            "_model_name": "HTMLModel",
            "_view_count": null,
            "_view_module": "@jupyter-widgets/controls",
            "_view_module_version": "1.5.0",
            "_view_name": "HTMLView",
            "description": "",
            "description_tooltip": null,
            "layout": "IPY_MODEL_11e68f0b26d84ab9afa121d84ead85a0",
            "placeholder": "​",
            "style": "IPY_MODEL_5b19b87145814f07a9f450e992f522d3",
            "value": "Downloading: 100%"
          }
        },
        "1341b1c6a3d84fd8b8eb0dc142261976": {
          "model_module": "@jupyter-widgets/controls",
          "model_name": "FloatProgressModel",
          "model_module_version": "1.5.0",
          "state": {
            "_dom_classes": [],
            "_model_module": "@jupyter-widgets/controls",
            "_model_module_version": "1.5.0",
            "_model_name": "FloatProgressModel",
            "_view_count": null,
            "_view_module": "@jupyter-widgets/controls",
            "_view_module_version": "1.5.0",
            "_view_name": "ProgressView",
            "bar_style": "success",
            "description": "",
            "description_tooltip": null,
            "layout": "IPY_MODEL_24fbb8bebeb34ec9a158faa944ef85ea",
            "max": 551290714,
            "min": 0,
            "orientation": "horizontal",
            "style": "IPY_MODEL_ea36318e09a74fbabd72e45375af22cf",
            "value": 551290714
          }
        },
        "8231564942f64e23b2efc7982860c0b7": {
          "model_module": "@jupyter-widgets/controls",
          "model_name": "HTMLModel",
          "model_module_version": "1.5.0",
          "state": {
            "_dom_classes": [],
            "_model_module": "@jupyter-widgets/controls",
            "_model_module_version": "1.5.0",
            "_model_name": "HTMLModel",
            "_view_count": null,
            "_view_module": "@jupyter-widgets/controls",
            "_view_module_version": "1.5.0",
            "_view_name": "HTMLView",
            "description": "",
            "description_tooltip": null,
            "layout": "IPY_MODEL_155a11bf3331491ab4aece1f39aaf681",
            "placeholder": "​",
            "style": "IPY_MODEL_3ec18408393d4bad8be4b951a2b4f7bc",
            "value": " 551M/551M [00:13&lt;00:00, 64.6MB/s]"
          }
        },
        "d694b6ff30ff4b7aa97da464b584e424": {
          "model_module": "@jupyter-widgets/base",
          "model_name": "LayoutModel",
          "model_module_version": "1.2.0",
          "state": {
            "_model_module": "@jupyter-widgets/base",
            "_model_module_version": "1.2.0",
            "_model_name": "LayoutModel",
            "_view_count": null,
            "_view_module": "@jupyter-widgets/base",
            "_view_module_version": "1.2.0",
            "_view_name": "LayoutView",
            "align_content": null,
            "align_items": null,
            "align_self": null,
            "border": null,
            "bottom": null,
            "display": null,
            "flex": null,
            "flex_flow": null,
            "grid_area": null,
            "grid_auto_columns": null,
            "grid_auto_flow": null,
            "grid_auto_rows": null,
            "grid_column": null,
            "grid_gap": null,
            "grid_row": null,
            "grid_template_areas": null,
            "grid_template_columns": null,
            "grid_template_rows": null,
            "height": null,
            "justify_content": null,
            "justify_items": null,
            "left": null,
            "margin": null,
            "max_height": null,
            "max_width": null,
            "min_height": null,
            "min_width": null,
            "object_fit": null,
            "object_position": null,
            "order": null,
            "overflow": null,
            "overflow_x": null,
            "overflow_y": null,
            "padding": null,
            "right": null,
            "top": null,
            "visibility": null,
            "width": null
          }
        },
        "11e68f0b26d84ab9afa121d84ead85a0": {
          "model_module": "@jupyter-widgets/base",
          "model_name": "LayoutModel",
          "model_module_version": "1.2.0",
          "state": {
            "_model_module": "@jupyter-widgets/base",
            "_model_module_version": "1.2.0",
            "_model_name": "LayoutModel",
            "_view_count": null,
            "_view_module": "@jupyter-widgets/base",
            "_view_module_version": "1.2.0",
            "_view_name": "LayoutView",
            "align_content": null,
            "align_items": null,
            "align_self": null,
            "border": null,
            "bottom": null,
            "display": null,
            "flex": null,
            "flex_flow": null,
            "grid_area": null,
            "grid_auto_columns": null,
            "grid_auto_flow": null,
            "grid_auto_rows": null,
            "grid_column": null,
            "grid_gap": null,
            "grid_row": null,
            "grid_template_areas": null,
            "grid_template_columns": null,
            "grid_template_rows": null,
            "height": null,
            "justify_content": null,
            "justify_items": null,
            "left": null,
            "margin": null,
            "max_height": null,
            "max_width": null,
            "min_height": null,
            "min_width": null,
            "object_fit": null,
            "object_position": null,
            "order": null,
            "overflow": null,
            "overflow_x": null,
            "overflow_y": null,
            "padding": null,
            "right": null,
            "top": null,
            "visibility": null,
            "width": null
          }
        },
        "5b19b87145814f07a9f450e992f522d3": {
          "model_module": "@jupyter-widgets/controls",
          "model_name": "DescriptionStyleModel",
          "model_module_version": "1.5.0",
          "state": {
            "_model_module": "@jupyter-widgets/controls",
            "_model_module_version": "1.5.0",
            "_model_name": "DescriptionStyleModel",
            "_view_count": null,
            "_view_module": "@jupyter-widgets/base",
            "_view_module_version": "1.2.0",
            "_view_name": "StyleView",
            "description_width": ""
          }
        },
        "24fbb8bebeb34ec9a158faa944ef85ea": {
          "model_module": "@jupyter-widgets/base",
          "model_name": "LayoutModel",
          "model_module_version": "1.2.0",
          "state": {
            "_model_module": "@jupyter-widgets/base",
            "_model_module_version": "1.2.0",
            "_model_name": "LayoutModel",
            "_view_count": null,
            "_view_module": "@jupyter-widgets/base",
            "_view_module_version": "1.2.0",
            "_view_name": "LayoutView",
            "align_content": null,
            "align_items": null,
            "align_self": null,
            "border": null,
            "bottom": null,
            "display": null,
            "flex": null,
            "flex_flow": null,
            "grid_area": null,
            "grid_auto_columns": null,
            "grid_auto_flow": null,
            "grid_auto_rows": null,
            "grid_column": null,
            "grid_gap": null,
            "grid_row": null,
            "grid_template_areas": null,
            "grid_template_columns": null,
            "grid_template_rows": null,
            "height": null,
            "justify_content": null,
            "justify_items": null,
            "left": null,
            "margin": null,
            "max_height": null,
            "max_width": null,
            "min_height": null,
            "min_width": null,
            "object_fit": null,
            "object_position": null,
            "order": null,
            "overflow": null,
            "overflow_x": null,
            "overflow_y": null,
            "padding": null,
            "right": null,
            "top": null,
            "visibility": null,
            "width": null
          }
        },
        "ea36318e09a74fbabd72e45375af22cf": {
          "model_module": "@jupyter-widgets/controls",
          "model_name": "ProgressStyleModel",
          "model_module_version": "1.5.0",
          "state": {
            "_model_module": "@jupyter-widgets/controls",
            "_model_module_version": "1.5.0",
            "_model_name": "ProgressStyleModel",
            "_view_count": null,
            "_view_module": "@jupyter-widgets/base",
            "_view_module_version": "1.2.0",
            "_view_name": "StyleView",
            "bar_color": null,
            "description_width": ""
          }
        },
        "155a11bf3331491ab4aece1f39aaf681": {
          "model_module": "@jupyter-widgets/base",
          "model_name": "LayoutModel",
          "model_module_version": "1.2.0",
          "state": {
            "_model_module": "@jupyter-widgets/base",
            "_model_module_version": "1.2.0",
            "_model_name": "LayoutModel",
            "_view_count": null,
            "_view_module": "@jupyter-widgets/base",
            "_view_module_version": "1.2.0",
            "_view_name": "LayoutView",
            "align_content": null,
            "align_items": null,
            "align_self": null,
            "border": null,
            "bottom": null,
            "display": null,
            "flex": null,
            "flex_flow": null,
            "grid_area": null,
            "grid_auto_columns": null,
            "grid_auto_flow": null,
            "grid_auto_rows": null,
            "grid_column": null,
            "grid_gap": null,
            "grid_row": null,
            "grid_template_areas": null,
            "grid_template_columns": null,
            "grid_template_rows": null,
            "height": null,
            "justify_content": null,
            "justify_items": null,
            "left": null,
            "margin": null,
            "max_height": null,
            "max_width": null,
            "min_height": null,
            "min_width": null,
            "object_fit": null,
            "object_position": null,
            "order": null,
            "overflow": null,
            "overflow_x": null,
            "overflow_y": null,
            "padding": null,
            "right": null,
            "top": null,
            "visibility": null,
            "width": null
          }
        },
        "3ec18408393d4bad8be4b951a2b4f7bc": {
          "model_module": "@jupyter-widgets/controls",
          "model_name": "DescriptionStyleModel",
          "model_module_version": "1.5.0",
          "state": {
            "_model_module": "@jupyter-widgets/controls",
            "_model_module_version": "1.5.0",
            "_model_name": "DescriptionStyleModel",
            "_view_count": null,
            "_view_module": "@jupyter-widgets/base",
            "_view_module_version": "1.2.0",
            "_view_name": "StyleView",
            "description_width": ""
          }
        }
      }
    }
  },
  "cells": [
    {
      "cell_type": "markdown",
      "metadata": {
        "id": "view-in-github",
        "colab_type": "text"
      },
      "source": [
        "<a href=\"https://colab.research.google.com/github/dave502/NLP/blob/main/%20lesson_14/nlp_hw_14.ipynb\" target=\"_parent\"><img src=\"https://colab.research.google.com/assets/colab-badge.svg\" alt=\"Open In Colab\"/></a>"
      ]
    },
    {
      "cell_type": "code",
      "source": [
        "%%capture\n",
        "!pip install transformers"
      ],
      "metadata": {
        "colab": {
          "base_uri": "https://localhost:8080/",
          "height": 17
        },
        "id": "mZHLqdQbQT7_",
        "outputId": "8bf2cba7-ee1a-4759-bfed-5aef1915826b"
      },
      "execution_count": null,
      "outputs": [
        {
          "output_type": "display_data",
          "data": {
            "text/plain": [
              "<IPython.core.display.HTML object>"
            ],
            "text/html": [
              "<style>pre{white-space: pre-wrap;}</style>"
            ]
          },
          "metadata": {}
        }
      ]
    },
    {
      "cell_type": "code",
      "source": [
        "import json\n",
        "import re\n",
        "import random\n",
        "from transformers import AutoTokenizer, AutoModelForCausalLM, DataCollatorForLanguageModeling, Trainer, TrainingArguments, TextDataset\n",
        "import torch\n",
        "from sklearn.model_selection import train_test_split"
      ],
      "metadata": {
        "colab": {
          "base_uri": "https://localhost:8080/",
          "height": 17
        },
        "id": "Et_UoGG0GE-j",
        "outputId": "850b452e-8779-4a44-a157-f700a51a3fdc"
      },
      "execution_count": null,
      "outputs": [
        {
          "output_type": "display_data",
          "data": {
            "text/plain": [
              "<IPython.core.display.HTML object>"
            ],
            "text/html": [
              "<style>pre{white-space: pre-wrap;}</style>"
            ]
          },
          "metadata": {}
        }
      ]
    },
    {
      "cell_type": "code",
      "source": [
        "device = torch.device(\"cuda\") if torch.cuda.is_available() else torch.device(\"cpu\")"
      ],
      "metadata": {
        "colab": {
          "base_uri": "https://localhost:8080/",
          "height": 17
        },
        "id": "CGfDjMadRG6M",
        "outputId": "0446e4b6-b272-413a-e50a-70e136ab139b"
      },
      "execution_count": null,
      "outputs": [
        {
          "output_type": "display_data",
          "data": {
            "text/plain": [
              "<IPython.core.display.HTML object>"
            ],
            "text/html": [
              "<style>pre{white-space: pre-wrap;}</style>"
            ]
          },
          "metadata": {}
        }
      ]
    },
    {
      "cell_type": "markdown",
      "source": [
        "###Обучение GPT"
      ],
      "metadata": {
        "id": "OtGKeis8TUzP"
      }
    },
    {
      "cell_type": "markdown",
      "source": [
        "#####Загрузка данных"
      ],
      "metadata": {
        "id": "ZWld_xFLc6zC"
      }
    },
    {
      "cell_type": "code",
      "execution_count": null,
      "metadata": {
        "id": "H-6SY7cPC1h2"
      },
      "outputs": [],
      "source": [
        "%%capture\n",
        "!rm archive_bashim.zip\n",
        "!rm dataset.jsonl\n",
        "!wget https://www.dropbox.com/s/670ij0wukat9ynz/archive_bashim.zip\n",
        "!unzip archive_bashim.zip\n",
        "!rm archive_bashim.zip"
      ]
    },
    {
      "cell_type": "code",
      "source": [
        "!ls"
      ],
      "metadata": {
        "colab": {
          "base_uri": "https://localhost:8080/"
        },
        "id": "Nx0e117cFxSe",
        "outputId": "07746c68-b2ea-470d-f79d-be153428c7db"
      },
      "execution_count": null,
      "outputs": [
        {
          "output_type": "stream",
          "name": "stdout",
          "text": [
            "dataset.jsonl  sample_data\n"
          ]
        }
      ]
    },
    {
      "cell_type": "code",
      "source": [
        "!head -n 3 dataset.jsonl"
      ],
      "metadata": {
        "colab": {
          "base_uri": "https://localhost:8080/"
        },
        "id": "J3CrZ2U1HvIP",
        "outputId": "b0a56db3-fb89-47b6-ada1-947f41276933"
      },
      "execution_count": null,
      "outputs": [
        {
          "output_type": "stream",
          "name": "stdout",
          "text": [
            "{\"id\":1,\"date\":\"2004-08-30T11:24:00Z\",\"rating\":22010,\"text\":\"<Ares> ppdv, все юниксы очень дружелюбны.. они просто очень разборчивы в друзьях ;)\"}\n",
            "{\"id\":2,\"date\":\"2004-08-30T11:25:00Z\",\"rating\":25105,\"text\":\"<томатик_рад> а ты не чувствуешь красоту мира?\\n<fox> честно говоря, я сейчас чувствую только отсутствие http.\\n<томатик_рад> не туда смотришь, глянь вокруг!\\n<fox> как я гляну, если http не работает? :/\"}\n",
            "{\"id\":3,\"date\":\"2004-08-30T11:27:00Z\",\"rating\":7192,\"text\":\"<Дор> \\\"мышка, почему у тебя такие большие глаза?\\\" УЙДИ!!! я ХАРАКИРИ делаю!!!!!!\"}\n"
          ]
        }
      ]
    },
    {
      "cell_type": "code",
      "source": [
        "quotes = []\n",
        "with open('dataset.jsonl') as file:\n",
        "  for line in file:\n",
        "    quote_dict = json.loads(line)\n",
        "    quotes.append(quote_dict.get('text'))\n",
        "\n",
        "print(len(quotes))\n",
        "print(*quotes[:3]) "
      ],
      "metadata": {
        "colab": {
          "base_uri": "https://localhost:8080/"
        },
        "id": "mYHguuA4F-3A",
        "outputId": "fcc86ac8-a98a-4fe6-a47f-50409ee23002"
      },
      "execution_count": null,
      "outputs": [
        {
          "output_type": "stream",
          "name": "stdout",
          "text": [
            "81497\n",
            "<Ares> ppdv, все юниксы очень дружелюбны.. они просто очень разборчивы в друзьях ;) <томатик_рад> а ты не чувствуешь красоту мира?\n",
            "<fox> честно говоря, я сейчас чувствую только отсутствие http.\n",
            "<томатик_рад> не туда смотришь, глянь вокруг!\n",
            "<fox> как я гляну, если http не работает? :/ <Дор> \"мышка, почему у тебя такие большие глаза?\" УЙДИ!!! я ХАРАКИРИ делаю!!!!!!\n"
          ]
        }
      ]
    },
    {
      "cell_type": "markdown",
      "source": [
        "#####Предобаботка данных"
      ],
      "metadata": {
        "id": "GPJNbFXSdA9I"
      }
    },
    {
      "cell_type": "code",
      "source": [
        "# удаляются только имена юзеров\n",
        "def preprocessing(text_lines:list, sep:str='')->list:\n",
        "  \"\"\"\n",
        "  функция педобработки данных\n",
        "  \"\"\"  \n",
        "  # регулярное выражение для очистки текста\n",
        "  #url_pattern = \"(http|ftp|https):\\/\\/([\\w_-]+(?:(?:\\.[\\w_-]+)+))([\\w.,@?^=%&:\\/~+#-]*[\\w@?^=%&\\/~+#-])\"\n",
        "  #smile_pattern = \"(:D|D:)\"\n",
        "  usernames_pattern = \"(<[\\w]*>)\"\n",
        "  #onlywords_pattern = \"[^\\w\\b]|[^A-Za-zА-ЯЁа-яё]\"\n",
        "  pattern = f\"{usernames_pattern}\" # |{url_pattern}|{smile_pattern}|{onlywords_pattern}\n",
        "\n",
        "  preprocessed = [re.sub(pattern, ' ', line) for line in text_lines]\n",
        "  preprocessed = [(re.sub(r'\\s+', ' ', line)+sep).lstrip() for line in preprocessed]\n",
        "\n",
        "  return preprocessed"
      ],
      "metadata": {
        "id": "7sOAAA5CGWPq"
      },
      "execution_count": null,
      "outputs": []
    },
    {
      "cell_type": "code",
      "source": [
        "sep = '\\n***\\n'\n",
        "data = preprocessing(quotes, sep)\n",
        "print(*data[:3])"
      ],
      "metadata": {
        "colab": {
          "base_uri": "https://localhost:8080/"
        },
        "id": "JuOWosqgKGFh",
        "outputId": "a8e21dcd-1257-4b1c-f165-d1ab240fd4c9"
      },
      "execution_count": null,
      "outputs": [
        {
          "output_type": "stream",
          "name": "stdout",
          "text": [
            "ppdv, все юниксы очень дружелюбны.. они просто очень разборчивы в друзьях ;)\n",
            "***\n",
            " а ты не чувствуешь красоту мира? честно говоря, я сейчас чувствую только отсутствие http. не туда смотришь, глянь вокруг! как я гляну, если http не работает? :/\n",
            "***\n",
            " \"мышка, почему у тебя такие большие глаза?\" УЙДИ!!! я ХАРАКИРИ делаю!!!!!!\n",
            "***\n",
            "\n"
          ]
        }
      ]
    },
    {
      "cell_type": "code",
      "source": [
        "# список цитат - в один текст\n",
        "prefix_len = 10\n",
        "prefix = sep + ''.join(random.sample(data, prefix_len))\n",
        "print(prefix)"
      ],
      "metadata": {
        "colab": {
          "base_uri": "https://localhost:8080/"
        },
        "id": "AdDzXZcBLIHD",
        "outputId": "aae3dc96-459f-4a4f-bac8-99e02dfe366c"
      },
      "execution_count": null,
      "outputs": [
        {
          "output_type": "stream",
          "name": "stdout",
          "text": [
            "\n",
            "***\n",
            "Произнеси наоборот \"Аргентина манит негра\" э... \"негр манит аргентину\"? о_0\n",
            "***\n",
            "Товарищ: знакомая понесла свою кошку в ветеринарку.. думала её операцию сделать чтобы по весне та не хотела.. Товарищ: уже оперировать собрались, а это оказался кастрированный кот О_о\n",
            "***\n",
            "B@nshee - Сегодня отправил столько бумажных писем, что чувствую себя спамером-старовером...\n",
            "***\n",
            "Работаю в достаточно большой компании ИТшником, большая часть пользователей - девушки и женщины, зоны ответственности очень сильно разграничены и обычно с странными запросами не приходят. Я никогда не рассчитывал на запрос начинающийся со слов: Вы знаете, мы тут на 4 этаж аквариум купили, не могли бы вы нам помочь...\n",
            "***\n",
            "apelsinka (15:15:04 11/02/2008) хороший, у нас на проходной то же такой бегает, только попушистей и морда такая добродушная, я ему сосиски ношу, так он меня теперь узнаёт и играет со мной Лёха (15:16:10 11/02/2008) блин лучше бы ты мне сосиски носила я бы с тобой тоже играл........\n",
            "***\n",
            "xxx: Знакомые знакомых назвали дочку Ария. Я вот думаю - они то ли русского рока поклонники, то ли оперы.\n",
            "***\n",
            "SG> Голуби весь балкон засрали, пипец задолбался оттирать. AK> Надо убить парочку, пристрелить например, и повесить прям на балконе. Их это типа напугает, инстинкт такой. Потом даж если жратвы им навалишь, хер прилетят. Кстати на большинстве зверей работает, ВЕСЧЬ однако. SG> Зашибись. На балконе - гнилые голуби, на кухне тухнут под потолком крысы, в спальне мыши, на лестнице парочка гоповатых подростков...\n",
            "***\n",
            "Форум Амперка: xxx:Два резистора ставят максимально близко к вилке и подальше от основной схемы чтобы при включении человека в цепь не убило током yyy: А с чего человека должно током убить? Он что голыми руками схему держать будет? Это называется несоблюдение или не знание техники безопасности при работе с электрооборудованием xxx: Можно это называть как угодно, но я не раз видел как люди на форуме после вопроса про 220В больше не появлялись\n",
            "***\n",
            ">> Клатч - тоже мусор Так-то вообще всё мусор. Что-то сразу, что-то в перспективе, что-то био.\n",
            "***\n",
            "J!M: А ви - ах*енный редактор ? Kasmanaft: Я - да. А vi - тебе не понравеццо\n",
            "***\n",
            "\n"
          ]
        }
      ]
    },
    {
      "cell_type": "markdown",
      "source": [
        "Инициализация моделей"
      ],
      "metadata": {
        "id": "U5VmdytidZxo"
      }
    },
    {
      "cell_type": "code",
      "source": [
        "model_name = 'sberbank-ai/rugpt3small_based_on_gpt2'\n",
        "tokenizer = AutoTokenizer.from_pretrained(model_name, padding_side='left')\n",
        "model = AutoModelForCausalLM.from_pretrained(model_name).to(device)"
      ],
      "metadata": {
        "colab": {
          "base_uri": "https://localhost:8080/",
          "height": 163,
          "referenced_widgets": [
            "319fdbd16e2f46eeb51dcbaabf8144f2",
            "393a92d6ae124e8eb6cf7603a6676bde",
            "9eb3a21c4cda49979cf56ab753baacf3",
            "6cde285772eb479385717a958522705f",
            "0473fa507e70416fb02bf55f6cf307c1",
            "986b7f4cca004ad88aecf3b5247bf67a",
            "0d4b7d7a073a4955b371049b87740e89",
            "84e961414648497baef714a81e1f00a2",
            "cb349f8cd222463595326303c96df1c4",
            "541ca274ad56429daadd3c609b9ccd42",
            "4f0a658c17cf4520b6bdaeaf8d64be3d",
            "887dbf2c57a042e798081bc3e4f7b8e3",
            "10c7dd5665834eb0bcb22ec7bec8ac0c",
            "c0661d5c5fd34efbb8bd5de9fdeffd58",
            "160239bf43114030b9c99e192cd64b83",
            "8636582c61c54146ae78b6f357bca3c6",
            "f369b67386274ac48a533c1e833d714a",
            "4b0e9ca5ca85413b8ddec5de530e7892",
            "4630004b902a4f51b9bce6aecc292649",
            "18746bdb475a4c7cba2d98787bd82d27",
            "198d17280a5f47ba83b2cb8e7d5e1336",
            "a10db2bb48184928a7d47c5bd9f17d6e",
            "9d0e07a981b34636857f32e6f721b36c",
            "d36ae28574a741239dd0d63aa1dafb5b",
            "0a17a40d2da841499cb526bc3ed9845a",
            "d14c1d36f8cb44c8bf7f6cdc6b779dce",
            "1ae6756067084136baff1a5e4b07aeeb",
            "cd66674b41d240ddbb4cca901ab55f81",
            "ec5c347b392d45659a07ea6c89bab6d2",
            "d76a8480f8cb4c0689b02731aa9499eb",
            "7cf54ca11544465b9fa1527e82360e45",
            "9d30ee63a4e848e8ab86d90614feb3ca",
            "92eaa961f127498592b5059528cb1060",
            "7cc4239ef1d847059d5cca792cdea5fe",
            "d79252d656854ac690a08e9707be5b64",
            "1341b1c6a3d84fd8b8eb0dc142261976",
            "8231564942f64e23b2efc7982860c0b7",
            "d694b6ff30ff4b7aa97da464b584e424",
            "11e68f0b26d84ab9afa121d84ead85a0",
            "5b19b87145814f07a9f450e992f522d3",
            "24fbb8bebeb34ec9a158faa944ef85ea",
            "ea36318e09a74fbabd72e45375af22cf",
            "155a11bf3331491ab4aece1f39aaf681",
            "3ec18408393d4bad8be4b951a2b4f7bc"
          ]
        },
        "id": "jYCFd473QGPg",
        "outputId": "a545fbe8-b2ee-4b9f-ce96-c175673c57c2"
      },
      "execution_count": null,
      "outputs": [
        {
          "output_type": "display_data",
          "data": {
            "text/plain": [
              "Downloading:   0%|          | 0.00/608 [00:00<?, ?B/s]"
            ],
            "application/vnd.jupyter.widget-view+json": {
              "version_major": 2,
              "version_minor": 0,
              "model_id": "319fdbd16e2f46eeb51dcbaabf8144f2"
            }
          },
          "metadata": {}
        },
        {
          "output_type": "display_data",
          "data": {
            "text/plain": [
              "Downloading:   0%|          | 0.00/1.71M [00:00<?, ?B/s]"
            ],
            "application/vnd.jupyter.widget-view+json": {
              "version_major": 2,
              "version_minor": 0,
              "model_id": "887dbf2c57a042e798081bc3e4f7b8e3"
            }
          },
          "metadata": {}
        },
        {
          "output_type": "display_data",
          "data": {
            "text/plain": [
              "Downloading:   0%|          | 0.00/1.27M [00:00<?, ?B/s]"
            ],
            "application/vnd.jupyter.widget-view+json": {
              "version_major": 2,
              "version_minor": 0,
              "model_id": "9d0e07a981b34636857f32e6f721b36c"
            }
          },
          "metadata": {}
        },
        {
          "output_type": "stream",
          "name": "stderr",
          "text": [
            "Special tokens have been added in the vocabulary, make sure the associated word embeddings are fine-tuned or trained.\n"
          ]
        },
        {
          "output_type": "display_data",
          "data": {
            "text/plain": [
              "Downloading:   0%|          | 0.00/551M [00:00<?, ?B/s]"
            ],
            "application/vnd.jupyter.widget-view+json": {
              "version_major": 2,
              "version_minor": 0,
              "model_id": "7cc4239ef1d847059d5cca792cdea5fe"
            }
          },
          "metadata": {}
        }
      ]
    },
    {
      "cell_type": "markdown",
      "source": [
        "Токенизация текста"
      ],
      "metadata": {
        "id": "2uY5Mwrkdg5R"
      }
    },
    {
      "cell_type": "code",
      "source": [
        "tokens = tokenizer(prefix, return_tensors='pt')\n",
        "tokens = {k: v.to(model.device) for k,v in tokens.items()}\n",
        "eos_token_id = tokenizer.encode(sep)[0]"
      ],
      "metadata": {
        "id": "1990FuWuRiYP"
      },
      "execution_count": null,
      "outputs": []
    },
    {
      "cell_type": "markdown",
      "source": [
        "Генерация текста без дополнительного обучения модели"
      ],
      "metadata": {
        "id": "1rQoOhY7dkkq"
      }
    },
    {
      "cell_type": "code",
      "source": [
        "length = tokens['input_ids'].shape[1]\n",
        "\n",
        "output = model.generate(**tokens,\n",
        "                        eos_token_id=eos_token_id,\n",
        "                        do_sample=False,\n",
        "                        max_length=length+64,\n",
        "                        repetition_penalty=2.,\n",
        "                        temperature=50,\n",
        "                        num_beams=1)\n",
        "decoded = tokenizer.decode(output[0])\n",
        "result = decoded[len(prefix):]\n",
        "print(result)"
      ],
      "metadata": {
        "colab": {
          "base_uri": "https://localhost:8080/"
        },
        "id": "dPcLbgbTSb94",
        "outputId": "22d2890b-2328-4d6e-b6db-47dcf6bfbc3a"
      },
      "execution_count": null,
      "outputs": [
        {
          "output_type": "stream",
          "name": "stderr",
          "text": [
            "Setting `pad_token_id` to `eos_token_id`:203 for open-end generation.\n",
            "A decoder-only architecture is being used, but right-padding was detected! For correct generation results, please set `padding_side='left'` when initializing the tokenizer.\n"
          ]
        },
        {
          "output_type": "stream",
          "name": "stdout",
          "text": [
            "ustice(141): Нуууу....я просто хочу сказать спасибо за помощь ^__~ *kisses's baggage** kashinenko :))))) jessiehlikova @ mailru   \n",
            " *** JAKINOVEYN\n"
          ]
        }
      ]
    },
    {
      "cell_type": "markdown",
      "source": [
        "#####Дообучение модели"
      ],
      "metadata": {
        "id": "acu_lTysdqXR"
      }
    },
    {
      "cell_type": "code",
      "source": [
        "data_collator = DataCollatorForLanguageModeling(tokenizer, mlm=False)\n",
        "training_arguments = TrainingArguments(\n",
        "    output_dir='gpt2_trainig',\n",
        "    overwrite_output_dir=True,\n",
        "    num_train_epochs=3,\n",
        "    per_device_train_batch_size=4,\n",
        "    per_device_eval_batch_size=4,\n",
        "    eval_steps=400,\n",
        "    save_steps=800,\n",
        "    warmup_steps=500\n",
        "    ) "
      ],
      "metadata": {
        "id": "HIEzYB9gd78f"
      },
      "execution_count": null,
      "outputs": []
    },
    {
      "cell_type": "markdown",
      "source": [
        "Запись обучающих и валидационных данных в отдельные файлы и формирования из них датасетов"
      ],
      "metadata": {
        "id": "XJYjNnx9d2XU"
      }
    },
    {
      "cell_type": "code",
      "source": [
        "train_size = int(len(quotes) * 0.9)\n",
        "train_file_name = 'train_file'\n",
        "valid_file_name = 'valid_file'\n",
        "\n",
        "train_dataset_list = preprocessing(quotes[:train_size], sep)\n",
        "train_dataset = sep + ''.join(train_dataset_list)\n",
        "with open(train_file_name, 'w') as train_file:\n",
        "  train_file.write(train_dataset)\n",
        "train_dataset = TextDataset(\n",
        "          tokenizer=tokenizer,\n",
        "          file_path=train_file_name,\n",
        "          block_size=128)\n",
        "\n",
        "val_dataset_list = preprocessing(quotes[train_size:], sep)\n",
        "val_dataset = sep + ''.join(val_dataset_list)\n",
        "with open(valid_file_name, 'w') as valid_file:\n",
        "  valid_file.write(val_dataset)\n",
        "val_dataset = TextDataset(\n",
        "          tokenizer=tokenizer,\n",
        "          file_path=valid_file_name,\n",
        "          block_size=128)"
      ],
      "metadata": {
        "colab": {
          "base_uri": "https://localhost:8080/"
        },
        "id": "JcmpTPHuZNlD",
        "outputId": "f44d49cb-2ace-4d14-b900-a497e5053c0f"
      },
      "execution_count": null,
      "outputs": [
        {
          "output_type": "stream",
          "name": "stderr",
          "text": [
            "/usr/local/lib/python3.8/dist-packages/transformers/data/datasets/language_modeling.py:54: FutureWarning: This dataset will be removed from the library soon, preprocessing should be handled with the 🤗 Datasets library. You can have a look at this example script for pointers: https://github.com/huggingface/transformers/blob/main/examples/pytorch/language-modeling/run_mlm.py\n",
            "  warnings.warn(\n",
            "Creating features from dataset file at \n",
            "Saving features into cached file cached_lm_GPT2TokenizerFast_128_train_file [took 0.178 s]\n",
            "Creating features from dataset file at \n",
            "Saving features into cached file cached_lm_GPT2TokenizerFast_128_valid_file [took 0.018 s]\n"
          ]
        }
      ]
    },
    {
      "cell_type": "markdown",
      "source": [
        "Дообучение модели"
      ],
      "metadata": {
        "id": "lBTwDUa8eCkg"
      }
    },
    {
      "cell_type": "code",
      "source": [
        "trainer = Trainer(\n",
        "    model=model,\n",
        "    args=training_arguments,\n",
        "    data_collator=data_collator,\n",
        "    train_dataset=train_dataset,\n",
        "    eval_dataset=val_dataset\n",
        ")"
      ],
      "metadata": {
        "id": "vAznWQZeWj6N"
      },
      "execution_count": null,
      "outputs": []
    },
    {
      "cell_type": "code",
      "source": [
        "trainer.train()"
      ],
      "metadata": {
        "colab": {
          "base_uri": "https://localhost:8080/",
          "height": 1000
        },
        "id": "gRz31jSnYT8m",
        "outputId": "7aecfa82-3122-47b6-9666-19c82a0e6729"
      },
      "execution_count": null,
      "outputs": [
        {
          "output_type": "stream",
          "name": "stderr",
          "text": [
            "/usr/local/lib/python3.8/dist-packages/transformers/optimization.py:306: FutureWarning: This implementation of AdamW is deprecated and will be removed in a future version. Use the PyTorch implementation torch.optim.AdamW instead, or set `no_deprecation_warning=True` to disable this warning\n",
            "  warnings.warn(\n",
            "***** Running training *****\n",
            "  Num examples = 39496\n",
            "  Num Epochs = 3\n",
            "  Instantaneous batch size per device = 4\n",
            "  Total train batch size (w. parallel, distributed & accumulation) = 4\n",
            "  Gradient Accumulation steps = 1\n",
            "  Total optimization steps = 29622\n",
            "  Number of trainable parameters = 125231616\n"
          ]
        },
        {
          "output_type": "display_data",
          "data": {
            "text/plain": [
              "<IPython.core.display.HTML object>"
            ],
            "text/html": [
              "\n",
              "    <div>\n",
              "      \n",
              "      <progress value='29622' max='29622' style='width:300px; height:20px; vertical-align: middle;'></progress>\n",
              "      [29622/29622 1:33:59, Epoch 3/3]\n",
              "    </div>\n",
              "    <table border=\"1\" class=\"dataframe\">\n",
              "  <thead>\n",
              " <tr style=\"text-align: left;\">\n",
              "      <th>Step</th>\n",
              "      <th>Training Loss</th>\n",
              "    </tr>\n",
              "  </thead>\n",
              "  <tbody>\n",
              "    <tr>\n",
              "      <td>500</td>\n",
              "      <td>4.033100</td>\n",
              "    </tr>\n",
              "    <tr>\n",
              "      <td>1000</td>\n",
              "      <td>4.009900</td>\n",
              "    </tr>\n",
              "    <tr>\n",
              "      <td>1500</td>\n",
              "      <td>4.008100</td>\n",
              "    </tr>\n",
              "    <tr>\n",
              "      <td>2000</td>\n",
              "      <td>3.983100</td>\n",
              "    </tr>\n",
              "    <tr>\n",
              "      <td>2500</td>\n",
              "      <td>3.991100</td>\n",
              "    </tr>\n",
              "    <tr>\n",
              "      <td>3000</td>\n",
              "      <td>3.993500</td>\n",
              "    </tr>\n",
              "    <tr>\n",
              "      <td>3500</td>\n",
              "      <td>3.959700</td>\n",
              "    </tr>\n",
              "    <tr>\n",
              "      <td>4000</td>\n",
              "      <td>3.956700</td>\n",
              "    </tr>\n",
              "    <tr>\n",
              "      <td>4500</td>\n",
              "      <td>3.963600</td>\n",
              "    </tr>\n",
              "    <tr>\n",
              "      <td>5000</td>\n",
              "      <td>3.962200</td>\n",
              "    </tr>\n",
              "    <tr>\n",
              "      <td>5500</td>\n",
              "      <td>3.926800</td>\n",
              "    </tr>\n",
              "    <tr>\n",
              "      <td>6000</td>\n",
              "      <td>3.929200</td>\n",
              "    </tr>\n",
              "    <tr>\n",
              "      <td>6500</td>\n",
              "      <td>3.933500</td>\n",
              "    </tr>\n",
              "    <tr>\n",
              "      <td>7000</td>\n",
              "      <td>3.923500</td>\n",
              "    </tr>\n",
              "    <tr>\n",
              "      <td>7500</td>\n",
              "      <td>3.922100</td>\n",
              "    </tr>\n",
              "    <tr>\n",
              "      <td>8000</td>\n",
              "      <td>3.928800</td>\n",
              "    </tr>\n",
              "    <tr>\n",
              "      <td>8500</td>\n",
              "      <td>3.913000</td>\n",
              "    </tr>\n",
              "    <tr>\n",
              "      <td>9000</td>\n",
              "      <td>3.897500</td>\n",
              "    </tr>\n",
              "    <tr>\n",
              "      <td>9500</td>\n",
              "      <td>3.911500</td>\n",
              "    </tr>\n",
              "    <tr>\n",
              "      <td>10000</td>\n",
              "      <td>3.831400</td>\n",
              "    </tr>\n",
              "    <tr>\n",
              "      <td>10500</td>\n",
              "      <td>3.597100</td>\n",
              "    </tr>\n",
              "    <tr>\n",
              "      <td>11000</td>\n",
              "      <td>3.619600</td>\n",
              "    </tr>\n",
              "    <tr>\n",
              "      <td>11500</td>\n",
              "      <td>3.617900</td>\n",
              "    </tr>\n",
              "    <tr>\n",
              "      <td>12000</td>\n",
              "      <td>3.641000</td>\n",
              "    </tr>\n",
              "    <tr>\n",
              "      <td>12500</td>\n",
              "      <td>3.618400</td>\n",
              "    </tr>\n",
              "    <tr>\n",
              "      <td>13000</td>\n",
              "      <td>3.640000</td>\n",
              "    </tr>\n",
              "    <tr>\n",
              "      <td>13500</td>\n",
              "      <td>3.633900</td>\n",
              "    </tr>\n",
              "    <tr>\n",
              "      <td>14000</td>\n",
              "      <td>3.626500</td>\n",
              "    </tr>\n",
              "    <tr>\n",
              "      <td>14500</td>\n",
              "      <td>3.616500</td>\n",
              "    </tr>\n",
              "    <tr>\n",
              "      <td>15000</td>\n",
              "      <td>3.630200</td>\n",
              "    </tr>\n",
              "    <tr>\n",
              "      <td>15500</td>\n",
              "      <td>3.643100</td>\n",
              "    </tr>\n",
              "    <tr>\n",
              "      <td>16000</td>\n",
              "      <td>3.634300</td>\n",
              "    </tr>\n",
              "    <tr>\n",
              "      <td>16500</td>\n",
              "      <td>3.653100</td>\n",
              "    </tr>\n",
              "    <tr>\n",
              "      <td>17000</td>\n",
              "      <td>3.629000</td>\n",
              "    </tr>\n",
              "    <tr>\n",
              "      <td>17500</td>\n",
              "      <td>3.626900</td>\n",
              "    </tr>\n",
              "    <tr>\n",
              "      <td>18000</td>\n",
              "      <td>3.624400</td>\n",
              "    </tr>\n",
              "    <tr>\n",
              "      <td>18500</td>\n",
              "      <td>3.632300</td>\n",
              "    </tr>\n",
              "    <tr>\n",
              "      <td>19000</td>\n",
              "      <td>3.629400</td>\n",
              "    </tr>\n",
              "    <tr>\n",
              "      <td>19500</td>\n",
              "      <td>3.618900</td>\n",
              "    </tr>\n",
              "    <tr>\n",
              "      <td>20000</td>\n",
              "      <td>3.502300</td>\n",
              "    </tr>\n",
              "    <tr>\n",
              "      <td>20500</td>\n",
              "      <td>3.393500</td>\n",
              "    </tr>\n",
              "    <tr>\n",
              "      <td>21000</td>\n",
              "      <td>3.396300</td>\n",
              "    </tr>\n",
              "    <tr>\n",
              "      <td>21500</td>\n",
              "      <td>3.410900</td>\n",
              "    </tr>\n",
              "    <tr>\n",
              "      <td>22000</td>\n",
              "      <td>3.412200</td>\n",
              "    </tr>\n",
              "    <tr>\n",
              "      <td>22500</td>\n",
              "      <td>3.413200</td>\n",
              "    </tr>\n",
              "    <tr>\n",
              "      <td>23000</td>\n",
              "      <td>3.409600</td>\n",
              "    </tr>\n",
              "    <tr>\n",
              "      <td>23500</td>\n",
              "      <td>3.424200</td>\n",
              "    </tr>\n",
              "    <tr>\n",
              "      <td>24000</td>\n",
              "      <td>3.419000</td>\n",
              "    </tr>\n",
              "    <tr>\n",
              "      <td>24500</td>\n",
              "      <td>3.422200</td>\n",
              "    </tr>\n",
              "    <tr>\n",
              "      <td>25000</td>\n",
              "      <td>3.410300</td>\n",
              "    </tr>\n",
              "    <tr>\n",
              "      <td>25500</td>\n",
              "      <td>3.416800</td>\n",
              "    </tr>\n",
              "    <tr>\n",
              "      <td>26000</td>\n",
              "      <td>3.415800</td>\n",
              "    </tr>\n",
              "    <tr>\n",
              "      <td>26500</td>\n",
              "      <td>3.429700</td>\n",
              "    </tr>\n",
              "    <tr>\n",
              "      <td>27000</td>\n",
              "      <td>3.402900</td>\n",
              "    </tr>\n",
              "    <tr>\n",
              "      <td>27500</td>\n",
              "      <td>3.419600</td>\n",
              "    </tr>\n",
              "    <tr>\n",
              "      <td>28000</td>\n",
              "      <td>3.410500</td>\n",
              "    </tr>\n",
              "    <tr>\n",
              "      <td>28500</td>\n",
              "      <td>3.404000</td>\n",
              "    </tr>\n",
              "    <tr>\n",
              "      <td>29000</td>\n",
              "      <td>3.406200</td>\n",
              "    </tr>\n",
              "    <tr>\n",
              "      <td>29500</td>\n",
              "      <td>3.418200</td>\n",
              "    </tr>\n",
              "  </tbody>\n",
              "</table><p>"
            ]
          },
          "metadata": {}
        },
        {
          "output_type": "stream",
          "name": "stderr",
          "text": [
            "Saving model checkpoint to gpt2_trainig/checkpoint-800\n",
            "Configuration saved in gpt2_trainig/checkpoint-800/config.json\n",
            "Model weights saved in gpt2_trainig/checkpoint-800/pytorch_model.bin\n",
            "Saving model checkpoint to gpt2_trainig/checkpoint-1600\n",
            "Configuration saved in gpt2_trainig/checkpoint-1600/config.json\n",
            "Model weights saved in gpt2_trainig/checkpoint-1600/pytorch_model.bin\n",
            "Saving model checkpoint to gpt2_trainig/checkpoint-2400\n",
            "Configuration saved in gpt2_trainig/checkpoint-2400/config.json\n",
            "Model weights saved in gpt2_trainig/checkpoint-2400/pytorch_model.bin\n",
            "Saving model checkpoint to gpt2_trainig/checkpoint-3200\n",
            "Configuration saved in gpt2_trainig/checkpoint-3200/config.json\n",
            "Model weights saved in gpt2_trainig/checkpoint-3200/pytorch_model.bin\n",
            "Saving model checkpoint to gpt2_trainig/checkpoint-4000\n",
            "Configuration saved in gpt2_trainig/checkpoint-4000/config.json\n",
            "Model weights saved in gpt2_trainig/checkpoint-4000/pytorch_model.bin\n",
            "Saving model checkpoint to gpt2_trainig/checkpoint-4800\n",
            "Configuration saved in gpt2_trainig/checkpoint-4800/config.json\n",
            "Model weights saved in gpt2_trainig/checkpoint-4800/pytorch_model.bin\n",
            "Saving model checkpoint to gpt2_trainig/checkpoint-5600\n",
            "Configuration saved in gpt2_trainig/checkpoint-5600/config.json\n",
            "Model weights saved in gpt2_trainig/checkpoint-5600/pytorch_model.bin\n",
            "Saving model checkpoint to gpt2_trainig/checkpoint-6400\n",
            "Configuration saved in gpt2_trainig/checkpoint-6400/config.json\n",
            "Model weights saved in gpt2_trainig/checkpoint-6400/pytorch_model.bin\n",
            "Saving model checkpoint to gpt2_trainig/checkpoint-7200\n",
            "Configuration saved in gpt2_trainig/checkpoint-7200/config.json\n",
            "Model weights saved in gpt2_trainig/checkpoint-7200/pytorch_model.bin\n",
            "Saving model checkpoint to gpt2_trainig/checkpoint-8000\n",
            "Configuration saved in gpt2_trainig/checkpoint-8000/config.json\n",
            "Model weights saved in gpt2_trainig/checkpoint-8000/pytorch_model.bin\n",
            "Saving model checkpoint to gpt2_trainig/checkpoint-8800\n",
            "Configuration saved in gpt2_trainig/checkpoint-8800/config.json\n",
            "Model weights saved in gpt2_trainig/checkpoint-8800/pytorch_model.bin\n",
            "Saving model checkpoint to gpt2_trainig/checkpoint-9600\n",
            "Configuration saved in gpt2_trainig/checkpoint-9600/config.json\n",
            "Model weights saved in gpt2_trainig/checkpoint-9600/pytorch_model.bin\n",
            "Saving model checkpoint to gpt2_trainig/checkpoint-10400\n",
            "Configuration saved in gpt2_trainig/checkpoint-10400/config.json\n",
            "Model weights saved in gpt2_trainig/checkpoint-10400/pytorch_model.bin\n",
            "Saving model checkpoint to gpt2_trainig/checkpoint-11200\n",
            "Configuration saved in gpt2_trainig/checkpoint-11200/config.json\n",
            "Model weights saved in gpt2_trainig/checkpoint-11200/pytorch_model.bin\n",
            "Saving model checkpoint to gpt2_trainig/checkpoint-12000\n",
            "Configuration saved in gpt2_trainig/checkpoint-12000/config.json\n",
            "Model weights saved in gpt2_trainig/checkpoint-12000/pytorch_model.bin\n",
            "Saving model checkpoint to gpt2_trainig/checkpoint-12800\n",
            "Configuration saved in gpt2_trainig/checkpoint-12800/config.json\n",
            "Model weights saved in gpt2_trainig/checkpoint-12800/pytorch_model.bin\n",
            "Saving model checkpoint to gpt2_trainig/checkpoint-13600\n",
            "Configuration saved in gpt2_trainig/checkpoint-13600/config.json\n",
            "Model weights saved in gpt2_trainig/checkpoint-13600/pytorch_model.bin\n",
            "Saving model checkpoint to gpt2_trainig/checkpoint-14400\n",
            "Configuration saved in gpt2_trainig/checkpoint-14400/config.json\n",
            "Model weights saved in gpt2_trainig/checkpoint-14400/pytorch_model.bin\n",
            "Saving model checkpoint to gpt2_trainig/checkpoint-15200\n",
            "Configuration saved in gpt2_trainig/checkpoint-15200/config.json\n",
            "Model weights saved in gpt2_trainig/checkpoint-15200/pytorch_model.bin\n",
            "Saving model checkpoint to gpt2_trainig/checkpoint-16000\n",
            "Configuration saved in gpt2_trainig/checkpoint-16000/config.json\n",
            "Model weights saved in gpt2_trainig/checkpoint-16000/pytorch_model.bin\n",
            "Saving model checkpoint to gpt2_trainig/checkpoint-16800\n",
            "Configuration saved in gpt2_trainig/checkpoint-16800/config.json\n",
            "Model weights saved in gpt2_trainig/checkpoint-16800/pytorch_model.bin\n",
            "Saving model checkpoint to gpt2_trainig/checkpoint-17600\n",
            "Configuration saved in gpt2_trainig/checkpoint-17600/config.json\n",
            "Model weights saved in gpt2_trainig/checkpoint-17600/pytorch_model.bin\n",
            "Saving model checkpoint to gpt2_trainig/checkpoint-18400\n",
            "Configuration saved in gpt2_trainig/checkpoint-18400/config.json\n",
            "Model weights saved in gpt2_trainig/checkpoint-18400/pytorch_model.bin\n",
            "Saving model checkpoint to gpt2_trainig/checkpoint-19200\n",
            "Configuration saved in gpt2_trainig/checkpoint-19200/config.json\n",
            "Model weights saved in gpt2_trainig/checkpoint-19200/pytorch_model.bin\n",
            "Saving model checkpoint to gpt2_trainig/checkpoint-20000\n",
            "Configuration saved in gpt2_trainig/checkpoint-20000/config.json\n",
            "Model weights saved in gpt2_trainig/checkpoint-20000/pytorch_model.bin\n",
            "Saving model checkpoint to gpt2_trainig/checkpoint-20800\n",
            "Configuration saved in gpt2_trainig/checkpoint-20800/config.json\n",
            "Model weights saved in gpt2_trainig/checkpoint-20800/pytorch_model.bin\n",
            "Saving model checkpoint to gpt2_trainig/checkpoint-21600\n",
            "Configuration saved in gpt2_trainig/checkpoint-21600/config.json\n",
            "Model weights saved in gpt2_trainig/checkpoint-21600/pytorch_model.bin\n",
            "Saving model checkpoint to gpt2_trainig/checkpoint-22400\n",
            "Configuration saved in gpt2_trainig/checkpoint-22400/config.json\n",
            "Model weights saved in gpt2_trainig/checkpoint-22400/pytorch_model.bin\n",
            "Saving model checkpoint to gpt2_trainig/checkpoint-23200\n",
            "Configuration saved in gpt2_trainig/checkpoint-23200/config.json\n",
            "Model weights saved in gpt2_trainig/checkpoint-23200/pytorch_model.bin\n",
            "Saving model checkpoint to gpt2_trainig/checkpoint-24000\n",
            "Configuration saved in gpt2_trainig/checkpoint-24000/config.json\n",
            "Model weights saved in gpt2_trainig/checkpoint-24000/pytorch_model.bin\n",
            "Saving model checkpoint to gpt2_trainig/checkpoint-24800\n",
            "Configuration saved in gpt2_trainig/checkpoint-24800/config.json\n",
            "Model weights saved in gpt2_trainig/checkpoint-24800/pytorch_model.bin\n",
            "Saving model checkpoint to gpt2_trainig/checkpoint-25600\n",
            "Configuration saved in gpt2_trainig/checkpoint-25600/config.json\n",
            "Model weights saved in gpt2_trainig/checkpoint-25600/pytorch_model.bin\n",
            "Saving model checkpoint to gpt2_trainig/checkpoint-26400\n",
            "Configuration saved in gpt2_trainig/checkpoint-26400/config.json\n",
            "Model weights saved in gpt2_trainig/checkpoint-26400/pytorch_model.bin\n",
            "Saving model checkpoint to gpt2_trainig/checkpoint-27200\n",
            "Configuration saved in gpt2_trainig/checkpoint-27200/config.json\n",
            "Model weights saved in gpt2_trainig/checkpoint-27200/pytorch_model.bin\n",
            "Saving model checkpoint to gpt2_trainig/checkpoint-28000\n",
            "Configuration saved in gpt2_trainig/checkpoint-28000/config.json\n",
            "Model weights saved in gpt2_trainig/checkpoint-28000/pytorch_model.bin\n",
            "Saving model checkpoint to gpt2_trainig/checkpoint-28800\n",
            "Configuration saved in gpt2_trainig/checkpoint-28800/config.json\n",
            "Model weights saved in gpt2_trainig/checkpoint-28800/pytorch_model.bin\n",
            "Saving model checkpoint to gpt2_trainig/checkpoint-29600\n",
            "Configuration saved in gpt2_trainig/checkpoint-29600/config.json\n",
            "Model weights saved in gpt2_trainig/checkpoint-29600/pytorch_model.bin\n",
            "\n",
            "\n",
            "Training completed. Do not forget to share your model on huggingface.co/models =)\n",
            "\n",
            "\n"
          ]
        },
        {
          "output_type": "execute_result",
          "data": {
            "text/plain": [
              "TrainOutput(global_step=29622, training_loss=3.6643122069768537, metrics={'train_runtime': 5640.2647, 'train_samples_per_second': 21.008, 'train_steps_per_second': 5.252, 'total_flos': 7739992571904000.0, 'train_loss': 3.6643122069768537, 'epoch': 3.0})"
            ]
          },
          "metadata": {},
          "execution_count": 31
        }
      ]
    },
    {
      "cell_type": "code",
      "source": [
        "trainer.save_model()\n",
        "model.save_pretrained('gpt_model')\n",
        "tokenizer.save_pretrained('gpt_tokenizer')"
      ],
      "metadata": {
        "id": "K2UlVovex3Pl"
      },
      "execution_count": null,
      "outputs": []
    },
    {
      "cell_type": "markdown",
      "source": [
        "Токенизация и генерация текста дообученной моделью"
      ],
      "metadata": {
        "id": "vjrK2wqjeKQc"
      }
    },
    {
      "cell_type": "code",
      "source": [
        "tokens = tokenizer(prefix, return_tensors='pt')\n",
        "tokens = {k: v.to(model.device) for k,v in tokens.items()}\n",
        "eos_token_id = tokenizer.encode(sep)[0]"
      ],
      "metadata": {
        "id": "bI42Zw3xah8O"
      },
      "execution_count": null,
      "outputs": []
    },
    {
      "cell_type": "code",
      "source": [
        "output = model.generate(**tokens,\n",
        "                        eos_token_id=eos_token_id,\n",
        "                        do_sample=False,\n",
        "                        max_length=length+64,\n",
        "                        repetition_penalty=2.,\n",
        "                        temperature=50,\n",
        "                        num_beams=2)\n",
        "decoded = tokenizer.decode(output[0])\n",
        "result = decoded[len(prefix):]"
      ],
      "metadata": {
        "id": "CSSB6Up3yRLi"
      },
      "execution_count": null,
      "outputs": []
    },
    {
      "cell_type": "code",
      "source": [
        "print(result)"
      ],
      "metadata": {
        "colab": {
          "base_uri": "https://localhost:8080/"
        },
        "id": "-8wCxhRLzkxP",
        "outputId": "861ff55f-3e46-4bbf-b4d9-a714315b7587"
      },
      "execution_count": null,
      "outputs": [
        {
          "output_type": "stream",
          "name": "stdout",
          "text": [
            "хххвьётся. У меня такое ощущение, что все равно что-то вроде как-то? :) хххх: ну дык там где-то рядом с серверной дверью стоит. В смысле? :(\n",
            "\n"
          ]
        }
      ]
    },
    {
      "cell_type": "markdown",
      "source": [
        "*Результат вполне удовлетворительный. Немного бессвязно, возможно имело смысл ещё дообучить модель.*"
      ],
      "metadata": {
        "id": "rGJNmJpealZa"
      }
    },
    {
      "cell_type": "markdown",
      "source": [
        "###Обучение T5"
      ],
      "metadata": {
        "id": "3weCWhF7UlG0"
      }
    },
    {
      "cell_type": "code",
      "source": [
        "%%capture\n",
        "!pip install transformers[sentencepiece]"
      ],
      "metadata": {
        "id": "r-jal1YBjxo5"
      },
      "execution_count": 1,
      "outputs": []
    },
    {
      "cell_type": "code",
      "source": [
        "# wrapping output\n",
        "from IPython.display import HTML, display\n",
        "def set_css():\n",
        "  display(HTML('''<style>pre{white-space: pre-wrap;}</style>'''))\n",
        "get_ipython().events.register('pre_run_cell', set_css)"
      ],
      "metadata": {
        "id": "fjqUzrOFcG59"
      },
      "execution_count": 2,
      "outputs": []
    },
    {
      "cell_type": "code",
      "source": [
        "%%capture\n",
        "!pip install corus\n",
        "!pip install rouge\n",
        "!pip install dataset"
      ],
      "metadata": {
        "id": "xgPcSmQ9Vqf0",
        "colab": {
          "base_uri": "https://localhost:8080/",
          "height": 17
        },
        "outputId": "58176a81-2aad-4466-ffab-e0ad9db1e10b"
      },
      "execution_count": 3,
      "outputs": [
        {
          "output_type": "display_data",
          "data": {
            "text/plain": [
              "<IPython.core.display.HTML object>"
            ],
            "text/html": [
              "<style>pre{white-space: pre-wrap;}</style>"
            ]
          },
          "metadata": {}
        }
      ]
    },
    {
      "cell_type": "code",
      "source": [
        "from corus import load_lenta\n",
        "from transformers import AutoTokenizer, T5ForConditionalGeneration, Trainer, TrainingArguments\n",
        "from nltk.translate.bleu_score import corpus_bleu\n",
        "from rouge import Rouge\n",
        "import torch\n",
        "from sklearn.model_selection import train_test_split"
      ],
      "metadata": {
        "colab": {
          "base_uri": "https://localhost:8080/",
          "height": 17
        },
        "id": "XvhINgcJVoyK",
        "outputId": "e8642417-1941-411d-cd6a-64d158441eb6"
      },
      "execution_count": 4,
      "outputs": [
        {
          "output_type": "display_data",
          "data": {
            "text/plain": [
              "<IPython.core.display.HTML object>"
            ],
            "text/html": [
              "<style>pre{white-space: pre-wrap;}</style>"
            ]
          },
          "metadata": {}
        }
      ]
    },
    {
      "cell_type": "markdown",
      "source": [
        "#####Загрузка данных"
      ],
      "metadata": {
        "id": "uB8_rYtRcz6m"
      }
    },
    {
      "cell_type": "code",
      "source": [
        "%%capture\n",
        "!wget https://github.com/yutkin/Lenta.Ru-News-Dataset/releases/download/v1.0/lenta-ru-news.csv.gz"
      ],
      "metadata": {
        "id": "9ZwVFNd3Vd7E",
        "colab": {
          "base_uri": "https://localhost:8080/",
          "height": 17
        },
        "outputId": "5a3870f5-633a-499e-a951-e88f64d88b76"
      },
      "execution_count": 5,
      "outputs": [
        {
          "output_type": "display_data",
          "data": {
            "text/plain": [
              "<IPython.core.display.HTML object>"
            ],
            "text/html": [
              "<style>pre{white-space: pre-wrap;}</style>"
            ]
          },
          "metadata": {}
        }
      ]
    },
    {
      "cell_type": "code",
      "source": [
        "path = 'lenta-ru-news.csv.gz'\n",
        "records = load_lenta(path)\n",
        "next(records)"
      ],
      "metadata": {
        "colab": {
          "base_uri": "https://localhost:8080/",
          "height": 231
        },
        "id": "zYd0MXXvV1PE",
        "outputId": "aa586e5a-e036-4cb3-b9f6-90127ca9f3c4"
      },
      "execution_count": 6,
      "outputs": [
        {
          "output_type": "display_data",
          "data": {
            "text/plain": [
              "<IPython.core.display.HTML object>"
            ],
            "text/html": [
              "<style>pre{white-space: pre-wrap;}</style>"
            ]
          },
          "metadata": {}
        },
        {
          "output_type": "execute_result",
          "data": {
            "text/plain": [
              "LentaRecord(\n",
              "    url='https://lenta.ru/news/2018/12/14/cancer/',\n",
              "    title='Названы регионы России с\\xa0самой высокой смертностью от\\xa0рака',\n",
              "    text='Вице-премьер по социальным вопросам Татьяна Голикова рассказала, в каких регионах России зафиксирована наиболее высокая смертность от рака, сообщает РИА Новости. По словам Голиковой, чаще всего онкологические заболевания становились причиной смерти в Псковской, Тверской, Тульской и Орловской областях, а также в Севастополе. Вице-премьер напомнила, что главные факторы смертности в России — рак и болезни системы кровообращения. В начале года стало известно, что смертность от онкологических заболеваний среди россиян снизилась впервые за три года. По данным Росстата, в 2017 году от рака умерли 289 тысяч человек. Это на 3,5 процента меньше, чем годом ранее.',\n",
              "    topic='Россия',\n",
              "    tags='Общество',\n",
              "    date=None\n",
              ")"
            ]
          },
          "metadata": {},
          "execution_count": 6
        }
      ]
    },
    {
      "cell_type": "code",
      "source": [
        "NUM_SAMPLES = 20\n",
        "articles = []\n",
        "titles = []\n",
        "path = 'lenta-ru-news.csv.gz'\n",
        "records = load_lenta(path)\n",
        "counter = 0\n",
        "for record in records:\n",
        "  articles.append(record.text)\n",
        "  titles.append(record.title)\n",
        "  counter += 1\n",
        "  if NUM_SAMPLES and counter == NUM_SAMPLES: break"
      ],
      "metadata": {
        "colab": {
          "base_uri": "https://localhost:8080/",
          "height": 17
        },
        "id": "vSbrH1rBnnCG",
        "outputId": "ad9dd493-5d63-44aa-de0d-ed289d56d089"
      },
      "execution_count": 7,
      "outputs": [
        {
          "output_type": "display_data",
          "data": {
            "text/plain": [
              "<IPython.core.display.HTML object>"
            ],
            "text/html": [
              "<style>pre{white-space: pre-wrap;}</style>"
            ]
          },
          "metadata": {}
        }
      ]
    },
    {
      "cell_type": "code",
      "source": [
        "articles[:2]"
      ],
      "metadata": {
        "colab": {
          "base_uri": "https://localhost:8080/",
          "height": 249
        },
        "id": "RA3SLpF2oYLH",
        "outputId": "3a61bd0a-2c51-44f8-a27f-a9231a742a8c"
      },
      "execution_count": 8,
      "outputs": [
        {
          "output_type": "display_data",
          "data": {
            "text/plain": [
              "<IPython.core.display.HTML object>"
            ],
            "text/html": [
              "<style>pre{white-space: pre-wrap;}</style>"
            ]
          },
          "metadata": {}
        },
        {
          "output_type": "execute_result",
          "data": {
            "text/plain": [
              "['Вице-премьер по социальным вопросам Татьяна Голикова рассказала, в каких регионах России зафиксирована наиболее высокая смертность от рака, сообщает РИА Новости. По словам Голиковой, чаще всего онкологические заболевания становились причиной смерти в Псковской, Тверской, Тульской и Орловской областях, а также в Севастополе. Вице-премьер напомнила, что главные факторы смертности в России — рак и болезни системы кровообращения. В начале года стало известно, что смертность от онкологических заболеваний среди россиян снизилась впервые за три года. По данным Росстата, в 2017 году от рака умерли 289 тысяч человек. Это на 3,5 процента меньше, чем годом ранее.',\n",
              " 'Австрийские правоохранительные органы не представили доказательств нарушения российскими биатлонистами антидопинговых правил. Об этом сообщил посол России в Вене Дмитрий Любинский по итогам встречи уполномоченного адвоката дипмиссии с представителями прокуратуры страны, передает ТАСС. «Действует презумпция невиновности. Каких-либо ограничений свободы передвижения для команды нет», — добавили в посольстве. Международный союз биатлонистов (IBU) также не будет применять санкции к российским биатлонистам. Все они продолжат выступление на Кубке мира. Полиция нагрянула в отель сборной России в Хохфильцене вечером 12 декабря. Как написал биатлонист Александр Логинов, их считают виновными в махинациях с переливанием крови. Биатлонисту Антону Шипулину, также попавшему в список, полиция нанесла отдельный визит: сейчас он тренируется отдельно в австрийском Обертиллахе. Обвинения спортсмен назвал бредом, а также указал на «охоту на ведьм» в мировом биатлоне. В Австрии прием допинга — уголовное преступление. Максимальное наказание за его употребление — три года тюрьмы.']"
            ]
          },
          "metadata": {},
          "execution_count": 8
        }
      ]
    },
    {
      "cell_type": "code",
      "source": [
        "titles[:5]"
      ],
      "metadata": {
        "colab": {
          "base_uri": "https://localhost:8080/",
          "height": 106
        },
        "id": "M1TQGT-toaiI",
        "outputId": "43021072-1382-412a-928f-a7607f5dcf14"
      },
      "execution_count": 9,
      "outputs": [
        {
          "output_type": "display_data",
          "data": {
            "text/plain": [
              "<IPython.core.display.HTML object>"
            ],
            "text/html": [
              "<style>pre{white-space: pre-wrap;}</style>"
            ]
          },
          "metadata": {}
        },
        {
          "output_type": "execute_result",
          "data": {
            "text/plain": [
              "['Названы регионы России с\\xa0самой высокой смертностью от\\xa0рака',\n",
              " 'Австрия не\\xa0представила доказательств вины российских биатлонистов',\n",
              " 'Обнаружено самое счастливое место на\\xa0планете',\n",
              " 'В США раскрыли сумму расходов на\\xa0расследование «российского дела»',\n",
              " 'Хакеры рассказали о\\xa0планах Великобритании заминировать Севастополь']"
            ]
          },
          "metadata": {},
          "execution_count": 9
        }
      ]
    },
    {
      "cell_type": "markdown",
      "source": [
        "#####Разделение датасета на обучающий, тестовый и валидационный. Пока что нам понадобится только тестовый."
      ],
      "metadata": {
        "id": "kq52G2m-bQ6o"
      }
    },
    {
      "cell_type": "code",
      "source": [
        "train_val_articles, test_articles, train_val_titles, test_titles = train_test_split(articles, titles, test_size=0.2)\n",
        "train_articles, val_articles, train_titles, val_titles = train_test_split(articles, titles, test_size=0.25)\n",
        "\n",
        "print(f'{len(train_articles)=}\\n{len(train_titles)=}\\n***\\n{len(val_articles)=} \\\n",
        "      \\n{len(val_titles)=}\\n***\\n{len(test_articles)=}\\n{len(test_titles)=}')"
      ],
      "metadata": {
        "colab": {
          "base_uri": "https://localhost:8080/",
          "height": 160
        },
        "id": "gkHqR3EdmOSN",
        "outputId": "81fbbc65-4504-4098-c5e3-6a68febcaf83"
      },
      "execution_count": 10,
      "outputs": [
        {
          "output_type": "display_data",
          "data": {
            "text/plain": [
              "<IPython.core.display.HTML object>"
            ],
            "text/html": [
              "<style>pre{white-space: pre-wrap;}</style>"
            ]
          },
          "metadata": {}
        },
        {
          "output_type": "stream",
          "name": "stdout",
          "text": [
            "len(train_articles)=15\n",
            "len(train_titles)=15\n",
            "***\n",
            "len(val_articles)=5       \n",
            "len(val_titles)=5\n",
            "***\n",
            "len(test_articles)=4\n",
            "len(test_titles)=4\n"
          ]
        }
      ]
    },
    {
      "cell_type": "markdown",
      "source": [
        "Инициализация модели"
      ],
      "metadata": {
        "id": "Jh6r6aCJbdx6"
      }
    },
    {
      "cell_type": "code",
      "source": [
        "%%capture\n",
        "model_name = \"IlyaGusev/rut5_base_headline_gen_telegram\"\n",
        "tokenizer = AutoTokenizer.from_pretrained(model_name)\n",
        "model = T5ForConditionalGeneration.from_pretrained(model_name)"
      ],
      "metadata": {
        "colab": {
          "base_uri": "https://localhost:8080/",
          "height": 17
        },
        "id": "Kls8NxJtgBDo",
        "outputId": "5f030725-f08b-4784-8fb9-07e4b13f9951"
      },
      "execution_count": 16,
      "outputs": [
        {
          "output_type": "display_data",
          "data": {
            "text/plain": [
              "<IPython.core.display.HTML object>"
            ],
            "text/html": [
              "<style>pre{white-space: pre-wrap;}</style>"
            ]
          },
          "metadata": {}
        }
      ]
    },
    {
      "cell_type": "markdown",
      "source": [
        "#####Проверим работу модели без дообучения"
      ],
      "metadata": {
        "id": "XsFarglmborr"
      }
    },
    {
      "cell_type": "markdown",
      "source": [
        "Токенизация тестовой выборки"
      ],
      "metadata": {
        "id": "BXx8a7thbjhG"
      }
    },
    {
      "cell_type": "code",
      "source": [
        "input_ids = tokenizer(\n",
        "    test_articles,\n",
        "    max_length=600,\n",
        "    add_special_tokens=True,\n",
        "    padding=\"max_length\",\n",
        "    truncation=True,\n",
        "    return_tensors=\"pt\"\n",
        ")[\"input_ids\"]"
      ],
      "metadata": {
        "colab": {
          "base_uri": "https://localhost:8080/",
          "height": 17
        },
        "id": "OOLpOR6Uimqh",
        "outputId": "cbac6ec7-77e5-4219-afea-5f297f2f7c48"
      },
      "execution_count": 25,
      "outputs": [
        {
          "output_type": "display_data",
          "data": {
            "text/plain": [
              "<IPython.core.display.HTML object>"
            ],
            "text/html": [
              "<style>pre{white-space: pre-wrap;}</style>"
            ]
          },
          "metadata": {}
        }
      ]
    },
    {
      "cell_type": "markdown",
      "source": [
        "Генерация заголовков"
      ],
      "metadata": {
        "id": "GgI5tcJubwSw"
      }
    },
    {
      "cell_type": "code",
      "source": [
        "output_ids = model.generate(\n",
        "    input_ids=input_ids,\n",
        "    max_length=84,\n",
        "    no_repeat_ngram_size=2,\n",
        "    num_beams=4\n",
        ")\n"
      ],
      "metadata": {
        "id": "Lkwe7fiNiy-e",
        "colab": {
          "base_uri": "https://localhost:8080/",
          "height": 17
        },
        "outputId": "d87957dd-3c2d-4258-c26b-0a9713ba2b91"
      },
      "execution_count": 26,
      "outputs": [
        {
          "output_type": "display_data",
          "data": {
            "text/plain": [
              "<IPython.core.display.HTML object>"
            ],
            "text/html": [
              "<style>pre{white-space: pre-wrap;}</style>"
            ]
          },
          "metadata": {}
        }
      ]
    },
    {
      "cell_type": "markdown",
      "source": [
        "Пробразование эмбеддингов в текст"
      ],
      "metadata": {
        "id": "AuJWC4qcb3hE"
      }
    },
    {
      "cell_type": "code",
      "source": [
        "titles = []\n",
        "for ids in output_ids:\n",
        "  titles.append(\n",
        "      tokenizer.decode(\n",
        "        ids,\n",
        "        skip_special_tokens=True,\n",
        "        clean_up_tokenization_spaces=False\n",
        "      )\n",
        "  )"
      ],
      "metadata": {
        "colab": {
          "base_uri": "https://localhost:8080/",
          "height": 17
        },
        "id": "6K2_qegJsisM",
        "outputId": "a6587c5e-7bfc-4c69-cbee-cd367fa20097"
      },
      "execution_count": 27,
      "outputs": [
        {
          "output_type": "display_data",
          "data": {
            "text/plain": [
              "<IPython.core.display.HTML object>"
            ],
            "text/html": [
              "<style>pre{white-space: pre-wrap;}</style>"
            ]
          },
          "metadata": {}
        }
      ]
    },
    {
      "cell_type": "markdown",
      "source": [
        "Полученные заголовки"
      ],
      "metadata": {
        "id": "YuKChudfb964"
      }
    },
    {
      "cell_type": "code",
      "source": [
        "titles[:5]"
      ],
      "metadata": {
        "colab": {
          "base_uri": "https://localhost:8080/",
          "height": 88
        },
        "id": "B7iPEi21r1iM",
        "outputId": "30ef4187-9e68-45f8-d2b7-b92158d4e1eb"
      },
      "execution_count": 28,
      "outputs": [
        {
          "output_type": "display_data",
          "data": {
            "text/plain": [
              "<IPython.core.display.HTML object>"
            ],
            "text/html": [
              "<style>pre{white-space: pre-wrap;}</style>"
            ]
          },
          "metadata": {}
        },
        {
          "output_type": "execute_result",
          "data": {
            "text/plain": [
              "['Британцы будут платить семь евро за въезд в ЕС после Brexit',\n",
              " 'Еврокомиссия пригласила Россию и Украину в Брюссель для переговоров по газу',\n",
              " 'Судимая в США Бутина может стать фигурантом еще одного дела',\n",
              " '«Эвотор» рассказал о стоимости новогоднего стола в России']"
            ]
          },
          "metadata": {},
          "execution_count": 28
        }
      ]
    },
    {
      "cell_type": "markdown",
      "source": [
        "Тестовые заголовки"
      ],
      "metadata": {
        "id": "SXEI5o73cBBf"
      }
    },
    {
      "cell_type": "code",
      "source": [
        "test_titles[:5]"
      ],
      "metadata": {
        "colab": {
          "base_uri": "https://localhost:8080/",
          "height": 88
        },
        "id": "ixwXUw5VXwjE",
        "outputId": "28fe6567-557a-4c5f-ae49-e040226d4e47"
      },
      "execution_count": 29,
      "outputs": [
        {
          "output_type": "display_data",
          "data": {
            "text/plain": [
              "<IPython.core.display.HTML object>"
            ],
            "text/html": [
              "<style>pre{white-space: pre-wrap;}</style>"
            ]
          },
          "metadata": {}
        },
        {
          "output_type": "execute_result",
          "data": {
            "text/plain": [
              "['Британцам придется заплатить за\\xa0путешествия по\\xa0Европе',\n",
              " 'Россию и\\xa0Украину пригласили на\\xa0переговоры по\\xa0газу',\n",
              " 'Бутину допросят в\\xa0США по\\xa0новому уголовному делу',\n",
              " 'Названы регионы России с\\xa0самым дорогим и\\xa0дешевым новогодним столом']"
            ]
          },
          "metadata": {},
          "execution_count": 29
        }
      ]
    },
    {
      "cell_type": "markdown",
      "source": [
        "Уже видно, что результат очень хороший, но посмотрим метрики и затем сравним с метриками дообученной модели."
      ],
      "metadata": {
        "id": "b_iTFNrEcIQ_"
      }
    },
    {
      "cell_type": "code",
      "source": [
        "def calc_scores(references, predictions, metric=\"all\"):\n",
        "    print(\"Count:\", len(predictions))\n",
        "    print(\"Ref:\", references[-1])\n",
        "    print(\"Hyp:\", predictions[-1])\n",
        "\n",
        "    if metric in (\"bleu\", \"all\"):\n",
        "        print(\"BLEU: \", corpus_bleu([[r] for r in references], predictions))\n",
        "    if metric in (\"rouge\", \"all\"):\n",
        "        rouge = Rouge()\n",
        "        scores = rouge.get_scores(predictions, references, avg=True)\n",
        "        print(\"ROUGE: \", scores)"
      ],
      "metadata": {
        "colab": {
          "base_uri": "https://localhost:8080/",
          "height": 17
        },
        "id": "c0WNKz3Vqlle",
        "outputId": "e996456b-9b67-4577-d32e-e744e9d5320b"
      },
      "execution_count": 30,
      "outputs": [
        {
          "output_type": "display_data",
          "data": {
            "text/plain": [
              "<IPython.core.display.HTML object>"
            ],
            "text/html": [
              "<style>pre{white-space: pre-wrap;}</style>"
            ]
          },
          "metadata": {}
        }
      ]
    },
    {
      "cell_type": "code",
      "source": [
        "calc_scores(test_titles, titles)"
      ],
      "metadata": {
        "colab": {
          "base_uri": "https://localhost:8080/",
          "height": 124
        },
        "id": "NXr2pdxDqsxB",
        "outputId": "4302251d-655f-4709-9f7f-da37f17daa84"
      },
      "execution_count": 31,
      "outputs": [
        {
          "output_type": "display_data",
          "data": {
            "text/plain": [
              "<IPython.core.display.HTML object>"
            ],
            "text/html": [
              "<style>pre{white-space: pre-wrap;}</style>"
            ]
          },
          "metadata": {}
        },
        {
          "output_type": "stream",
          "name": "stdout",
          "text": [
            "Count: 4\n",
            "Ref: Названы регионы России с самым дорогим и дешевым новогодним столом\n",
            "Hyp: «Эвотор» рассказал о стоимости новогоднего стола в России\n",
            "BLEU:  0.34590326293979023\n",
            "ROUGE:  {'rouge-1': {'r': 0.2794642857142857, 'p': 0.21761363636363634, 'f': 0.24269005360328832}, 'rouge-2': {'r': 0.14285714285714285, 'p': 0.10277777777777777, 'f': 0.1194852916761057}, 'rouge-l': {'r': 0.2794642857142857, 'p': 0.21761363636363634, 'f': 0.24269005360328832}}\n"
          ]
        }
      ]
    },
    {
      "cell_type": "markdown",
      "source": [
        "#####Дообучение модели"
      ],
      "metadata": {
        "id": "Ck3O7wuocULh"
      }
    },
    {
      "cell_type": "markdown",
      "source": [
        "Токенизация всех датасетов"
      ],
      "metadata": {
        "id": "iYbxvyx8cZbh"
      }
    },
    {
      "cell_type": "code",
      "source": [
        "train_encodings = tokenizer(train_articles, truncation=True, padding=True)\n",
        "val_encodings = tokenizer(val_articles, truncation=True, padding=True)\n",
        "test_encodings = tokenizer(test_articles, truncation=True, padding=True)\n",
        "\n",
        "train_enc_titles = tokenizer(train_titles, truncation=True, padding=True)\n",
        "val_enc_titles = tokenizer(val_titles, truncation=True, padding=True)"
      ],
      "metadata": {
        "colab": {
          "base_uri": "https://localhost:8080/",
          "height": 35
        },
        "id": "Ydn80ET4obCr",
        "outputId": "d85dbe6c-4cdf-43d8-89d5-6c2480c1e237"
      },
      "execution_count": 32,
      "outputs": [
        {
          "output_type": "display_data",
          "data": {
            "text/plain": [
              "<IPython.core.display.HTML object>"
            ],
            "text/html": [
              "<style>pre{white-space: pre-wrap;}</style>"
            ]
          },
          "metadata": {}
        },
        {
          "output_type": "stream",
          "name": "stderr",
          "text": [
            "Asking to truncate to max_length but no maximum length is provided and the model has no predefined maximum length. Default to no truncation.\n"
          ]
        }
      ]
    },
    {
      "cell_type": "markdown",
      "source": [
        "Класс датасета для Trainer, содержащий статьи и заголовки"
      ],
      "metadata": {
        "id": "KH80UEgpcevG"
      }
    },
    {
      "cell_type": "code",
      "source": [
        "class ArticlesDataset(torch.utils.data.Dataset):\n",
        "    def __init__(self, encodings, labels):\n",
        "        self.encodings = encodings\n",
        "        self.labels = labels\n",
        "\n",
        "    def __getitem__(self, idx):\n",
        "        item = {key: torch.tensor(val[idx]) for key, val in self.encodings.items()}\n",
        "        item['labels'] = self.labels['input_ids'][idx]\n",
        "        return item\n",
        "\n",
        "    def __len__(self):\n",
        "        return len(self.labels)"
      ],
      "metadata": {
        "colab": {
          "base_uri": "https://localhost:8080/",
          "height": 17
        },
        "id": "aKyg79impOR_",
        "outputId": "6bdf6499-2040-4116-92a1-25d146f4c2d6"
      },
      "execution_count": 33,
      "outputs": [
        {
          "output_type": "display_data",
          "data": {
            "text/plain": [
              "<IPython.core.display.HTML object>"
            ],
            "text/html": [
              "<style>pre{white-space: pre-wrap;}</style>"
            ]
          },
          "metadata": {}
        }
      ]
    },
    {
      "cell_type": "markdown",
      "source": [
        "Формируем обучающий и валидационный датасеты"
      ],
      "metadata": {
        "id": "gC8arRsecqeN"
      }
    },
    {
      "cell_type": "code",
      "source": [
        "train_dataset = ArticlesDataset(train_encodings, train_enc_titles)\n",
        "val_dataset = ArticlesDataset(val_encodings, val_enc_titles)"
      ],
      "metadata": {
        "colab": {
          "base_uri": "https://localhost:8080/",
          "height": 17
        },
        "id": "Y5deUSJnpdLP",
        "outputId": "781f85ad-b81f-401e-e1f8-1cba91c9999e"
      },
      "execution_count": 34,
      "outputs": [
        {
          "output_type": "display_data",
          "data": {
            "text/plain": [
              "<IPython.core.display.HTML object>"
            ],
            "text/html": [
              "<style>pre{white-space: pre-wrap;}</style>"
            ]
          },
          "metadata": {}
        }
      ]
    },
    {
      "cell_type": "markdown",
      "source": [
        "Собственно дообучение модели"
      ],
      "metadata": {
        "id": "JEdOFuQTcyyR"
      }
    },
    {
      "cell_type": "code",
      "source": [
        "training_args = TrainingArguments(\n",
        "    output_dir='./results',          # output directory\n",
        "    num_train_epochs=500,             # total number of training epochs\n",
        "    per_device_train_batch_size=16,  # batch size per device during training\n",
        "    per_device_eval_batch_size=64,   # batch size for evaluation\n",
        "    warmup_steps=500,                # number of warmup steps for learning rate scheduler\n",
        "    weight_decay=0.01,               # strength of weight decay\n",
        "    logging_dir='./logs',            # directory for storing logs\n",
        "    logging_steps=10,\n",
        ")"
      ],
      "metadata": {
        "colab": {
          "base_uri": "https://localhost:8080/",
          "height": 71
        },
        "id": "hzzkmzjGp3gH",
        "outputId": "b6c1e56d-98df-4a10-b36c-916989fafb08"
      },
      "execution_count": 40,
      "outputs": [
        {
          "output_type": "display_data",
          "data": {
            "text/plain": [
              "<IPython.core.display.HTML object>"
            ],
            "text/html": [
              "<style>pre{white-space: pre-wrap;}</style>"
            ]
          },
          "metadata": {}
        },
        {
          "output_type": "stream",
          "name": "stderr",
          "text": [
            "PyTorch: setting up devices\n",
            "The default value for the training argument `--report_to` will change in v5 (from all installed integrations to none). In v5, you will need to use `--report_to all` to get the same behavior as now. You should start updating your code and make this info disappear :-).\n"
          ]
        }
      ]
    },
    {
      "cell_type": "code",
      "source": [
        "trainer = Trainer(\n",
        "    model=model,                         # the instantiated 🤗 Transformers model to be trained\n",
        "    args=training_args,                  # training arguments, defined above\n",
        "    train_dataset=train_dataset,         # training dataset\n",
        "    eval_dataset=val_dataset             # evaluation dataset\n",
        ")\n",
        "trainer.train()"
      ],
      "metadata": {
        "colab": {
          "base_uri": "https://localhost:8080/",
          "height": 1000
        },
        "id": "_927nOcDqFfq",
        "outputId": "592e8a35-b350-4d62-a60e-9c9f7341ed38"
      },
      "execution_count": 41,
      "outputs": [
        {
          "output_type": "display_data",
          "data": {
            "text/plain": [
              "<IPython.core.display.HTML object>"
            ],
            "text/html": [
              "<style>pre{white-space: pre-wrap;}</style>"
            ]
          },
          "metadata": {}
        },
        {
          "output_type": "stream",
          "name": "stderr",
          "text": [
            "***** Running training *****\n",
            "  Num examples = 2\n",
            "  Num Epochs = 500\n",
            "  Instantaneous batch size per device = 16\n",
            "  Total train batch size (w. parallel, distributed & accumulation) = 16\n",
            "  Gradient Accumulation steps = 1\n",
            "  Total optimization steps = 500\n",
            "  Number of trainable parameters = 244309248\n"
          ]
        },
        {
          "output_type": "display_data",
          "data": {
            "text/plain": [
              "<IPython.core.display.HTML object>"
            ],
            "text/html": [
              "\n",
              "    <div>\n",
              "      \n",
              "      <progress value='500' max='500' style='width:300px; height:20px; vertical-align: middle;'></progress>\n",
              "      [500/500 03:51, Epoch 500/500]\n",
              "    </div>\n",
              "    <table border=\"1\" class=\"dataframe\">\n",
              "  <thead>\n",
              " <tr style=\"text-align: left;\">\n",
              "      <th>Step</th>\n",
              "      <th>Training Loss</th>\n",
              "    </tr>\n",
              "  </thead>\n",
              "  <tbody>\n",
              "    <tr>\n",
              "      <td>10</td>\n",
              "      <td>8.943300</td>\n",
              "    </tr>\n",
              "    <tr>\n",
              "      <td>20</td>\n",
              "      <td>9.235500</td>\n",
              "    </tr>\n",
              "    <tr>\n",
              "      <td>30</td>\n",
              "      <td>8.738100</td>\n",
              "    </tr>\n",
              "    <tr>\n",
              "      <td>40</td>\n",
              "      <td>8.591200</td>\n",
              "    </tr>\n",
              "    <tr>\n",
              "      <td>50</td>\n",
              "      <td>8.254500</td>\n",
              "    </tr>\n",
              "    <tr>\n",
              "      <td>60</td>\n",
              "      <td>7.601800</td>\n",
              "    </tr>\n",
              "    <tr>\n",
              "      <td>70</td>\n",
              "      <td>7.315800</td>\n",
              "    </tr>\n",
              "    <tr>\n",
              "      <td>80</td>\n",
              "      <td>7.136900</td>\n",
              "    </tr>\n",
              "    <tr>\n",
              "      <td>90</td>\n",
              "      <td>6.662800</td>\n",
              "    </tr>\n",
              "    <tr>\n",
              "      <td>100</td>\n",
              "      <td>5.494100</td>\n",
              "    </tr>\n",
              "    <tr>\n",
              "      <td>110</td>\n",
              "      <td>5.100600</td>\n",
              "    </tr>\n",
              "    <tr>\n",
              "      <td>120</td>\n",
              "      <td>4.858600</td>\n",
              "    </tr>\n",
              "    <tr>\n",
              "      <td>130</td>\n",
              "      <td>4.955700</td>\n",
              "    </tr>\n",
              "    <tr>\n",
              "      <td>140</td>\n",
              "      <td>4.562200</td>\n",
              "    </tr>\n",
              "    <tr>\n",
              "      <td>150</td>\n",
              "      <td>4.359800</td>\n",
              "    </tr>\n",
              "    <tr>\n",
              "      <td>160</td>\n",
              "      <td>4.244100</td>\n",
              "    </tr>\n",
              "    <tr>\n",
              "      <td>170</td>\n",
              "      <td>4.079300</td>\n",
              "    </tr>\n",
              "    <tr>\n",
              "      <td>180</td>\n",
              "      <td>3.888300</td>\n",
              "    </tr>\n",
              "    <tr>\n",
              "      <td>190</td>\n",
              "      <td>3.930300</td>\n",
              "    </tr>\n",
              "    <tr>\n",
              "      <td>200</td>\n",
              "      <td>3.588200</td>\n",
              "    </tr>\n",
              "    <tr>\n",
              "      <td>210</td>\n",
              "      <td>3.546400</td>\n",
              "    </tr>\n",
              "    <tr>\n",
              "      <td>220</td>\n",
              "      <td>3.563200</td>\n",
              "    </tr>\n",
              "    <tr>\n",
              "      <td>230</td>\n",
              "      <td>2.641200</td>\n",
              "    </tr>\n",
              "    <tr>\n",
              "      <td>240</td>\n",
              "      <td>1.528600</td>\n",
              "    </tr>\n",
              "    <tr>\n",
              "      <td>250</td>\n",
              "      <td>0.933200</td>\n",
              "    </tr>\n",
              "    <tr>\n",
              "      <td>260</td>\n",
              "      <td>0.531400</td>\n",
              "    </tr>\n",
              "    <tr>\n",
              "      <td>270</td>\n",
              "      <td>0.208600</td>\n",
              "    </tr>\n",
              "    <tr>\n",
              "      <td>280</td>\n",
              "      <td>0.092000</td>\n",
              "    </tr>\n",
              "    <tr>\n",
              "      <td>290</td>\n",
              "      <td>0.028700</td>\n",
              "    </tr>\n",
              "    <tr>\n",
              "      <td>300</td>\n",
              "      <td>0.060500</td>\n",
              "    </tr>\n",
              "    <tr>\n",
              "      <td>310</td>\n",
              "      <td>0.005300</td>\n",
              "    </tr>\n",
              "    <tr>\n",
              "      <td>320</td>\n",
              "      <td>0.059100</td>\n",
              "    </tr>\n",
              "    <tr>\n",
              "      <td>330</td>\n",
              "      <td>0.003500</td>\n",
              "    </tr>\n",
              "    <tr>\n",
              "      <td>340</td>\n",
              "      <td>0.015700</td>\n",
              "    </tr>\n",
              "    <tr>\n",
              "      <td>350</td>\n",
              "      <td>0.002100</td>\n",
              "    </tr>\n",
              "    <tr>\n",
              "      <td>360</td>\n",
              "      <td>0.002500</td>\n",
              "    </tr>\n",
              "    <tr>\n",
              "      <td>370</td>\n",
              "      <td>0.000800</td>\n",
              "    </tr>\n",
              "    <tr>\n",
              "      <td>380</td>\n",
              "      <td>0.017900</td>\n",
              "    </tr>\n",
              "    <tr>\n",
              "      <td>390</td>\n",
              "      <td>0.006600</td>\n",
              "    </tr>\n",
              "    <tr>\n",
              "      <td>400</td>\n",
              "      <td>0.001000</td>\n",
              "    </tr>\n",
              "    <tr>\n",
              "      <td>410</td>\n",
              "      <td>0.002200</td>\n",
              "    </tr>\n",
              "    <tr>\n",
              "      <td>420</td>\n",
              "      <td>0.001200</td>\n",
              "    </tr>\n",
              "    <tr>\n",
              "      <td>430</td>\n",
              "      <td>0.002200</td>\n",
              "    </tr>\n",
              "    <tr>\n",
              "      <td>440</td>\n",
              "      <td>0.000800</td>\n",
              "    </tr>\n",
              "    <tr>\n",
              "      <td>450</td>\n",
              "      <td>0.001300</td>\n",
              "    </tr>\n",
              "    <tr>\n",
              "      <td>460</td>\n",
              "      <td>0.007500</td>\n",
              "    </tr>\n",
              "    <tr>\n",
              "      <td>470</td>\n",
              "      <td>0.000400</td>\n",
              "    </tr>\n",
              "    <tr>\n",
              "      <td>480</td>\n",
              "      <td>0.001500</td>\n",
              "    </tr>\n",
              "    <tr>\n",
              "      <td>490</td>\n",
              "      <td>0.000700</td>\n",
              "    </tr>\n",
              "    <tr>\n",
              "      <td>500</td>\n",
              "      <td>0.001600</td>\n",
              "    </tr>\n",
              "  </tbody>\n",
              "</table><p>"
            ]
          },
          "metadata": {}
        },
        {
          "output_type": "stream",
          "name": "stderr",
          "text": [
            "Saving model checkpoint to ./results/checkpoint-500\n",
            "Configuration saved in ./results/checkpoint-500/config.json\n",
            "Model weights saved in ./results/checkpoint-500/pytorch_model.bin\n",
            "\n",
            "\n",
            "Training completed. Do not forget to share your model on huggingface.co/models =)\n",
            "\n",
            "\n"
          ]
        },
        {
          "output_type": "execute_result",
          "data": {
            "text/plain": [
              "TrainOutput(global_step=500, training_loss=2.6961772725442423, metrics={'train_runtime': 231.8087, 'train_samples_per_second': 4.314, 'train_steps_per_second': 2.157, 'total_flos': 799221749760000.0, 'train_loss': 2.6961772725442423, 'epoch': 500.0})"
            ]
          },
          "metadata": {},
          "execution_count": 41
        }
      ]
    },
    {
      "cell_type": "markdown",
      "source": [
        "Генерация результата дообученной моделью и проверка метрик"
      ],
      "metadata": {
        "id": "22P71jKwc3mW"
      }
    },
    {
      "cell_type": "code",
      "source": [
        "input_ids = tokenizer(\n",
        "    test_articles,\n",
        "    max_length=600,\n",
        "    add_special_tokens=True,\n",
        "    padding=\"max_length\",\n",
        "    truncation=True,\n",
        "    return_tensors=\"pt\"\n",
        ")[\"input_ids\"]\n",
        "\n",
        "output_ids = model.generate(\n",
        "    input_ids=input_ids.cuda(),\n",
        "    max_length=84,\n",
        "    no_repeat_ngram_size=2,\n",
        "    num_beams=4\n",
        ")\n",
        "\n",
        "titles = []\n",
        "for ids in output_ids:\n",
        "  titles.append(\n",
        "      tokenizer.decode(\n",
        "        ids,\n",
        "        skip_special_tokens=True,\n",
        "        clean_up_tokenization_spaces=False\n",
        "      )\n",
        "  )\n",
        "\n",
        "calc_scores(test_titles, titles)\n"
      ],
      "metadata": {
        "colab": {
          "base_uri": "https://localhost:8080/",
          "height": 124
        },
        "id": "TnsBABwhY1_8",
        "outputId": "c315c55b-6d73-4eb0-8022-ce9929df3425"
      },
      "execution_count": 46,
      "outputs": [
        {
          "output_type": "display_data",
          "data": {
            "text/plain": [
              "<IPython.core.display.HTML object>"
            ],
            "text/html": [
              "<style>pre{white-space: pre-wrap;}</style>"
            ]
          },
          "metadata": {}
        },
        {
          "output_type": "stream",
          "name": "stdout",
          "text": [
            "Count: 4\n",
            "Ref: Названы регионы России с самым дорогим и дешевым новогодним столом\n",
            "Hyp: Названы регионы России с самой высокой стоимость новогодних блюд\n",
            "BLEU:  0.4323148226563139\n",
            "ROUGE:  {'rouge-1': {'r': 0.3544642857142857, 'p': 0.3173611111111111, 'f': 0.33304093194696494}, 'rouge-2': {'r': 0.2619047619047619, 'p': 0.2326388888888889, 'f': 0.24448529164150362}, 'rouge-l': {'r': 0.3544642857142857, 'p': 0.3173611111111111, 'f': 0.33304093194696494}}\n"
          ]
        }
      ]
    },
    {
      "cell_type": "markdown",
      "source": [
        "Без дообучения были метрики:\n",
        "```\n",
        "BLEU:  0.34590326293979023\n",
        "ROUGE:  {'rouge-1': {'r': 0.2794642857142857, 'p': 0.21761363636363634, 'f': 0.24269005360328832}, 'rouge-2': {'r': 0.14285714285714285, 'p': 0.10277777777777777, 'f': 0.1194852916761057}, 'rouge-l': {'r': 0.2794642857142857, 'p': 0.21761363636363634, 'f': 0.24269005360328832}}\n",
        "```\n",
        "*Метрики BLEU и ROUGE после дообучения стали лучше*\n"
      ],
      "metadata": {
        "id": "F1sbqQcndImB"
      }
    },
    {
      "cell_type": "markdown",
      "source": [
        "Посмотрим полученные заголовки:"
      ],
      "metadata": {
        "id": "plinCnsldvox"
      }
    },
    {
      "cell_type": "code",
      "source": [
        "titles[:5]"
      ],
      "metadata": {
        "colab": {
          "base_uri": "https://localhost:8080/",
          "height": 88
        },
        "id": "5iSlv1jhaKg7",
        "outputId": "847d52d3-c0e7-4752-9315-ce4de7293a3e"
      },
      "execution_count": 47,
      "outputs": [
        {
          "output_type": "display_data",
          "data": {
            "text/plain": [
              "<IPython.core.display.HTML object>"
            ],
            "text/html": [
              "<style>pre{white-space: pre-wrap;}</style>"
            ]
          },
          "metadata": {}
        },
        {
          "output_type": "execute_result",
          "data": {
            "text/plain": [
              "['Великобритания заплатит семь евро за посещение стран Евросоюза',\n",
              " 'Источник: ЕК пригласила Россию и Украину на переговоры по газу',\n",
              " 'СМИ: Россиянка Бутина может стать фигурантом еще одного дела',\n",
              " 'Названы регионы России с самой высокой стоимость новогодних блюд']"
            ]
          },
          "metadata": {},
          "execution_count": 47
        }
      ]
    },
    {
      "cell_type": "markdown",
      "source": [
        "Эти же тестовые заголовки:"
      ],
      "metadata": {
        "id": "85-nyp36d0c5"
      }
    },
    {
      "cell_type": "code",
      "source": [
        "test_titles[:5]"
      ],
      "metadata": {
        "colab": {
          "base_uri": "https://localhost:8080/",
          "height": 88
        },
        "id": "bq20flF1aToP",
        "outputId": "806b7f66-99d8-4292-97e3-1267f861ca9d"
      },
      "execution_count": 48,
      "outputs": [
        {
          "output_type": "display_data",
          "data": {
            "text/plain": [
              "<IPython.core.display.HTML object>"
            ],
            "text/html": [
              "<style>pre{white-space: pre-wrap;}</style>"
            ]
          },
          "metadata": {}
        },
        {
          "output_type": "execute_result",
          "data": {
            "text/plain": [
              "['Британцам придется заплатить за\\xa0путешествия по\\xa0Европе',\n",
              " 'Россию и\\xa0Украину пригласили на\\xa0переговоры по\\xa0газу',\n",
              " 'Бутину допросят в\\xa0США по\\xa0новому уголовному делу',\n",
              " 'Названы регионы России с\\xa0самым дорогим и\\xa0дешевым новогодним столом']"
            ]
          },
          "metadata": {},
          "execution_count": 48
        }
      ]
    },
    {
      "cell_type": "markdown",
      "source": [
        "*Видно, что некоторые заголовки, несмотря на улучшение метрик, имеют ошибки. Наиболее вероятная причина - модель чрезмерно обучилась, следует снизить количество обучающих эпох.*"
      ],
      "metadata": {
        "id": "I7xxgYJpd9mH"
      }
    }
  ]
}