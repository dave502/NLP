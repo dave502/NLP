{
  "cells": [
    {
      "cell_type": "markdown",
      "metadata": {
        "id": "view-in-github",
        "colab_type": "text"
      },
      "source": [
        "<a href=\"https://colab.research.google.com/github/dave502/NLP/blob/main/lesson_05/nlp_hw_05.ipynb\" target=\"_parent\"><img src=\"https://colab.research.google.com/assets/colab-badge.svg\" alt=\"Open In Colab\"/></a>"
      ]
    },
    {
      "cell_type": "code",
      "execution_count": null,
      "metadata": {
        "id": "bPr2Iw8mV9XD"
      },
      "outputs": [],
      "source": [
        "%%capture\n",
        "!pip install pyconll\n",
        "!pip install deeppavlov\n",
        "!python -m deeppavlov install ner_ontonotes_bert_torch\n",
        "!pip install pymorphy2"
      ]
    },
    {
      "cell_type": "code",
      "execution_count": null,
      "metadata": {
        "id": "saF6KQzAFgKu"
      },
      "outputs": [],
      "source": [
        "%%capture\n",
        "!pip install corus\n",
        "!pip install razdel"
      ]
    },
    {
      "cell_type": "code",
      "execution_count": null,
      "metadata": {
        "id": "tVQAuUb0vQsD"
      },
      "outputs": [],
      "source": [
        "# !pip uninstall scikit-learn -y\n",
        "# !pip install -U scikit-learn"
      ]
    },
    {
      "cell_type": "code",
      "execution_count": null,
      "metadata": {
        "id": "tTGt8PZrzsvi"
      },
      "outputs": [],
      "source": [
        "# !pip install -U tensorflow"
      ]
    },
    {
      "cell_type": "code",
      "execution_count": null,
      "metadata": {
        "id": "Z-tPswM9s3wB"
      },
      "outputs": [],
      "source": [
        "import warnings\n",
        "warnings.filterwarnings(\"ignore\")\n",
        "\n",
        "import nltk\n",
        "from nltk.corpus import brown\n",
        "from nltk.tag import DefaultTagger, UnigramTagger, BigramTagger, TrigramTagger, RegexpTagger\n",
        "import pyconll\n",
        "\n",
        "from sklearn.feature_extraction.text import CountVectorizer, HashingVectorizer, TfidfVectorizer\n",
        "from sklearn.linear_model import LogisticRegression\n",
        "from sklearn.preprocessing import LabelEncoder\n",
        "\n",
        "import deeppavlov\n",
        "from deeppavlov import configs, build_model\n",
        "\n",
        "from pymorphy2 import MorphAnalyzer"
      ]
    },
    {
      "cell_type": "code",
      "execution_count": null,
      "metadata": {
        "id": "UIxbHe_AwGgZ"
      },
      "outputs": [],
      "source": [
        "from sklearn.metrics import accuracy_score, confusion_matrix, ConfusionMatrixDisplay, f1_score\n",
        "from sklearn import model_selection, preprocessing, linear_model\n",
        "import tensorflow as tf\n",
        "from tensorflow.keras import Sequential\n",
        "from tensorflow.keras.layers import Dense, Embedding, GlobalAveragePooling1D, GlobalMaxPooling1D, Conv1D, GRU, LSTM, Dropout, Input\n",
        "from tensorflow.keras.layers.experimental.preprocessing import TextVectorization\n",
        "\n",
        "from matplotlib import pyplot as plt\n",
        "from sklearn.metrics import plot_confusion_matrix\n",
        "from corus import load_ne5\n",
        "from razdel import tokenize\n",
        "import pandas as pd\n",
        "import numpy as np\n"
      ]
    },
    {
      "cell_type": "markdown",
      "source": [
        "**Проверка работы UnigramTagger, BigramTagger, TrigramTagger**"
      ],
      "metadata": {
        "id": "wCKQr-_Oa88S"
      }
    },
    {
      "cell_type": "code",
      "execution_count": null,
      "metadata": {
        "colab": {
          "base_uri": "https://localhost:8080/"
        },
        "id": "AWzJX0Vj8-Xz",
        "outputId": "b1a2555f-97e3-4aad-cc85-26929813dd99"
      },
      "outputs": [
        {
          "name": "stderr",
          "output_type": "stream",
          "text": [
            "[nltk_data] Downloading package brown to /root/nltk_data...\n",
            "[nltk_data]   Unzipping corpora/brown.zip.\n"
          ]
        },
        {
          "data": {
            "text/plain": [
              "True"
            ]
          },
          "execution_count": 4,
          "metadata": {},
          "output_type": "execute_result"
        }
      ],
      "source": [
        "# загрузка даных\n",
        "nltk.download('brown')"
      ]
    },
    {
      "cell_type": "code",
      "execution_count": null,
      "metadata": {
        "colab": {
          "base_uri": "https://localhost:8080/"
        },
        "id": "zvQ3MekC8Rld",
        "outputId": "5609cf54-b5e8-406f-ac33-80a48f023895"
      },
      "outputs": [
        {
          "data": {
            "text/plain": [
              "FreqDist({'NN': 13162, 'IN': 10616, 'AT': 8893, 'NP': 6866, ',': 5133, 'NNS': 5066, '.': 4452, 'JJ': 4392, 'CC': 2664, 'VBD': 2524, ...})"
            ]
          },
          "execution_count": 7,
          "metadata": {},
          "output_type": "execute_result"
        }
      ],
      "source": [
        "tags = [tag for (word, tag) in brown.tagged_words(categories='news')]\n",
        "nltk.FreqDist(tags)"
      ]
    },
    {
      "cell_type": "code",
      "execution_count": null,
      "metadata": {
        "id": "TuqLHZzp84JL"
      },
      "outputs": [],
      "source": [
        "brown_tagged_sents = brown.tagged_sents()\n",
        "train_len = int(len(brown_tagged_sents)*0.9)\n",
        "train_data, test_data = brown_tagged_sents[:train_len], brown_tagged_sents[train_len:]\n",
        "test_sent = brown.sents()[0]"
      ]
    },
    {
      "cell_type": "code",
      "execution_count": null,
      "metadata": {
        "id": "jvtwz2UjDBqI"
      },
      "outputs": [],
      "source": [
        "# инициализация тэггеров\n",
        "unigram_tagger = UnigramTagger(train_data)\n",
        "bigram_tagger = BigramTagger(train_data, backoff=unigram_tagger)\n",
        "trigram_tagger = BigramTagger(train_data, backoff=bigram_tagger)"
      ]
    },
    {
      "cell_type": "code",
      "execution_count": null,
      "metadata": {
        "colab": {
          "base_uri": "https://localhost:8080/",
          "height": 865
        },
        "id": "bSCp55jPIP77",
        "outputId": "f934c0a6-d2f4-42bc-8a3f-3ac54fc2d09d"
      },
      "outputs": [
        {
          "data": {
            "text/html": [
              "\n",
              "  <div id=\"df-95cdbb8d-b546-4042-950e-56719010aac4\">\n",
              "    <div class=\"colab-df-container\">\n",
              "      <div>\n",
              "<style scoped>\n",
              "    .dataframe tbody tr th:only-of-type {\n",
              "        vertical-align: middle;\n",
              "    }\n",
              "\n",
              "    .dataframe tbody tr th {\n",
              "        vertical-align: top;\n",
              "    }\n",
              "\n",
              "    .dataframe thead th {\n",
              "        text-align: right;\n",
              "    }\n",
              "</style>\n",
              "<table border=\"1\" class=\"dataframe\">\n",
              "  <thead>\n",
              "    <tr style=\"text-align: right;\">\n",
              "      <th></th>\n",
              "      <th>0</th>\n",
              "      <th>1</th>\n",
              "      <th>2</th>\n",
              "      <th>3</th>\n",
              "    </tr>\n",
              "  </thead>\n",
              "  <tbody>\n",
              "    <tr>\n",
              "      <th>0</th>\n",
              "      <td>The</td>\n",
              "      <td>AT</td>\n",
              "      <td>AT</td>\n",
              "      <td>AT</td>\n",
              "    </tr>\n",
              "    <tr>\n",
              "      <th>1</th>\n",
              "      <td>Fulton</td>\n",
              "      <td>NP-TL</td>\n",
              "      <td>NP-TL</td>\n",
              "      <td>NP-TL</td>\n",
              "    </tr>\n",
              "    <tr>\n",
              "      <th>2</th>\n",
              "      <td>County</td>\n",
              "      <td>NN-TL</td>\n",
              "      <td>NN-TL</td>\n",
              "      <td>NN-TL</td>\n",
              "    </tr>\n",
              "    <tr>\n",
              "      <th>3</th>\n",
              "      <td>Grand</td>\n",
              "      <td>JJ-TL</td>\n",
              "      <td>JJ-TL</td>\n",
              "      <td>JJ-TL</td>\n",
              "    </tr>\n",
              "    <tr>\n",
              "      <th>4</th>\n",
              "      <td>Jury</td>\n",
              "      <td>NN-TL</td>\n",
              "      <td>NN-TL</td>\n",
              "      <td>NN-TL</td>\n",
              "    </tr>\n",
              "    <tr>\n",
              "      <th>5</th>\n",
              "      <td>said</td>\n",
              "      <td>VBD</td>\n",
              "      <td>VBD</td>\n",
              "      <td>VBD</td>\n",
              "    </tr>\n",
              "    <tr>\n",
              "      <th>6</th>\n",
              "      <td>Friday</td>\n",
              "      <td>NR</td>\n",
              "      <td>NR</td>\n",
              "      <td>NR</td>\n",
              "    </tr>\n",
              "    <tr>\n",
              "      <th>7</th>\n",
              "      <td>an</td>\n",
              "      <td>AT</td>\n",
              "      <td>AT</td>\n",
              "      <td>AT</td>\n",
              "    </tr>\n",
              "    <tr>\n",
              "      <th>8</th>\n",
              "      <td>investigation</td>\n",
              "      <td>NN</td>\n",
              "      <td>NN</td>\n",
              "      <td>NN</td>\n",
              "    </tr>\n",
              "    <tr>\n",
              "      <th>9</th>\n",
              "      <td>of</td>\n",
              "      <td>IN</td>\n",
              "      <td>IN</td>\n",
              "      <td>IN</td>\n",
              "    </tr>\n",
              "    <tr>\n",
              "      <th>10</th>\n",
              "      <td>Atlanta's</td>\n",
              "      <td>NP$</td>\n",
              "      <td>NP$</td>\n",
              "      <td>NP$</td>\n",
              "    </tr>\n",
              "    <tr>\n",
              "      <th>11</th>\n",
              "      <td>recent</td>\n",
              "      <td>JJ</td>\n",
              "      <td>JJ</td>\n",
              "      <td>JJ</td>\n",
              "    </tr>\n",
              "    <tr>\n",
              "      <th>12</th>\n",
              "      <td>primary</td>\n",
              "      <td>JJ</td>\n",
              "      <td>NN</td>\n",
              "      <td>NN</td>\n",
              "    </tr>\n",
              "    <tr>\n",
              "      <th>13</th>\n",
              "      <td>election</td>\n",
              "      <td>NN</td>\n",
              "      <td>NN</td>\n",
              "      <td>NN</td>\n",
              "    </tr>\n",
              "    <tr>\n",
              "      <th>14</th>\n",
              "      <td>produced</td>\n",
              "      <td>VBN</td>\n",
              "      <td>VBN</td>\n",
              "      <td>VBN</td>\n",
              "    </tr>\n",
              "    <tr>\n",
              "      <th>15</th>\n",
              "      <td>``</td>\n",
              "      <td>``</td>\n",
              "      <td>``</td>\n",
              "      <td>``</td>\n",
              "    </tr>\n",
              "    <tr>\n",
              "      <th>16</th>\n",
              "      <td>no</td>\n",
              "      <td>AT</td>\n",
              "      <td>AT</td>\n",
              "      <td>AT</td>\n",
              "    </tr>\n",
              "    <tr>\n",
              "      <th>17</th>\n",
              "      <td>evidence</td>\n",
              "      <td>NN</td>\n",
              "      <td>NN</td>\n",
              "      <td>NN</td>\n",
              "    </tr>\n",
              "    <tr>\n",
              "      <th>18</th>\n",
              "      <td>''</td>\n",
              "      <td>''</td>\n",
              "      <td>''</td>\n",
              "      <td>''</td>\n",
              "    </tr>\n",
              "    <tr>\n",
              "      <th>19</th>\n",
              "      <td>that</td>\n",
              "      <td>CS</td>\n",
              "      <td>WPS</td>\n",
              "      <td>WPS</td>\n",
              "    </tr>\n",
              "    <tr>\n",
              "      <th>20</th>\n",
              "      <td>any</td>\n",
              "      <td>DTI</td>\n",
              "      <td>DTI</td>\n",
              "      <td>DTI</td>\n",
              "    </tr>\n",
              "    <tr>\n",
              "      <th>21</th>\n",
              "      <td>irregularities</td>\n",
              "      <td>NNS</td>\n",
              "      <td>NNS</td>\n",
              "      <td>NNS</td>\n",
              "    </tr>\n",
              "    <tr>\n",
              "      <th>22</th>\n",
              "      <td>took</td>\n",
              "      <td>VBD</td>\n",
              "      <td>VBD</td>\n",
              "      <td>VBD</td>\n",
              "    </tr>\n",
              "    <tr>\n",
              "      <th>23</th>\n",
              "      <td>place</td>\n",
              "      <td>NN</td>\n",
              "      <td>NN</td>\n",
              "      <td>NN</td>\n",
              "    </tr>\n",
              "    <tr>\n",
              "      <th>24</th>\n",
              "      <td>.</td>\n",
              "      <td>.</td>\n",
              "      <td>.</td>\n",
              "      <td>.</td>\n",
              "    </tr>\n",
              "    <tr>\n",
              "      <th>accuracy</th>\n",
              "      <td></td>\n",
              "      <td>0.884935</td>\n",
              "      <td>0.906236</td>\n",
              "      <td>0.906236</td>\n",
              "    </tr>\n",
              "  </tbody>\n",
              "</table>\n",
              "</div>\n",
              "      <button class=\"colab-df-convert\" onclick=\"convertToInteractive('df-95cdbb8d-b546-4042-950e-56719010aac4')\"\n",
              "              title=\"Convert this dataframe to an interactive table.\"\n",
              "              style=\"display:none;\">\n",
              "        \n",
              "  <svg xmlns=\"http://www.w3.org/2000/svg\" height=\"24px\"viewBox=\"0 0 24 24\"\n",
              "       width=\"24px\">\n",
              "    <path d=\"M0 0h24v24H0V0z\" fill=\"none\"/>\n",
              "    <path d=\"M18.56 5.44l.94 2.06.94-2.06 2.06-.94-2.06-.94-.94-2.06-.94 2.06-2.06.94zm-11 1L8.5 8.5l.94-2.06 2.06-.94-2.06-.94L8.5 2.5l-.94 2.06-2.06.94zm10 10l.94 2.06.94-2.06 2.06-.94-2.06-.94-.94-2.06-.94 2.06-2.06.94z\"/><path d=\"M17.41 7.96l-1.37-1.37c-.4-.4-.92-.59-1.43-.59-.52 0-1.04.2-1.43.59L10.3 9.45l-7.72 7.72c-.78.78-.78 2.05 0 2.83L4 21.41c.39.39.9.59 1.41.59.51 0 1.02-.2 1.41-.59l7.78-7.78 2.81-2.81c.8-.78.8-2.07 0-2.86zM5.41 20L4 18.59l7.72-7.72 1.47 1.35L5.41 20z\"/>\n",
              "  </svg>\n",
              "      </button>\n",
              "      \n",
              "  <style>\n",
              "    .colab-df-container {\n",
              "      display:flex;\n",
              "      flex-wrap:wrap;\n",
              "      gap: 12px;\n",
              "    }\n",
              "\n",
              "    .colab-df-convert {\n",
              "      background-color: #E8F0FE;\n",
              "      border: none;\n",
              "      border-radius: 50%;\n",
              "      cursor: pointer;\n",
              "      display: none;\n",
              "      fill: #1967D2;\n",
              "      height: 32px;\n",
              "      padding: 0 0 0 0;\n",
              "      width: 32px;\n",
              "    }\n",
              "\n",
              "    .colab-df-convert:hover {\n",
              "      background-color: #E2EBFA;\n",
              "      box-shadow: 0px 1px 2px rgba(60, 64, 67, 0.3), 0px 1px 3px 1px rgba(60, 64, 67, 0.15);\n",
              "      fill: #174EA6;\n",
              "    }\n",
              "\n",
              "    [theme=dark] .colab-df-convert {\n",
              "      background-color: #3B4455;\n",
              "      fill: #D2E3FC;\n",
              "    }\n",
              "\n",
              "    [theme=dark] .colab-df-convert:hover {\n",
              "      background-color: #434B5C;\n",
              "      box-shadow: 0px 1px 3px 1px rgba(0, 0, 0, 0.15);\n",
              "      filter: drop-shadow(0px 1px 2px rgba(0, 0, 0, 0.3));\n",
              "      fill: #FFFFFF;\n",
              "    }\n",
              "  </style>\n",
              "\n",
              "      <script>\n",
              "        const buttonEl =\n",
              "          document.querySelector('#df-95cdbb8d-b546-4042-950e-56719010aac4 button.colab-df-convert');\n",
              "        buttonEl.style.display =\n",
              "          google.colab.kernel.accessAllowed ? 'block' : 'none';\n",
              "\n",
              "        async function convertToInteractive(key) {\n",
              "          const element = document.querySelector('#df-95cdbb8d-b546-4042-950e-56719010aac4');\n",
              "          const dataTable =\n",
              "            await google.colab.kernel.invokeFunction('convertToInteractive',\n",
              "                                                     [key], {});\n",
              "          if (!dataTable) return;\n",
              "\n",
              "          const docLinkHtml = 'Like what you see? Visit the ' +\n",
              "            '<a target=\"_blank\" href=https://colab.research.google.com/notebooks/data_table.ipynb>data table notebook</a>'\n",
              "            + ' to learn more about interactive tables.';\n",
              "          element.innerHTML = '';\n",
              "          dataTable['output_type'] = 'display_data';\n",
              "          await google.colab.output.renderOutput(dataTable, element);\n",
              "          const docLink = document.createElement('div');\n",
              "          docLink.innerHTML = docLinkHtml;\n",
              "          element.appendChild(docLink);\n",
              "        }\n",
              "      </script>\n",
              "    </div>\n",
              "  </div>\n",
              "  "
            ],
            "text/plain": [
              "                       0         1         2         3\n",
              "0                    The        AT        AT        AT\n",
              "1                 Fulton     NP-TL     NP-TL     NP-TL\n",
              "2                 County     NN-TL     NN-TL     NN-TL\n",
              "3                  Grand     JJ-TL     JJ-TL     JJ-TL\n",
              "4                   Jury     NN-TL     NN-TL     NN-TL\n",
              "5                   said       VBD       VBD       VBD\n",
              "6                 Friday        NR        NR        NR\n",
              "7                     an        AT        AT        AT\n",
              "8          investigation        NN        NN        NN\n",
              "9                     of        IN        IN        IN\n",
              "10             Atlanta's       NP$       NP$       NP$\n",
              "11                recent        JJ        JJ        JJ\n",
              "12               primary        JJ        NN        NN\n",
              "13              election        NN        NN        NN\n",
              "14              produced       VBN       VBN       VBN\n",
              "15                    ``        ``        ``        ``\n",
              "16                    no        AT        AT        AT\n",
              "17              evidence        NN        NN        NN\n",
              "18                    ''        ''        ''        ''\n",
              "19                  that        CS       WPS       WPS\n",
              "20                   any       DTI       DTI       DTI\n",
              "21        irregularities       NNS       NNS       NNS\n",
              "22                  took       VBD       VBD       VBD\n",
              "23                 place        NN        NN        NN\n",
              "24                     .         .         .         .\n",
              "accuracy                  0.884935  0.906236  0.906236"
            ]
          },
          "execution_count": 128,
          "metadata": {},
          "output_type": "execute_result"
        }
      ],
      "source": [
        "# вывод результатов работы тэггеров и метрик в табличном виде\n",
        "pd.DataFrame(zip([x[0] for x in unigram_tagger.tag(test_sent)],\\\n",
        "         [x[1] for x in unigram_tagger.tag(test_sent)],\\\n",
        "         [x[1] for x in bigram_tagger.tag(test_sent)],\\\n",
        "         [x[1] for x in trigram_tagger.tag(test_sent)])).\\\n",
        "         append(pd.DataFrame({'accuracy': [' ',\n",
        "                 f'{unigram_tagger.accuracy(test_data):5f}',\\\n",
        "                 f'{bigram_tagger.accuracy(test_data):5f}',\\\n",
        "                 f'{trigram_tagger.accuracy(test_data):5f}']}).transpose())"
      ]
    },
    {
      "cell_type": "markdown",
      "source": [
        "В данном случае биграмные и триграмные тэгеры показали себя немного лучше униграмных"
      ],
      "metadata": {
        "id": "W0Bhk9G3aimz"
      }
    },
    {
      "cell_type": "markdown",
      "source": [
        "**Тэггер с использованием классификатора**"
      ],
      "metadata": {
        "id": "QrXKe42pbA1i"
      }
    },
    {
      "cell_type": "code",
      "execution_count": null,
      "metadata": {
        "colab": {
          "base_uri": "https://localhost:8080/"
        },
        "id": "WgZz6CyOPvRw",
        "outputId": "c725652b-4a31-46f2-cef2-aacbb1a0333e"
      },
      "outputs": [
        {
          "name": "stdout",
          "output_type": "stream",
          "text": [
            "2022-10-25 08:54:57 URL:https://raw.githubusercontent.com/UniversalDependencies/UD_Russian-Taiga/master/ru_taiga-ud-train.conllu [17229332/17229332] -> \"train.conllu\" [1]\n",
            "2022-10-25 08:54:57 URL:https://raw.githubusercontent.com/UniversalDependencies/UD_Russian-Taiga/master/ru_taiga-ud-dev.conllu [910013/910013] -> \"test.conllu\" [1]\n"
          ]
        }
      ],
      "source": [
        "# загрузка данных\n",
        "!wget -O train.conllu https://raw.githubusercontent.com/UniversalDependencies/UD_Russian-Taiga/master/ru_taiga-ud-train.conllu -nv\n",
        "!wget -O test.conllu https://raw.githubusercontent.com/UniversalDependencies/UD_Russian-Taiga/master/ru_taiga-ud-dev.conllu -nv"
      ]
    },
    {
      "cell_type": "code",
      "execution_count": null,
      "metadata": {
        "id": "XJkeTaNsWJjb"
      },
      "outputs": [],
      "source": [
        "full_train = pyconll.load_from_file('train.conllu')\n",
        "full_test  = pyconll.load_from_file('test.conllu')"
      ]
    },
    {
      "cell_type": "code",
      "execution_count": null,
      "metadata": {
        "colab": {
          "base_uri": "https://localhost:8080/"
        },
        "id": "md4aw1qQWtGC",
        "outputId": "16b0bec1-ba22-4155-cdcd-5a0c2212515c"
      },
      "outputs": [
        {
          "data": {
            "text/plain": [
              "['Снова приобрел дозу ,',\n",
              " 'В женщине важна верность , а не красота .',\n",
              " 'Важно то , о чем ты думаешь и какие поступки совершаешь .',\n",
              " 'Уже не та на лоб спадает челка ...',\n",
              " 'Но ты не живешь по-евангельски , и это — причина твоих проблем .']"
            ]
          },
          "execution_count": 144,
          "metadata": {},
          "output_type": "execute_result"
        }
      ],
      "source": [
        "all_train_texts = [' '.join(token.form for token in sent) for sent in full_train]\n",
        "all_train_texts[:5]"
      ]
    },
    {
      "cell_type": "code",
      "execution_count": null,
      "metadata": {
        "id": "N-peuz2wWx8N"
      },
      "outputs": [],
      "source": [
        "fdata_train = []\n",
        "for sent in full_train[:]:\n",
        "    fdata_train.append([(token.form, token.upos) for token in sent])\n",
        "    \n",
        "fdata_test = []\n",
        "for sent in full_test[:]:\n",
        "    fdata_test.append([(token.form, token.upos) for token in sent])\n",
        "    \n",
        "fdata_sent_test = []\n",
        "for sent in full_test[:]:\n",
        "    fdata_sent_test.append([token.form for token in sent])"
      ]
    },
    {
      "cell_type": "code",
      "execution_count": null,
      "metadata": {
        "colab": {
          "base_uri": "https://localhost:8080/"
        },
        "id": "MLjI6lPJdVNx",
        "outputId": "a774af37-84e1-4728-cd22-5ea8b019ba75"
      },
      "outputs": [
        {
          "data": {
            "text/plain": [
              "[('Снова', 'ADV'), ('приобрел', 'VERB'), ('дозу', 'NOUN'), (',', 'PUNCT')]"
            ]
          },
          "execution_count": 168,
          "metadata": {},
          "output_type": "execute_result"
        }
      ],
      "source": [
        "fdata_train[0]"
      ]
    },
    {
      "cell_type": "code",
      "execution_count": null,
      "metadata": {
        "colab": {
          "base_uri": "https://localhost:8080/",
          "height": 53
        },
        "id": "6eI3psjvXn4V",
        "outputId": "e01e4f41-c0b4-4a6e-87d0-cde224b8dc5c"
      },
      "outputs": [
        {
          "data": {
            "text/plain": [
              "[('Не', 'PART'), ('могу', 'VERB'), ('найти', 'VERB'), ('воробья', None)]"
            ]
          },
          "metadata": {},
          "output_type": "display_data"
        },
        {
          "data": {
            "text/plain": [
              "0.6859152139461173"
            ]
          },
          "metadata": {},
          "output_type": "display_data"
        }
      ],
      "source": [
        "# проверка работы биграмного тэгера\n",
        "bigram_tagger = BigramTagger(fdata_train, backoff=UnigramTagger(fdata_train))\n",
        "display(bigram_tagger.tag(fdata_sent_test[100]), bigram_tagger.accuracy(fdata_test))"
      ]
    },
    {
      "cell_type": "code",
      "execution_count": null,
      "metadata": {
        "id": "c3m1KHq4XpFD"
      },
      "outputs": [],
      "source": [
        "# создание списка токенов и списка тэгов\n",
        "train_tok = []\n",
        "train_label = []\n",
        "for sent in fdata_train[:]:\n",
        "    for tok in sent:\n",
        "        train_tok.append(tok[0])\n",
        "        train_label.append('NO_TAG' if tok[1] is None else tok[1])\n",
        "        \n",
        "test_tok = []\n",
        "test_label = []\n",
        "for sent in fdata_test[:]:\n",
        "    for tok in sent:\n",
        "        test_tok.append(tok[0])\n",
        "        test_label.append('NO_TAG' if tok[1] is None else tok[1])"
      ]
    },
    {
      "cell_type": "code",
      "execution_count": null,
      "metadata": {
        "id": "8eZh4BREd28Y"
      },
      "outputs": [],
      "source": [
        "# энкодинг тэгов\n",
        "le = LabelEncoder()\n",
        "train_enc_labels = le.fit_transform(train_label)\n",
        "test_enc_labels = le.transform(test_label)"
      ]
    },
    {
      "cell_type": "code",
      "execution_count": null,
      "metadata": {
        "id": "5MXCTLh3d5bM"
      },
      "outputs": [],
      "source": [
        "# инициализация векторайзеров по символам\n",
        "cv_vectorizer_char = CountVectorizer(ngram_range=(1, 3), analyzer='char', max_features=100)\n",
        "tfidf_vectorizer_char = TfidfVectorizer(ngram_range=(1, 3), analyzer='char', max_features=100)\n",
        "hv_ectorizer_char = HashingVectorizer(ngram_range=(1, 3), analyzer='char', n_features=100)\n",
        "# инициализация векторайзеров по словам\n",
        "cv_vectorizer_word = CountVectorizer(ngram_range=(1, 3), analyzer='word', max_features=100)\n",
        "tfidf_vectorizer_word = TfidfVectorizer(ngram_range=(1, 3), analyzer='word', max_features=100)\n",
        "hv_ectorizer_word = HashingVectorizer(ngram_range=(1, 3), analyzer='word', n_features=100)\n",
        "\n",
        "vectorizers = {'cv_vectorizer_char':cv_vectorizer_char,\n",
        "               'tfidf_vectorizer_char':tfidf_vectorizer_char,\n",
        "               'hv_ectorizer_char':hv_ectorizer_char,\n",
        "               'cv_vectorizer_word':cv_vectorizer_word,\n",
        "               'tfidf_vectorizer_word':tfidf_vectorizer_word,\n",
        "               'hv_ectorizer_word':hv_ectorizer_word}"
      ]
    },
    {
      "cell_type": "code",
      "execution_count": null,
      "metadata": {
        "colab": {
          "base_uri": "https://localhost:8080/",
          "height": 238
        },
        "id": "iV1b0pOwhv_Y",
        "outputId": "59ebd23c-8184-40d9-ced4-173418f5ff6f"
      },
      "outputs": [
        {
          "data": {
            "text/html": [
              "\n",
              "  <div id=\"df-f15c9a43-acf4-4c5a-a130-cc8d6c8976d0\">\n",
              "    <div class=\"colab-df-container\">\n",
              "      <div>\n",
              "<style scoped>\n",
              "    .dataframe tbody tr th:only-of-type {\n",
              "        vertical-align: middle;\n",
              "    }\n",
              "\n",
              "    .dataframe tbody tr th {\n",
              "        vertical-align: top;\n",
              "    }\n",
              "\n",
              "    .dataframe thead th {\n",
              "        text-align: right;\n",
              "    }\n",
              "</style>\n",
              "<table border=\"1\" class=\"dataframe\">\n",
              "  <thead>\n",
              "    <tr style=\"text-align: right;\">\n",
              "      <th></th>\n",
              "      <th>vectorizer</th>\n",
              "      <th>accuracy</th>\n",
              "    </tr>\n",
              "  </thead>\n",
              "  <tbody>\n",
              "    <tr>\n",
              "      <th>0</th>\n",
              "      <td>cv_vectorizer_char</td>\n",
              "      <td>0.651743</td>\n",
              "    </tr>\n",
              "    <tr>\n",
              "      <th>1</th>\n",
              "      <td>tfidf_vectorizer_char</td>\n",
              "      <td>0.640055</td>\n",
              "    </tr>\n",
              "    <tr>\n",
              "      <th>2</th>\n",
              "      <td>hv_ectorizer_char</td>\n",
              "      <td>0.587956</td>\n",
              "    </tr>\n",
              "    <tr>\n",
              "      <th>3</th>\n",
              "      <td>cv_vectorizer_word</td>\n",
              "      <td>0.394017</td>\n",
              "    </tr>\n",
              "    <tr>\n",
              "      <th>4</th>\n",
              "      <td>tfidf_vectorizer_word</td>\n",
              "      <td>0.394017</td>\n",
              "    </tr>\n",
              "    <tr>\n",
              "      <th>5</th>\n",
              "      <td>hv_ectorizer_word</td>\n",
              "      <td>0.272682</td>\n",
              "    </tr>\n",
              "  </tbody>\n",
              "</table>\n",
              "</div>\n",
              "      <button class=\"colab-df-convert\" onclick=\"convertToInteractive('df-f15c9a43-acf4-4c5a-a130-cc8d6c8976d0')\"\n",
              "              title=\"Convert this dataframe to an interactive table.\"\n",
              "              style=\"display:none;\">\n",
              "        \n",
              "  <svg xmlns=\"http://www.w3.org/2000/svg\" height=\"24px\"viewBox=\"0 0 24 24\"\n",
              "       width=\"24px\">\n",
              "    <path d=\"M0 0h24v24H0V0z\" fill=\"none\"/>\n",
              "    <path d=\"M18.56 5.44l.94 2.06.94-2.06 2.06-.94-2.06-.94-.94-2.06-.94 2.06-2.06.94zm-11 1L8.5 8.5l.94-2.06 2.06-.94-2.06-.94L8.5 2.5l-.94 2.06-2.06.94zm10 10l.94 2.06.94-2.06 2.06-.94-2.06-.94-.94-2.06-.94 2.06-2.06.94z\"/><path d=\"M17.41 7.96l-1.37-1.37c-.4-.4-.92-.59-1.43-.59-.52 0-1.04.2-1.43.59L10.3 9.45l-7.72 7.72c-.78.78-.78 2.05 0 2.83L4 21.41c.39.39.9.59 1.41.59.51 0 1.02-.2 1.41-.59l7.78-7.78 2.81-2.81c.8-.78.8-2.07 0-2.86zM5.41 20L4 18.59l7.72-7.72 1.47 1.35L5.41 20z\"/>\n",
              "  </svg>\n",
              "      </button>\n",
              "      \n",
              "  <style>\n",
              "    .colab-df-container {\n",
              "      display:flex;\n",
              "      flex-wrap:wrap;\n",
              "      gap: 12px;\n",
              "    }\n",
              "\n",
              "    .colab-df-convert {\n",
              "      background-color: #E8F0FE;\n",
              "      border: none;\n",
              "      border-radius: 50%;\n",
              "      cursor: pointer;\n",
              "      display: none;\n",
              "      fill: #1967D2;\n",
              "      height: 32px;\n",
              "      padding: 0 0 0 0;\n",
              "      width: 32px;\n",
              "    }\n",
              "\n",
              "    .colab-df-convert:hover {\n",
              "      background-color: #E2EBFA;\n",
              "      box-shadow: 0px 1px 2px rgba(60, 64, 67, 0.3), 0px 1px 3px 1px rgba(60, 64, 67, 0.15);\n",
              "      fill: #174EA6;\n",
              "    }\n",
              "\n",
              "    [theme=dark] .colab-df-convert {\n",
              "      background-color: #3B4455;\n",
              "      fill: #D2E3FC;\n",
              "    }\n",
              "\n",
              "    [theme=dark] .colab-df-convert:hover {\n",
              "      background-color: #434B5C;\n",
              "      box-shadow: 0px 1px 3px 1px rgba(0, 0, 0, 0.15);\n",
              "      filter: drop-shadow(0px 1px 2px rgba(0, 0, 0, 0.3));\n",
              "      fill: #FFFFFF;\n",
              "    }\n",
              "  </style>\n",
              "\n",
              "      <script>\n",
              "        const buttonEl =\n",
              "          document.querySelector('#df-f15c9a43-acf4-4c5a-a130-cc8d6c8976d0 button.colab-df-convert');\n",
              "        buttonEl.style.display =\n",
              "          google.colab.kernel.accessAllowed ? 'block' : 'none';\n",
              "\n",
              "        async function convertToInteractive(key) {\n",
              "          const element = document.querySelector('#df-f15c9a43-acf4-4c5a-a130-cc8d6c8976d0');\n",
              "          const dataTable =\n",
              "            await google.colab.kernel.invokeFunction('convertToInteractive',\n",
              "                                                     [key], {});\n",
              "          if (!dataTable) return;\n",
              "\n",
              "          const docLinkHtml = 'Like what you see? Visit the ' +\n",
              "            '<a target=\"_blank\" href=https://colab.research.google.com/notebooks/data_table.ipynb>data table notebook</a>'\n",
              "            + ' to learn more about interactive tables.';\n",
              "          element.innerHTML = '';\n",
              "          dataTable['output_type'] = 'display_data';\n",
              "          await google.colab.output.renderOutput(dataTable, element);\n",
              "          const docLink = document.createElement('div');\n",
              "          docLink.innerHTML = docLinkHtml;\n",
              "          element.appendChild(docLink);\n",
              "        }\n",
              "      </script>\n",
              "    </div>\n",
              "  </div>\n",
              "  "
            ],
            "text/plain": [
              "              vectorizer  accuracy\n",
              "0     cv_vectorizer_char  0.651743\n",
              "1  tfidf_vectorizer_char  0.640055\n",
              "2      hv_ectorizer_char  0.587956\n",
              "3     cv_vectorizer_word  0.394017\n",
              "4  tfidf_vectorizer_word  0.394017\n",
              "5      hv_ectorizer_word  0.272682"
            ]
          },
          "execution_count": 210,
          "metadata": {},
          "output_type": "execute_result"
        }
      ],
      "source": [
        "# проверка векорайзеров на тестовых данных и вывод метрик\n",
        "results = pd.DataFrame(columns=['vectorizer', 'accuracy'])\n",
        "for i, (name, vectorizer) in enumerate(vectorizers.items()):\n",
        "  X_train = vectorizer.fit_transform(train_tok)\n",
        "  X_test  = vectorizer.transform(test_tok)\n",
        "\n",
        "  clf = LogisticRegression(random_state=42, max_iter=20)\n",
        "  clf.fit(X_train, train_enc_labels)\n",
        "  pred = clf.predict(X_test)\n",
        "  accuracy = accuracy_score(test_enc_labels, pred)\n",
        "  results.loc[i] = [name, accuracy]\n",
        "\n",
        "results"
      ]
    },
    {
      "cell_type": "markdown",
      "source": [
        "Классификация с использованием векторайзеров и логистической регрессии в данном примере не дало преимуществ по сревнению с биграмным тэгером. Использование CountVectorizer и  TfidfVectorizer с векторизацией по символам показало значительно лучшие результаты остальных вариантов."
      ],
      "metadata": {
        "id": "utKEofcdds-I"
      }
    },
    {
      "cell_type": "markdown",
      "source": [
        "**Проверка deeppavlov**"
      ],
      "metadata": {
        "id": "bT155phkfTB7"
      }
    },
    {
      "cell_type": "code",
      "execution_count": null,
      "metadata": {
        "id": "RFcTwnSrgAUD"
      },
      "outputs": [],
      "source": [
        "# инициализация модели\n",
        "deeppavlov_ner = build_model(configs.ner.ner_ontonotes_bert_torch, download=True)"
      ]
    },
    {
      "cell_type": "code",
      "execution_count": null,
      "metadata": {
        "id": "CDgB1VRBvYIL"
      },
      "outputs": [],
      "source": [
        "# загрузка данных\n",
        "!wget http://www.labinform.ru/pub/named_entities/collection5.zip -O temp.zip\n",
        "!unzip temp.zip\n",
        "!rm temp.zip"
      ]
    },
    {
      "cell_type": "code",
      "execution_count": null,
      "metadata": {
        "id": "TXkh8EbX2X-M"
      },
      "outputs": [],
      "source": [
        "# чтение произвольного файла\n",
        "with open('Collection5/uchitel.txt', 'r') as file:\n",
        "  text = file.read().replace('\\n', ' ')"
      ]
    },
    {
      "cell_type": "code",
      "execution_count": null,
      "metadata": {
        "colab": {
          "base_uri": "https://localhost:8080/",
          "height": 89
        },
        "id": "GOmj7k5v2_aC",
        "outputId": "5067f9e6-a583-4489-c1ee-e19d9f27b9e2"
      },
      "outputs": [
        {
          "data": {
            "application/vnd.google.colaboratory.intrinsic+json": {
              "type": "string"
            },
            "text/plain": [
              "'Вице-мэром Новосибирска по социальным вопросам стал учитель 10:14 31.01.2013  Мэр Новосибирска Владимир Городецкий назначил своим заместителем по социальным вопросам бывшего замначальника городского управления образования Сергея Нелюбова; главным финансистом города стал бывший первый замглавы Бердска Владимир Штоп.'"
            ]
          },
          "execution_count": 8,
          "metadata": {},
          "output_type": "execute_result"
        }
      ],
      "source": [
        "text"
      ]
    },
    {
      "cell_type": "code",
      "execution_count": null,
      "metadata": {
        "id": "PWJdG34C2u0I"
      },
      "outputs": [],
      "source": [
        "# получение и отображение результата\n",
        "result = deeppavlov_ner([text])"
      ]
    },
    {
      "cell_type": "code",
      "execution_count": null,
      "metadata": {
        "colab": {
          "base_uri": "https://localhost:8080/",
          "height": 1000
        },
        "id": "r7hGAXkQ3Tyd",
        "outputId": "1433bd55-89fc-487d-e661-0cf9f32403d4"
      },
      "outputs": [
        {
          "data": {
            "text/html": [
              "<style  type=\"text/css\" >\n",
              "    #T_e93a1396_548a_11ed_835c_0242ac1c0002row0_col1 {\n",
              "            color:  black;\n",
              "        }    #T_e93a1396_548a_11ed_835c_0242ac1c0002row1_col1 {\n",
              "            color:  black;\n",
              "        }    #T_e93a1396_548a_11ed_835c_0242ac1c0002row2_col1 {\n",
              "            color:  black;\n",
              "        }    #T_e93a1396_548a_11ed_835c_0242ac1c0002row3_col1 {\n",
              "            color:  black;\n",
              "        }    #T_e93a1396_548a_11ed_835c_0242ac1c0002row4_col1 {\n",
              "            color:  black;\n",
              "        }    #T_e93a1396_548a_11ed_835c_0242ac1c0002row5_col1 {\n",
              "            color:  black;\n",
              "        }    #T_e93a1396_548a_11ed_835c_0242ac1c0002row6_col1 {\n",
              "            color:  black;\n",
              "        }    #T_e93a1396_548a_11ed_835c_0242ac1c0002row7_col1 {\n",
              "            color:  black;\n",
              "        }    #T_e93a1396_548a_11ed_835c_0242ac1c0002row8_col1 {\n",
              "            color:  black;\n",
              "        }    #T_e93a1396_548a_11ed_835c_0242ac1c0002row9_col1 {\n",
              "            color:  red;\n",
              "        }    #T_e93a1396_548a_11ed_835c_0242ac1c0002row10_col1 {\n",
              "            color:  black;\n",
              "        }    #T_e93a1396_548a_11ed_835c_0242ac1c0002row11_col1 {\n",
              "            color:  red;\n",
              "        }    #T_e93a1396_548a_11ed_835c_0242ac1c0002row12_col1 {\n",
              "            color:  black;\n",
              "        }    #T_e93a1396_548a_11ed_835c_0242ac1c0002row13_col1 {\n",
              "            color:  black;\n",
              "        }    #T_e93a1396_548a_11ed_835c_0242ac1c0002row14_col1 {\n",
              "            color:  black;\n",
              "        }    #T_e93a1396_548a_11ed_835c_0242ac1c0002row15_col1 {\n",
              "            color:  black;\n",
              "        }    #T_e93a1396_548a_11ed_835c_0242ac1c0002row16_col1 {\n",
              "            color:  red;\n",
              "        }    #T_e93a1396_548a_11ed_835c_0242ac1c0002row17_col1 {\n",
              "            color:  red;\n",
              "        }    #T_e93a1396_548a_11ed_835c_0242ac1c0002row18_col1 {\n",
              "            color:  red;\n",
              "        }    #T_e93a1396_548a_11ed_835c_0242ac1c0002row19_col1 {\n",
              "            color:  red;\n",
              "        }    #T_e93a1396_548a_11ed_835c_0242ac1c0002row20_col1 {\n",
              "            color:  red;\n",
              "        }    #T_e93a1396_548a_11ed_835c_0242ac1c0002row21_col1 {\n",
              "            color:  black;\n",
              "        }    #T_e93a1396_548a_11ed_835c_0242ac1c0002row22_col1 {\n",
              "            color:  black;\n",
              "        }    #T_e93a1396_548a_11ed_835c_0242ac1c0002row23_col1 {\n",
              "            color:  black;\n",
              "        }    #T_e93a1396_548a_11ed_835c_0242ac1c0002row24_col1 {\n",
              "            color:  black;\n",
              "        }    #T_e93a1396_548a_11ed_835c_0242ac1c0002row25_col1 {\n",
              "            color:  black;\n",
              "        }    #T_e93a1396_548a_11ed_835c_0242ac1c0002row26_col1 {\n",
              "            color:  black;\n",
              "        }    #T_e93a1396_548a_11ed_835c_0242ac1c0002row27_col1 {\n",
              "            color:  black;\n",
              "        }    #T_e93a1396_548a_11ed_835c_0242ac1c0002row28_col1 {\n",
              "            color:  black;\n",
              "        }    #T_e93a1396_548a_11ed_835c_0242ac1c0002row29_col1 {\n",
              "            color:  black;\n",
              "        }    #T_e93a1396_548a_11ed_835c_0242ac1c0002row30_col1 {\n",
              "            color:  black;\n",
              "        }    #T_e93a1396_548a_11ed_835c_0242ac1c0002row31_col1 {\n",
              "            color:  black;\n",
              "        }    #T_e93a1396_548a_11ed_835c_0242ac1c0002row32_col1 {\n",
              "            color:  black;\n",
              "        }    #T_e93a1396_548a_11ed_835c_0242ac1c0002row33_col1 {\n",
              "            color:  red;\n",
              "        }    #T_e93a1396_548a_11ed_835c_0242ac1c0002row34_col1 {\n",
              "            color:  black;\n",
              "        }    #T_e93a1396_548a_11ed_835c_0242ac1c0002row35_col1 {\n",
              "            color:  black;\n",
              "        }    #T_e93a1396_548a_11ed_835c_0242ac1c0002row36_col1 {\n",
              "            color:  black;\n",
              "        }    #T_e93a1396_548a_11ed_835c_0242ac1c0002row37_col1 {\n",
              "            color:  black;\n",
              "        }    #T_e93a1396_548a_11ed_835c_0242ac1c0002row38_col1 {\n",
              "            color:  black;\n",
              "        }    #T_e93a1396_548a_11ed_835c_0242ac1c0002row39_col1 {\n",
              "            color:  black;\n",
              "        }    #T_e93a1396_548a_11ed_835c_0242ac1c0002row40_col1 {\n",
              "            color:  black;\n",
              "        }    #T_e93a1396_548a_11ed_835c_0242ac1c0002row41_col1 {\n",
              "            color:  black;\n",
              "        }    #T_e93a1396_548a_11ed_835c_0242ac1c0002row42_col1 {\n",
              "            color:  black;\n",
              "        }    #T_e93a1396_548a_11ed_835c_0242ac1c0002row43_col1 {\n",
              "            color:  red;\n",
              "        }    #T_e93a1396_548a_11ed_835c_0242ac1c0002row44_col1 {\n",
              "            color:  red;\n",
              "        }    #T_e93a1396_548a_11ed_835c_0242ac1c0002row45_col1 {\n",
              "            color:  black;\n",
              "        }</style><table id=\"T_e93a1396_548a_11ed_835c_0242ac1c0002\" class=\"dataframe\"><thead>    <tr>        <th class=\"blank level0\" ></th>        <th class=\"col_heading level0 col0\" >0</th>        <th class=\"col_heading level0 col1\" >1</th>    </tr></thead><tbody>\n",
              "                <tr>\n",
              "                        <th id=\"T_e93a1396_548a_11ed_835c_0242ac1c0002level0_row0\" class=\"row_heading level0 row0\" >0</th>\n",
              "                        <td id=\"T_e93a1396_548a_11ed_835c_0242ac1c0002row0_col0\" class=\"data row0 col0\" >Вице</td>\n",
              "                        <td id=\"T_e93a1396_548a_11ed_835c_0242ac1c0002row0_col1\" class=\"data row0 col1\" >O</td>\n",
              "            </tr>\n",
              "            <tr>\n",
              "                        <th id=\"T_e93a1396_548a_11ed_835c_0242ac1c0002level0_row1\" class=\"row_heading level0 row1\" >1</th>\n",
              "                        <td id=\"T_e93a1396_548a_11ed_835c_0242ac1c0002row1_col0\" class=\"data row1 col0\" >-</td>\n",
              "                        <td id=\"T_e93a1396_548a_11ed_835c_0242ac1c0002row1_col1\" class=\"data row1 col1\" >O</td>\n",
              "            </tr>\n",
              "            <tr>\n",
              "                        <th id=\"T_e93a1396_548a_11ed_835c_0242ac1c0002level0_row2\" class=\"row_heading level0 row2\" >2</th>\n",
              "                        <td id=\"T_e93a1396_548a_11ed_835c_0242ac1c0002row2_col0\" class=\"data row2 col0\" >мэром</td>\n",
              "                        <td id=\"T_e93a1396_548a_11ed_835c_0242ac1c0002row2_col1\" class=\"data row2 col1\" >O</td>\n",
              "            </tr>\n",
              "            <tr>\n",
              "                        <th id=\"T_e93a1396_548a_11ed_835c_0242ac1c0002level0_row3\" class=\"row_heading level0 row3\" >3</th>\n",
              "                        <td id=\"T_e93a1396_548a_11ed_835c_0242ac1c0002row3_col0\" class=\"data row3 col0\" >Новосибирска</td>\n",
              "                        <td id=\"T_e93a1396_548a_11ed_835c_0242ac1c0002row3_col1\" class=\"data row3 col1\" >O</td>\n",
              "            </tr>\n",
              "            <tr>\n",
              "                        <th id=\"T_e93a1396_548a_11ed_835c_0242ac1c0002level0_row4\" class=\"row_heading level0 row4\" >4</th>\n",
              "                        <td id=\"T_e93a1396_548a_11ed_835c_0242ac1c0002row4_col0\" class=\"data row4 col0\" >по</td>\n",
              "                        <td id=\"T_e93a1396_548a_11ed_835c_0242ac1c0002row4_col1\" class=\"data row4 col1\" >O</td>\n",
              "            </tr>\n",
              "            <tr>\n",
              "                        <th id=\"T_e93a1396_548a_11ed_835c_0242ac1c0002level0_row5\" class=\"row_heading level0 row5\" >5</th>\n",
              "                        <td id=\"T_e93a1396_548a_11ed_835c_0242ac1c0002row5_col0\" class=\"data row5 col0\" >социальным</td>\n",
              "                        <td id=\"T_e93a1396_548a_11ed_835c_0242ac1c0002row5_col1\" class=\"data row5 col1\" >O</td>\n",
              "            </tr>\n",
              "            <tr>\n",
              "                        <th id=\"T_e93a1396_548a_11ed_835c_0242ac1c0002level0_row6\" class=\"row_heading level0 row6\" >6</th>\n",
              "                        <td id=\"T_e93a1396_548a_11ed_835c_0242ac1c0002row6_col0\" class=\"data row6 col0\" >вопросам</td>\n",
              "                        <td id=\"T_e93a1396_548a_11ed_835c_0242ac1c0002row6_col1\" class=\"data row6 col1\" >O</td>\n",
              "            </tr>\n",
              "            <tr>\n",
              "                        <th id=\"T_e93a1396_548a_11ed_835c_0242ac1c0002level0_row7\" class=\"row_heading level0 row7\" >7</th>\n",
              "                        <td id=\"T_e93a1396_548a_11ed_835c_0242ac1c0002row7_col0\" class=\"data row7 col0\" >стал</td>\n",
              "                        <td id=\"T_e93a1396_548a_11ed_835c_0242ac1c0002row7_col1\" class=\"data row7 col1\" >O</td>\n",
              "            </tr>\n",
              "            <tr>\n",
              "                        <th id=\"T_e93a1396_548a_11ed_835c_0242ac1c0002level0_row8\" class=\"row_heading level0 row8\" >8</th>\n",
              "                        <td id=\"T_e93a1396_548a_11ed_835c_0242ac1c0002row8_col0\" class=\"data row8 col0\" >учитель</td>\n",
              "                        <td id=\"T_e93a1396_548a_11ed_835c_0242ac1c0002row8_col1\" class=\"data row8 col1\" >O</td>\n",
              "            </tr>\n",
              "            <tr>\n",
              "                        <th id=\"T_e93a1396_548a_11ed_835c_0242ac1c0002level0_row9\" class=\"row_heading level0 row9\" >9</th>\n",
              "                        <td id=\"T_e93a1396_548a_11ed_835c_0242ac1c0002row9_col0\" class=\"data row9 col0\" >10</td>\n",
              "                        <td id=\"T_e93a1396_548a_11ed_835c_0242ac1c0002row9_col1\" class=\"data row9 col1\" >B-TIME</td>\n",
              "            </tr>\n",
              "            <tr>\n",
              "                        <th id=\"T_e93a1396_548a_11ed_835c_0242ac1c0002level0_row10\" class=\"row_heading level0 row10\" >10</th>\n",
              "                        <td id=\"T_e93a1396_548a_11ed_835c_0242ac1c0002row10_col0\" class=\"data row10 col0\" >:</td>\n",
              "                        <td id=\"T_e93a1396_548a_11ed_835c_0242ac1c0002row10_col1\" class=\"data row10 col1\" >O</td>\n",
              "            </tr>\n",
              "            <tr>\n",
              "                        <th id=\"T_e93a1396_548a_11ed_835c_0242ac1c0002level0_row11\" class=\"row_heading level0 row11\" >11</th>\n",
              "                        <td id=\"T_e93a1396_548a_11ed_835c_0242ac1c0002row11_col0\" class=\"data row11 col0\" >14</td>\n",
              "                        <td id=\"T_e93a1396_548a_11ed_835c_0242ac1c0002row11_col1\" class=\"data row11 col1\" >B-TIME</td>\n",
              "            </tr>\n",
              "            <tr>\n",
              "                        <th id=\"T_e93a1396_548a_11ed_835c_0242ac1c0002level0_row12\" class=\"row_heading level0 row12\" >12</th>\n",
              "                        <td id=\"T_e93a1396_548a_11ed_835c_0242ac1c0002row12_col0\" class=\"data row12 col0\" >31</td>\n",
              "                        <td id=\"T_e93a1396_548a_11ed_835c_0242ac1c0002row12_col1\" class=\"data row12 col1\" >O</td>\n",
              "            </tr>\n",
              "            <tr>\n",
              "                        <th id=\"T_e93a1396_548a_11ed_835c_0242ac1c0002level0_row13\" class=\"row_heading level0 row13\" >13</th>\n",
              "                        <td id=\"T_e93a1396_548a_11ed_835c_0242ac1c0002row13_col0\" class=\"data row13 col0\" >.</td>\n",
              "                        <td id=\"T_e93a1396_548a_11ed_835c_0242ac1c0002row13_col1\" class=\"data row13 col1\" >O</td>\n",
              "            </tr>\n",
              "            <tr>\n",
              "                        <th id=\"T_e93a1396_548a_11ed_835c_0242ac1c0002level0_row14\" class=\"row_heading level0 row14\" >14</th>\n",
              "                        <td id=\"T_e93a1396_548a_11ed_835c_0242ac1c0002row14_col0\" class=\"data row14 col0\" >01</td>\n",
              "                        <td id=\"T_e93a1396_548a_11ed_835c_0242ac1c0002row14_col1\" class=\"data row14 col1\" >O</td>\n",
              "            </tr>\n",
              "            <tr>\n",
              "                        <th id=\"T_e93a1396_548a_11ed_835c_0242ac1c0002level0_row15\" class=\"row_heading level0 row15\" >15</th>\n",
              "                        <td id=\"T_e93a1396_548a_11ed_835c_0242ac1c0002row15_col0\" class=\"data row15 col0\" >.</td>\n",
              "                        <td id=\"T_e93a1396_548a_11ed_835c_0242ac1c0002row15_col1\" class=\"data row15 col1\" >O</td>\n",
              "            </tr>\n",
              "            <tr>\n",
              "                        <th id=\"T_e93a1396_548a_11ed_835c_0242ac1c0002level0_row16\" class=\"row_heading level0 row16\" >16</th>\n",
              "                        <td id=\"T_e93a1396_548a_11ed_835c_0242ac1c0002row16_col0\" class=\"data row16 col0\" >2013</td>\n",
              "                        <td id=\"T_e93a1396_548a_11ed_835c_0242ac1c0002row16_col1\" class=\"data row16 col1\" >B-DATE</td>\n",
              "            </tr>\n",
              "            <tr>\n",
              "                        <th id=\"T_e93a1396_548a_11ed_835c_0242ac1c0002level0_row17\" class=\"row_heading level0 row17\" >17</th>\n",
              "                        <td id=\"T_e93a1396_548a_11ed_835c_0242ac1c0002row17_col0\" class=\"data row17 col0\" >Мэр</td>\n",
              "                        <td id=\"T_e93a1396_548a_11ed_835c_0242ac1c0002row17_col1\" class=\"data row17 col1\" >B-PERSON</td>\n",
              "            </tr>\n",
              "            <tr>\n",
              "                        <th id=\"T_e93a1396_548a_11ed_835c_0242ac1c0002level0_row18\" class=\"row_heading level0 row18\" >18</th>\n",
              "                        <td id=\"T_e93a1396_548a_11ed_835c_0242ac1c0002row18_col0\" class=\"data row18 col0\" >Новосибирска</td>\n",
              "                        <td id=\"T_e93a1396_548a_11ed_835c_0242ac1c0002row18_col1\" class=\"data row18 col1\" >I-PERSON</td>\n",
              "            </tr>\n",
              "            <tr>\n",
              "                        <th id=\"T_e93a1396_548a_11ed_835c_0242ac1c0002level0_row19\" class=\"row_heading level0 row19\" >19</th>\n",
              "                        <td id=\"T_e93a1396_548a_11ed_835c_0242ac1c0002row19_col0\" class=\"data row19 col0\" >Владимир</td>\n",
              "                        <td id=\"T_e93a1396_548a_11ed_835c_0242ac1c0002row19_col1\" class=\"data row19 col1\" >I-PERSON</td>\n",
              "            </tr>\n",
              "            <tr>\n",
              "                        <th id=\"T_e93a1396_548a_11ed_835c_0242ac1c0002level0_row20\" class=\"row_heading level0 row20\" >20</th>\n",
              "                        <td id=\"T_e93a1396_548a_11ed_835c_0242ac1c0002row20_col0\" class=\"data row20 col0\" >Городецкий</td>\n",
              "                        <td id=\"T_e93a1396_548a_11ed_835c_0242ac1c0002row20_col1\" class=\"data row20 col1\" >I-PERSON</td>\n",
              "            </tr>\n",
              "            <tr>\n",
              "                        <th id=\"T_e93a1396_548a_11ed_835c_0242ac1c0002level0_row21\" class=\"row_heading level0 row21\" >21</th>\n",
              "                        <td id=\"T_e93a1396_548a_11ed_835c_0242ac1c0002row21_col0\" class=\"data row21 col0\" >назначил</td>\n",
              "                        <td id=\"T_e93a1396_548a_11ed_835c_0242ac1c0002row21_col1\" class=\"data row21 col1\" >O</td>\n",
              "            </tr>\n",
              "            <tr>\n",
              "                        <th id=\"T_e93a1396_548a_11ed_835c_0242ac1c0002level0_row22\" class=\"row_heading level0 row22\" >22</th>\n",
              "                        <td id=\"T_e93a1396_548a_11ed_835c_0242ac1c0002row22_col0\" class=\"data row22 col0\" >своим</td>\n",
              "                        <td id=\"T_e93a1396_548a_11ed_835c_0242ac1c0002row22_col1\" class=\"data row22 col1\" >O</td>\n",
              "            </tr>\n",
              "            <tr>\n",
              "                        <th id=\"T_e93a1396_548a_11ed_835c_0242ac1c0002level0_row23\" class=\"row_heading level0 row23\" >23</th>\n",
              "                        <td id=\"T_e93a1396_548a_11ed_835c_0242ac1c0002row23_col0\" class=\"data row23 col0\" >заместителем</td>\n",
              "                        <td id=\"T_e93a1396_548a_11ed_835c_0242ac1c0002row23_col1\" class=\"data row23 col1\" >O</td>\n",
              "            </tr>\n",
              "            <tr>\n",
              "                        <th id=\"T_e93a1396_548a_11ed_835c_0242ac1c0002level0_row24\" class=\"row_heading level0 row24\" >24</th>\n",
              "                        <td id=\"T_e93a1396_548a_11ed_835c_0242ac1c0002row24_col0\" class=\"data row24 col0\" >по</td>\n",
              "                        <td id=\"T_e93a1396_548a_11ed_835c_0242ac1c0002row24_col1\" class=\"data row24 col1\" >O</td>\n",
              "            </tr>\n",
              "            <tr>\n",
              "                        <th id=\"T_e93a1396_548a_11ed_835c_0242ac1c0002level0_row25\" class=\"row_heading level0 row25\" >25</th>\n",
              "                        <td id=\"T_e93a1396_548a_11ed_835c_0242ac1c0002row25_col0\" class=\"data row25 col0\" >социальным</td>\n",
              "                        <td id=\"T_e93a1396_548a_11ed_835c_0242ac1c0002row25_col1\" class=\"data row25 col1\" >O</td>\n",
              "            </tr>\n",
              "            <tr>\n",
              "                        <th id=\"T_e93a1396_548a_11ed_835c_0242ac1c0002level0_row26\" class=\"row_heading level0 row26\" >26</th>\n",
              "                        <td id=\"T_e93a1396_548a_11ed_835c_0242ac1c0002row26_col0\" class=\"data row26 col0\" >вопросам</td>\n",
              "                        <td id=\"T_e93a1396_548a_11ed_835c_0242ac1c0002row26_col1\" class=\"data row26 col1\" >O</td>\n",
              "            </tr>\n",
              "            <tr>\n",
              "                        <th id=\"T_e93a1396_548a_11ed_835c_0242ac1c0002level0_row27\" class=\"row_heading level0 row27\" >27</th>\n",
              "                        <td id=\"T_e93a1396_548a_11ed_835c_0242ac1c0002row27_col0\" class=\"data row27 col0\" >бывшего</td>\n",
              "                        <td id=\"T_e93a1396_548a_11ed_835c_0242ac1c0002row27_col1\" class=\"data row27 col1\" >O</td>\n",
              "            </tr>\n",
              "            <tr>\n",
              "                        <th id=\"T_e93a1396_548a_11ed_835c_0242ac1c0002level0_row28\" class=\"row_heading level0 row28\" >28</th>\n",
              "                        <td id=\"T_e93a1396_548a_11ed_835c_0242ac1c0002row28_col0\" class=\"data row28 col0\" >замначальника</td>\n",
              "                        <td id=\"T_e93a1396_548a_11ed_835c_0242ac1c0002row28_col1\" class=\"data row28 col1\" >O</td>\n",
              "            </tr>\n",
              "            <tr>\n",
              "                        <th id=\"T_e93a1396_548a_11ed_835c_0242ac1c0002level0_row29\" class=\"row_heading level0 row29\" >29</th>\n",
              "                        <td id=\"T_e93a1396_548a_11ed_835c_0242ac1c0002row29_col0\" class=\"data row29 col0\" >городского</td>\n",
              "                        <td id=\"T_e93a1396_548a_11ed_835c_0242ac1c0002row29_col1\" class=\"data row29 col1\" >O</td>\n",
              "            </tr>\n",
              "            <tr>\n",
              "                        <th id=\"T_e93a1396_548a_11ed_835c_0242ac1c0002level0_row30\" class=\"row_heading level0 row30\" >30</th>\n",
              "                        <td id=\"T_e93a1396_548a_11ed_835c_0242ac1c0002row30_col0\" class=\"data row30 col0\" >управления</td>\n",
              "                        <td id=\"T_e93a1396_548a_11ed_835c_0242ac1c0002row30_col1\" class=\"data row30 col1\" >O</td>\n",
              "            </tr>\n",
              "            <tr>\n",
              "                        <th id=\"T_e93a1396_548a_11ed_835c_0242ac1c0002level0_row31\" class=\"row_heading level0 row31\" >31</th>\n",
              "                        <td id=\"T_e93a1396_548a_11ed_835c_0242ac1c0002row31_col0\" class=\"data row31 col0\" >образования</td>\n",
              "                        <td id=\"T_e93a1396_548a_11ed_835c_0242ac1c0002row31_col1\" class=\"data row31 col1\" >O</td>\n",
              "            </tr>\n",
              "            <tr>\n",
              "                        <th id=\"T_e93a1396_548a_11ed_835c_0242ac1c0002level0_row32\" class=\"row_heading level0 row32\" >32</th>\n",
              "                        <td id=\"T_e93a1396_548a_11ed_835c_0242ac1c0002row32_col0\" class=\"data row32 col0\" >Сергея</td>\n",
              "                        <td id=\"T_e93a1396_548a_11ed_835c_0242ac1c0002row32_col1\" class=\"data row32 col1\" >O</td>\n",
              "            </tr>\n",
              "            <tr>\n",
              "                        <th id=\"T_e93a1396_548a_11ed_835c_0242ac1c0002level0_row33\" class=\"row_heading level0 row33\" >33</th>\n",
              "                        <td id=\"T_e93a1396_548a_11ed_835c_0242ac1c0002row33_col0\" class=\"data row33 col0\" >Нелюбова</td>\n",
              "                        <td id=\"T_e93a1396_548a_11ed_835c_0242ac1c0002row33_col1\" class=\"data row33 col1\" >I-PERSON</td>\n",
              "            </tr>\n",
              "            <tr>\n",
              "                        <th id=\"T_e93a1396_548a_11ed_835c_0242ac1c0002level0_row34\" class=\"row_heading level0 row34\" >34</th>\n",
              "                        <td id=\"T_e93a1396_548a_11ed_835c_0242ac1c0002row34_col0\" class=\"data row34 col0\" >;</td>\n",
              "                        <td id=\"T_e93a1396_548a_11ed_835c_0242ac1c0002row34_col1\" class=\"data row34 col1\" >O</td>\n",
              "            </tr>\n",
              "            <tr>\n",
              "                        <th id=\"T_e93a1396_548a_11ed_835c_0242ac1c0002level0_row35\" class=\"row_heading level0 row35\" >35</th>\n",
              "                        <td id=\"T_e93a1396_548a_11ed_835c_0242ac1c0002row35_col0\" class=\"data row35 col0\" >главным</td>\n",
              "                        <td id=\"T_e93a1396_548a_11ed_835c_0242ac1c0002row35_col1\" class=\"data row35 col1\" >O</td>\n",
              "            </tr>\n",
              "            <tr>\n",
              "                        <th id=\"T_e93a1396_548a_11ed_835c_0242ac1c0002level0_row36\" class=\"row_heading level0 row36\" >36</th>\n",
              "                        <td id=\"T_e93a1396_548a_11ed_835c_0242ac1c0002row36_col0\" class=\"data row36 col0\" >финансистом</td>\n",
              "                        <td id=\"T_e93a1396_548a_11ed_835c_0242ac1c0002row36_col1\" class=\"data row36 col1\" >O</td>\n",
              "            </tr>\n",
              "            <tr>\n",
              "                        <th id=\"T_e93a1396_548a_11ed_835c_0242ac1c0002level0_row37\" class=\"row_heading level0 row37\" >37</th>\n",
              "                        <td id=\"T_e93a1396_548a_11ed_835c_0242ac1c0002row37_col0\" class=\"data row37 col0\" >города</td>\n",
              "                        <td id=\"T_e93a1396_548a_11ed_835c_0242ac1c0002row37_col1\" class=\"data row37 col1\" >O</td>\n",
              "            </tr>\n",
              "            <tr>\n",
              "                        <th id=\"T_e93a1396_548a_11ed_835c_0242ac1c0002level0_row38\" class=\"row_heading level0 row38\" >38</th>\n",
              "                        <td id=\"T_e93a1396_548a_11ed_835c_0242ac1c0002row38_col0\" class=\"data row38 col0\" >стал</td>\n",
              "                        <td id=\"T_e93a1396_548a_11ed_835c_0242ac1c0002row38_col1\" class=\"data row38 col1\" >O</td>\n",
              "            </tr>\n",
              "            <tr>\n",
              "                        <th id=\"T_e93a1396_548a_11ed_835c_0242ac1c0002level0_row39\" class=\"row_heading level0 row39\" >39</th>\n",
              "                        <td id=\"T_e93a1396_548a_11ed_835c_0242ac1c0002row39_col0\" class=\"data row39 col0\" >бывший</td>\n",
              "                        <td id=\"T_e93a1396_548a_11ed_835c_0242ac1c0002row39_col1\" class=\"data row39 col1\" >O</td>\n",
              "            </tr>\n",
              "            <tr>\n",
              "                        <th id=\"T_e93a1396_548a_11ed_835c_0242ac1c0002level0_row40\" class=\"row_heading level0 row40\" >40</th>\n",
              "                        <td id=\"T_e93a1396_548a_11ed_835c_0242ac1c0002row40_col0\" class=\"data row40 col0\" >первый</td>\n",
              "                        <td id=\"T_e93a1396_548a_11ed_835c_0242ac1c0002row40_col1\" class=\"data row40 col1\" >O</td>\n",
              "            </tr>\n",
              "            <tr>\n",
              "                        <th id=\"T_e93a1396_548a_11ed_835c_0242ac1c0002level0_row41\" class=\"row_heading level0 row41\" >41</th>\n",
              "                        <td id=\"T_e93a1396_548a_11ed_835c_0242ac1c0002row41_col0\" class=\"data row41 col0\" >замглавы</td>\n",
              "                        <td id=\"T_e93a1396_548a_11ed_835c_0242ac1c0002row41_col1\" class=\"data row41 col1\" >O</td>\n",
              "            </tr>\n",
              "            <tr>\n",
              "                        <th id=\"T_e93a1396_548a_11ed_835c_0242ac1c0002level0_row42\" class=\"row_heading level0 row42\" >42</th>\n",
              "                        <td id=\"T_e93a1396_548a_11ed_835c_0242ac1c0002row42_col0\" class=\"data row42 col0\" >Бердска</td>\n",
              "                        <td id=\"T_e93a1396_548a_11ed_835c_0242ac1c0002row42_col1\" class=\"data row42 col1\" >O</td>\n",
              "            </tr>\n",
              "            <tr>\n",
              "                        <th id=\"T_e93a1396_548a_11ed_835c_0242ac1c0002level0_row43\" class=\"row_heading level0 row43\" >43</th>\n",
              "                        <td id=\"T_e93a1396_548a_11ed_835c_0242ac1c0002row43_col0\" class=\"data row43 col0\" >Владимир</td>\n",
              "                        <td id=\"T_e93a1396_548a_11ed_835c_0242ac1c0002row43_col1\" class=\"data row43 col1\" >B-PERSON</td>\n",
              "            </tr>\n",
              "            <tr>\n",
              "                        <th id=\"T_e93a1396_548a_11ed_835c_0242ac1c0002level0_row44\" class=\"row_heading level0 row44\" >44</th>\n",
              "                        <td id=\"T_e93a1396_548a_11ed_835c_0242ac1c0002row44_col0\" class=\"data row44 col0\" >Штоп</td>\n",
              "                        <td id=\"T_e93a1396_548a_11ed_835c_0242ac1c0002row44_col1\" class=\"data row44 col1\" >I-PERSON</td>\n",
              "            </tr>\n",
              "            <tr>\n",
              "                        <th id=\"T_e93a1396_548a_11ed_835c_0242ac1c0002level0_row45\" class=\"row_heading level0 row45\" >45</th>\n",
              "                        <td id=\"T_e93a1396_548a_11ed_835c_0242ac1c0002row45_col0\" class=\"data row45 col0\" >.</td>\n",
              "                        <td id=\"T_e93a1396_548a_11ed_835c_0242ac1c0002row45_col1\" class=\"data row45 col1\" >O</td>\n",
              "            </tr>\n",
              "    </tbody></table>"
            ],
            "text/plain": [
              "<pandas.io.formats.style.Styler at 0x7f55be48b510>"
            ]
          },
          "execution_count": 70,
          "metadata": {},
          "output_type": "execute_result"
        }
      ],
      "source": [
        "pd.DataFrame(zip(result[0][0], result[1][0])).style.applymap(\n",
        "           lambda x: 'color: red' if x != 'O' else 'color: black', subset=pd.IndexSlice[:,1:])"
      ]
    },
    {
      "cell_type": "markdown",
      "source": [
        "**NER с использованием NN**"
      ],
      "metadata": {
        "id": "cqjqfBF6f2GT"
      }
    },
    {
      "cell_type": "code",
      "execution_count": null,
      "metadata": {
        "id": "uojsIZ4xFVmc"
      },
      "outputs": [],
      "source": [
        "# загрузка данных\n",
        "!wget http://www.labinform.ru/pub/named_entities/collection5.zip -O temp.zip\n",
        "!unzip temp.zip\n",
        "!rm temp.zip"
      ]
    },
    {
      "cell_type": "code",
      "execution_count": null,
      "metadata": {
        "colab": {
          "base_uri": "https://localhost:8080/"
        },
        "id": "m8Q0d_LQKgBd",
        "outputId": "0c0d5b9e-4ff4-479f-d1cd-77bb46bea869"
      },
      "outputs": [
        {
          "data": {
            "text/plain": [
              "Ne5Markup(\n",
              "    id='047',\n",
              "    text='Обама выбрал главную защитницу американских потребителей\\r\\n\\r\\nПрезидент Барак Обама выбрал назначенца на должность председателя Комиссии США по безопасности потребительской продукции (CPSC), сообщило агентство Reuters. Этот пост достанется Инес Мур Тененбаум (Inez Moore Tenenbaum) - бывшему инспектору учебных заведений из Южной Каролины. Кроме того, Обама планирует увеличить число членов Комиссии.\\r\\n\\r\\nИнес Тененбаум дважды, в 1998 и 2002 годах, избиралась от демократов на пост главного инспектора учебных заведений штата Южная Каролина. После победы Обамы на выборах ее называли вероятным претендентом на пост министра образования в новой администрации. О ее грядущем назначении руководителем CPSC Белый дом объявил во вторник.\\r\\n\\r\\nПо плану Обамы, число членов CPSC должно вырасти с трех до пяти. Одним из новых членов Комиссии предполагается назначить Роберта Адлера (Robert Adler), профессора Университета Северной Каролины, занимающийся вопросами потребительской безопасности. \"Один из главных приоритетов моей администрации - добиться, чтобы необходимые американскому народу продукты были безопасными\", - говорится в заявлении Обамы, который намерен значительно увеличить бюджет CPSC. ',\n",
              "    spans=[Ne5Span(\n",
              "         index='T1',\n",
              "         type='PER',\n",
              "         start=0,\n",
              "         stop=5,\n",
              "         text='Обама'\n",
              "     ), Ne5Span(\n",
              "         index='T2',\n",
              "         type='PER',\n",
              "         start=70,\n",
              "         stop=81,\n",
              "         text='Барак Обама'\n",
              "     ), Ne5Span(\n",
              "         index='T3',\n",
              "         type='ORG',\n",
              "         start=126,\n",
              "         stop=187,\n",
              "         text='Комиссии США по безопасности потребительской продукции (CPSC)'\n",
              "     ), Ne5Span(\n",
              "         index='T4',\n",
              "         type='MEDIA',\n",
              "         start=208,\n",
              "         stop=215,\n",
              "         text='Reuters'\n",
              "     ), Ne5Span(\n",
              "         index='T5',\n",
              "         type='PER',\n",
              "         start=238,\n",
              "         stop=279,\n",
              "         text='Инес Мур Тененбаум (Inez Moore Tenenbaum)'\n",
              "     ), Ne5Span(\n",
              "         index='T6',\n",
              "         type='LOC',\n",
              "         start=322,\n",
              "         stop=336,\n",
              "         text='Южной Каролины'\n",
              "     ), Ne5Span(\n",
              "         index='T7',\n",
              "         type='PER',\n",
              "         start=350,\n",
              "         stop=355,\n",
              "         text='Обама'\n",
              "     ), Ne5Span(\n",
              "         index='T8',\n",
              "         type='ORG',\n",
              "         start=389,\n",
              "         stop=397,\n",
              "         text='Комиссии'\n",
              "     ), Ne5Span(\n",
              "         index='T9',\n",
              "         type='PER',\n",
              "         start=402,\n",
              "         stop=416,\n",
              "         text='Инес Тененбаум'\n",
              "     ), Ne5Span(\n",
              "         index='T10',\n",
              "         type='LOC',\n",
              "         start=523,\n",
              "         stop=537,\n",
              "         text='Южная Каролина'\n",
              "     ), Ne5Span(\n",
              "         index='T11',\n",
              "         type='PER',\n",
              "         start=552,\n",
              "         stop=557,\n",
              "         text='Обамы'\n",
              "     ), Ne5Span(\n",
              "         index='T12',\n",
              "         type='ORG',\n",
              "         start=695,\n",
              "         stop=699,\n",
              "         text='CPSC'\n",
              "     ), Ne5Span(\n",
              "         index='T13',\n",
              "         type='GEOPOLIT',\n",
              "         start=700,\n",
              "         stop=709,\n",
              "         text='Белый дом'\n",
              "     ), Ne5Span(\n",
              "         index='T14',\n",
              "         type='PER',\n",
              "         start=742,\n",
              "         stop=747,\n",
              "         text='Обамы'\n",
              "     ), Ne5Span(\n",
              "         index='T15',\n",
              "         type='ORG',\n",
              "         start=762,\n",
              "         stop=766,\n",
              "         text='CPSC'\n",
              "     ), Ne5Span(\n",
              "         index='T16',\n",
              "         type='ORG',\n",
              "         start=820,\n",
              "         stop=828,\n",
              "         text='Комиссии'\n",
              "     ), Ne5Span(\n",
              "         index='T17',\n",
              "         type='PER',\n",
              "         start=854,\n",
              "         stop=883,\n",
              "         text='Роберта Адлера (Robert Adler)'\n",
              "     ), Ne5Span(\n",
              "         index='T18',\n",
              "         type='ORG',\n",
              "         start=896,\n",
              "         stop=926,\n",
              "         text='Университета Северной Каролины'\n",
              "     ), Ne5Span(\n",
              "         index='T19',\n",
              "         type='PER',\n",
              "         start=1132,\n",
              "         stop=1137,\n",
              "         text='Обамы'\n",
              "     ), Ne5Span(\n",
              "         index='T20',\n",
              "         type='ORG',\n",
              "         start=1184,\n",
              "         stop=1188,\n",
              "         text='CPSC'\n",
              "     )]\n",
              ")"
            ]
          },
          "execution_count": 9,
          "metadata": {},
          "output_type": "execute_result"
        }
      ],
      "source": [
        "records = load_ne5('/content/Collection5')\n",
        "next(records)"
      ]
    },
    {
      "cell_type": "code",
      "execution_count": null,
      "metadata": {
        "id": "CJB7I6_vKjhP"
      },
      "outputs": [],
      "source": [
        "words_docs = []\n",
        "for ix, rec in enumerate(records):\n",
        "    words = []\n",
        "    for token in tokenize(rec.text):\n",
        "        type_ent = 'OUT'\n",
        "        for ent in rec.spans:\n",
        "            if (token.start >= ent.start) and (token.stop <= ent.stop):\n",
        "                type_ent = ent.type\n",
        "                break\n",
        "        words.append([token.text, type_ent])\n",
        "    words_docs.extend(words)"
      ]
    },
    {
      "cell_type": "code",
      "execution_count": null,
      "metadata": {
        "colab": {
          "base_uri": "https://localhost:8080/"
        },
        "id": "chRwizhuKlNp",
        "outputId": "4c6a88d8-dad2-415c-9ed0-bf80e86a1ca7"
      },
      "outputs": [
        {
          "data": {
            "text/plain": [
              "OUT         218460\n",
              "PER          21102\n",
              "ORG          13615\n",
              "LOC           4559\n",
              "GEOPOLIT      4345\n",
              "MEDIA         2480\n",
              "Name: tag, dtype: int64"
            ]
          },
          "execution_count": 17,
          "metadata": {},
          "output_type": "execute_result"
        }
      ],
      "source": [
        "df_words = pd.DataFrame(words_docs, columns=['word', 'tag'])\n",
        "df_words['tag'].value_counts()"
      ]
    },
    {
      "cell_type": "code",
      "execution_count": null,
      "metadata": {
        "colab": {
          "base_uri": "https://localhost:8080/",
          "height": 143
        },
        "id": "VeFCtP7-O6MH",
        "outputId": "a13dd3c1-ecf7-4c61-ae63-0b9dfbbf4b00"
      },
      "outputs": [
        {
          "data": {
            "text/html": [
              "\n",
              "  <div id=\"df-e29d27fe-b7c5-4cb4-96e9-250c1af46738\">\n",
              "    <div class=\"colab-df-container\">\n",
              "      <div>\n",
              "<style scoped>\n",
              "    .dataframe tbody tr th:only-of-type {\n",
              "        vertical-align: middle;\n",
              "    }\n",
              "\n",
              "    .dataframe tbody tr th {\n",
              "        vertical-align: top;\n",
              "    }\n",
              "\n",
              "    .dataframe thead th {\n",
              "        text-align: right;\n",
              "    }\n",
              "</style>\n",
              "<table border=\"1\" class=\"dataframe\">\n",
              "  <thead>\n",
              "    <tr style=\"text-align: right;\">\n",
              "      <th></th>\n",
              "      <th>word</th>\n",
              "      <th>tag</th>\n",
              "    </tr>\n",
              "  </thead>\n",
              "  <tbody>\n",
              "    <tr>\n",
              "      <th>148095</th>\n",
              "      <td>самолетом</td>\n",
              "      <td>OUT</td>\n",
              "    </tr>\n",
              "    <tr>\n",
              "      <th>220389</th>\n",
              "      <td>кафедры</td>\n",
              "      <td>OUT</td>\n",
              "    </tr>\n",
              "    <tr>\n",
              "      <th>198525</th>\n",
              "      <td>период</td>\n",
              "      <td>OUT</td>\n",
              "    </tr>\n",
              "  </tbody>\n",
              "</table>\n",
              "</div>\n",
              "      <button class=\"colab-df-convert\" onclick=\"convertToInteractive('df-e29d27fe-b7c5-4cb4-96e9-250c1af46738')\"\n",
              "              title=\"Convert this dataframe to an interactive table.\"\n",
              "              style=\"display:none;\">\n",
              "        \n",
              "  <svg xmlns=\"http://www.w3.org/2000/svg\" height=\"24px\"viewBox=\"0 0 24 24\"\n",
              "       width=\"24px\">\n",
              "    <path d=\"M0 0h24v24H0V0z\" fill=\"none\"/>\n",
              "    <path d=\"M18.56 5.44l.94 2.06.94-2.06 2.06-.94-2.06-.94-.94-2.06-.94 2.06-2.06.94zm-11 1L8.5 8.5l.94-2.06 2.06-.94-2.06-.94L8.5 2.5l-.94 2.06-2.06.94zm10 10l.94 2.06.94-2.06 2.06-.94-2.06-.94-.94-2.06-.94 2.06-2.06.94z\"/><path d=\"M17.41 7.96l-1.37-1.37c-.4-.4-.92-.59-1.43-.59-.52 0-1.04.2-1.43.59L10.3 9.45l-7.72 7.72c-.78.78-.78 2.05 0 2.83L4 21.41c.39.39.9.59 1.41.59.51 0 1.02-.2 1.41-.59l7.78-7.78 2.81-2.81c.8-.78.8-2.07 0-2.86zM5.41 20L4 18.59l7.72-7.72 1.47 1.35L5.41 20z\"/>\n",
              "  </svg>\n",
              "      </button>\n",
              "      \n",
              "  <style>\n",
              "    .colab-df-container {\n",
              "      display:flex;\n",
              "      flex-wrap:wrap;\n",
              "      gap: 12px;\n",
              "    }\n",
              "\n",
              "    .colab-df-convert {\n",
              "      background-color: #E8F0FE;\n",
              "      border: none;\n",
              "      border-radius: 50%;\n",
              "      cursor: pointer;\n",
              "      display: none;\n",
              "      fill: #1967D2;\n",
              "      height: 32px;\n",
              "      padding: 0 0 0 0;\n",
              "      width: 32px;\n",
              "    }\n",
              "\n",
              "    .colab-df-convert:hover {\n",
              "      background-color: #E2EBFA;\n",
              "      box-shadow: 0px 1px 2px rgba(60, 64, 67, 0.3), 0px 1px 3px 1px rgba(60, 64, 67, 0.15);\n",
              "      fill: #174EA6;\n",
              "    }\n",
              "\n",
              "    [theme=dark] .colab-df-convert {\n",
              "      background-color: #3B4455;\n",
              "      fill: #D2E3FC;\n",
              "    }\n",
              "\n",
              "    [theme=dark] .colab-df-convert:hover {\n",
              "      background-color: #434B5C;\n",
              "      box-shadow: 0px 1px 3px 1px rgba(0, 0, 0, 0.15);\n",
              "      filter: drop-shadow(0px 1px 2px rgba(0, 0, 0, 0.3));\n",
              "      fill: #FFFFFF;\n",
              "    }\n",
              "  </style>\n",
              "\n",
              "      <script>\n",
              "        const buttonEl =\n",
              "          document.querySelector('#df-e29d27fe-b7c5-4cb4-96e9-250c1af46738 button.colab-df-convert');\n",
              "        buttonEl.style.display =\n",
              "          google.colab.kernel.accessAllowed ? 'block' : 'none';\n",
              "\n",
              "        async function convertToInteractive(key) {\n",
              "          const element = document.querySelector('#df-e29d27fe-b7c5-4cb4-96e9-250c1af46738');\n",
              "          const dataTable =\n",
              "            await google.colab.kernel.invokeFunction('convertToInteractive',\n",
              "                                                     [key], {});\n",
              "          if (!dataTable) return;\n",
              "\n",
              "          const docLinkHtml = 'Like what you see? Visit the ' +\n",
              "            '<a target=\"_blank\" href=https://colab.research.google.com/notebooks/data_table.ipynb>data table notebook</a>'\n",
              "            + ' to learn more about interactive tables.';\n",
              "          element.innerHTML = '';\n",
              "          dataTable['output_type'] = 'display_data';\n",
              "          await google.colab.output.renderOutput(dataTable, element);\n",
              "          const docLink = document.createElement('div');\n",
              "          docLink.innerHTML = docLinkHtml;\n",
              "          element.appendChild(docLink);\n",
              "        }\n",
              "      </script>\n",
              "    </div>\n",
              "  </div>\n",
              "  "
            ],
            "text/plain": [
              "             word  tag\n",
              "148095  самолетом  OUT\n",
              "220389    кафедры  OUT\n",
              "198525     период  OUT"
            ]
          },
          "execution_count": 18,
          "metadata": {},
          "output_type": "execute_result"
        }
      ],
      "source": [
        "df_words.sample(3)"
      ]
    },
    {
      "cell_type": "code",
      "execution_count": null,
      "metadata": {
        "id": "JBGnDpPeO-lL"
      },
      "outputs": [],
      "source": [
        "# разбиение данных\n",
        "train_x, test_x, train_y, test_y = model_selection.train_test_split(df_words['word'], df_words['tag'], test_size=0.2, random_state=42)\n",
        "train_x, valid_x, train_y, valid_y = model_selection.train_test_split(train_x, train_y, test_size=0.25, random_state=42)\n",
        "\n",
        "# labelEncode целевую переменную\n",
        "encoder = preprocessing.LabelEncoder()\n",
        "train_y = encoder.fit_transform(train_y)\n",
        "valid_y = encoder.fit_transform(valid_y)\n",
        "test_y  = encoder.fit_transform(test_y)"
      ]
    },
    {
      "cell_type": "code",
      "execution_count": null,
      "metadata": {
        "id": "FzcDcqDYPcmO"
      },
      "outputs": [],
      "source": [
        "# преобразование в тензоры\n",
        "train_data = tf.data.Dataset.from_tensor_slices((train_x, train_y))\n",
        "\n",
        "valid_data = tf.data.Dataset.from_tensor_slices((valid_x, valid_y))\n",
        "\n",
        "test_data  = tf.data.Dataset.from_tensor_slices(test_x)\n",
        "\n",
        "train_data = train_data.batch(16)\n",
        "valid_data = valid_data.batch(16)\n",
        "test_data  = test_data.batch(16)\n",
        "\n",
        "AUTOTUNE = tf.data.AUTOTUNE\n",
        "train_data = train_data.cache().prefetch(buffer_size=AUTOTUNE)\n",
        "valid_data = valid_data.cache().prefetch(buffer_size=AUTOTUNE)\n",
        "test_data  = test_data.cache().prefetch(buffer_size=AUTOTUNE)\n"
      ]
    },
    {
      "cell_type": "code",
      "execution_count": null,
      "metadata": {
        "id": "2ay4AACDPo2T"
      },
      "outputs": [],
      "source": [
        "# слой векторизации\n",
        "def custom_standardization(input_data):\n",
        "    return input_data\n",
        "\n",
        "vocab_size = 30000\n",
        "seq_len = 10\n",
        "\n",
        "vectorize_layer = TextVectorization(\n",
        "    standardize=custom_standardization,\n",
        "    max_tokens=vocab_size,\n",
        "    output_mode='int',\n",
        "    #ngrams=(1, 3),\n",
        "    output_sequence_length=seq_len)\n",
        "\n",
        "# Make a text-only dataset (no labels) and call adapt to build the vocabulary.\n",
        "text_data = train_data.map(lambda x, y: x)\n",
        "vectorize_layer.adapt(text_data)"
      ]
    },
    {
      "cell_type": "code",
      "execution_count": null,
      "metadata": {
        "id": "7mfnL1l5PrQL"
      },
      "outputs": [],
      "source": [
        "# модель\n",
        "class modelNER(tf.keras.Model):\n",
        "\n",
        "    def __init__(self, embedding_dim = 64):\n",
        "        super(modelNER, self).__init__()\n",
        "        self.emb = Embedding(vocab_size, embedding_dim)\n",
        "        self.gPool = GlobalMaxPooling1D()\n",
        "        self.fc1 = Dense(300, activation='relu')\n",
        "        self.fc2 = Dense(50, activation='relu')\n",
        "        self.fc3 = Dense(6, activation='softmax')\n",
        "\n",
        "    def call(self, x):\n",
        "        x = vectorize_layer(x)\n",
        "        x = self.emb(x)\n",
        "        pool_x = self.gPool(x)\n",
        "        \n",
        "        fc_x = self.fc1(pool_x)\n",
        "        fc_x = self.fc2(fc_x)\n",
        "        \n",
        "        concat_x = tf.concat([pool_x, fc_x], axis=1)\n",
        "        prob = self.fc3(concat_x)\n",
        "        return prob"
      ]
    },
    {
      "cell_type": "code",
      "execution_count": null,
      "metadata": {
        "id": "0s8S3PHFPwTb"
      },
      "outputs": [],
      "source": [
        "mmodel = modelNER()\n",
        "mmodel.compile(optimizer='adam',\n",
        "              loss=tf.keras.losses.SparseCategoricalCrossentropy(),\n",
        "              metrics=['accuracy'])"
      ]
    },
    {
      "cell_type": "code",
      "execution_count": null,
      "metadata": {
        "colab": {
          "base_uri": "https://localhost:8080/"
        },
        "id": "7c_XergQQQcl",
        "outputId": "bf02462d-2e04-41f0-f574-a7e20afa7a91"
      },
      "outputs": [
        {
          "name": "stdout",
          "output_type": "stream",
          "text": [
            "Epoch 1/10\n",
            "9921/9921 [==============================] - 49s 5ms/step - loss: 0.3192 - accuracy: 0.9069 - val_loss: 0.2223 - val_accuracy: 0.9348\n",
            "Epoch 2/10\n",
            "9921/9921 [==============================] - 48s 5ms/step - loss: 0.1305 - accuracy: 0.9615 - val_loss: 0.2448 - val_accuracy: 0.8835\n",
            "Epoch 3/10\n",
            "9921/9921 [==============================] - 46s 5ms/step - loss: 0.1094 - accuracy: 0.9657 - val_loss: 0.2223 - val_accuracy: 0.9388\n",
            "Epoch 4/10\n",
            "9921/9921 [==============================] - 48s 5ms/step - loss: 0.1028 - accuracy: 0.9668 - val_loss: 0.2559 - val_accuracy: 0.8834\n",
            "Epoch 5/10\n",
            "9921/9921 [==============================] - 52s 5ms/step - loss: 0.0995 - accuracy: 0.9674 - val_loss: 0.2760 - val_accuracy: 0.8835\n",
            "Epoch 6/10\n",
            "9921/9921 [==============================] - 49s 5ms/step - loss: 0.0975 - accuracy: 0.9679 - val_loss: 0.2647 - val_accuracy: 0.8827\n",
            "Epoch 7/10\n",
            "9921/9921 [==============================] - 53s 5ms/step - loss: 0.0960 - accuracy: 0.9681 - val_loss: 0.2586 - val_accuracy: 0.9360\n",
            "Epoch 8/10\n",
            "9921/9921 [==============================] - 56s 6ms/step - loss: 0.0949 - accuracy: 0.9685 - val_loss: 0.2583 - val_accuracy: 0.9362\n",
            "Epoch 9/10\n",
            "9921/9921 [==============================] - 46s 5ms/step - loss: 0.0942 - accuracy: 0.9687 - val_loss: 0.2741 - val_accuracy: 0.9367\n",
            "Epoch 10/10\n",
            "9921/9921 [==============================] - 58s 6ms/step - loss: 0.0936 - accuracy: 0.9688 - val_loss: 0.2866 - val_accuracy: 0.9361\n"
          ]
        },
        {
          "data": {
            "text/plain": [
              "<keras.callbacks.History at 0x7f15d66c1090>"
            ]
          },
          "execution_count": 24,
          "metadata": {},
          "output_type": "execute_result"
        }
      ],
      "source": [
        "# обучение\n",
        "mmodel.fit(train_data, validation_data=valid_data, epochs=10)"
      ]
    },
    {
      "cell_type": "code",
      "execution_count": null,
      "metadata": {
        "colab": {
          "base_uri": "https://localhost:8080/"
        },
        "id": "RaSfLZxaQTVE",
        "outputId": "0c41898a-0c1e-47db-e257-24ae608d9a2e"
      },
      "outputs": [
        {
          "name": "stdout",
          "output_type": "stream",
          "text": [
            "3308/3308 [==============================] - 6s 2ms/step\n"
          ]
        }
      ],
      "source": [
        "# предикт\n",
        "pred = mmodel.predict(test_data)"
      ]
    },
    {
      "cell_type": "code",
      "execution_count": null,
      "metadata": {
        "colab": {
          "base_uri": "https://localhost:8080/",
          "height": 335
        },
        "id": "qRmGzrIxgIJw",
        "outputId": "f3d43622-ee77-4daf-9ed7-ebdccc30c68f"
      },
      "outputs": [
        {
          "name": "stdout",
          "output_type": "stream",
          "text": [
            "f1_score for NER = [('GEOPOLIT', 0.8890207715133531), ('LOC', 0.7979924717691342), ('MEDIA', 0.8386388583973655), ('ORG', 0.6414651326602487), ('OUT', 0.9648817378383473), ('PER', 0.8076709282934965)]\n",
            "f1_score общий = 0.9309745938267845\n"
          ]
        },
        {
          "data": {
            "image/png": "[encoded data removed]",
            "text/plain": [
              "<Figure size 432x288 with 2 Axes>"
            ]
          },
          "metadata": {},
          "output_type": "display_data"
        }
      ],
      "source": [
        "# метрики\n",
        "pred_max = np.argmax(pred, axis=1)\n",
        "matrix = confusion_matrix(test_y, pred_max)\n",
        "cm_display = ConfusionMatrixDisplay(confusion_matrix = matrix, display_labels=encoder.classes_) \n",
        "cm_display.plot()\n",
        "print(f'f1_score for NER = {list(zip(encoder.classes_, f1_score(test_y, pred_max, average=None)))}')\n",
        "print(f'f1_score общий = {f1_score(test_y, pred_max, average=\"weighted\")}')"
      ]
    },
    {
      "cell_type": "markdown",
      "source": [
        "Результаты хорошие, лучше всего определяются тэги OUT и GEOPOLIT, теги ORG определяются хуже, почти половина уходит в OUT."
      ],
      "metadata": {
        "id": "4LOFQrDUg0ld"
      }
    },
    {
      "cell_type": "markdown",
      "source": [
        "*Сетка с соседними токенами не заработала.*"
      ],
      "metadata": {
        "id": "SPH97kRvh4oj"
      }
    }
  ],
  "metadata": {
    "colab": {
      "collapsed_sections": [],
      "provenance": [],
      "authorship_tag": "ABX9TyPqZYP3S+CDRlWdM6EoOLSP",
      "include_colab_link": true
    },
    "kernelspec": {
      "display_name": "Python 3",
      "name": "python3"
    },
    "language_info": {
      "name": "python"
    }
  },
  "nbformat": 4,
  "nbformat_minor": 0
}